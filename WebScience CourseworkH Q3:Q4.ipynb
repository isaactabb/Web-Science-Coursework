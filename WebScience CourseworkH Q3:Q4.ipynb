{
  "nbformat": 4,
  "nbformat_minor": 0,
  "metadata": {
    "colab": {
      "provenance": [],
      "toc_visible": true
    },
    "kernelspec": {
      "name": "python3",
      "display_name": "Python 3"
    },
    "language_info": {
      "name": "python"
    }
  },
  "cells": [
    {
      "cell_type": "markdown",
      "source": [
        "# WebSci Coursework Q3 & Q4\n",
        "Isaac Tabb\n",
        "\n",
        "02/27/23"
      ],
      "metadata": {
        "id": "ZGcdWVaphBFE"
      }
    },
    {
      "cell_type": "markdown",
      "source": [
        "Use the above newsworthy scoring techniques to analyse the geo-tagged data set given above\n",
        "and discuss the results."
      ],
      "metadata": {
        "id": "lJblRs_7hHMV"
      }
    },
    {
      "cell_type": "markdown",
      "source": [
        "## Q3"
      ],
      "metadata": {
        "id": "gYWkKcQagU5k"
      }
    },
    {
      "cell_type": "markdown",
      "source": [
        "### Step 0: Reading in Data"
      ],
      "metadata": {
        "id": "xdixUYpIntqu"
      }
    },
    {
      "cell_type": "markdown",
      "source": [
        "#### Step 0a: Read in the geoLondonJan23.json data."
      ],
      "metadata": {
        "id": "Ah0CA3EjkcY5"
      }
    },
    {
      "cell_type": "code",
      "execution_count": null,
      "metadata": {
        "colab": {
          "base_uri": "https://localhost:8080/"
        },
        "id": "s4Cb2drzg9C2",
        "outputId": "59bc8e7f-891f-4571-d2a5-569fd007130c"
      },
      "outputs": [
        {
          "output_type": "stream",
          "name": "stdout",
          "text": [
            "{'_id': 1617627087447154696, 'date': {'$date': '2023-01-23T20:55:26Z'}, 'screen_name': 'thedukeldn', 'qualityScore': 0.6655813953488372, 'text': 'Just getting warmed up   @ London, United Kingdom https://t.co/584EtfV0Xy', 'url': 'https://t.co/E2DsKwJRJJ', 'description': 'Luke Kenneth Andrew Lentes.\\nA creative mind with multiple outlets.\\nBased in London. Available worldwide.\\nMaking an Elephant 🐘', 'listed_count': 1, 'user_created': {'$date': '2020-11-10T12:42:42Z'}, 'geo_enabled': True, 'favourites_count': 640, 'coordinates': [-0.1094, 51.5141], 'location': 'London, England', 'followers_count': 70, ' friends_count': 70, 'place_name': 'City of London, London', 'place_country': 'United Kingdom', 'country_code': 'GB', 'place_coordinates': [[[-0.112442, 51.5068], [-0.0733794, 51.5068], [-0.0733794, 51.522161], [-0.112442, 51.522161]]], 'hashtags': [], 'mentions': [], 'source': 'Instagram'}\n"
          ]
        }
      ],
      "source": [
        "# import json\n",
        "import json\n",
        "\n",
        "# create a list to hold all of the json objects\n",
        "json_list = []\n",
        "# open the file\n",
        "with open('geoLondonJan23.json') as f:\n",
        "    # iterate through each line in the file\n",
        "    for line in f:\n",
        "        # load an append to list\n",
        "        dct = json.loads(line)\n",
        "        json_list.append(dct)\n",
        "\n",
        "print(json_list[1])"
      ]
    },
    {
      "cell_type": "markdown",
      "source": [
        "#### Step 0b: Read in the HQ, LQ, and BG files."
      ],
      "metadata": {
        "id": "QSXSnmbLk1Hs"
      }
    },
    {
      "cell_type": "code",
      "source": [
        "# import json\n",
        "import json\n",
        "\n",
        "# create a list to hold all of the json objects\n",
        "bg_json = []\n",
        "# open the file\n",
        "with open('bgQuality.json') as f:\n",
        "    # iterate through each line in the file\n",
        "    for line in f:\n",
        "        # load an append to list\n",
        "        dct = json.loads(line)\n",
        "        bg_json.append(dct)\n",
        "\n",
        "# create a list to hold all of the json objects\n",
        "hq_json = []\n",
        "# open the file\n",
        "with open('highQuality.json') as f:\n",
        "    # iterate through each line in the file\n",
        "    for line in f:\n",
        "        # load an append to list\n",
        "        dct = json.loads(line)\n",
        "        hq_json.append(dct)\n",
        "\n",
        "# create a list to hold all of the json objects\n",
        "lq_json = []\n",
        "# open the file\n",
        "with open('lowQuality.json') as f:\n",
        "    # iterate through each line in the file\n",
        "    for line in f:\n",
        "        # load an append to list\n",
        "        dct = json.loads(line)\n",
        "        lq_json.append(dct)"
      ],
      "metadata": {
        "id": "7pglBsugk6PU"
      },
      "execution_count": null,
      "outputs": []
    },
    {
      "cell_type": "markdown",
      "source": [
        "### Define the Newsworthiness Computation"
      ],
      "metadata": {
        "id": "Z0bY8zaQk-dC"
      }
    },
    {
      "cell_type": "markdown",
      "source": [
        "We will define the newsworthiness scoring method which was the most effective. This was NQNST2.5, which did not use the quality score, discarded stopwords, and used a threshold of 2.5."
      ],
      "metadata": {
        "id": "E4l3HGQvlEtY"
      }
    },
    {
      "cell_type": "markdown",
      "source": [
        "We need to tokenize the high and low quality models. Since we are now looking at the scoring model in terms of our geoLondonJan23 dataset, we will use the entire HQ and LQ datasets for the newsworthiness scoring this time. This is as opposed to splitting into training and validation."
      ],
      "metadata": {
        "id": "utezjXpOmHql"
      }
    },
    {
      "cell_type": "markdown",
      "source": [
        "Let's create our spacy tokenization method."
      ],
      "metadata": {
        "id": "R_qb0UJFmlv8"
      }
    },
    {
      "cell_type": "code",
      "source": [
        "import spacy\n",
        "nlp = spacy.load(\"en_core_web_sm\")\n",
        "\n",
        "def spacy_tokenization(tweet):\n",
        "    tokens = []\n",
        "    twt = nlp(tweet)\n",
        "    # applies spacy to get rid of spaces, punctuation, stopwords\n",
        "    for c in twt:\n",
        "        if (not c.is_stop) and (not c.is_punct) and (not c.is_space):\n",
        "            # lemmatize and convert to lowercase\n",
        "            tokens.append(c.lemma_.lower())\n",
        "\n",
        "    # spacy does not recognize the '•' character which appears in some tweets\n",
        "    # this removes that character\n",
        "    for token in range(len(tokens)):\n",
        "      if '•' in tokens[token]:\n",
        "        new_token = ''\n",
        "        for c in tokens[token]:\n",
        "          if c != '•':\n",
        "            new_token += c\n",
        "   \n",
        "    return tokens"
      ],
      "metadata": {
        "colab": {
          "base_uri": "https://localhost:8080/"
        },
        "id": "8sUMG5r1mqQX",
        "outputId": "af97d40b-0d4a-45d7-dd43-b886a99c1eb3"
      },
      "execution_count": null,
      "outputs": [
        {
          "output_type": "stream",
          "name": "stderr",
          "text": [
            "/usr/local/lib/python3.8/dist-packages/torch/cuda/__init__.py:497: UserWarning: Can't initialize NVML\n",
            "  warnings.warn(\"Can't initialize NVML\")\n"
          ]
        }
      ]
    },
    {
      "cell_type": "code",
      "source": [
        "# this will give us a progress bar\n",
        "from tqdm import tqdm \n",
        "\n",
        "for tweet in tqdm(hq_json):\n",
        "    # tokenize the tweet text\n",
        "    tweet['tokens'] = spacy_tokenization(tweet['text'])\n",
        "    # tokenize the description as well\n",
        "    tweet['tokens'].extend(spacy_tokenization(tweet['description'])) \n",
        "\n",
        "    # the following code gets rid of links and non-alphabet tokens\n",
        "    token = 0\n",
        "    while token < len(tweet['tokens']):\n",
        "      if tweet['tokens'][token].isalpha() == False:\n",
        "          del tweet['tokens'][token]\n",
        "      else:\n",
        "        token += 1\n",
        "\n",
        "for tweet in tqdm(lq_json):\n",
        "    # tokenize the tweet text\n",
        "    tweet['tokens'] = spacy_tokenization(tweet['text'])\n",
        "    # tokenize the description as well\n",
        "    tweet['tokens'].extend(spacy_tokenization(tweet['description'])) \n",
        "\n",
        "    # the following code gets rid of links and non-alphabet tokens\n",
        "    token = 0\n",
        "    while token < len(tweet['tokens']):\n",
        "      if tweet['tokens'][token].isalpha() == False:\n",
        "          del tweet['tokens'][token]\n",
        "      else:\n",
        "        token += 1"
      ],
      "metadata": {
        "colab": {
          "base_uri": "https://localhost:8080/"
        },
        "id": "ul7mpBAVmeco",
        "outputId": "5408cb92-5268-47bf-e1ae-09fd429f4ce5"
      },
      "execution_count": null,
      "outputs": [
        {
          "output_type": "stream",
          "name": "stderr",
          "text": [
            "100%|██████████| 2501/2501 [01:08<00:00, 36.76it/s]\n",
            "100%|██████████| 1527/1527 [00:37<00:00, 40.70it/s]\n"
          ]
        }
      ]
    },
    {
      "cell_type": "markdown",
      "source": [
        "Now we will count the term frequencies for each model."
      ],
      "metadata": {
        "id": "0hvQfx7clWnM"
      }
    },
    {
      "cell_type": "code",
      "source": [
        "from collections import Counter\n",
        "# import nltk stopwords\n",
        "import nltk\n",
        "from nltk.corpus import stopwords\n",
        "nltk.download('stopwords')\n",
        "stops = set(stopwords.words('english')) # this is a set of the english stopwords\n",
        "\n",
        "# will hold dictionary of term frequencies in background collection\n",
        "bg_json_tf = {}\n",
        "# will hold total term frequency\n",
        "bg_total_terms = 0\n",
        "# iterate through background tweets\n",
        "for tweet in bg_json:\n",
        "  # count term frequencies in tweet\n",
        "  counts = Counter(tweet['text'])\n",
        "  # iterate thru term frequencies\n",
        "  for key, item in counts.items():\n",
        "    # if key is already in term freq dictionary, increment\n",
        "    if key in bg_json_tf:\n",
        "      # increment terms for current key\n",
        "      bg_json_tf[key] += item\n",
        "      # increment total terms\n",
        "      bg_total_terms += item \n",
        "    # else, make new key\n",
        "    else:\n",
        "      # +0.5 is added for smoothing purposes\n",
        "      bg_json_tf[key] = item + 0.5\n",
        "      bg_total_terms += item + 0.5\n",
        "\n",
        "# will hold dictionary of term frequencies in high quality collection\n",
        "hq_json_tf = {}\n",
        "# will hold total term frequency\n",
        "hq_total_terms = 0\n",
        "# iterate through high quality tweets\n",
        "for tweet in hq_json:\n",
        "  # count term frequencies in tweet\n",
        "  counts = Counter(tweet['tokens'])\n",
        "  # iterate thru term frequencies\n",
        "  for key, item in counts.items():\n",
        "    # due to punctuation that spacy doesn't understand\n",
        "    # some stopwords remain, this causes them not to be added to the dict\n",
        "    if key in stops:\n",
        "      pass\n",
        "    # if key is already in term freq dictionary, increment\n",
        "    elif key in hq_json_tf:\n",
        "      # increment terms for current key\n",
        "      hq_json_tf[key] += item\n",
        "      # increment total terms\n",
        "      hq_total_terms += item\n",
        "    # else, make new key\n",
        "    else:\n",
        "      # +0.5 is for smoothing\n",
        "      hq_json_tf[key] = item + 0.5\n",
        "      hq_total_terms += item + 0.5\n",
        "\n",
        "# will hold dictionary of term frequencies in low quality collection\n",
        "lq_json_tf = {}\n",
        "# will hold total term frequency\n",
        "lq_total_terms = 0\n",
        "# iterate through low quality tweets\n",
        "for tweet in lq_json:\n",
        "  # count term frequencies in tweet\n",
        "  counts = Counter(tweet['tokens'])\n",
        "  # iterate thru term frequencies\n",
        "  for key, item in counts.items():\n",
        "    # due to punctuation that spacy doesn't understand\n",
        "    # some stopwords remain, this causes them not to be added to the dict\n",
        "    if key in stops:\n",
        "      pass\n",
        "    # if key is already in term freq dictionary, increment\n",
        "    elif key in lq_json_tf:\n",
        "      # increment terms for current key\n",
        "      lq_json_tf[key] += item\n",
        "      # increment total terms\n",
        "      lq_total_terms += item\n",
        "    # else, make new key\n",
        "    else:\n",
        "      # +0.5 is for smoothing\n",
        "      lq_json_tf[key] = item + 0.5\n",
        "      lq_total_terms += item + 0.5"
      ],
      "metadata": {
        "colab": {
          "base_uri": "https://localhost:8080/"
        },
        "id": "jj1xhh4flSno",
        "outputId": "e05fc05a-3775-42b1-aae4-9cbe82e88155"
      },
      "execution_count": null,
      "outputs": [
        {
          "output_type": "stream",
          "name": "stderr",
          "text": [
            "[nltk_data] Downloading package stopwords to /root/nltk_data...\n",
            "[nltk_data]   Unzipping corpora/stopwords.zip.\n"
          ]
        }
      ]
    },
    {
      "cell_type": "markdown",
      "source": [
        "Next we will compute relative importances."
      ],
      "metadata": {
        "id": "wdlPoLRWlZWb"
      }
    },
    {
      "cell_type": "code",
      "source": [
        "# store the relative importances in a dictionary\n",
        "hq_relimpo = {}\n",
        "# iterate through the term frequency dictionary\n",
        "for key, item in hq_json_tf.items():\n",
        "  try:\n",
        "    # this will try calculating the relative importance by looking for the key\n",
        "    # in the background model\n",
        "    rel_impo = (item / hq_total_terms) / (bg_json_tf[key] / bg_total_terms)\n",
        "  except:\n",
        "    # if a term does not exist in the background model, use add 0.5 smoothing to get rel impo\n",
        "    rel_impo = (item / hq_total_terms) / (0.5 / bg_total_terms)\n",
        "  \n",
        "  # only save terms with importances over 2.5\n",
        "  if rel_impo > 2.5:\n",
        "    hq_relimpo[key] = rel_impo\n",
        "\n",
        "lq_relimpo = {}\n",
        "for key, item in lq_json_tf.items():\n",
        "  try:\n",
        "    # this will try calculating the relative importance by looking for the key\n",
        "    # in the background model\n",
        "    rel_impo = (item / lq_total_terms) / (bg_json_tf[key] / bg_total_terms)\n",
        "  except:\n",
        "    # if a term does not exist in the background model, use add 0.5 smoothing to get rel impo\n",
        "    rel_impo = (item / lq_total_terms) / (0.5 / bg_total_terms)\n",
        "  \n",
        "  # only save terms with relative importance over 2.5\n",
        "  if rel_impo > 2.5:\n",
        "    lq_relimpo[key] = rel_impo"
      ],
      "metadata": {
        "id": "jeAuaIMDldIg"
      },
      "execution_count": null,
      "outputs": []
    },
    {
      "cell_type": "markdown",
      "source": [
        "And finally define the newsworthiness score function."
      ],
      "metadata": {
        "id": "kMjcPO9bljKH"
      }
    },
    {
      "cell_type": "code",
      "source": [
        "import math\n",
        "# define newsworthy scoring method\n",
        "def newsworthy_score(hq, lq, tokens):\n",
        "  # sum of hq term relative importances\n",
        "  shq = 0\n",
        "  # sum of lq term relative importances\n",
        "  slq = 0\n",
        "  # will hold scores by token for analysis\n",
        "  hq_token_scores = []\n",
        "  lq_token_scores = []\n",
        "  # iterate through given tokens\n",
        "  for token in tokens:\n",
        "    # add the token's relative importance in HQ model if exists (>2.5)\n",
        "    try:\n",
        "      shq += hq[token]\n",
        "      # save the token score\n",
        "      # this will be used to look at how definitively a term is HQ\n",
        "      hq_token_scores.append(hq[token])\n",
        "    except:\n",
        "      pass\n",
        "\n",
        "    # add the token's relative importance in LQ model if exists (>2.5)\n",
        "    try:\n",
        "      slq += lq[token]\n",
        "      lq_token_scores.append(lq[token])\n",
        "    except:\n",
        "      pass\n",
        "  \n",
        "  # compute newsworthiness score and return\n",
        "  news_score = math.log2((1+shq)/(1+slq))\n",
        "  return {'score': news_score, 'hq_tokens': hq_token_scores, 'lq_tokens': lq_token_scores}"
      ],
      "metadata": {
        "id": "CifbaTC4llSj"
      },
      "execution_count": null,
      "outputs": []
    },
    {
      "cell_type": "markdown",
      "source": [
        "### (a) Apply Newsworthiness Score to geoLondon Data"
      ],
      "metadata": {
        "id": "pMSIXAj4ninv"
      }
    },
    {
      "cell_type": "markdown",
      "source": [
        "First we need to tokenize the geoLondon tweets. We are going to use both the text and description. The dataset is somewhat large so this will take about 3 minutes."
      ],
      "metadata": {
        "id": "tIEbZD2Tny2C"
      }
    },
    {
      "cell_type": "code",
      "source": [
        "for tweet in tqdm(json_list):\n",
        "    # tokenize the tweet text\n",
        "    tweet['tokens'] = spacy_tokenization(tweet['text'])\n",
        "    # tokenize the description as well\n",
        "    tweet['tokens'].extend(spacy_tokenization(tweet['description'])) \n",
        "\n",
        "    # the following code gets rid of links and non-alphabet terms\n",
        "    token = 0\n",
        "    while token < len(tweet['tokens']):\n",
        "      if tweet['tokens'][token].isalpha() == False:\n",
        "          del tweet['tokens'][token]\n",
        "      else:\n",
        "        token += 1"
      ],
      "metadata": {
        "colab": {
          "base_uri": "https://localhost:8080/"
        },
        "id": "2txKp2Jinpnr",
        "outputId": "73791e72-546c-427a-b9e5-ae6747e53b94"
      },
      "execution_count": null,
      "outputs": [
        {
          "output_type": "stream",
          "name": "stderr",
          "text": [
            "100%|██████████| 10526/10526 [04:18<00:00, 40.79it/s]\n"
          ]
        }
      ]
    },
    {
      "cell_type": "markdown",
      "source": [
        "Now we will apply the scoring method to each tweet."
      ],
      "metadata": {
        "id": "vfpGtqGlp6oM"
      }
    },
    {
      "cell_type": "code",
      "source": [
        "scores_list = []\n",
        "# iterate through the list of tweets\n",
        "for tweet in json_list:\n",
        "  # apply the news score and save the score in the tweet dictionary\n",
        "  tweet['news_score'] = newsworthy_score(hq_relimpo, lq_relimpo, tweet['tokens'])\n",
        "  # also save a list of the scores for metric calculation\n",
        "  scores_list.append(tweet['news_score']['score'])"
      ],
      "metadata": {
        "id": "INgO4c0Ip9lr"
      },
      "execution_count": null,
      "outputs": []
    },
    {
      "cell_type": "markdown",
      "source": [
        "Let's analyze the scores of the tweets."
      ],
      "metadata": {
        "id": "fh5UE_An6EaT"
      }
    },
    {
      "cell_type": "code",
      "source": [
        "import statistics as st\n",
        "# look at the mean and std. dev of the tweet scores\n",
        "print('Avg. Score of Tweet: ' + str(round(st.mean(scores_list), 3))) # average tweet score\n",
        "print('Std. Dev. of Tweet Scores: ' + str(round(st.stdev(scores_list), 3))) # std. dev. of tweet score\n",
        "\n",
        "hq_sum = 0\n",
        "# iterate through the tweets and see what percentage of tweets are being considered newsworthy\n",
        "for tweet in json_list:\n",
        "  if tweet['news_score']['score'] > 0:\n",
        "    hq_sum += 1\n",
        "\n",
        "print('Percent of Tweets Considered Newsworthy: ' + str(round(hq_sum/len(json_list), 3)))"
      ],
      "metadata": {
        "colab": {
          "base_uri": "https://localhost:8080/"
        },
        "id": "iDgvFG6o6I4i",
        "outputId": "6f776ad1-0162-45e0-97e1-56df12a51481"
      },
      "execution_count": null,
      "outputs": [
        {
          "output_type": "stream",
          "name": "stdout",
          "text": [
            "Avg. Score of Tweet: 0.702\n",
            "Std. Dev. of Tweet Scores: 1.748\n",
            "Percent of Tweets Considered Newsworthy: 0.547\n"
          ]
        }
      ]
    },
    {
      "cell_type": "markdown",
      "source": [
        "As we can see, the average tweet score is 0.702, which is above 0. A score above 0 indicates newsworthiness while a score below 0 indicates the opposite. This means that the average tweet is being considered \"newsworthy\". Theoretically, the average tweet should be neither newsworthy nor non-newsworthy. "
      ],
      "metadata": {
        "id": "XGOabd1A8r25"
      }
    },
    {
      "cell_type": "markdown",
      "source": [
        "Let's look a what the top occurring terms are in the newsworthy and non-newsworthy tweets with a threshold of 0."
      ],
      "metadata": {
        "id": "XFVqSeVVJjET"
      }
    },
    {
      "cell_type": "code",
      "source": [
        "# these dictionaries will keep track of the counts of tokens in newsworthy and\n",
        "# non-newsworthy tweets\n",
        "hq_counts = {}\n",
        "lq_counts = {}\n",
        "# iterate through the tweet list\n",
        "for tweet in json_list:\n",
        "  # if newsworthy, increment tokens in HQ dictionary for that tweet\n",
        "  if tweet['news_score']['score'] > 0:\n",
        "    for token in tweet['tokens']:\n",
        "      if token in hq_counts:\n",
        "        hq_counts[token] += 1\n",
        "      else:\n",
        "        hq_counts[token] = 1\n",
        "  # if non-newsworthy, increment tokens in LQ dictionary for that tweet\n",
        "  elif tweet['news_score']['score'] < 0:\n",
        "    for token in tweet['tokens']:\n",
        "      if token in lq_counts:\n",
        "        lq_counts[token] += 1\n",
        "      else:\n",
        "        lq_counts[token] = 1\n",
        "\n",
        "# define function which retrieves second element of a list\n",
        "def second_elem(e):\n",
        "    return e[1]\n",
        "\n",
        "hq_ten_maxes = []\n",
        "# iterate through the newsworthy dictionary\n",
        "for key, item in hq_counts.items():\n",
        "  # keep track of the ten max frequency terms\n",
        "  if len(hq_ten_maxes) < 10:\n",
        "    hq_ten_maxes.append([key, item])\n",
        "    hq_ten_maxes.sort(key=second_elem, reverse=True)\n",
        "  elif item > hq_ten_maxes[len(hq_ten_maxes)-1][1]:\n",
        "    hq_ten_maxes[len(hq_ten_maxes)-1] = [key, item]\n",
        "    hq_ten_maxes.sort(key=second_elem, reverse=True)\n",
        "\n",
        "lq_ten_maxes = []\n",
        "# iterate through the non-newsworthy dictionary\n",
        "for key, item in lq_counts.items():\n",
        "  # keep track of the ten max frequency terms\n",
        "  if len(lq_ten_maxes) < 10:\n",
        "    lq_ten_maxes.append([key, item])\n",
        "    lq_ten_maxes.sort(key=second_elem, reverse=True)\n",
        "  elif item > lq_ten_maxes[len(lq_ten_maxes)-1][1]:\n",
        "    lq_ten_maxes[len(lq_ten_maxes)-1] = [key, item]\n",
        "    lq_ten_maxes.sort(key=second_elem, reverse=True)"
      ],
      "metadata": {
        "id": "oj_et9_OJrX4"
      },
      "execution_count": null,
      "outputs": []
    },
    {
      "cell_type": "code",
      "source": [
        "print(\"Top-10 HQ Terms\")\n",
        "hq_ten_maxes"
      ],
      "metadata": {
        "colab": {
          "base_uri": "https://localhost:8080/"
        },
        "id": "PLnzQdYIKPZg",
        "outputId": "6b1e64ce-ad18-4c19-eb1f-405829e5ad0a"
      },
      "execution_count": null,
      "outputs": [
        {
          "output_type": "stream",
          "name": "stdout",
          "text": [
            "Top-10 HQ Terms\n"
          ]
        },
        {
          "output_type": "execute_result",
          "data": {
            "text/plain": [
              "[['london', 4815],\n",
              " ['tweet', 2190],\n",
              " ['job', 2013],\n",
              " ['follow', 1226],\n",
              " ['need', 1142],\n",
              " ['help', 1121],\n",
              " ['account', 1119],\n",
              " ['target', 1072],\n",
              " ['geo', 1066],\n",
              " ['england', 853]]"
            ]
          },
          "metadata": {},
          "execution_count": 14
        }
      ]
    },
    {
      "cell_type": "code",
      "source": [
        "print(\"Top-10 LQ Terms\")\n",
        "lq_ten_maxes"
      ],
      "metadata": {
        "colab": {
          "base_uri": "https://localhost:8080/"
        },
        "id": "B8zFCzF3KZRF",
        "outputId": "394c1f3b-95de-4bc7-b5d8-c2e4f2037add"
      },
      "execution_count": null,
      "outputs": [
        {
          "output_type": "stream",
          "name": "stdout",
          "text": [
            "Top-10 LQ Terms\n"
          ]
        },
        {
          "output_type": "execute_result",
          "data": {
            "text/plain": [
              "[['london', 4404],\n",
              " ['photo', 3790],\n",
              " ['post', 3666],\n",
              " ['kingdom', 3068],\n",
              " ['united', 2679],\n",
              " ['vape', 732],\n",
              " ['base', 323],\n",
              " ['reviewer', 308],\n",
              " ['unιted', 275],\n",
              " ['artist', 264]]"
            ]
          },
          "metadata": {},
          "execution_count": 15
        }
      ]
    },
    {
      "cell_type": "markdown",
      "source": [
        "By looking at the Top-10 HQ and LQ terms, we can see that a lot of the tweets in both groups are about London. The tweets in the HQ group appear to have a focus on service and goals as we see terms like \"job\", \"need\", \"help\", and \"target\". On the other hand, the tweets in LQ set seem to be more promotion based with terms like \"photo\", \"post\", \"base\", \"reviewer\", and \"artist\". The LQ set also includes the term \"vape\" a lot which is a good sign!"
      ],
      "metadata": {
        "id": "lrcvvBQxKldf"
      }
    },
    {
      "cell_type": "markdown",
      "source": [
        "Our goal is to choose a threshold that makes us confident that the vast majority of the tweets we chose are truly newsworthy. Another statistic that we can look at is the average number of HQ and LQ terms in the high quality tweets. We can also look at how much weight those terms have on average. These statistics can give us a look into the ratio of HQ to LQ content in the newsworthy dataset."
      ],
      "metadata": {
        "id": "2lO_yji6JP4-"
      }
    },
    {
      "cell_type": "code",
      "source": [
        "# will hold the number of HQ/LQ tokens in each tweet\n",
        "hq_non_zeros = []\n",
        "lq_non_zeros = []\n",
        "# will hold the weights of the HQ/LQ tokens in tweets\n",
        "hq_token_scores = []\n",
        "lq_token_scores = []\n",
        "# iterate through the tweets\n",
        "for tweet in json_list:\n",
        "  # if newsworthy (above 0)\n",
        "  if tweet['news_score']['score'] > 0:\n",
        "    # note how many HQ/LQ terms in the tweet\n",
        "    # note the weights of the HQ/LQ terms in the tweet\n",
        "    hq_non_zeros.append(len(tweet['news_score']['hq_tokens']))\n",
        "    hq_token_scores.extend(tweet['news_score']['hq_tokens'])\n",
        "    lq_non_zeros.append(len(tweet['news_score']['lq_tokens']))\n",
        "    lq_token_scores.extend(tweet['news_score']['lq_tokens'])\n",
        "\n",
        "print(\"Avg. # of HQ tokens in a HQ tweet: \" + str(round(st.mean(hq_non_zeros), 2)))\n",
        "print(\"Avg. score of HQ token in a HQ tweet: \" + str(round(st.mean(hq_token_scores), 2)))\n",
        "print()\n",
        "print(\"Avg. # of LQ tokens in a HQ tweet: \" + str(round(st.mean(lq_non_zeros), 2)))\n",
        "print(\"Avg. score of LQ token in a HQ tweet: \" + str(round(st.mean(lq_token_scores), 2)))"
      ],
      "metadata": {
        "colab": {
          "base_uri": "https://localhost:8080/"
        },
        "id": "lHPXv7Iz9wa1",
        "outputId": "e034b8db-a5c0-4ced-ae16-eeb79491a762"
      },
      "execution_count": null,
      "outputs": [
        {
          "output_type": "stream",
          "name": "stdout",
          "text": [
            "Avg. # of HQ tokens in a HQ tweet: 9.38\n",
            "Avg. score of HQ token in a HQ tweet: 23.68\n",
            "\n",
            "Avg. # of LQ tokens in a HQ tweet: 4.45\n",
            "Avg. score of LQ token in a HQ tweet: 20.29\n"
          ]
        }
      ]
    },
    {
      "cell_type": "markdown",
      "source": [
        "We can see here that the average HQ tweet has 9.38 HQ tokens and 4.45 LQ tokens. The average HQ token in a HQ tweet has a score of 23.68 while the average LQ token has a score of 20.29. \n",
        "\n",
        "With a little math we can see that the average HQ tweet is allotted an HQ sum of weights of about 222. On the other hand, the average HQ tweet is allotted an LQ sum of weights of about 90. \n",
        "\n",
        "That isn't terrible, it boils down to nearly a 2.5HQ to 1LQ term ratio. What if we raised the threshold so that a newsworthy tweet has to be above .702 though (the average of all tweets in the dataset)?"
      ],
      "metadata": {
        "id": "n_EJA-ozApFZ"
      }
    },
    {
      "cell_type": "code",
      "source": [
        "# dictionaries to hold the term frequencies in the HQ and LQ groups\n",
        "hq_counts = {}\n",
        "lq_counts = {}\n",
        "# iterate through the tweets\n",
        "for tweet in json_list:\n",
        "  # increment the counts of HQ tokens this time for tweets that are \n",
        "  # above 0.702 instead of 0\n",
        "  if tweet['news_score']['score'] > 0.702:\n",
        "    for token in tweet['tokens']:\n",
        "      if token in hq_counts:\n",
        "        hq_counts[token] += 1\n",
        "      else:\n",
        "        hq_counts[token] = 1\n",
        "  # increment the counts of LQ tokens this time for tweets that are \n",
        "  # below 0.702 instead of 0\n",
        "  elif tweet['news_score']['score'] < 0.702:\n",
        "    for token in tweet['tokens']:\n",
        "      if token in lq_counts:\n",
        "        lq_counts[token] += 1\n",
        "      else:\n",
        "        lq_counts[token] = 1\n",
        "\n",
        "hq_ten_maxes = []\n",
        "# iterate through the newsworthy dictionary\n",
        "for key, item in hq_counts.items():\n",
        "  # keep track of the top 10 max frequency terms\n",
        "  if len(hq_ten_maxes) < 10:\n",
        "    hq_ten_maxes.append([key, item])\n",
        "    hq_ten_maxes.sort(key=second_elem, reverse=True)\n",
        "  elif item > hq_ten_maxes[len(hq_ten_maxes)-1][1]:\n",
        "    hq_ten_maxes[len(hq_ten_maxes)-1] = [key, item]\n",
        "    hq_ten_maxes.sort(key=second_elem, reverse=True)\n",
        "\n",
        "lq_ten_maxes = []\n",
        "# iterate through the newsworthy dictionary\n",
        "for key, item in lq_counts.items():\n",
        "  # keep track of the top 10 max frequency terms\n",
        "  if len(lq_ten_maxes) < 10:\n",
        "    lq_ten_maxes.append([key, item])\n",
        "    lq_ten_maxes.sort(key=second_elem, reverse=True)\n",
        "  elif item > lq_ten_maxes[len(lq_ten_maxes)-1][1]:\n",
        "    lq_ten_maxes[len(lq_ten_maxes)-1] = [key, item]\n",
        "    lq_ten_maxes.sort(key=second_elem, reverse=True)"
      ],
      "metadata": {
        "id": "Yc_uTWtVNKq0"
      },
      "execution_count": null,
      "outputs": []
    },
    {
      "cell_type": "code",
      "source": [
        "print(\"Top-10 HQ Terms\")\n",
        "hq_ten_maxes"
      ],
      "metadata": {
        "colab": {
          "base_uri": "https://localhost:8080/"
        },
        "id": "HdsLvQ52NPy8",
        "outputId": "d10c2322-ab4c-4b53-df25-bae0081887d1"
      },
      "execution_count": null,
      "outputs": [
        {
          "output_type": "stream",
          "name": "stdout",
          "text": [
            "Top-10 HQ Terms\n"
          ]
        },
        {
          "output_type": "execute_result",
          "data": {
            "text/plain": [
              "[['london', 3486],\n",
              " ['tweet', 2177],\n",
              " ['job', 2008],\n",
              " ['follow', 1198],\n",
              " ['need', 1119],\n",
              " ['account', 1113],\n",
              " ['help', 1090],\n",
              " ['target', 1068],\n",
              " ['geo', 1065],\n",
              " ['england', 765]]"
            ]
          },
          "metadata": {},
          "execution_count": 18
        }
      ]
    },
    {
      "cell_type": "code",
      "source": [
        "print(\"Top-10 LQ Terms\")\n",
        "lq_ten_maxes"
      ],
      "metadata": {
        "colab": {
          "base_uri": "https://localhost:8080/"
        },
        "id": "KkrrvDT-NQhl",
        "outputId": "e4c708a2-5309-4ce4-e703-62ab8c9e04bf"
      },
      "execution_count": null,
      "outputs": [
        {
          "output_type": "stream",
          "name": "stdout",
          "text": [
            "Top-10 LQ Terms\n"
          ]
        },
        {
          "output_type": "execute_result",
          "data": {
            "text/plain": [
              "[['london', 5733],\n",
              " ['photo', 4397],\n",
              " ['post', 4280],\n",
              " ['kingdom', 3744],\n",
              " ['united', 3324],\n",
              " ['vape', 748],\n",
              " ['uk', 709],\n",
              " ['artist', 420],\n",
              " ['base', 400],\n",
              " ['new', 384]]"
            ]
          },
          "metadata": {},
          "execution_count": 19
        }
      ]
    },
    {
      "cell_type": "markdown",
      "source": [
        "Looking at the top terms, raising the threshold doesn't change very much. There still appears to be a general focus on service and goals in the HQ tweets while the LQ tweets still have promotional terms. What about the ratio of HQ to LQ terms though?"
      ],
      "metadata": {
        "id": "mf0lpt69NWPM"
      }
    },
    {
      "cell_type": "code",
      "source": [
        "# define same lists as last time for computing evaluation metrics\n",
        "hq_non_zeros = []\n",
        "lq_non_zeros = []\n",
        "hq_token_scores = []\n",
        "lq_token_scores = []\n",
        "# iterate through the tweet list\n",
        "for tweet in json_list:\n",
        "  # if the tweet is newsworthy (above 0.702)\n",
        "  if tweet['news_score']['score'] > 0.702:\n",
        "    # note the number of HQ/LQ tokens in the tweet\n",
        "    # note the weights of the HQ/LQ tokens\n",
        "    hq_non_zeros.append(len(tweet['news_score']['hq_tokens']))\n",
        "    hq_token_scores.extend(tweet['news_score']['hq_tokens'])\n",
        "    lq_non_zeros.append(len(tweet['news_score']['lq_tokens']))\n",
        "    lq_token_scores.extend(tweet['news_score']['lq_tokens'])\n",
        "\n",
        "print(\"Avg. # of HQ tokens in a HQ tweet (> 0.702): \" + str(round(st.mean(hq_non_zeros), 2)))\n",
        "print(\"Avg. score of HQ token in a HQ tweet (> 0.702): \" + str(round(st.mean(hq_token_scores), 2)))\n",
        "print()\n",
        "print(\"Avg. # of LQ tokens in a HQ tweet (> 0.702): \" + str(round(st.mean(lq_non_zeros), 2)))\n",
        "print(\"Avg. score of LQ token in a HQ tweet (> 0.702): \" + str(round(st.mean(lq_token_scores), 2)))"
      ],
      "metadata": {
        "colab": {
          "base_uri": "https://localhost:8080/"
        },
        "id": "VggYNoBqNqev",
        "outputId": "58b05e2d-73f5-4b70-bb2b-4c62b039eea1"
      },
      "execution_count": null,
      "outputs": [
        {
          "output_type": "stream",
          "name": "stdout",
          "text": [
            "Avg. # of HQ tokens in a HQ tweet (> 0.702): 9.51\n",
            "Avg. score of HQ token in a HQ tweet (> 0.702): 23.0\n",
            "\n",
            "Avg. # of LQ tokens in a HQ tweet (> 0.702): 3.84\n",
            "Avg. score of LQ token in a HQ tweet (> 0.702): 13.52\n"
          ]
        }
      ]
    },
    {
      "cell_type": "markdown",
      "source": [
        "When we raise the threshold to the average of all tweets in the dataset, things change. The tweets that are considered newsworthy now have an average of 9.51 HQ terms compared to 3.84 LQ terms. Additionally, the average LQ term has decreased from 20.29 to 13.52. \n",
        "\n",
        "With a little math we see that the average sum of HQ weights for a newsworthy tweet is now around 219, which is about the same as before. The average sum of LQ weights is now about 52 though, a significant decrease. This boils down to a little more than a 4 to 1 ratio of HQ terms to LQ terms. I would consider that definitively newsworthy.\n",
        "\n",
        "But how many of the tweets actually exceed this threshold?"
      ],
      "metadata": {
        "id": "Vo_fxKXmN1GS"
      }
    },
    {
      "cell_type": "code",
      "source": [
        "count = 0\n",
        "for tweet in json_list:\n",
        "  if tweet['news_score']['score'] > 0.702:\n",
        "    count +=1\n",
        "\n",
        "print(\"Number of newsworthy tweets: \" + str(count))\n",
        "print(\"As a percentage of all tweets = \" + str(round(count/len(json_list), 2)))"
      ],
      "metadata": {
        "colab": {
          "base_uri": "https://localhost:8080/"
        },
        "id": "vteLu40PO13T",
        "outputId": "fbf387cf-f34f-41fe-ef2a-879ee020c6b4"
      },
      "execution_count": null,
      "outputs": [
        {
          "output_type": "stream",
          "name": "stdout",
          "text": [
            "Number of newsworthy tweets: 4094\n",
            "As a percentage of all tweets = 0.39\n"
          ]
        }
      ]
    },
    {
      "cell_type": "markdown",
      "source": [
        "Having 39.0% of the tweets be considered newsworthy is a pretty good proportion. It is not so many that we will likely have a lot of non-newsworthy tweets sneak in. It is also not too restrictive that we will miss a lot of newsworthy tweets."
      ],
      "metadata": {
        "id": "NYN5G_gdPKDE"
      }
    },
    {
      "cell_type": "markdown",
      "source": [
        "Let's look at some random tweets that are considered newsworthy."
      ],
      "metadata": {
        "id": "UtYDgGYZQPcU"
      }
    },
    {
      "cell_type": "code",
      "source": [
        "import random\n",
        "# set a random seed\n",
        "random.seed('websci')\n",
        "\n",
        "count = 0\n",
        "# until there are 4 count of tweets printed\n",
        "while count < 4:\n",
        "  # pick a random tweet index\n",
        "  rand = random.randint(0,len(json_list)-1)\n",
        "  # if the tweet is newsworthy print it\n",
        "  if json_list[rand]['news_score']['score'] > 0.702:\n",
        "    print(json_list[rand]['screen_name'])\n",
        "    print(json_list[rand]['text'])\n",
        "    print()\n",
        "    count += 1"
      ],
      "metadata": {
        "colab": {
          "base_uri": "https://localhost:8080/"
        },
        "id": "6p5Zg6SQQPEA",
        "outputId": "daab7a7c-5d5e-4682-93d7-e96c7561dcf4"
      },
      "execution_count": null,
      "outputs": [
        {
          "output_type": "stream",
          "name": "stdout",
          "text": [
            "tmj_CAM_mgmt\n",
            "Click the link in our bio to see currently open #Consulting jobs like \"Director - Authentication, Authorisation and Fraud (AA&amp;F) Subject Matter Expert (SME), Advisors Client Services\" at Mastercard in #London, England.\n",
            "\n",
            "simon_carne\n",
            "Teletubbies meet Barbara Hepworth @ Oxford Street - Central London https://t.co/AjNaSsKcHq\n",
            "\n",
            "Harry_George23\n",
            "Mum’s 50th️ @ George Street https://t.co/QAgMYFcovm\n",
            "\n",
            "tmj_lon_jobs\n",
            "If you're looking for work in England, check out this #Retail job via the link in our bio: Shift Supervisor - Store# 12101, COVENT GDN WC2-RUSSE at Starbucks\n",
            "\n"
          ]
        }
      ]
    },
    {
      "cell_type": "markdown",
      "source": [
        "Looking at the four tweets above, it looks like the tweets that are being considered newsworthy are in fact about job openings and current events! They also give details into the places that the events are occurring (i.e. street names)."
      ],
      "metadata": {
        "id": "hOeWXDNQREOZ"
      }
    },
    {
      "cell_type": "markdown",
      "source": [
        "Let's also checkout some random non-newsworthy tweets."
      ],
      "metadata": {
        "id": "G-PoMWynteiY"
      }
    },
    {
      "cell_type": "code",
      "source": [
        "import random\n",
        "random.seed('websci')\n",
        "\n",
        "# do the same as for the newsworthy tweets\n",
        "# choose four random non-newsworthy tweets to print\n",
        "count = 0\n",
        "while count < 4:\n",
        "  rand = random.randint(0,len(json_list)-1)\n",
        "  if json_list[rand]['news_score']['score'] < 0.702:\n",
        "    print(json_list[rand]['screen_name'])\n",
        "    print(json_list[rand]['text'])\n",
        "    print()\n",
        "    count += 1"
      ],
      "metadata": {
        "colab": {
          "base_uri": "https://localhost:8080/"
        },
        "id": "95UJ7QtYtic1",
        "outputId": "c1babbb2-dfd4-4311-e402-7ff233752e84"
      },
      "execution_count": null,
      "outputs": [
        {
          "output_type": "stream",
          "name": "stdout",
          "text": [
            "WeAreNook\n",
            "Kin collection has (finally)landed! \n",
            "\n",
            "Shop the range here, or via our website at https://t.co/lUBTIweRCK @ London, United Kingdom https://t.co/UMvr41mtia\n",
            "\n",
            "theotherjulio\n",
            "Just posted a photo @ London, United Kingdom https://t.co/vyEWnqlG2W\n",
            "\n",
            "derinmama\n",
            "Just posted a photo @ London, United Kingdom https://t.co/2biZkuzPEs\n",
            "\n",
            "CLAUDIM4R\n",
            "Hello 2023 !! \n",
            ".\n",
            "#newyear #2023 #hennassy #Fckery  #happynewyear #parterincrime #mayhem #claudimar @ London, United Kingdom https://t.co/1A1L4Taq4j\n",
            "\n"
          ]
        }
      ]
    },
    {
      "cell_type": "markdown",
      "source": [
        "As we can see here, the random tweets from the LQ dataset also make sense. The first is a promotion for a product. The second and third are instagram posts and the fourth contains inappropriate hashtags."
      ],
      "metadata": {
        "id": "aEemcf_sus7D"
      }
    },
    {
      "cell_type": "markdown",
      "source": [
        "### (b) Provide statistics of the data"
      ],
      "metadata": {
        "id": "TVGd3q2gu-b4"
      }
    },
    {
      "cell_type": "markdown",
      "source": [
        "Now that we have found a threshold, lets look at some statistics. Firstly, let's look at some general statistics for the newsworthy vs. non-newsworthy groups."
      ],
      "metadata": {
        "id": "bhxoS9mBvDkL"
      }
    },
    {
      "cell_type": "code",
      "source": [
        "# count of newsworthy tweets\n",
        "count_news = 0\n",
        "# count of non-newsworthy tweets\n",
        "count_not = 0\n",
        "# iterate through the tweets\n",
        "for tweet in json_list:\n",
        "  # if newsworthy, increment count\n",
        "  if tweet['news_score']['score'] > 0.702:\n",
        "    count_news +=1\n",
        "  # if not, increment count\n",
        "  else:\n",
        "    count_not += 1\n",
        "\n",
        "print(\"Number of newsworthy tweets: \" + str(count_news))\n",
        "print(\"Number of non-newsworthy tweets: \" + str(count_not))"
      ],
      "metadata": {
        "colab": {
          "base_uri": "https://localhost:8080/"
        },
        "id": "-kMc3kbIvDQW",
        "outputId": "b657aa35-7e46-4fe0-e4f6-d95b75d4d162"
      },
      "execution_count": null,
      "outputs": [
        {
          "output_type": "stream",
          "name": "stdout",
          "text": [
            "Number of newsworthy tweets: 4094\n",
            "Number of non-newsworthy tweets: 6432\n"
          ]
        }
      ]
    },
    {
      "cell_type": "markdown",
      "source": [
        "As we can see, just under 40% of the tweets are newsworthy while just over 60% are not."
      ],
      "metadata": {
        "id": "eswT_G_0vl96"
      }
    },
    {
      "cell_type": "markdown",
      "source": [
        "We can also look at the average scores of newsworthy and non-newsworthy tweets."
      ],
      "metadata": {
        "id": "yPsrXufivuVq"
      }
    },
    {
      "cell_type": "code",
      "source": [
        "# list of scores for news tweets\n",
        "scores_news = []\n",
        "# list of scores for non-news tweets\n",
        "scores_not = []\n",
        "# iterate through the tweet list\n",
        "for tweet in json_list:\n",
        "  # append newsworthy scores to list they apply to\n",
        "  if tweet['news_score']['score'] > 0.702:\n",
        "    scores_news.append(tweet['news_score']['score'])\n",
        "  else:\n",
        "    scores_not.append(tweet['news_score']['score'])\n",
        "\n",
        "print(\"Avg. score of newsworthy tweet: \" + str(round(st.mean(scores_news), 2)))\n",
        "print(\"Avg. score of non-newsworthy tweet: \" + str(round(st.mean(scores_not), 2)))"
      ],
      "metadata": {
        "colab": {
          "base_uri": "https://localhost:8080/"
        },
        "id": "Jt2y_Tfcvt_I",
        "outputId": "b13028b4-a056-4d5d-c47a-3544fc1ccc31"
      },
      "execution_count": null,
      "outputs": [
        {
          "output_type": "stream",
          "name": "stdout",
          "text": [
            "Avg. score of newsworthy tweet: 2.54\n",
            "Avg. score of non-newsworthy tweet: -0.47\n"
          ]
        }
      ]
    },
    {
      "cell_type": "markdown",
      "source": [
        "This is good to see, the average non-newsworthy tweet has a score of -0.47 which is below 0. More importantly though, the average newsworthy tweet has a score of 2.54, which is a pretty strong newsworthiness score!"
      ],
      "metadata": {
        "id": "rjgNfzZzwR1u"
      }
    },
    {
      "cell_type": "markdown",
      "source": [
        "Let's look at how the data is distributed. For instance, how many tweets have scores above 1.0? 2.0? Etc.?\n"
      ],
      "metadata": {
        "id": "GuliVOiMwd4c"
      }
    },
    {
      "cell_type": "code",
      "source": [
        "# following are the counts of newsworthy tweets above certain thresholds\n",
        "count1 = 0\n",
        "count2 = 0\n",
        "count3 = 0\n",
        "count4 = 0\n",
        "count5 = 0\n",
        "count6 = 0\n",
        "count7 = 0\n",
        "# iterate through the tweet list, keeping track of the counts for tweets\n",
        "# with scores above each threshold from 1.0 to 7.0\n",
        "for tweet in json_list:\n",
        "  if tweet['news_score']['score'] > 1.0:\n",
        "    count1 +=1\n",
        "  if tweet['news_score']['score'] > 2.0:\n",
        "    count2 +=1\n",
        "  if tweet['news_score']['score'] > 3.0:\n",
        "    count3 +=1\n",
        "  if tweet['news_score']['score'] > 4.0:\n",
        "    count4 +=1\n",
        "  if tweet['news_score']['score'] > 5.0:\n",
        "    count5 +=1\n",
        "  if tweet['news_score']['score'] > 6.0:\n",
        "    count6 +=1\n",
        "  if tweet['news_score']['score'] > 7.0:\n",
        "    count7 +=1\n",
        "\n",
        "print(\"Number of newsworthy tweets w/ score > 1.0: \" + str(count1))  \n",
        "print(\"Number of newsworthy tweets w/ score > 2.0: \" + str(count2))  \n",
        "print(\"Number of newsworthy tweets w/ score > 3.0: \" + str(count3))  \n",
        "print(\"Number of newsworthy tweets w/ score > 4.0: \" + str(count4))  \n",
        "print(\"Number of newsworthy tweets w/ score > 5.0: \" + str(count5))  \n",
        "print(\"Number of newsworthy tweets w/ score > 6.0: \" + str(count6)) \n",
        "print(\"Number of newsworthy tweets w/ score > 7.0: \" + str(count7))   "
      ],
      "metadata": {
        "colab": {
          "base_uri": "https://localhost:8080/"
        },
        "id": "3MVFzlIdwryr",
        "outputId": "1705c46a-42e2-419d-952a-8b7842a1b1b9"
      },
      "execution_count": null,
      "outputs": [
        {
          "output_type": "stream",
          "name": "stdout",
          "text": [
            "Number of newsworthy tweets w/ score > 1.0: 3523\n",
            "Number of newsworthy tweets w/ score > 2.0: 2413\n",
            "Number of newsworthy tweets w/ score > 3.0: 1548\n",
            "Number of newsworthy tweets w/ score > 4.0: 535\n",
            "Number of newsworthy tweets w/ score > 5.0: 172\n",
            "Number of newsworthy tweets w/ score > 6.0: 24\n",
            "Number of newsworthy tweets w/ score > 7.0: 2\n"
          ]
        }
      ]
    },
    {
      "cell_type": "markdown",
      "source": [
        "We can see from these numbers that a lot of the newsworthy tweets have scores in the 1-4 range. Once the threshold gets higher than 6, there are not many left."
      ],
      "metadata": {
        "id": "2wYT26tWxefS"
      }
    },
    {
      "cell_type": "markdown",
      "source": [
        "Let's take a peak at those two top tweets with scores above 7."
      ],
      "metadata": {
        "id": "Qwi6orHZxpcz"
      }
    },
    {
      "cell_type": "code",
      "source": [
        "for tweet in json_list:\n",
        "  # print only the tweets with scores above 7\n",
        "  if tweet['news_score']['score'] > 7.0:\n",
        "    print(tweet['screen_name'])\n",
        "    print(tweet['text'])\n",
        "    print()"
      ],
      "metadata": {
        "colab": {
          "base_uri": "https://localhost:8080/"
        },
        "id": "pn4MlaGzxuKM",
        "outputId": "937eb0d3-b632-4d7b-905d-d517f24738fd"
      },
      "execution_count": null,
      "outputs": [
        {
          "output_type": "stream",
          "name": "stdout",
          "text": [
            "mikedaulton\n",
            "Battersea Power Station Light Festival started last night @ Battersea Power Station https://t.co/LZlockKoTS\n",
            "\n",
            "SpinyFox\n",
            "#microadventure to Dublin for @redhatinc Tech Exchange @ Victoria Coach Station https://t.co/Xa9pOAC8N8\n",
            "\n"
          ]
        }
      ]
    },
    {
      "cell_type": "markdown",
      "source": [
        "The first tweet appears to be very newsworthy, talking about a new festival. The second tweet appears to be about a Tech Exchange going on in Dublin, which could also be considered newsworthy!"
      ],
      "metadata": {
        "id": "j953-KKqx7VJ"
      }
    },
    {
      "cell_type": "markdown",
      "source": [
        "Now let's look at the data in terms of where the data is geo-tagged. Let's bring in the code from Q1 to get the grid boxes."
      ],
      "metadata": {
        "id": "4mLmcM0HyO0i"
      }
    },
    {
      "cell_type": "markdown",
      "source": [
        "Here is our bounding box."
      ],
      "metadata": {
        "id": "JR0mQSCnyq1o"
      }
    },
    {
      "cell_type": "code",
      "source": [
        "# bounding box\n",
        "bnd_box = {\n",
        "    \"top_right\": [51.686031, 0.28036],\n",
        "    \"top_left\": [51.686031, -0.563],\n",
        "    \"bottom_right\": [51.261318, 0.28036],\n",
        "    \"bottom_left\": [51.261318, -0.563]\n",
        "    }"
      ],
      "metadata": {
        "id": "3FefbkEfyh9Z"
      },
      "execution_count": null,
      "outputs": []
    },
    {
      "cell_type": "markdown",
      "source": [
        "And our compute distance function."
      ],
      "metadata": {
        "id": "rVyDpTHOysjP"
      }
    },
    {
      "cell_type": "code",
      "source": [
        "import math\n",
        "# function to compute the distance between two points on a sphere\n",
        "def compute_distance(coords):\n",
        "    R = 6373.0\n",
        "    # latitudes and longitudes\n",
        "    lat1 = coords[1]\n",
        "    long1 = coords[0]\n",
        "    lat2 = coords[3]\n",
        "    long2 = coords[2]\n",
        "\n",
        "    # proceed to use haversine's formula\n",
        "    phi1 = lat1 * (math.pi/180)\n",
        "    phi2 = lat2 * (math.pi/180)\n",
        "\n",
        "    delta1 = (lat2-lat1) * (math.pi/180)\n",
        "    delta2 = (long2-long1) * (math.pi/180)\n",
        "\n",
        "    a = math.sin(delta1/2) ** 2 + math.cos(phi1) * math.cos(phi2) * math.sin(delta2/2) ** 2\n",
        "    c = 2 * math.atan2(math.sqrt(a), math.sqrt(1-a))\n",
        "    d = R * c\n",
        "    return d"
      ],
      "metadata": {
        "id": "X5814YOKyvq8"
      },
      "execution_count": null,
      "outputs": []
    },
    {
      "cell_type": "markdown",
      "source": [
        "And our calculate grid box function."
      ],
      "metadata": {
        "id": "g1I1rcGOy0nl"
      }
    },
    {
      "cell_type": "code",
      "source": [
        "# function which takes in a tweet and the london bounding box\n",
        "# calculates which grid box the tweet belongs in \n",
        "def calculate_grid_box(tweet, bnd_box):\n",
        "    # takes the coordinates of the tweet\n",
        "    coords = tweet['coordinates']\n",
        "    # calculates the distance width-wise from the top left corner of london bnd box\n",
        "    dist_width = compute_distance([bnd_box['top_left'][1], bnd_box['top_left'][0],\n",
        "                                   coords[0], bnd_box['top_left'][0]])\n",
        "    # calculates the distance height-wise from the top left corner of london bnd box\n",
        "    dist_height = compute_distance([bnd_box['top_left'][1], bnd_box['top_left'][0],\n",
        "                                   bnd_box['top_left'][1], coords[1]])\n",
        "    # adds a new part to the json dictionary, the grid box of the tweet\n",
        "    tweet['grid_box'] = [math.floor(dist_height), math.floor(dist_width)]"
      ],
      "metadata": {
        "id": "pOa0ygEty0H7"
      },
      "execution_count": null,
      "outputs": []
    },
    {
      "cell_type": "markdown",
      "source": [
        "Let's assign the tweets again."
      ],
      "metadata": {
        "id": "2eT2UYZry2UR"
      }
    },
    {
      "cell_type": "code",
      "source": [
        "# iterates through each tweet, calculating grid box\n",
        "for tweet in json_list:\n",
        "    calculate_grid_box(tweet, bnd_box)"
      ],
      "metadata": {
        "id": "uSyWTv0Qy5Wv"
      },
      "execution_count": null,
      "outputs": []
    },
    {
      "cell_type": "markdown",
      "source": [
        "Now let's count the number of tweets per grid box for the newsworthy and non-newsworthy tweets."
      ],
      "metadata": {
        "id": "3BQ6fGR3zNOG"
      }
    },
    {
      "cell_type": "code",
      "source": [
        "# will hold a list of the grid boxes for newsworthy tweets\n",
        "grid_boxes_news = []\n",
        "# will hold a list of the grid boxes for non-news tweets\n",
        "grid_boxes_not = []\n",
        "# iterate through the tweet list\n",
        "for tweet in json_list:\n",
        "  # if the tweet is news, append the grid_box to news list\n",
        "  if tweet['news_score']['score'] > 0.702:\n",
        "    grid_boxes_news.append(tuple(tweet['grid_box']))\n",
        "  # if not news, append to non-news list\n",
        "  else:\n",
        "    grid_boxes_not.append(tuple(tweet['grid_box']))\n",
        "\n",
        "# define a counter for both the news and not news lists\n",
        "grid_counts_news = Counter(grid_boxes_news)\n",
        "grid_counts_not = Counter(grid_boxes_not)"
      ],
      "metadata": {
        "id": "2EZckS3MyUsG"
      },
      "execution_count": null,
      "outputs": []
    },
    {
      "cell_type": "markdown",
      "source": [
        "Let's see which grid boxes contained the most newsworthy tweets."
      ],
      "metadata": {
        "id": "_dSyOh7Xz4rf"
      }
    },
    {
      "cell_type": "code",
      "source": [
        "top10_news = dict(grid_counts_news.most_common(10))\n",
        "top10_news"
      ],
      "metadata": {
        "colab": {
          "base_uri": "https://localhost:8080/"
        },
        "id": "oT4OYJ3Ez_wZ",
        "outputId": "e7d1cf16-1b16-4fe1-d64e-c5203a76ae24"
      },
      "execution_count": null,
      "outputs": [
        {
          "output_type": "execute_result",
          "data": {
            "text/plain": [
              "{(19, 30): 709,\n",
              " (19, 32): 303,\n",
              " (19, 31): 270,\n",
              " (19, 29): 253,\n",
              " (21, 34): 144,\n",
              " (19, 28): 96,\n",
              " (20, 30): 93,\n",
              " (18, 30): 86,\n",
              " (23, 35): 76,\n",
              " (18, 29): 72}"
            ]
          },
          "metadata": {},
          "execution_count": 33
        }
      ]
    },
    {
      "cell_type": "markdown",
      "source": [
        "This list is interesting for a couple reasons. We can see that the top grid box for newsworthy tweets was (19, 30) and the second was (19, 32). What is important though is that in third was (19, 31), which remembering back to Q1, was by far the most populated box. Let's look at the most common boxes for non-newsworthy tweets."
      ],
      "metadata": {
        "id": "lCHI_o5I0gNe"
      }
    },
    {
      "cell_type": "code",
      "source": [
        "top10_not = dict(grid_counts_not.most_common(10))\n",
        "top10_not"
      ],
      "metadata": {
        "colab": {
          "base_uri": "https://localhost:8080/"
        },
        "id": "QhpK4mcG0xrY",
        "outputId": "e4a2e355-0d78-4437-bcd8-83b92190055b"
      },
      "execution_count": null,
      "outputs": [
        {
          "output_type": "execute_result",
          "data": {
            "text/plain": [
              "{(19, 31): 3335,\n",
              " (23, 33): 450,\n",
              " (19, 29): 311,\n",
              " (19, 30): 272,\n",
              " (19, 32): 98,\n",
              " (20, 30): 93,\n",
              " (22, 26): 90,\n",
              " (18, 28): 82,\n",
              " (19, 28): 72,\n",
              " (20, 33): 54}"
            ]
          },
          "metadata": {},
          "execution_count": 34
        }
      ]
    },
    {
      "cell_type": "markdown",
      "source": [
        "As you can see, in the hottest box (19, 31), nearly 93% of the tweets were considered non-newsworthy. This is incredibly disproportionate to the distribution of all tweets. More than HALF of the non-newsworthy tweets were from the (19, 31) box. Also remember though that this is the box that notably had nearly every tweet coming from Instagram."
      ],
      "metadata": {
        "id": "eFPLGds2065D"
      }
    },
    {
      "cell_type": "markdown",
      "source": [
        "Another thing to note is that tweets in the (19, 30) grid box were considered newsworthy 73% of the time. Similarly, tweets in the (19, 32) grid box were newsworthy 75% of the time."
      ],
      "metadata": {
        "id": "d7Rj2c5g1iea"
      }
    },
    {
      "cell_type": "markdown",
      "source": [
        "Let's look at what percentage of non-(19, 31) tweets were considered newsworthy."
      ],
      "metadata": {
        "id": "UAFqjK2q2Gq_"
      }
    },
    {
      "cell_type": "code",
      "source": [
        "# dictionary will hold the number of news and non-news tweets that are not in (19, 31)\n",
        "non_1931 = {\"news\": 0, \"non-news\": 0}\n",
        "# iterate through tweet list\n",
        "for tweet in json_list:\n",
        "  # if grid box is not (19, 31)\n",
        "  if tweet['grid_box'] != [19, 31]:\n",
        "    # if tweet is newsworthy, increment news count\n",
        "    if tweet['news_score']['score'] > 0.702:\n",
        "      non_1931['news'] += 1\n",
        "    # if not news, increment count\n",
        "    else:\n",
        "      non_1931['non-news'] += 1\n",
        "\n",
        "non_1931"
      ],
      "metadata": {
        "colab": {
          "base_uri": "https://localhost:8080/"
        },
        "id": "apCoX0Mu2LUn",
        "outputId": "08ef84a8-d0ea-42ee-8517-4074dc4405c8"
      },
      "execution_count": null,
      "outputs": [
        {
          "output_type": "execute_result",
          "data": {
            "text/plain": [
              "{'news': 3824, 'non-news': 3097}"
            ]
          },
          "metadata": {},
          "execution_count": 35
        }
      ]
    },
    {
      "cell_type": "markdown",
      "source": [
        "As we can see here, of the tweets that were not in the (19, 31) box, 55% of them were considered newsworthy."
      ],
      "metadata": {
        "id": "7xqIb6bG2ypX"
      }
    },
    {
      "cell_type": "markdown",
      "source": [
        "Notably, another box that had a lot of low scoring tweets was the (23, 33) box. We know that the (19, 31) box was filled with tweets from other sources that all pointed to the same location, what about (23, 33)?"
      ],
      "metadata": {
        "id": "sVZpgFhW3F1h"
      }
    },
    {
      "cell_type": "code",
      "source": [
        "# this is the same idea as for the counts of non_1931\n",
        "counts_2333 = {\"news\": 0, \"non-news\": 0}\n",
        "for tweet in json_list:\n",
        "  if tweet['grid_box'] == [23, 33]:\n",
        "    if tweet['news_score']['score'] > 0.702:\n",
        "      counts_2333['news'] += 1\n",
        "    else:\n",
        "      counts_2333['non-news'] += 1\n",
        "\n",
        "counts_2333"
      ],
      "metadata": {
        "colab": {
          "base_uri": "https://localhost:8080/"
        },
        "id": "H4xucR_G3S3u",
        "outputId": "5c5ed1eb-cade-4ebc-9889-3e386138d533"
      },
      "execution_count": null,
      "outputs": [
        {
          "output_type": "execute_result",
          "data": {
            "text/plain": [
              "{'news': 29, 'non-news': 450}"
            ]
          },
          "metadata": {},
          "execution_count": 36
        }
      ]
    },
    {
      "cell_type": "markdown",
      "source": [
        "First, we can see that 94% of tweets in the (23, 33) box were considered non-newsworthy. Let's look at the sources."
      ],
      "metadata": {
        "id": "G8fUgzBU3pf4"
      }
    },
    {
      "cell_type": "code",
      "source": [
        "# list to hold the sources for tweets in (23, 33)\n",
        "client_apps = []\n",
        "# iterate through the tweets, keeping a list of the sources in the (23, 33) box\n",
        "for tweet in json_list:\n",
        "  if tweet['grid_box'] == [23, 33]:\n",
        "    client_apps.append(tweet['source'])\n",
        "\n",
        "# apply counter to source list\n",
        "Counter(client_apps)"
      ],
      "metadata": {
        "colab": {
          "base_uri": "https://localhost:8080/"
        },
        "id": "0DRIsT1z3xkK",
        "outputId": "ee94f6e9-1374-4a98-b803-54f041dddc76"
      },
      "execution_count": null,
      "outputs": [
        {
          "output_type": "execute_result",
          "data": {
            "text/plain": [
              "Counter({'Instagram': 476, 'everybot': 3})"
            ]
          },
          "metadata": {},
          "execution_count": 37
        }
      ]
    },
    {
      "cell_type": "markdown",
      "source": [
        "Nearly every single one of the tweets is from Instagram. What are their coordinates?\n"
      ],
      "metadata": {
        "id": "AAsbf2RQ38gy"
      }
    },
    {
      "cell_type": "code",
      "source": [
        "# list to hold the coordinates for tweets in (23, 33)\n",
        "coords = []\n",
        "# iterate through the tweets, keeping track of the coords in the (23, 33) box\n",
        "for tweet in json_list:\n",
        "  if tweet['grid_box'] == [23, 33]:\n",
        "    coords.append(tuple(tweet['coordinates']))\n",
        "\n",
        "Counter(coords)"
      ],
      "metadata": {
        "colab": {
          "base_uri": "https://localhost:8080/"
        },
        "id": "HZ_mR58U4Pui",
        "outputId": "0a790322-2846-4d0b-ba43-4e6d6e1dfbfd"
      },
      "execution_count": null,
      "outputs": [
        {
          "output_type": "execute_result",
          "data": {
            "text/plain": [
              "Counter({(-0.07939436, 51.47496745): 476,\n",
              "         (-0.07443, 51.474): 1,\n",
              "         (-0.0701, 51.4733): 1,\n",
              "         (-0.08359, 51.4737): 1})"
            ]
          },
          "metadata": {},
          "execution_count": 38
        }
      ]
    },
    {
      "cell_type": "markdown",
      "source": [
        "Every single one of the Instagram tweets appears to be in the exact same spot. A pattern is beginning to arise. Whenever a tweet is sent from Instagram, Instagram appears to choose the same specific location to be the tweet's coordinates."
      ],
      "metadata": {
        "id": "jJvgkY-e4cOe"
      }
    },
    {
      "cell_type": "markdown",
      "source": [
        "### (c) Creating Charts"
      ],
      "metadata": {
        "id": "1H0Xj78eKR1x"
      }
    },
    {
      "cell_type": "markdown",
      "source": [
        "Now let's create the same heat maps and distribution bar charts as in question 1."
      ],
      "metadata": {
        "id": "9Oip4ETfKXpL"
      }
    },
    {
      "cell_type": "markdown",
      "source": [
        "Before we create charts, we are going to need to compile our data similarly to how we did in question 1. Let's begin by storing tweets in their corresponding grid box."
      ],
      "metadata": {
        "id": "F4-7eLvzMiya"
      }
    },
    {
      "cell_type": "code",
      "source": [
        "# create dictionary for grid boxes of news vs not\n",
        "grid_boxes_news = {}\n",
        "grid_boxes_not = {}\n",
        "\n",
        "# iterate over height\n",
        "for i in range(47):\n",
        "    # iterate over weight\n",
        "    for j in range(58):\n",
        "        grid_boxes_news[(i,j)] = []\n",
        "        grid_boxes_not[(i,j)] = []\n",
        "\n",
        "# for each tweet, add to corresponding grid box list in grid_boxes dictionary\n",
        "for tweet in json_list:\n",
        "    height = tweet['grid_box'][0]\n",
        "    width = tweet['grid_box'][1]\n",
        "    if tweet['news_score']['score'] > 0.702:\n",
        "      grid_boxes_news[(height, width)].append(tweet)\n",
        "    else:\n",
        "      grid_boxes_not[(height, width)].append(tweet)"
      ],
      "metadata": {
        "id": "OCwyqMA_Mrj7"
      },
      "execution_count": null,
      "outputs": []
    },
    {
      "cell_type": "markdown",
      "source": [
        "Now let's create dictionaries to store the sizes of the boxes for both news and not."
      ],
      "metadata": {
        "id": "NvETNgApM8-Y"
      }
    },
    {
      "cell_type": "code",
      "source": [
        "# create dictionaries to store sizes of each box\n",
        "grid_sizes_news = {}\n",
        "grid_sizes_not = {}\n",
        "for grid in grid_boxes_news:\n",
        "    grid_sizes_news[grid] = len(grid_boxes_news.get(grid))\n",
        "\n",
        "for grid in grid_boxes_not:\n",
        "    grid_sizes_not[grid] = len(grid_boxes_not.get(grid))"
      ],
      "metadata": {
        "id": "Q-YLpv63NBXg"
      },
      "execution_count": null,
      "outputs": []
    },
    {
      "cell_type": "markdown",
      "source": [
        "First let's create a heat map for the newsworthy data. We'll start by setting up the data correctly."
      ],
      "metadata": {
        "id": "hHHDz8FbLxUU"
      }
    },
    {
      "cell_type": "code",
      "source": [
        "import pandas as pd\n",
        "# create empty dataframe with columns row, col, and value\n",
        "tweets_news_df = pd.DataFrame(columns=[\"Row\", \"Col\", \"Value\"])\n",
        "\n",
        "# iterate through grid_counts_news, filling dataframe\n",
        "for tweet in grid_sizes_news:\n",
        "  new_row = {\"Row\":int(tweet[0]), \"Col\":int(tweet[1]), \"Value\":int(grid_sizes_news[tweet])}\n",
        "  tweets_news_df = tweets_news_df.append(new_row, ignore_index=True)\n",
        "\n",
        "# pivot the dataframe so it is formatted correctly for heatmap\n",
        "tweets_news_df = tweets_news_df.astype(float)\n",
        "tweets_news_df_pivoted = tweets_news_df.pivot('Row', 'Col', 'Value')"
      ],
      "metadata": {
        "id": "aC_UN6qLLbi3"
      },
      "execution_count": null,
      "outputs": []
    },
    {
      "cell_type": "markdown",
      "source": [
        "Now let's create a heatmap for the newsworthy data."
      ],
      "metadata": {
        "id": "sI3sPJnOME6L"
      }
    },
    {
      "cell_type": "code",
      "source": [
        "import seaborn as sns\n",
        "import matplotlib.pyplot as plt\n",
        "\n",
        "sns.heatmap(tweets_news_df_pivoted, cmap=\"crest\")\n",
        "plt.ylabel(\"Row Index\")\n",
        "plt.xlabel(\"Column Index\")\n",
        "plt.title(\"Distribution of Newsworthy London Tweets Heatmap\")\n",
        "plt.savefig('newslondontweetsheatmap.png', bbox_inches='tight')\n",
        "plt.show()"
      ],
      "metadata": {
        "colab": {
          "base_uri": "https://localhost:8080/",
          "height": 308
        },
        "id": "H8S5Q6NPMKUt",
        "outputId": "ed401884-5840-4838-a9b8-65f02fa58eee"
      },
      "execution_count": null,
      "outputs": [
        {
          "output_type": "display_data",
          "data": {
            "text/plain": [
              "<Figure size 432x288 with 2 Axes>"
            ],
            "image/png": "[encoded data removed]"
          },
          "metadata": {
            "needs_background": "light"
          }
        }
      ]
    },
    {
      "cell_type": "markdown",
      "source": [
        "We will also do the same for the non-newsworthy data. First we will set-up the data correctly."
      ],
      "metadata": {
        "id": "VB7BHlaeNXMa"
      }
    },
    {
      "cell_type": "code",
      "source": [
        "# create empty dataframe with columns row, col, and value\n",
        "tweets_not_df = pd.DataFrame(columns=[\"Row\", \"Col\", \"Value\"])\n",
        "\n",
        "# iterate through grid_counts_news, filling dataframe\n",
        "for tweet in grid_sizes_not:\n",
        "  new_row = {\"Row\":int(tweet[0]), \"Col\":int(tweet[1]), \"Value\":int(grid_sizes_not[tweet])}\n",
        "  tweets_not_df = tweets_not_df.append(new_row, ignore_index=True)\n",
        "\n",
        "tweets_not_df = tweets_not_df.astype(float)\n",
        "tweets_not_df_pivoted = tweets_not_df.pivot('Row', 'Col', 'Value')"
      ],
      "metadata": {
        "id": "B7tk6QsdNdsL"
      },
      "execution_count": null,
      "outputs": []
    },
    {
      "cell_type": "markdown",
      "source": [
        "And create the non-newsworthy heat map!"
      ],
      "metadata": {
        "id": "O2xT9H61NpMz"
      }
    },
    {
      "cell_type": "code",
      "source": [
        "sns.heatmap(tweets_not_df_pivoted, cmap=\"crest\")\n",
        "plt.ylabel(\"Row Index\")\n",
        "plt.xlabel(\"Column Index\")\n",
        "plt.title(\"Distribution of Non-Newsworthy London Tweets Heatmap\")\n",
        "plt.savefig('notnewslondontweetsheatmap.png', bbox_inches='tight')\n",
        "plt.show()"
      ],
      "metadata": {
        "colab": {
          "base_uri": "https://localhost:8080/",
          "height": 308
        },
        "id": "ZjPZ1ciuNq_N",
        "outputId": "f6958e8b-ceb1-4839-ab85-31a1d678fbca"
      },
      "execution_count": null,
      "outputs": [
        {
          "output_type": "display_data",
          "data": {
            "text/plain": [
              "<Figure size 432x288 with 2 Axes>"
            ],
            "image/png": "[encoded data removed]"
          },
          "metadata": {
            "needs_background": "light"
          }
        }
      ]
    },
    {
      "cell_type": "markdown",
      "source": [
        "As we can see from the heatmaps, the newsworthy data is a lot more spread out while the non-newsworthy data is more concentrated in the very center, much like the overall spread."
      ],
      "metadata": {
        "id": "RfMUTS-ANyLN"
      }
    },
    {
      "cell_type": "markdown",
      "source": [
        "Let's also create the histogram to show the distribution of tweets per cell. First, we'll need to turn the grid totals into lists."
      ],
      "metadata": {
        "id": "PTm9OL2gOTPE"
      }
    },
    {
      "cell_type": "code",
      "source": [
        "grid_totals_news = tweets_news_df['Value'].tolist()\n",
        "grid_totals_not = tweets_not_df['Value'].tolist()"
      ],
      "metadata": {
        "id": "WRu_LmszOdYN"
      },
      "execution_count": null,
      "outputs": []
    },
    {
      "cell_type": "markdown",
      "source": [
        "Here is the plot for the newsworthy data."
      ],
      "metadata": {
        "id": "B7bDVxsSOm50"
      }
    },
    {
      "cell_type": "code",
      "source": [
        "plt.hist(grid_totals_news, bins=100, log=True)\n",
        "plt.ylabel(\"Number of Grid Boxes\")\n",
        "plt.xlabel(\"Number of Tweets\")\n",
        "plt.title(\"Distribution of Newsworthy London Tweets Histogram (Log Y-Axis)\")\n",
        "plt.savefig('distnewslondontweetslog.png')\n",
        "plt.show()"
      ],
      "metadata": {
        "colab": {
          "base_uri": "https://localhost:8080/",
          "height": 295
        },
        "id": "5-sfcwsGOtt_",
        "outputId": "4d5274e9-7d14-48c4-ef60-20aa43a00e87"
      },
      "execution_count": null,
      "outputs": [
        {
          "output_type": "display_data",
          "data": {
            "text/plain": [
              "<Figure size 432x288 with 1 Axes>"
            ],
            "image/png": "[encoded data removed]"
          },
          "metadata": {
            "needs_background": "light"
          }
        }
      ]
    },
    {
      "cell_type": "markdown",
      "source": [
        "And for the non-newsworthy data."
      ],
      "metadata": {
        "id": "pUgxIPUlO8M7"
      }
    },
    {
      "cell_type": "code",
      "source": [
        "plt.hist(grid_totals_not, bins=100, log=True)\n",
        "plt.ylabel(\"Number of Grid Boxes\")\n",
        "plt.xlabel(\"Number of Tweets\")\n",
        "plt.title(\"Distribution of Non-Newsworthy London Tweets Histogram (Log Y-Axis)\")\n",
        "plt.savefig('distnotnewslondontweetslog.png')\n",
        "plt.show()"
      ],
      "metadata": {
        "colab": {
          "base_uri": "https://localhost:8080/",
          "height": 295
        },
        "id": "JydWgl09O96e",
        "outputId": "8e8acc82-19b6-4a70-f395-1cae740923f5"
      },
      "execution_count": null,
      "outputs": [
        {
          "output_type": "display_data",
          "data": {
            "text/plain": [
              "<Figure size 432x288 with 1 Axes>"
            ],
            "image/png": "[encoded data removed]"
          },
          "metadata": {
            "needs_background": "light"
          }
        }
      ]
    },
    {
      "cell_type": "markdown",
      "source": [
        "As we can see, although there are still a lot of empty cells for both the newsworthy and non-newsworthy data, the newsworthy data is noticeably more spread out than the non-newsworthy data."
      ],
      "metadata": {
        "id": "eoE_kk33PCeP"
      }
    },
    {
      "cell_type": "markdown",
      "source": [
        "## Q4"
      ],
      "metadata": {
        "id": "TLTIFoh1gXl_"
      }
    },
    {
      "cell_type": "markdown",
      "source": [
        "One of the notable issues with this dataset is the number of tweets that are coming from outside sources. Let's create a counter of the sources for the entire dataset."
      ],
      "metadata": {
        "id": "cD4EJWXAhAhO"
      }
    },
    {
      "cell_type": "code",
      "source": [
        "# list to hold the sources for each of the tweets\n",
        "sources = []\n",
        "# iterate through the tweets, noting the source\n",
        "for tweet in json_list:\n",
        "  sources.append(tweet['source'])\n",
        "\n",
        "source_counts = Counter(sources)\n",
        "source_counts"
      ],
      "metadata": {
        "colab": {
          "base_uri": "https://localhost:8080/"
        },
        "id": "5wLi23jxhTVa",
        "outputId": "a7669cd7-e5e5-4fee-a297-bd638ea61781"
      },
      "execution_count": null,
      "outputs": [
        {
          "output_type": "execute_result",
          "data": {
            "text/plain": [
              "Counter({'Instagram': 8019,\n",
              "         'everybot': 309,\n",
              "         'Untappd': 157,\n",
              "         'Foursquare': 400,\n",
              "         'CareerArc 2.0': 1083,\n",
              "         'Foursquare Swarm': 176,\n",
              "         'Hootsuite Inc.': 17,\n",
              "         'dlvr.it': 251,\n",
              "         'Squarespace': 47,\n",
              "         'Landmark Manager Web': 2,\n",
              "         'World Flags': 3,\n",
              "         'FL': 6,\n",
              "         'Wikishire': 8,\n",
              "         'Leading Restaurants': 2,\n",
              "         'Estate Agent Feeds': 3,\n",
              "         'Tweetbot for iΟS': 5,\n",
              "         '#Träwelling': 3,\n",
              "         'BLUF.com': 2,\n",
              "         'citydescriber': 2,\n",
              "         'Hackney-a-la-mode': 5,\n",
              "         'Good Stuff Tweeter': 1,\n",
              "         'I Heart Locations': 4,\n",
              "         \"edent's Tweeting Robot\": 3,\n",
              "         'LuxuryRealEstate.com': 1,\n",
              "         'TweetCaster for Android': 3,\n",
              "         'trendsmetadata': 3,\n",
              "         'Liveuamap': 1,\n",
              "         'Brooklyn à la mode': 3,\n",
              "         'narrowbotR': 1,\n",
              "         'Twitter for iPhone': 1,\n",
              "         'trainlogger': 4,\n",
              "         'Fenix 2': 1})"
            ]
          },
          "metadata": {},
          "execution_count": 48
        }
      ]
    },
    {
      "cell_type": "markdown",
      "source": [
        "As we can see here, nearly every single one of the tweets is from an outside source, other than one tweet coming from Twitter for iPhone. Even more notably, 76.2% of the tweets are from Instagram. "
      ],
      "metadata": {
        "id": "Deqlp47qjWwY"
      }
    },
    {
      "cell_type": "markdown",
      "source": [
        "Earlier, we noted that tweets from Instagram seem to give the same coordinates for location. Let's remember back to the tweets in the hottest grid box (19, 31). Let's look at the coordinate counts in that box."
      ],
      "metadata": {
        "id": "n67ySghHjrC6"
      }
    },
    {
      "cell_type": "code",
      "source": [
        "# list to hold the coordinates for tweets in (19, 31)\n",
        "coords_1931 = []\n",
        "# iterate through the tweet list, keeping track of the coords for tweets in the (19, 31) box\n",
        "for tweet in json_list:\n",
        "  if tweet['grid_box'] == [19, 31]:\n",
        "    coords_1931.append(tuple(tweet['coordinates']))\n",
        "\n",
        "print(\"Total tweets in (19, 31) box: \" + str(len(coords_1931)))\n",
        "print(\"Tweets at (-0.1094, 51.5141): \" + str(Counter(coords_1931)[(-0.1094, 51.5141)]))"
      ],
      "metadata": {
        "colab": {
          "base_uri": "https://localhost:8080/"
        },
        "id": "6z7lVfwnkElV",
        "outputId": "e19130bb-aa69-46c2-e475-5c759ca23160"
      },
      "execution_count": null,
      "outputs": [
        {
          "output_type": "stream",
          "name": "stdout",
          "text": [
            "Total tweets in (19, 31) box: 3605\n",
            "Tweets at (-0.1094, 51.5141): 3527\n"
          ]
        }
      ]
    },
    {
      "cell_type": "markdown",
      "source": [
        "Nearly 98% of all tweets in the (19, 31) grid box are at the coordinates (-0.1094, 51.5141). Let's look at the sources of those tweets."
      ],
      "metadata": {
        "id": "Uym2wsMMkjGu"
      }
    },
    {
      "cell_type": "code",
      "source": [
        "# list to hold the sources for tweets in (19, 31)\n",
        "sources_1931 = []\n",
        "# iterate through the tweet list, keeping track of the sources for tweets with the specific coords in the (19, 31) box\n",
        "for tweet in json_list:\n",
        "  if tweet['grid_box'] == [19, 31] and tuple(tweet['coordinates']) == (-0.1094, 51.5141):\n",
        "    sources_1931.append(tweet['source'])\n",
        "\n",
        "Counter(sources_1931)"
      ],
      "metadata": {
        "colab": {
          "base_uri": "https://localhost:8080/"
        },
        "id": "CKdAwBHgks1g",
        "outputId": "08d3efa6-3bf2-44ba-d806-b973a76770f1"
      },
      "execution_count": null,
      "outputs": [
        {
          "output_type": "execute_result",
          "data": {
            "text/plain": [
              "Counter({'Instagram': 3527})"
            ]
          },
          "metadata": {},
          "execution_count": 56
        }
      ]
    },
    {
      "cell_type": "markdown",
      "source": [
        "Every single one of the tweets at those coordinates is from Instagram. Let's look at the second most popular box, (19, 30)."
      ],
      "metadata": {
        "id": "aA2r4AL4lGBX"
      }
    },
    {
      "cell_type": "code",
      "source": [
        "\n",
        "coords_1930 = []\n",
        "# iterate through the tweet list, keeping track of the coords for tweets in the (19, 30) box\n",
        "for tweet in json_list:\n",
        "  if tweet['grid_box'] == [19, 30]:\n",
        "    coords_1930.append(tuple(tweet['coordinates']))\n",
        "\n",
        "print(\"Total tweets in (19, 30) box: \" + str(len(coords_1930)))\n",
        "Counter(coords_1930).most_common(5)"
      ],
      "metadata": {
        "colab": {
          "base_uri": "https://localhost:8080/"
        },
        "id": "BTmI9DIslm2P",
        "outputId": "1efbc83c-af54-4589-faf8-080960c0b62d"
      },
      "execution_count": null,
      "outputs": [
        {
          "output_type": "stream",
          "name": "stdout",
          "text": [
            "Total tweets in (19, 30) box: 981\n"
          ]
        },
        {
          "output_type": "execute_result",
          "data": {
            "text/plain": [
              "[((-0.1277583, 51.5073509), 546),\n",
              " ((-0.12731805, 51.50711486), 98),\n",
              " ((-0.12721, 51.50643), 39),\n",
              " ((-0.11714464, 51.51106761), 15),\n",
              " ((-0.1228, 51.51196944), 13)]"
            ]
          },
          "metadata": {},
          "execution_count": 60
        }
      ]
    },
    {
      "cell_type": "markdown",
      "source": [
        "Here we see that for the (19, 30) box, the number of tweets at a single coordinate is not as extreme. There are still 56% of the tweets at (-0.1277583, 51.5073509). Let's look at the sources for those tweets."
      ],
      "metadata": {
        "id": "nsetaLykl8TR"
      }
    },
    {
      "cell_type": "code",
      "source": [
        "sources_1930 = []\n",
        "# iterate through the tweet list, keeping track of the sources for the tweets with the specific coords in the (19, 30) box\n",
        "for tweet in json_list:\n",
        "  if tweet['grid_box'] == [19, 30] and tuple(tweet['coordinates']) == (-0.1277583, 51.5073509):\n",
        "    sources_1930.append(tweet['source'])\n",
        "\n",
        "Counter(sources_1930)"
      ],
      "metadata": {
        "colab": {
          "base_uri": "https://localhost:8080/"
        },
        "id": "7mUShnfVmS22",
        "outputId": "a3615c00-e97a-461f-c596-76321ed3d600"
      },
      "execution_count": null,
      "outputs": [
        {
          "output_type": "execute_result",
          "data": {
            "text/plain": [
              "Counter({'CareerArc 2.0': 532, 'Squarespace': 11, 'Instagram': 3})"
            ]
          },
          "metadata": {},
          "execution_count": 61
        }
      ]
    },
    {
      "cell_type": "markdown",
      "source": [
        "This time they are not all from Instagram, rather from CareerArc2.0, the second most popular source in the dataset. \n",
        "\n"
      ],
      "metadata": {
        "id": "RsbG3vvnmcVl"
      }
    },
    {
      "cell_type": "markdown",
      "source": [
        "Both of these examples are evidence of why geolocalisation of this dataset is not entirely accurate. Although these tweets are populated with coordinates, all of the coordinates are coming from third party apps which the tweets are being posted from. When a tweet has the source 'Instagram', the coordinates for that tweet are whatever coordinates 'Instagram' gives. We don't know how precise those coordinates are. Similarly for CareerArc2.0."
      ],
      "metadata": {
        "id": "6qTkF-QroZrW"
      }
    }
  ]
}