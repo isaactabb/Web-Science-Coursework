{
  "nbformat": 4,
  "nbformat_minor": 0,
  "metadata": {
    "colab": {
      "provenance": []
    },
    "kernelspec": {
      "name": "python3",
      "display_name": "Python 3"
    },
    "language_info": {
      "name": "python"
    }
  },
  "cells": [
    {
      "cell_type": "markdown",
      "source": [
        "# WEB-SCI Coursework Q1\n",
        "### By Isaac Tabb"
      ],
      "metadata": {
        "id": "WsVqwLWgs452"
      }
    },
    {
      "cell_type": "markdown",
      "source": [
        "First, let's begin by importing the geoLondonJan23.json dataset."
      ],
      "metadata": {
        "id": "5QvOaAYgs_ss"
      }
    },
    {
      "cell_type": "code",
      "execution_count": null,
      "metadata": {
        "colab": {
          "base_uri": "https://localhost:8080/"
        },
        "id": "v-LX9prNs1Zd",
        "outputId": "85d25aed-9f77-46f9-dcc7-3e73ab2549c4"
      },
      "outputs": [
        {
          "output_type": "stream",
          "name": "stdout",
          "text": [
            "{'_id': 1617627087447154696, 'date': {'$date': '2023-01-23T20:55:26Z'}, 'screen_name': 'thedukeldn', 'qualityScore': 0.6655813953488372, 'text': 'Just getting warmed up   @ London, United Kingdom https://t.co/584EtfV0Xy', 'url': 'https://t.co/E2DsKwJRJJ', 'description': 'Luke Kenneth Andrew Lentes.\\nA creative mind with multiple outlets.\\nBased in London. Available worldwide.\\nMaking an Elephant 🐘', 'listed_count': 1, 'user_created': {'$date': '2020-11-10T12:42:42Z'}, 'geo_enabled': True, 'favourites_count': 640, 'coordinates': [-0.1094, 51.5141], 'location': 'London, England', 'followers_count': 70, ' friends_count': 70, 'place_name': 'City of London, London', 'place_country': 'United Kingdom', 'country_code': 'GB', 'place_coordinates': [[[-0.112442, 51.5068], [-0.0733794, 51.5068], [-0.0733794, 51.522161], [-0.112442, 51.522161]]], 'hashtags': [], 'mentions': [], 'source': 'Instagram'}\n"
          ]
        }
      ],
      "source": [
        "# import json\n",
        "import json\n",
        "\n",
        "# create a list to hold all of the json objects\n",
        "json_list = []\n",
        "# open the file\n",
        "with open('geoLondonJan23.json') as f:\n",
        "    # iterate through each line in the file\n",
        "    for line in f:\n",
        "        # load an append to list\n",
        "        dct = json.loads(line)\n",
        "        json_list.append(dct)\n",
        "\n",
        "print(json_list[1])"
      ]
    },
    {
      "cell_type": "markdown",
      "source": [
        "## Sorting the Tweets into Grid Boxes"
      ],
      "metadata": {
        "id": "hIsMyaR7eP7M"
      }
    },
    {
      "cell_type": "markdown",
      "source": [
        "Next, let's define the London bounding box."
      ],
      "metadata": {
        "id": "Khvv8arFtQ-X"
      }
    },
    {
      "cell_type": "code",
      "source": [
        "# define the London bounding box\n",
        "bnd_box = {\n",
        "    \"top_right\": [51.686031, 0.28036],\n",
        "    \"top_left\": [51.686031, -0.563],\n",
        "    \"bottom_right\": [51.261318, 0.28036],\n",
        "    \"bottom_left\": [51.261318, -0.563]\n",
        "    }"
      ],
      "metadata": {
        "id": "WG64bK_htUxW"
      },
      "execution_count": null,
      "outputs": []
    },
    {
      "cell_type": "markdown",
      "source": [
        "We will need to compute the distance between coordinates so I will define a function to compute the Haversine Distance."
      ],
      "metadata": {
        "id": "3_sJJdrLtXPc"
      }
    },
    {
      "cell_type": "code",
      "source": [
        "import math\n",
        "# function to compute the distance between two points on a sphere\n",
        "def compute_distance(coords):\n",
        "    R = 6373.0\n",
        "    # initialize the latitudes and longitudes as the corresponding coordinates\n",
        "    lat1 = coords[1]\n",
        "    long1 = coords[0]\n",
        "    lat2 = coords[3]\n",
        "    long2 = coords[2]\n",
        "\n",
        "    # use haversine's formula to calculate the distance\n",
        "    phi1 = lat1 * (math.pi/180)\n",
        "    phi2 = lat2 * (math.pi/180)\n",
        "    delta1 = (lat2-lat1) * (math.pi/180)\n",
        "    delta2 = (long2-long1) * (math.pi/180)\n",
        "    a = math.sin(delta1/2) ** 2 + math.cos(phi1) * math.cos(phi2) * math.sin(delta2/2) ** 2\n",
        "    c = 2 * math.atan2(math.sqrt(a), math.sqrt(1-a))\n",
        "    d = R * c\n",
        "\n",
        "    # return the distance (on sphere)\n",
        "    return d"
      ],
      "metadata": {
        "id": "ObMJtMIHtfwd"
      },
      "execution_count": null,
      "outputs": []
    },
    {
      "cell_type": "markdown",
      "source": [
        "Let's first use the distance function to find the height and width (in km) of the London bounding box."
      ],
      "metadata": {
        "id": "9SSMAW3NtgQD"
      }
    },
    {
      "cell_type": "code",
      "source": [
        "# compute height of bounding box\n",
        "height = compute_distance([bnd_box['top_right'][1],bnd_box['top_right'][0],\n",
        "                          bnd_box['bottom_right'][1],bnd_box['bottom_right'][0]])\n",
        "\n",
        "# compute width of bounding box\n",
        "width = compute_distance([bnd_box['top_right'][1],bnd_box['top_right'][0],\n",
        "                         bnd_box['top_left'][1],bnd_box['top_left'][0]])"
      ],
      "metadata": {
        "id": "vSq9N6Z7tnd7"
      },
      "execution_count": null,
      "outputs": []
    },
    {
      "cell_type": "markdown",
      "source": [
        "And following that, we can compute the total # of grid boxes."
      ],
      "metadata": {
        "id": "693m6aeOtrUw"
      }
    },
    {
      "cell_type": "code",
      "source": [
        "# multiply together for squared km, since the grid is 1kmx1km, this value is the # of boxes\n",
        "num_of_grids = round(height) * round(width)"
      ],
      "metadata": {
        "id": "AxrwHESVtvD7"
      },
      "execution_count": null,
      "outputs": []
    },
    {
      "cell_type": "markdown",
      "source": [
        "The height of the bounding box is 47.241 km while the width is 58.157 km. We will round these values to 47 km and 58 km to ensure all boxes are exactly 1km x 1km. This gives us 2726 total 1km x 1km grid boxes."
      ],
      "metadata": {
        "id": "zxcno-rMt0kk"
      }
    },
    {
      "cell_type": "markdown",
      "source": [
        "Now we will need a function which assigns each tweet to a grid box based on its coordinates."
      ],
      "metadata": {
        "id": "4s-cMkGHuV_w"
      }
    },
    {
      "cell_type": "code",
      "source": [
        "# function which takes in a tweet and the london bounding box\n",
        "# calculates which grid box the tweet belongs in \n",
        "def calculate_grid_box(tweet, bnd_box):\n",
        "    # takes the coordinates of the tweet\n",
        "    coords = tweet['coordinates']\n",
        "    # calculates the distance width-wise from the top left corner of london bnd box\n",
        "    dist_width = compute_distance([bnd_box['top_left'][1], bnd_box['top_left'][0],\n",
        "                                   coords[0], bnd_box['top_left'][0]])\n",
        "    # calculates the distance height-wise from the top left corner of london bnd box\n",
        "    dist_height = compute_distance([bnd_box['top_left'][1], bnd_box['top_left'][0],\n",
        "                                   bnd_box['top_left'][1], coords[1]])\n",
        "    # adds a new part to the json dictionary, the grid box of the tweet\n",
        "    tweet['grid_box'] = [math.floor(dist_height), math.floor(dist_width)]"
      ],
      "metadata": {
        "id": "6nE-sxEGuVLt"
      },
      "execution_count": null,
      "outputs": []
    },
    {
      "cell_type": "markdown",
      "source": [
        "Let's iterate through the tweets list and assign each."
      ],
      "metadata": {
        "id": "u9uUEnGOuZP_"
      }
    },
    {
      "cell_type": "code",
      "source": [
        "# iterates through each tweet, calculating grid box\n",
        "for tweet in json_list:\n",
        "    calculate_grid_box(tweet, bnd_box)"
      ],
      "metadata": {
        "id": "Lp5pUGkVubkd"
      },
      "execution_count": null,
      "outputs": []
    },
    {
      "cell_type": "markdown",
      "source": [
        "## Analyzing the Statistics"
      ],
      "metadata": {
        "id": "HhkYdKF0edmF"
      }
    },
    {
      "cell_type": "markdown",
      "source": [
        "Now, let's create a dictionary which stores the tweets in their corresponding grid box."
      ],
      "metadata": {
        "id": "0wdkVMXuuhbX"
      }
    },
    {
      "cell_type": "code",
      "source": [
        "# create dictionary of grid boxes\n",
        "grid_boxes = {}\n",
        "# iterate over height\n",
        "for i in range(47):\n",
        "    # iterate over weight\n",
        "    for j in range(58):\n",
        "        grid_boxes[(i,j)] = []\n",
        "\n",
        "# for each tweet, add to corresponding grid box list in grid_boxes dictionary\n",
        "for tweet in json_list:\n",
        "    height = tweet['grid_box'][0]\n",
        "    width = tweet['grid_box'][1]\n",
        "    grid_boxes[(height, width)].append(tweet)"
      ],
      "metadata": {
        "id": "npMcYynfusLK"
      },
      "execution_count": null,
      "outputs": []
    },
    {
      "cell_type": "markdown",
      "source": [
        "And here is another useful dictionary which stores the size of each grid box."
      ],
      "metadata": {
        "id": "f_1lBUm6utcQ"
      }
    },
    {
      "cell_type": "code",
      "source": [
        "# create a dictionary to store sizes of each box\n",
        "# this will be a helpful dictionary when looking at the distribution of tweets\n",
        "grid_sizes = {}\n",
        "for grid in grid_boxes:\n",
        "    grid_sizes[grid] = len(grid_boxes.get(grid))"
      ],
      "metadata": {
        "id": "mSw1Qo95u6b3"
      },
      "execution_count": null,
      "outputs": []
    },
    {
      "cell_type": "markdown",
      "source": [
        "Let's look at the total number of tweets along with the most common grid boxes."
      ],
      "metadata": {
        "id": "TsFjBCFju7as"
      }
    },
    {
      "cell_type": "code",
      "source": [
        "# use counter to find top 10 most common for report\n",
        "from collections import Counter\n",
        "top10_areas = dict(Counter(grid_sizes).most_common(10))\n",
        "\n",
        "# calculate the total tweets number of tweets\n",
        "total_tweets = len(json_list)\n",
        "print(total_tweets)"
      ],
      "metadata": {
        "id": "YtKlalRbvAFz",
        "colab": {
          "base_uri": "https://localhost:8080/"
        },
        "outputId": "78938b9a-0b3c-4ffc-e22e-cda8fcb51023"
      },
      "execution_count": null,
      "outputs": [
        {
          "output_type": "stream",
          "name": "stdout",
          "text": [
            "10526\n"
          ]
        }
      ]
    },
    {
      "cell_type": "code",
      "source": [
        "# output the top 10 grid boxes\n",
        "top10_areas"
      ],
      "metadata": {
        "colab": {
          "base_uri": "https://localhost:8080/"
        },
        "id": "1c7lFl2BvCrN",
        "outputId": "85e3eeaa-bc25-44fa-e10d-e087889cb095"
      },
      "execution_count": null,
      "outputs": [
        {
          "output_type": "execute_result",
          "data": {
            "text/plain": [
              "{(19, 31): 3605,\n",
              " (19, 30): 981,\n",
              " (19, 29): 564,\n",
              " (23, 33): 479,\n",
              " (19, 32): 401,\n",
              " (20, 30): 186,\n",
              " (19, 28): 168,\n",
              " (21, 34): 150,\n",
              " (18, 30): 135,\n",
              " (18, 28): 128}"
            ]
          },
          "metadata": {},
          "execution_count": 11
        }
      ]
    },
    {
      "cell_type": "markdown",
      "source": [
        "We can see here that there are a total of 10526 tweets in the dataset and 3605 of them are from the (19, 31) box."
      ],
      "metadata": {
        "id": "2F35FZVnj17M"
      }
    },
    {
      "cell_type": "markdown",
      "source": [
        "Let's also look a little bit at the distribution. For instance, how many tweets are within 3 boxes of the hottest box (19, 31)?"
      ],
      "metadata": {
        "id": "qvA1Hmr7vEou"
      }
    },
    {
      "cell_type": "code",
      "source": [
        "# calculate the number of tweets in the center of london \n",
        "# (between box 17-23 height-wise, between box 28-34 width-wise)\n",
        "tweets_in_center = 0\n",
        "for i in range(16,23):\n",
        "    for j in range(28,35):\n",
        "        tweets_in_center += grid_sizes.get((i,j))\n",
        "\n",
        "print(tweets_in_center)\n",
        "print(tweets_in_center/total_tweets)"
      ],
      "metadata": {
        "colab": {
          "base_uri": "https://localhost:8080/"
        },
        "id": "EvNuNjS0vT5h",
        "outputId": "9f901e34-8682-46f6-cecb-7204a6d1fd4e"
      },
      "execution_count": null,
      "outputs": [
        {
          "output_type": "stream",
          "name": "stdout",
          "text": [
            "7984\n",
            "0.7585027550826525\n"
          ]
        }
      ]
    },
    {
      "cell_type": "markdown",
      "source": [
        "We see here that 7984 tweets are within 3 boxes of the most popular boxes. That is 75.9% of all of the tweets in the dataset."
      ],
      "metadata": {
        "id": "Y-zE8mqfvWlV"
      }
    },
    {
      "cell_type": "markdown",
      "source": [
        "Let's find a little more information about distribution. Read the comments below to see what the following code does."
      ],
      "metadata": {
        "id": "lBN3bBsVvgxq"
      }
    },
    {
      "cell_type": "code",
      "source": [
        "# Obtain distribution centered around the hottest grid box (19,31)\n",
        "# The distribution will be in rings\n",
        "#   1. The first ring is the hottest grid box (19,31)\n",
        "#   2. The second ring includes grid boxes within 1 row or 1 column of (19,31)\n",
        "#       ex. (18, 30)  (18, 31)  (18, 32)\n",
        "#           (19, 30)            (19, 32)\n",
        "#           (20, 30)  (20, 31)  (20, 32)\n",
        "#       Note: Ring 2 does not include (19,31)\n",
        "#   3. The third ring follows the same pattern and so on...\n",
        "#   Note: Rings 20-31 only expand column wise since the bounding box of London\n",
        "#         is wider than it is tall.\n",
        "\n",
        "# dictionary to hold the ring counts\n",
        "distribution = {}\n",
        "# intiialize the rings of the distribution\n",
        "for i in range(32):\n",
        "    distribution[i] = 0\n",
        "\n",
        "center_h = 19\n",
        "center_w = 31\n",
        "for tweet in json_list:\n",
        "    # calculate the ring which the tweet is located in\n",
        "    ring = max(abs(tweet['grid_box'][0]-center_h),abs(tweet['grid_box'][1]-center_w))\n",
        "    # increment that ring in the dictionary\n",
        "    distribution[ring] += 1"
      ],
      "metadata": {
        "id": "Fgeh8fWJveXh"
      },
      "execution_count": null,
      "outputs": []
    },
    {
      "cell_type": "code",
      "source": [
        "distribution"
      ],
      "metadata": {
        "id": "iZgx_lGtvu3I",
        "colab": {
          "base_uri": "https://localhost:8080/"
        },
        "outputId": "916f79b2-e862-456c-91bc-e9fc31a94534"
      },
      "execution_count": null,
      "outputs": [
        {
          "output_type": "execute_result",
          "data": {
            "text/plain": [
              "{0: 3605,\n",
              " 1: 2025,\n",
              " 2: 1448,\n",
              " 3: 906,\n",
              " 4: 911,\n",
              " 5: 539,\n",
              " 6: 289,\n",
              " 7: 198,\n",
              " 8: 237,\n",
              " 9: 105,\n",
              " 10: 71,\n",
              " 11: 19,\n",
              " 12: 28,\n",
              " 13: 59,\n",
              " 14: 12,\n",
              " 15: 49,\n",
              " 16: 25,\n",
              " 17: 0,\n",
              " 18: 0,\n",
              " 19: 0,\n",
              " 20: 0,\n",
              " 21: 0,\n",
              " 22: 0,\n",
              " 23: 0,\n",
              " 24: 0,\n",
              " 25: 0,\n",
              " 26: 0,\n",
              " 27: 0,\n",
              " 28: 0,\n",
              " 29: 0,\n",
              " 30: 0,\n",
              " 31: 0}"
            ]
          },
          "metadata": {},
          "execution_count": 14
        }
      ]
    },
    {
      "cell_type": "markdown",
      "source": [
        "We can learn a lot from this distribution. For instance, not a single tweet in the dataset is from beyond the 17th ring. Additionally, 89.6% of the data is within 5 grid boxes of (19, 31)."
      ],
      "metadata": {
        "id": "LLIA6xRBvxzC"
      }
    },
    {
      "cell_type": "markdown",
      "source": [
        "## Data Visualization"
      ],
      "metadata": {
        "id": "RW2NOAUmv5VD"
      }
    },
    {
      "cell_type": "markdown",
      "source": [
        "#### Creating a Heat Map"
      ],
      "metadata": {
        "id": "wWYNW5hI5O9G"
      }
    },
    {
      "cell_type": "markdown",
      "source": [
        "To get a good feel for the distribution of the data, let's create some visualizations. We'll create a heatmap and a bar graph."
      ],
      "metadata": {
        "id": "-N9T2dBCv8H6"
      }
    },
    {
      "cell_type": "markdown",
      "source": [
        "Before we create a heatmap, we need to make sure the data is formatted correctly."
      ],
      "metadata": {
        "id": "1kmvDzXqwY5_"
      }
    },
    {
      "cell_type": "code",
      "source": [
        "import pandas as pd\n",
        "# create empty dataframe with columns row, col, and value\n",
        "tweets_df = pd.DataFrame(columns=[\"Row\", \"Col\", \"Value\"])\n",
        "\n",
        "# iterate through grid_sizes, filling dataframe\n",
        "for tweet in grid_sizes:\n",
        "  new_row = {\"Row\":int(tweet[0]), \"Col\":int(tweet[1]), \"Value\":int(grid_sizes[tweet])}\n",
        "  tweets_df = tweets_df.append(new_row, ignore_index=True)\n",
        "\n",
        "# pivot the dataframe so it is the correct format for heatmap\n",
        "tweets_df = tweets_df.astype(float)\n",
        "tweets_df_pivoted = tweets_df.pivot('Row', 'Col', 'Value')"
      ],
      "metadata": {
        "id": "OXljz3wTwcsO"
      },
      "execution_count": null,
      "outputs": []
    },
    {
      "cell_type": "markdown",
      "source": [
        "Now, let's make the heat map."
      ],
      "metadata": {
        "id": "YiPahXZH2jwb"
      }
    },
    {
      "cell_type": "code",
      "source": [
        "import seaborn as sns\n",
        "import matplotlib.pyplot as plt\n",
        "\n",
        "# create seaborn heatmap\n",
        "sns.heatmap(tweets_df_pivoted, cmap=\"crest\")\n",
        "plt.ylabel(\"Row Index\")\n",
        "plt.xlabel(\"Column Index\")\n",
        "plt.title(\"Distribution of London Tweets Heatmap\")\n",
        "plt.savefig('londontweetsheatmap.png', bbox_inches='tight')\n",
        "plt.show()"
      ],
      "metadata": {
        "colab": {
          "base_uri": "https://localhost:8080/",
          "height": 308
        },
        "id": "Q1Jum_mVv7h6",
        "outputId": "a7bc8b38-9eca-470a-fcd6-21c212573a8f"
      },
      "execution_count": null,
      "outputs": [
        {
          "output_type": "display_data",
          "data": {
            "text/plain": [
              "<Figure size 432x288 with 2 Axes>"
            ],
            "image/png": "[encoded data removed]"
          },
          "metadata": {
            "needs_background": "light"
          }
        }
      ]
    },
    {
      "cell_type": "markdown",
      "source": [
        "As you can see, there's not much going on other than right in the center, so let's make a zoomed in heat map on that center to get a better picture."
      ],
      "metadata": {
        "id": "4sJp-uAj2lqJ"
      }
    },
    {
      "cell_type": "markdown",
      "source": [
        "Let's subset the tweets dataframe."
      ],
      "metadata": {
        "id": "j7__mUP927Wk"
      }
    },
    {
      "cell_type": "code",
      "source": [
        "# we will subset the dataframe to only tweets within 10 grid boxes of the hottest box (19, 31)\n",
        "tweets_df_subset = tweets_df[(tweets_df[\"Col\"] < 41) & (tweets_df[\"Col\"] > 21) & (tweets_df[\"Row\"] < 29) & (tweets_df[\"Row\"] > 9)]\n",
        "tweets_df_subset_pivoted = tweets_df_subset.pivot('Row', 'Col', 'Value')"
      ],
      "metadata": {
        "id": "MFmoIAKe26w9"
      },
      "execution_count": null,
      "outputs": []
    },
    {
      "cell_type": "code",
      "source": [
        "sns.heatmap(tweets_df_subset_pivoted, cmap=\"crest\")\n",
        "plt.ylabel(\"Row Index\")\n",
        "plt.xlabel(\"Column Index\")\n",
        "plt.title(\"Zoomed In Distrib. of London Tweets Heatmap\")\n",
        "plt.savefig('zommedlondontweetsheatmap.png', bbox_inches='tight')\n",
        "plt.show()"
      ],
      "metadata": {
        "colab": {
          "base_uri": "https://localhost:8080/",
          "height": 308
        },
        "id": "JGD7XdVZ2tO_",
        "outputId": "04cbd3c5-37d0-4c46-867e-59bce54ff4b1"
      },
      "execution_count": null,
      "outputs": [
        {
          "output_type": "display_data",
          "data": {
            "text/plain": [
              "<Figure size 432x288 with 2 Axes>"
            ],
            "image/png": "[encoded data removed]"
          },
          "metadata": {
            "needs_background": "light"
          }
        }
      ]
    },
    {
      "cell_type": "markdown",
      "source": [
        "### Looking into the [-0.1094, 51.5141] Coordinate"
      ],
      "metadata": {
        "id": "y9g6ilxDeuLR"
      }
    },
    {
      "cell_type": "markdown",
      "source": [
        "As we can see from the heatmap, a very large number of tweets are from that center box and not many are from any other boxes. So why are so many tweets from this box? Many of the tweets have the coordinate [-0.1094, 51.5141]. But how many is many?"
      ],
      "metadata": {
        "id": "29CB5GbK2BEc"
      }
    },
    {
      "cell_type": "code",
      "source": [
        "count_of_coord = 0\n",
        "count_of_insta = 0\n",
        "# iterate through the tweets in the (19, 31) box\n",
        "for tweet in grid_boxes[(19,31)]:\n",
        "  # if the tweet is at the specific coordinates, increment count\n",
        "  if tweet['coordinates'] == [-0.1094, 51.5141]:\n",
        "    count_of_coord += 1\n",
        "    # if the tweet is at those coords and from instagram, increment count\n",
        "    if tweet['source'] == 'Instagram':\n",
        "      count_of_insta += 1\n",
        "\n",
        "print(\"Tweets in (19, 31) at [-0.1094, 51.5141]: \" + str(count_of_coord))\n",
        "print(\"Proportion of (19, 31) tweets at [-0.1094, 51.5141]: \" + str(round(count_of_coord/(grid_sizes[(19,31)]), 2)))\n",
        "\n",
        "print(\"Tweets from Instagram at [-0.1094, 51.5141]: \" + str(count_of_insta))"
      ],
      "metadata": {
        "id": "fcQ0eVvn1g9w",
        "colab": {
          "base_uri": "https://localhost:8080/"
        },
        "outputId": "3ac6dad4-197e-4e60-9610-19d35e1e0239"
      },
      "execution_count": null,
      "outputs": [
        {
          "output_type": "stream",
          "name": "stdout",
          "text": [
            "Tweets in (19, 31) at [-0.1094, 51.5141]: 3527\n",
            "Proportion of (19, 31) tweets at [-0.1094, 51.5141]: 0.98\n",
            "Tweets from Instagram at [-0.1094, 51.5141]: 3527\n"
          ]
        }
      ]
    },
    {
      "cell_type": "markdown",
      "source": [
        "For some reason, nearly all of the tweets are from that exact coordinate. This might have something to do with the source they all come from though, Instagram."
      ],
      "metadata": {
        "id": "PaVNRuAgkpnT"
      }
    },
    {
      "cell_type": "markdown",
      "source": [
        "Noting that the sources from (19, 31) are mostly from Instagram, let's look at the sources for all of the tweets across the entire dataset."
      ],
      "metadata": {
        "id": "WRPosZrr0Xzf"
      }
    },
    {
      "cell_type": "code",
      "source": [
        "client_apps = []\n",
        "for tweet in json_list:\n",
        "  # add to the source of the tweet to the client app list\n",
        "  client_apps.append(tweet['source'])\n",
        "\n",
        "Counter(client_apps)"
      ],
      "metadata": {
        "colab": {
          "base_uri": "https://localhost:8080/"
        },
        "id": "534QCTSB0a70",
        "outputId": "b02b4404-31fe-4868-ef3e-d325c91208b7"
      },
      "execution_count": null,
      "outputs": [
        {
          "output_type": "execute_result",
          "data": {
            "text/plain": [
              "Counter({'Instagram': 8019,\n",
              "         'everybot': 309,\n",
              "         'Untappd': 157,\n",
              "         'Foursquare': 400,\n",
              "         'CareerArc 2.0': 1083,\n",
              "         'Foursquare Swarm': 176,\n",
              "         'Hootsuite Inc.': 17,\n",
              "         'dlvr.it': 251,\n",
              "         'Squarespace': 47,\n",
              "         'Landmark Manager Web': 2,\n",
              "         'World Flags': 3,\n",
              "         'FL': 6,\n",
              "         'Wikishire': 8,\n",
              "         'Leading Restaurants': 2,\n",
              "         'Estate Agent Feeds': 3,\n",
              "         'Tweetbot for iΟS': 5,\n",
              "         '#Träwelling': 3,\n",
              "         'BLUF.com': 2,\n",
              "         'citydescriber': 2,\n",
              "         'Hackney-a-la-mode': 5,\n",
              "         'Good Stuff Tweeter': 1,\n",
              "         'I Heart Locations': 4,\n",
              "         \"edent's Tweeting Robot\": 3,\n",
              "         'LuxuryRealEstate.com': 1,\n",
              "         'TweetCaster for Android': 3,\n",
              "         'trendsmetadata': 3,\n",
              "         'Liveuamap': 1,\n",
              "         'Brooklyn à la mode': 3,\n",
              "         'narrowbotR': 1,\n",
              "         'Twitter for iPhone': 1,\n",
              "         'trainlogger': 4,\n",
              "         'Fenix 2': 1})"
            ]
          },
          "metadata": {},
          "execution_count": 55
        }
      ]
    },
    {
      "cell_type": "markdown",
      "source": [
        "We can see here that the sources from the dataset are basically never Twitter. The vast majority of tweets are from Instagram, some are also from CareerArc2.0. Only one tweet is from Twitter for iPhone."
      ],
      "metadata": {
        "id": "PVmFVd29fiWA"
      }
    },
    {
      "cell_type": "markdown",
      "source": [
        "### Creating a Histogram"
      ],
      "metadata": {
        "id": "6NHmS6WR5TH6"
      }
    },
    {
      "cell_type": "markdown",
      "source": [
        "Now let's create a histogram which plots the number of grids by number of tweets. In other words, how many grid boxes of each size?"
      ],
      "metadata": {
        "id": "_n0ZR3jn5VzG"
      }
    },
    {
      "cell_type": "markdown",
      "source": [
        "Let's turn the grid totals into a list."
      ],
      "metadata": {
        "id": "qH8JfEv_6HC4"
      }
    },
    {
      "cell_type": "code",
      "source": [
        "grid_totals_list = tweets_df['Value'].tolist()"
      ],
      "metadata": {
        "id": "-v-tPr5Z5VcN"
      },
      "execution_count": null,
      "outputs": []
    },
    {
      "cell_type": "markdown",
      "source": [
        "And now let's plot that list as a histogram."
      ],
      "metadata": {
        "id": "wRqCp2pa6Roq"
      }
    },
    {
      "cell_type": "code",
      "source": [
        "plt.hist(grid_totals_list, bins=100)\n",
        "plt.ylabel(\"Number of Grid Boxes\")\n",
        "plt.xlabel(\"Number of Tweets\")\n",
        "plt.title(\"Distribution of London Tweets Histogram\")\n",
        "plt.show()"
      ],
      "metadata": {
        "colab": {
          "base_uri": "https://localhost:8080/",
          "height": 295
        },
        "id": "Jn3ppIE56wef",
        "outputId": "e7135e37-6169-43b9-9f66-953b05b96565"
      },
      "execution_count": null,
      "outputs": [
        {
          "output_type": "display_data",
          "data": {
            "text/plain": [
              "<Figure size 432x288 with 1 Axes>"
            ],
            "image/png": "[encoded data removed]"
          },
          "metadata": {
            "needs_background": "light"
          }
        }
      ]
    },
    {
      "cell_type": "markdown",
      "source": [
        "It's kind of hard to interpret the first graph so let's use a logarithmic y-axis."
      ],
      "metadata": {
        "id": "yDfmslbj6y--"
      }
    },
    {
      "cell_type": "code",
      "source": [
        "plt.hist(grid_totals_list, bins=100, log=True)\n",
        "plt.ylabel(\"Number of Grid Boxes\")\n",
        "plt.xlabel(\"Number of Tweets\")\n",
        "plt.title(\"Distribution of London Tweets Histogram (Log Y-Axis)\")\n",
        "plt.savefig('distlondontweetslog.png')\n",
        "plt.show()"
      ],
      "metadata": {
        "colab": {
          "base_uri": "https://localhost:8080/",
          "height": 295
        },
        "id": "rLA2Efme6UDe",
        "outputId": "2c7b0119-1ecf-4ca9-9dbe-cb62d82db0b7"
      },
      "execution_count": null,
      "outputs": [
        {
          "output_type": "display_data",
          "data": {
            "text/plain": [
              "<Figure size 432x288 with 1 Axes>"
            ],
            "image/png": "[encoded data removed]"
          },
          "metadata": {
            "needs_background": "light"
          }
        }
      ]
    },
    {
      "cell_type": "markdown",
      "source": [
        "As we can see from this figure, a very large number of grid boxes have 0 tweets in them. Then there is the (19, 31) box which has over 3500. The data is not very spread out."
      ],
      "metadata": {
        "id": "YAZK8snjfTCg"
      }
    }
  ]
}