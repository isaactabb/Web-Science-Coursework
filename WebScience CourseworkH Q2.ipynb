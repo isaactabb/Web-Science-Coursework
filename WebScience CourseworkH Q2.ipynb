{
  "nbformat": 4,
  "nbformat_minor": 0,
  "metadata": {
    "colab": {
      "provenance": []
    },
    "kernelspec": {
      "name": "python3",
      "display_name": "Python 3"
    },
    "language_info": {
      "name": "python"
    }
  },
  "cells": [
    {
      "cell_type": "markdown",
      "source": [
        "# Web Science CW Q2\n",
        "### Isaac Tabb"
      ],
      "metadata": {
        "id": "kUj8aBOqex63"
      }
    },
    {
      "cell_type": "markdown",
      "source": [
        "#### STEP 0: Loading the json files"
      ],
      "metadata": {
        "id": "FWGjVhUae2eW"
      }
    },
    {
      "cell_type": "markdown",
      "source": [
        "First, load in the background file."
      ],
      "metadata": {
        "id": "vw0hbHRLfZTJ"
      }
    },
    {
      "cell_type": "code",
      "execution_count": null,
      "metadata": {
        "id": "713DAzZFdD20"
      },
      "outputs": [],
      "source": [
        "# import json\n",
        "import json\n",
        "\n",
        "# create a list to hold all of the json objects\n",
        "bg_json = []\n",
        "# open the file\n",
        "with open('bgQuality.json') as f:\n",
        "    # iterate through each line in the file\n",
        "    for line in f:\n",
        "        # load an append to list\n",
        "        dct = json.loads(line)\n",
        "        bg_json.append(dct)"
      ]
    },
    {
      "cell_type": "markdown",
      "source": [
        "Let's take a look at the contents of the background json loads. Additionally, we will print the number of json's in the background model."
      ],
      "metadata": {
        "id": "yTvJvpKgWCTl"
      }
    },
    {
      "cell_type": "code",
      "source": [
        "print(bg_json[0])\n",
        "print(len(bg_json))"
      ],
      "metadata": {
        "colab": {
          "base_uri": "https://localhost:8080/"
        },
        "id": "DplwCh6Pf8OZ",
        "outputId": "bcc68b41-a7f4-4c90-8fcf-f54b6b5188aa"
      },
      "execution_count": null,
      "outputs": [
        {
          "output_type": "stream",
          "name": "stdout",
          "text": [
            "{'_id': '1613006911946776576', 'text': ['confidence', 'dont', 'fix', 'lost', 'need', 'negative', 'playing', 'right', 'support', 'well'], 'score': 0.6367300158372926}\n",
            "2239\n"
          ]
        }
      ]
    },
    {
      "cell_type": "markdown",
      "source": [
        "Second, load in the high quality file."
      ],
      "metadata": {
        "id": "xL-5xSvMfqF1"
      }
    },
    {
      "cell_type": "code",
      "source": [
        "# create a list to hold all of the json objects\n",
        "hq_json = []\n",
        "# open the file\n",
        "with open('highQuality.json') as f:\n",
        "    # iterate through each line in the file\n",
        "    for line in f:\n",
        "        # load an append to list\n",
        "        dct = json.loads(line)\n",
        "        hq_json.append(dct)"
      ],
      "metadata": {
        "id": "5mvgoBFCfsTx"
      },
      "execution_count": null,
      "outputs": []
    },
    {
      "cell_type": "markdown",
      "source": [
        "Again, let's check the contents and length."
      ],
      "metadata": {
        "id": "JoVutpzRWTZf"
      }
    },
    {
      "cell_type": "code",
      "source": [
        "print(hq_json[0])\n",
        "print(len(hq_json))"
      ],
      "metadata": {
        "colab": {
          "base_uri": "https://localhost:8080/"
        },
        "id": "BUaEXoy7gAzY",
        "outputId": "4a1e8b16-9196-4c7c-b46b-f2f50d6a4416"
      },
      "execution_count": null,
      "outputs": [
        {
          "output_type": "stream",
          "name": "stdout",
          "text": [
            "{'_id': {'$oid': '623cb1491fdfc2cfea3b85c4'}, 'username': 'miguel_zavalaa', 'description': '•Mind with no sense in it•   •Stay away from me ‘cause I’m dancing to quite a different drumbeat•', 'qualityS': 0.6081996434937612, 'text': 'Turisteando (@ Piccadilly Circus in London, Greater London) https://t.co/ear25pmZNc https://t.co/528VOdxIeF'}\n",
            "2501\n"
          ]
        }
      ]
    },
    {
      "cell_type": "markdown",
      "source": [
        "Finally, load in the low quality file."
      ],
      "metadata": {
        "id": "rL5GTjRAfxxC"
      }
    },
    {
      "cell_type": "code",
      "source": [
        "# create a list to hold all of the json objects\n",
        "lq_json = []\n",
        "# open the file\n",
        "with open('lowQuality.json') as f:\n",
        "    # iterate through each line in the file\n",
        "    for line in f:\n",
        "        # load an append to list\n",
        "        dct = json.loads(line)\n",
        "        lq_json.append(dct)"
      ],
      "metadata": {
        "id": "E-UnRPxuf2ps"
      },
      "execution_count": null,
      "outputs": []
    },
    {
      "cell_type": "markdown",
      "source": [
        "And the contents and length."
      ],
      "metadata": {
        "id": "4As0-jPdWYwX"
      }
    },
    {
      "cell_type": "code",
      "source": [
        "print(lq_json[0])\n",
        "print(len(lq_json))"
      ],
      "metadata": {
        "colab": {
          "base_uri": "https://localhost:8080/"
        },
        "id": "tqciuUtlgDqV",
        "outputId": "e4fcdef2-56b9-4815-8c24-1681609402b0"
      },
      "execution_count": null,
      "outputs": [
        {
          "output_type": "stream",
          "name": "stdout",
          "text": [
            "{'_id': {'$oid': '623dbef7462d56a90e36b221'}, 'username': 'tobythereactive', 'description': \"IG: The_Champagne_Shepherd Model ☀ Influencer ☀ Don't like people\", 'qualityS': 0.4662280701754386, 'text': 'Just posted a photo @ London, United Kingdom https://t.co/YZWvowLCj2'}\n",
            "1527\n"
          ]
        }
      ]
    },
    {
      "cell_type": "markdown",
      "source": [
        "## Split the Datasets into Train/Validation\n",
        "We will use the validation set for data analysis."
      ],
      "metadata": {
        "id": "cMlK3wQnBfR7"
      }
    },
    {
      "cell_type": "code",
      "source": [
        "import random\n",
        "\n",
        "# set a random seed so split is always the same\n",
        "random.seed('websci')\n",
        "\n",
        "# split into 80 / 20\n",
        "random.shuffle(hq_json)\n",
        "hq_json_valid = hq_json[:500]\n",
        "hq_json = hq_json[500:]\n",
        "\n",
        "# split into 80 / 20\n",
        "random.shuffle(lq_json)\n",
        "lq_json_valid = lq_json[:305]\n",
        "lq_json = lq_json[305:]\n"
      ],
      "metadata": {
        "id": "Eo2HAMZMBmid"
      },
      "execution_count": null,
      "outputs": []
    },
    {
      "cell_type": "markdown",
      "source": [
        "## Counting Tf's in the Background Model"
      ],
      "metadata": {
        "id": "MRTBSc_TiYWS"
      }
    },
    {
      "cell_type": "markdown",
      "source": [
        "We will weight all of the term frequencies in the BG model by their quality score."
      ],
      "metadata": {
        "id": "7DZQU39VyjuF"
      }
    },
    {
      "cell_type": "code",
      "source": [
        "# will hold dictionary of term frequencies in background collection\n",
        "bg_json_tf = {}\n",
        "# will hold total term frequency\n",
        "bg_total_terms = 0\n",
        "# iterate through background tweets\n",
        "for tweet in bg_json:\n",
        "  # count term frequencies in tweet\n",
        "  counts = Counter(tweet['text'])\n",
        "  # iterate thru term frequencies\n",
        "  for key, item in counts.items():\n",
        "    # if key is already in term freq dictionary, increment\n",
        "    if key in bg_json_tf:\n",
        "      # weight BG items by their quality score\n",
        "      # NOTE: HQ/LQ terms are weighted by the qualityScore of the tweet they appear in (see HQ/LQ TF counting for expl.)\n",
        "      bg_json_tf[key] += (item * tweet['score'])\n",
        "      # increment total terms\n",
        "      bg_total_terms += (item * tweet['score'])\n",
        "    # else, make new key\n",
        "    else:\n",
        "      # +0.5 is added for smoothing purposes\n",
        "      bg_json_tf[key] = (item * tweet['score']) + 0.5\n",
        "      bg_total_terms += (item * tweet['score']) + 0.5"
      ],
      "metadata": {
        "id": "dS1XdXkTieui"
      },
      "execution_count": null,
      "outputs": []
    },
    {
      "cell_type": "markdown",
      "source": [
        "## Counting Tf's in the High Quality Model"
      ],
      "metadata": {
        "id": "YTNUlSqMkBnE"
      }
    },
    {
      "cell_type": "markdown",
      "source": [
        "Since we have both descriptions and tweet texts, we will use both!"
      ],
      "metadata": {
        "id": "75TMAulDk9dh"
      }
    },
    {
      "cell_type": "markdown",
      "source": [
        "Let's import Spacy."
      ],
      "metadata": {
        "id": "aHHLWGTrll0A"
      }
    },
    {
      "cell_type": "code",
      "source": [
        "import spacy\n",
        "nlp = spacy.load(\"en_core_web_sm\")"
      ],
      "metadata": {
        "id": "M7YTOJ8PkL2P"
      },
      "execution_count": null,
      "outputs": []
    },
    {
      "cell_type": "markdown",
      "source": [
        "And create a spacy tokenization function."
      ],
      "metadata": {
        "id": "VbJ8pE_Rl7C0"
      }
    },
    {
      "cell_type": "code",
      "source": [
        "def spacy_tokenization(tweet):\n",
        "    tokens = []\n",
        "    twt = nlp(tweet)\n",
        "    # applies spacy to get rid of spaces, punctuation, stopwords\n",
        "    for c in twt:\n",
        "        if (not c.is_stop) and (not c.is_punct) and (not c.is_space):\n",
        "            # lemmatize and convert to lowercase\n",
        "            tokens.append(c.lemma_.lower())\n",
        "\n",
        "    # spacy does not recognize the '•' character which appears in some tweets\n",
        "    # this removes that character\n",
        "    for token in range(len(tokens)):\n",
        "      if '•' in tokens[token]:\n",
        "        new_token = ''\n",
        "        for c in tokens[token]:\n",
        "          if c != '•':\n",
        "            new_token += c\n",
        "   \n",
        "    # return the token list\n",
        "    return tokens"
      ],
      "metadata": {
        "id": "ydCQJWDElpQM"
      },
      "execution_count": null,
      "outputs": []
    },
    {
      "cell_type": "markdown",
      "source": [
        "For each tweet in the dataset, we will tokenize both the tweet text and the description. We will combine these sets together."
      ],
      "metadata": {
        "id": "NnhAOcz-mBNA"
      }
    },
    {
      "cell_type": "code",
      "source": [
        "# this will give us a progress bar\n",
        "from tqdm import tqdm \n",
        "\n",
        "for tweet in tqdm(hq_json):\n",
        "    # tokenize the tweet text\n",
        "    tweet['tokens'] = spacy_tokenization(tweet['text'])\n",
        "    # tokenize the description as well\n",
        "    tweet['tokens'].extend(spacy_tokenization(tweet['description'])) \n",
        "\n",
        "    # the following code gets rid of links and non-alphabet terms\n",
        "    token = 0\n",
        "    while token < len(tweet['tokens']):\n",
        "      if tweet['tokens'][token].isalpha() == False:\n",
        "          del tweet['tokens'][token]\n",
        "      else:\n",
        "        token += 1"
      ],
      "metadata": {
        "id": "ixxggC2wmNIU",
        "colab": {
          "base_uri": "https://localhost:8080/"
        },
        "outputId": "293f70eb-1952-479e-e817-8f012e28b452"
      },
      "execution_count": null,
      "outputs": [
        {
          "output_type": "stream",
          "name": "stderr",
          "text": [
            "100%|██████████| 2001/2001 [00:46<00:00, 43.37it/s]\n"
          ]
        }
      ]
    },
    {
      "cell_type": "markdown",
      "source": [
        "Now let's count the frequencies in the high quality dataset. Terms will be weighted by the quality score of the tweet they appear in. For instance, if term t appears once in a HQ tweet that has a quality score of 0.6, the term frequency for that term will gain 0.6. If term t appears once in a HQ tweet that is of higher quality, say 0.9, the term frequency for that term will gain 0.9. This makes it so that terms that are in the highest quality tweets are given more weight."
      ],
      "metadata": {
        "id": "0qyQIbbkqpnQ"
      }
    },
    {
      "cell_type": "code",
      "source": [
        "from collections import Counter\n",
        "# import nltk stopwords\n",
        "import nltk\n",
        "from nltk.corpus import stopwords\n",
        "nltk.download('stopwords')\n",
        "stops = set(stopwords.words('english')) # holds the english stopwords set\n",
        "\n",
        "# will hold dictionary of term frequencies in high quality collection\n",
        "hq_json_tf = {}\n",
        "# will hold total term frequency\n",
        "hq_total_terms = 0\n",
        "# iterate through high quality tweets\n",
        "for tweet in hq_json:\n",
        "  # count term frequencies in tweet\n",
        "  counts = Counter(tweet['tokens'])\n",
        "  # iterate thru term frequencies\n",
        "  for key, item in counts.items():\n",
        "    # due to punctuation that spacy doesn't understand\n",
        "    # some stopwords remain, this causes them not to be added to the dict\n",
        "    if key in stops:\n",
        "      pass\n",
        "    # if key is already in term freq dictionary, increment\n",
        "    elif key in hq_json_tf:\n",
        "      # terms are weighted by the tweet's quality score\n",
        "      hq_json_tf[key] += (item * tweet['qualityS'])\n",
        "      # increment total terms\n",
        "      hq_total_terms += (item * tweet['qualityS'])\n",
        "    # else, make new key\n",
        "    else:\n",
        "      # +0.5 is for smoothing\n",
        "      hq_json_tf[key] = (item * tweet['qualityS']) + 0.5\n",
        "      hq_total_terms += (item * tweet['qualityS']) + 0.5\n"
      ],
      "metadata": {
        "id": "572CBUGvqpZV",
        "colab": {
          "base_uri": "https://localhost:8080/"
        },
        "outputId": "a2a219e9-c247-4809-d8eb-2aebd2f7672a"
      },
      "execution_count": null,
      "outputs": [
        {
          "output_type": "stream",
          "name": "stderr",
          "text": [
            "[nltk_data] Downloading package stopwords to /root/nltk_data...\n",
            "[nltk_data]   Package stopwords is already up-to-date!\n"
          ]
        }
      ]
    },
    {
      "cell_type": "code",
      "source": [
        "print(hq_total_terms)\n",
        "print(hq_json_tf)"
      ],
      "metadata": {
        "id": "s-1_ZlSIq1Da",
        "colab": {
          "base_uri": "https://localhost:8080/"
        },
        "outputId": "042280ab-1a1d-4462-fded-6f9c5e0efc58"
      },
      "execution_count": null,
      "outputs": [
        {
          "output_type": "stream",
          "name": "stdout",
          "text": [
            "27255.660099283734\n",
            "{'london': 969.7472453431797, 'united': 338.2533745177636, 'kingdom': 364.17796209578455, 'previous': 3.5429534313725495, 'owner': 24.386555349606805, 'clerkenwell': 19.23446481853612, 'chancery': 4.757574643493761, 'gm': 3.5429534313725495, 'soho': 18.1928235329806, 'house': 32.08816394099623, 'f': 9.018573529411764, 'b': 11.560489616225091, 'moss': 3.5429534313725495, 'moor': 5.369666471239659, 'ilkley': 3.5429534313725495, 'director': 30.52926841357255, 'crimple': 3.5429534313725495, 'harrogate': 3.5429534313725495, 'boopable': 1.109087837837838, 'snoot': 1.109087837837838, 'cria': 2.9370816112214166, 'babyalpaca': 2.3276920492456474, 'alpaca': 2.3276920492456474, 'boopthesnoot': 1.109087837837838, 'farm': 4.155384098491295, 'farmlife': 2.3276920492456474, 'vauxhall': 4.155399744625757, 'city': 23.928259637574254, 'main': 4.154274217077815, 'goal': 10.323002473340525, 'life': 48.90364404630752, 'pet': 4.9279595192774925, 'animal': 7.804210403128618, 'train': 5.376849051256304, 'half': 10.460705809696206, 'marathon': 3.599908825063165, 'zombie': 6.587153150891597, 'apocalypse': 2.3276920492456474, 'new': 109.73919693062281, 'blog': 27.11537851971627, 'post': 137.54924681409244, 'recent': 1.1649424446395473, 'volunteer': 6.048172138980381, 'yasmin': 1.7733136567607595, 'smith': 1.1649424446395473, 'reflect': 3.158048025333363, 'impact': 3.587471849154665, 'classification': 1.1649424446395473, 'disengagement': 1.1649424446395473, 'heritage': 3.1017105960787514, 'mean': 5.473988252598399, 'forefront': 1.1649424446395473, 'decolonise': 1.1649424446395473, 'information': 4.814025508882819, 'stuart': 1.1649424446395473, 'hall': 6.9199718557451675, 'library': 4.233599223692381, 'read': 8.619218108586882, 'iniva': 1.1649424446395473, 'evolving': 1.1649424446395473, 'radical': 1.1649424446395473, 'visual': 3.5993910063573145, 'art': 28.25864833889966, 'organisation': 1.1649424446395473, 'base': 32.11601058713161, 'pimlico': 1.774332006615316, 'home': 26.42027360669083, 'stuarthalllibrary': 1.1649424446395473, 'hideaway': 1.1630376909065432, 'england': 56.26832698311234, 'أستاذة': 1.1630376909065432, 'أدب': 1.1630376909065432, 'انجليزي': 1.1630376909065432, 'ولغة': 1.1630376909065432, 'اتحدث': 1.1630376909065432, 'الفرنسية': 1.1630376909065432, 'باحثة': 1.1630376909065432, 'في': 1.1630376909065432, 'الثقافات': 1.1630376909065432, 'والأديان': 1.1630376909065432, 'مدربة': 1.1630376909065432, 'معتمدة': 1.1630376909065432, 'باللغتين': 1.1630376909065432, 'لي': 1.1630376909065432, 'كتابات': 1.1630376909065432, 'أدبية': 1.1630376909065432, 'ومدونات': 1.1630376909065432, 'مغرمة': 1.1630376909065432, 'تقنية': 1.1630376909065432, 'وسفر': 1.1630376909065432, 'snap': 1.77220435757321, 'ladymais': 1.1630376909065432, 'bridge': 19.535187056581076, 'steel': 1.8000195460268054, 'granite': 1.1093895619757688, 'deck': 1.1093895619757688, 'arch': 4.900442235846279, 'road': 17.66387402418487, 'cross': 7.545894168008592, 'river': 5.988950200277231, 'thames': 4.8363770313758705, 'south': 18.363883429754605, 'east': 11.112915924471906, 'north': 9.022627191498568, 'west': 17.96354913317099, 'direction': 1.1093895619757688, 'surrey': 3.7073491336998754, 'bank': 7.869618245035773, 'middlesex': 5.974129195149613, 'wikishire': 1.7185452292709709, 'find': 23.716936816416922, 'good': 87.62176576904506, 'britain': 149.98902548341624, 'ireland': 5.377013463183077, 'shetland': 2.937090458541942, 'island': 2.327422040865174, 'islands': 2.4095540012007954, 'place': 34.163947741918584, 'inbetween': 1.7185452292709709, 'ukraine': 23.155369574858124, 'flag': 2.326269068617135, 'project': 16.438223918720155, 'russian': 7.280103123847245, 'embassy': 1.1087128399746997, 'pediatric': 1.1087128399746997, 'adult': 2.326696383921816, 'eye': 13.05026364985467, 'care': 8.442825941712922, 'laser': 2.3259473360987304, 'refractive': 1.1087128399746997, 'surgery': 1.7170139152435169, 'femtolasik': 1.1087128399746997, 'femtocataract': 1.1087128399746997, 'macula': 1.1087128399746997, 'retina': 1.1087128399746997, 'dry': 5.983503065582165, 'glaucoma': 1.1087128399746997, 'expert': 9.323888137574443, 'cy': 1.107920536635707, 'amp': 44.708094262688654, 'ky': 1.107920536635707, 'kingkyro': 1.7157303838343487, 'cyrusdavirus': 1.7160126418988648, 'sunday': 24.844455695744866, 'fatherandson': 1.107920536635707, 'ukrapper': 1.107920536635707, 'superdry': 1.7160126418988648, 'blueeffect': 1.107920536635707, 'filter': 2.9906201561409533, 'underground': 5.97606677212953, 'uk': 96.24030137188876, 'rapper': 5.3965717121818155, 'staying': 2.3238224890975068, 'focus': 7.805109846119741, 'task': 2.3238224890975068, 'instagram': 54.28474841577574, 'reposte': 1.7176735377026073, 'love': 79.48206926241798, 'dancing': 2.333889326343645, 'reason': 2.971325165715626, 'join': 22.522891136677938, 'twitter': 7.499874340343392, 'follow': 77.32403211166447, 'les': 2.943280351984671, 'twins': 3.549393290581162, 'amazing': 17.614104517374624, 'dancer': 8.523253592559415, 'see': 9.91540400020036, 'blow': 2.9395711445254635, 'mind': 6.675457915139946, 'everytime': 2.333889326343645, 'rare': 2.4091116701996547, 'family': 16.178574899334176, 'day': 57.538669948038, 'palace': 11.644732554869801, 'selhurst': 3.045776945504716, 'park': 20.340674450613307, 'cancer': 5.393259653837972, 'research': 6.697561716659719, 'text': 2.934390390311443, 'month': 6.089056813252076, 'money': 6.113356354921515, 'pot': 2.326346809486344, 'important': 3.538867833715616, 'cause': 9.017704370448952, 'close': 7.519910297800237, 'heart': 8.041679622895328, 'mid': 36.97826494161194, 'century': 37.59688316497402, 'sideboard': 10.225881136719233, 'vintique': 47.31614216367209, 'sell': 35.92317550750882, 'loved': 24.82202069127813, 'retro': 24.821323614906692, 'vintage': 32.85756023364542, 'design': 81.61076022678354, 'furniture': 24.818901672813695, 'bt': 1.8110081039650376, 'chris': 1.829398530954391, 'white': 7.40095965430028, 'lovely': 12.770545739969366, 'wife': 7.374469908265197, 'equally': 1.19260953298026, 'gifted': 2.601839691893331, 'artist': 90.16211961729555, 'tea': 5.472916884498661, 'stay': 4.2865631588510285, 'tune': 3.7675424602566534, 'upcoming': 1.8164669597065393, 'article': 1.19260953298026, 'special': 3.6303469738412533, 'duo': 2.409905706288293, 'psychotherapist': 4.568528301923172, 'author': 20.44532228010776, 'national': 9.610708072881685, 'tv': 32.87471134174977, 'contributor': 5.806491550998982, 'host': 26.45309067682833, 'fb': 4.567864184726798, 'watch': 17.64971001969279, 'talk': 16.33886448627418, 'mybook': 3.9590586049534755, 'available': 14.308689288268198, 'big': 49.342091322979805, 'thank': 42.41320346708592, 'wonderful': 15.354342153877742, 'rosiemarksphotography': 1.1092934782608697, 'headshot': 1.1092934782608697, 'actor': 31.339687041181325, 'actress': 6.212946809694524, 'cinema': 4.212470871021479, 'londonlife': 8.414297483182924, 'unιted': 28.25143241865979, 'spotlight': 7.238586532754272, 'pin': 1.1092934782608697, 'spark': 1.7424397392759832, 'craziness': 1.1092934782608697, 'open': 17.928999005997312, 'hearted': 1.1092934782608697, 'listen': 2.989938712729554, 'generous': 1.1092934782608697, 'curious': 2.381163399853221, 'dynamic': 1.1092934782608697, 'positive': 2.9651204641091957, 'dreamer': 7.193782102643918, 'culture': 9.75990117321737, 'welcome': 16.77678089466258, 'idea': 4.848379452273822, 'opportunity': 24.04690260563808, 'global': 13.500164841250974, 'leader': 13.186549188588769, 'provide': 7.1888974841991615, 'thermo': 2.911512718255975, 'fisher': 2.911512718255975, 'team': 20.618337073879154, 'learn': 1.7139114123450652, 'like': 91.4943357219679, 'work': 73.90315082981664, 'remote': 1.705818181818182, 'account': 36.221087044428764, 'geo': 28.28955729154095, 'target': 28.980187275591987, 'engineering': 7.753922677537979, 'job': 111.07966491514317, 'tweet': 102.2931423536089, 'need': 42.467851675205274, 'help': 65.73144378748334, 'superb': 1.2201740386076914, 'club': 15.982003767841586, 'performance': 7.6583835770950985, 'togetherness': 1.2201740386076914, 'terrace': 9.202486982144514, 'dug': 1.2201740386076914, 'dressing': 1.2201740386076914, 'room': 7.309646498947412, 'wembley': 1.2201740386076914, 'cpfc': 1.8285858033135738, 'facup': 1.83733904414479, 'chairman': 3.0469621596436323, 'crystal': 3.6537456539325337, 'fc': 6.08544662618079, 'founder': 53.622043991996506, 'ex': 9.526764278330324, 'ceo': 7.951071703273558, 'tag': 6.1168938619491335, 'rubbish': 1.2201740386076914, 'enthusiastic': 3.046229421630466, 'amateur': 3.0476653725954863, 'race': 5.6456066614457505, 'driver': 1.2201740386076914, 'deliciousfood': 2.3263497425997426, 'chef': 17.662030235754052, 'mark': 4.909064504713753, 'lloyd': 2.326373409230686, 'yesterday': 9.27273738197162, 'vikingsontour': 1.1086711711711712, 'olympia': 12.73073026648396, 'presenter': 14.148797242244015, 'stage': 28.74453845612924, 'speaker': 16.48742365402275, 'guiness': 9.023092537957787, 'world': 211.611271642265, 'record': 14.649021142312177, 'holder': 14.507641151591468, 'morning': 40.89209332135287, 'wimbledon': 15.766094676374474, 'dj': 29.936363728601435, 'musicproducer': 8.410085921899137, 'chilloutmusic': 7.801502588565803, 'deephousemusic': 7.801502588565803, 'graphicdesign': 7.801502588565803, 'designer': 29.442316289126673, 'photographer': 36.6620004125952, 'ltd': 16.941897430939708, 'beesutd': 7.801502588565803, 'records': 7.801502588565803, 'confession': 1.718485866279984, 'sin': 1.1089162692103869, 'heal': 1.1089162692103869, 'godisgood': 1.7177397986221516, 'philppine': 1.1089162692103869, 'wegettoserve': 1.7177397986221516, 'victim': 4.763282351074455, 'human': 10.355644888972549, 'trafficking': 2.3266560678325385, 'ministry': 4.504734199378412, 'website': 6.754714252656538, 'philippines': 2.3266560678325385, 'finally': 7.4725469791440755, 'get': 28.14595096357763, 'indian': 2.327277650885936, 'food': 76.47176790015932, 'masala': 1.1083333333333334, 'zone': 2.407800086235674, 'bayswater': 1.827953216374269, 'despite': 3.706220783149095, 'today': 42.02187631593716, 'political': 2.9334871269081795, 'climate': 4.427581368923474, 'believe': 8.995376504676681, 'people': 27.262549239063915, 'bad': 9.067117009533636, 'happy': 31.91904926839542, 'st': 53.023093773710244, 'patrick': 4.769347771311234, 'advent': 1.1088844086021505, 'competition': 1.7149170172978028, 'win': 15.729381422286478, 'bottle': 2.327885823853566, 'beef': 2.43786559936132, 'gaucho': 1.1088844086021505, 'hi': 2.323756816895611, 'self': 9.7810830760391, 'employ': 1.1088844086021505, 'mum': 19.663269565921073, 'theatre': 27.69616422034704, 'christmas': 1.7732884490061909, 'chocolate': 7.81115655190267, 'tipple': 1.1088844086021505, 'night': 23.96731072154465, 'antidotewinebar': 1.1157444005270092, 'antidote': 1.1157444005270092, 'wine': 20.04546848476189, 'bar': 10.914249300753564, 'nonconformist': 1.1157444005270092, 'dad': 18.236051372515572, 'activist': 4.840165164961569, 'finance': 7.817501205230833, 'tech': 36.45519377182873, 'space': 8.445128989807836, 'co': 13.23138227676727, 'trustee': 2.333440555509493, 'greater': 84.90727484748422, 'worry': 13.43502668683208, 'baby': 18.75255651386013, 'detroit': 10.835536824954705, 'crazy': 13.265819451654806, 'dark': 15.151064154022162, 'salty': 10.22683091337994, 'nostalgia': 10.22683091337994, 'kei': 10.22683091337994, 'eat': 17.742587240090558, 'travel': 34.38922127810696, 'tonight': 11.520640307143871, 'outsyde': 1.1086363636363636, 'party': 12.797909764645464, 'style': 16.239442088397237, 'ladies': 1.1086363636363636, 'free': 16.193324216377505, 'roll': 2.327418414918415, 'wid': 1.1086363636363636, 'intention': 1.1086363636363636, 'tgif': 1.717444055944056, 'climax': 1.1086363636363636, 'promoter': 7.193309471282219, 'snapchat': 2.9318668274241033, 'squeechiedon': 1.1086363636363636, 'delicious': 8.413275350448716, 'sandwich': 1.1092602495543673, 'daily': 10.971402502880775, 'ready': 20.761922419374553, 'toast': 1.7181370611485702, 'toastie': 1.1092602495543673, 'freshlymade': 1.1092602495543673, 'qualityingredient': 1.1092602495543673, 'otter': 4.766542567803254, 'trading': 5.376014617492695, 'bistro': 4.766542567803254, 'cafe': 7.252373333679664, 'shop': 41.38251441647738, 'fresh': 10.85769013955988, 'cake': 14.630569106696736, 'gin': 10.239686383218261, 'deli': 4.766542567803254, 'gift': 8.451119129511381, 'beauty': 25.010000191727062, 'card': 6.598386459205969, 'refill': 4.766542567803254, 'toy': 7.177494624755311, 'mon': 5.375977163559365, 'fri': 7.812725709941532, 'sat': 9.031173229151918, 'sun': 17.333112593292793, 'photo': 142.64764969830279, 'livin': 3.311478616412827, 'lyfe': 3.311478616412827, 'cuz': 3.311478616412827, 'golden': 7.62855310510328, 'spring': 32.46731248184906, 'arrive': 5.988052323124974, 'familia': 2.945242242879672, 'photography': 12.945617888657443, 'photooftheday': 2.936705861247921, 'ilovephotography': 1.1097101449275364, 'cycling': 4.762280084973906, 'insta': 8.541985203386725, 'instagood': 5.978759153985118, 'loveyou': 2.936981275786435, 'weather': 5.98219130521082, 'beard': 10.270678953289805, 'beardgang': 1.1097101449275364, 'beardstyle': 1.1097101449275364, 'beardlife': 1.1097101449275364, 'hard': 20.737644112364453, 'nice': 16.90692387235127, 'soy': 2.3232367408622343, 'apasionado': 1.1097101449275364, 'por': 1.1097101449275364, 'mi': 2.936269341544872, 'animale': 1.1097101449275364, 'el': 2.3288791449534627, 'football': 9.74611787101804, 'ciclismo': 1.1097101449275364, 'quiero': 1.1097101449275364, 'mis': 1.837625196607123, 'nacione': 1.1097101449275364, 'colombia': 1.1097101449275364, 'little': 13.930848559036054, 'venice': 1.1060728744939272, 'nanny': 2.317451079622132, 'northern': 4.149978877117035, 'fanatic': 3.5350618022328546, 'easter': 26.667270901094362, 'hat': 15.874587602773195, 'making': 12.06202702702703, 'progress': 14.498546844211692, 'key': 12.671523151058038, 'easterbonnet': 12.06202702702703, 'bermondsey': 33.33969387862937, 'gateway': 35.16292086220414, 'late': 54.463040963672285, 'action': 42.54331497494057, 'happen': 40.71705154977406, 'james': 41.34134518995731, 'school': 46.87474484135696, 'woke': 1.1089479166666667, 'rode': 1.1089479166666667, 'manc': 1.1089479166666667, 'run': 14.782676806554104, 'coach': 16.825935947748324, 'station': 23.122107359299203, 'busride': 1.1089479166666667, 'way': 24.764388568803675, 'gig': 5.977859106954885, 'whewwww': 1.1089479166666667, 'x': 18.30386875814365, 'techno': 1.1089479166666667, 'technotechno': 1.1089479166666667, 'music': 78.10208043913633, 'producer': 28.890419906965803, 'radio': 17.255664952620215, 'label': 4.837503050963141, 'deepsomnia': 1.7155120192307693, 'oh': 2.931668384603972, 'yeah': 1.108, 'drink': 51.590614985370614, 'double': 5.381323204364826, 'oregon': 2.3335767702429813, 'trail': 2.934385261458449, 'liverpool': 7.183603792708394, 'fan': 28.544388058913626, 'father': 15.250561906436683, 'lover': 47.1929035801163, 'sport': 23.71004303193087, 'great': 41.14788918888275, 'hmm': 1.1088178294573643, 'detour': 1.1088178294573643, 'hogwarts': 1.1088178294573643, 'king': 8.625073580264097, 'railway': 10.827734852959434, 'daddy': 1.7163298486881335, 'med': 1.1088178294573643, 'student': 9.757935800967315, 'fras': 1.1088178294573643, 'astrotourism': 1.1088178294573643, 'scicomm': 1.1088178294573643, 'writer': 22.09372178102121, 'gnc': 1.1088178294573643, 'align': 1.1088178294573643, 'chaotic': 2.341411051638189, 'video': 26.846004733484094, 'busy': 7.308031715178176, 'professional': 18.897952875674406, 'struggle': 3.537378252681914, 'child': 11.579176872801423, 'math': 4.756697186754172, 'problem': 4.147185179585856, 'specialize': 2.928403128303805, 'kid': 6.575129183728788, 'year': 33.15264877608139, 'gsce': 2.928403128303805, 'kindly': 1.7155384615384612, 'submit': 5.927873813158629, 'application': 48.64728988913754, 'aimacle': 8.988864708200312, 'social': 28.10264625413025, 'oak': 1.7175263480392158, 'drop': 4.17700079169174, 'leaf': 1.7170073358014535, 'dining': 2.332489498566225, 'table': 9.653587782034695, 'celebrate': 17.203909076485314, 'poetry': 7.775868614927512, 'beautiful': 31.760661141735095, '𝙀𝙨𝙢𝙚𝙧𝙖𝙡𝙙𝙖': 1.718372265480163, 'mainboard': 1.7181973529364347, 'mustard': 1.7184351246755654, 'point': 2.9347237915422597, 'comment': 2.32750235952405, 'word': 14.123402081154467, 'rhyme': 1.718400782172122, 'model': 14.13916205282395, 'agency': 5.452043024049535, 'representing': 2.3274463448719187, 'creative': 17.768182307122554, 'est': 2.9367915829671567, 'flu': 2.325941443613857, 'normal': 1.7176067912919244, 'fully': 5.452129279297712, 'let': 11.65066418747614, 'thursday': 7.203681979771457, 'thursdaymotivation': 1.108595571095571, 'backontrack': 1.108595571095571, 'outfitidea': 1.108595571095571, 'myoutfittoday': 1.108595571095571, 'mystyle': 1.108595571095571, 'fashionstyle': 1.108595571095571, 'loveit': 2.3257075489332903, 'mylondonlife': 1.717268507354714, 'skincare': 6.59802451778144, 'healthcare': 5.360932343647277, 'anti': 5.975419074722244, 'age': 9.016510255948482, 'monaco': 4.760031442746376, 'vienna': 4.760031442746376, 'red': 29.988782001576837, 'emea': 2.9315312078272604, 'specialist': 11.49803296714233, 'sa': 2.9315312078272604, 'manager': 30.57954724241018, 'seek': 8.129835505696093, 'balance': 4.228924388359236, 'hedgehog': 3.5405941353238406, 'fox': 4.146777419948473, 'insert': 2.9315312078272604, 'favourite': 6.615437957125923, 'disclaimer': 2.9315312078272604, 'listed': 5.3759137601528915, 'building': 7.888136561711936, 'consent': 7.204329909221214, 'planning': 53.51720332947603, 'rear': 1.1095178372352286, 'street': 29.80106960324911, 'camden': 28.536037184101094, 'register': 24.87384987487608, 'march': 34.157896715461085, 'bot': 29.140053572379028, 'build': 27.9267043575992, 'map': 29.411151028188623, 'tile': 24.2702916408957, 'stamen': 23.66081959120626, 'cc': 24.270210616847287, 'datum': 23.66081959120626, 'openstreetmap': 23.66081959120626, 'view': 48.51638446552692, 'lunch': 5.988981187245672, 'venue': 7.83129685104389, 'sparkle': 1.1087128399746997, 'sunshine': 9.185357357093112, 'aviary': 1.1087128399746997, 'welshman': 1.7156417444036043, 'live': 46.38750828172266, 'ʞǝǝƃ': 1.1087128399746997, 'bloke': 5.372085546207479, 'dream': 11.00488006325935, 'slowly': 1.71777576747128, 'turn': 7.919743954762657, 'nightmare': 1.1087128399746997, 'shot': 6.748546088699994, 'event': 30.472091795330176, 'aussies': 1.1072152653548002, 'australia': 1.7144305307096004, 'fun': 32.00892431973266, 'fact': 1.1072152653548002, 'gringots': 1.1072152653548002, 'harry': 2.3199470648053495, 'potter': 2.932521270378547, 'film': 32.88415410006123, 'industry': 8.891244617166224, 'lamb': 3.5676226126162573, 'steak': 4.192143438912599, 'spicy': 3.553324441405202, 'tomato': 1.7272905697905698, 'cous': 1.7353603603603605, 'barnes': 2.9576830863121186, 'waterside': 2.9576830863121186, 'g': 12.778146092198396, 'soul': 13.942458452620158, 'funk': 6.640377465473889, 'news': 23.365052482712517, 'saltcoat': 6.031667320546353, 'native': 6.031667320546353, 'living': 7.24559039746943, 'power': 16.678937581239058, 'lucky': 4.12981085459977, 'pussy': 1.1042242703533027, 'saturdaylunch': 1.1042242703533027, 'countyhall': 1.1042242703533027, 'luckycat': 1.1042242703533027, 'frank': 1.1042242703533027, 'nature': 8.576083294177497, 'gay': 4.867191366095702, 'dutch': 1.1042242703533027, 'nerdy': 1.1042242703533027, 'apple': 4.75125766324031, 'traveller': 9.0027448193272, 'bargain': 1.1042242703533027, 'aviation': 4.763543778415134, 'geek': 5.99410312386833, 'married': 1.7128198414488738, 'capital': 3.0168412618083673, 'region': 2.4087491565452095, 'europe': 10.62786290878033, 'central': 8.041912436245326, 'asia': 2.937290178974962, 'credit': 2.3362820512820517, 'swot': 1.7187820512820515, 'flags': 1.7187820512820515, 'pop': 9.804241776343414, 'feed': 21.05417142703471, 'hour': 5.461568042858149, 'flashcard': 1.7187820512820515, 'know': 25.125476520825703, 'super': 18.76792981578588, 'learning': 4.145799324514495, 'nursery': 4.75659308495001, 'moment': 5.496566461767759, 'pleasing': 2.342676767676768, 'lgbt': 2.98982496270835, 'career': 10.199320754874268, 'em': 5.516056797660763, 'heaven': 2.342316994218389, 'nightclub': 4.783329699888375, 'rock': 7.241584029608587, 'hotel': 18.929490635133007, 'guitarist': 1.7181818181818178, 'songwriter': 14.764701292887898, 'editor': 10.552716208354688, 'londoner': 8.320989223990251, 'smooth': 2.432273633582945, 'weight': 1.9283314564564564, 'cut': 4.521530938759904, 'book': 36.3434062583184, 'huge': 5.475405657007191, 'feel': 17.672786821946293, 'wait': 26.787945068221067, 'suffolk': 2.5382253135052046, 'boy': 12.968664119794239, 'sponsor': 5.5908831375652035, 'use': 5.574413190493779, 'code': 3.784692432917486, 'discount': 1.930437434717326, 'japan': 2.4876885395306445, 'lift': 4.311620790856463, 'poweroutage': 1.1906299840510366, 'warning': 1.1906299840510366, 'supplyoutlook': 1.1906299840510366, 'fragile': 1.1906299840510366, 'meet': 151.67967262076274, 'official': 155.235530997671, 'handle': 145.5976940134813, 'britishherald': 145.5976940134813, 'outside': 5.443804859399473, 'tuesday': 2.930906484046019, 'lunchtime': 3.5373163471118563, 'trade': 1.773272005772006, 'jimandtonicdistillery': 1.1091666666666669, 'jimandtonic': 1.1091666666666669, 'londonlunch': 2.3283204988414883, 'elephantandcastle': 1.1091666666666669, 'mercatometropolitano': 1.1091666666666669, 'mercato': 1.1091666666666669, 'metropolitano': 1.1091666666666669, 'production': 5.47434817030403, 'jim': 1.715785379725661, 'tonic': 1.7173355263157897, 'sustainable': 2.409966024354819, 'urban': 2.3270340557275544, 'distillers': 1.1091666666666669, 'head': 14.727845502227382, 'distiller': 1.1091666666666669, 'projects': 1.1091666666666669, 'westminster': 12.18682717121223, 'pier': 5.382439902169095, 'trip': 3.635235532877057, 'thought': 2.340566291704736, 'bookings': 3.6683676755470787, 'contact': 17.059603435826006, 'teamdrumz': 1.1214380648591176, 'joe': 2.4058761728580804, 'juice': 4.234548774616343, 'warn': 23.870483727434532, 'thief': 23.788391224715095, 'crook': 23.17947495550471, 'fraudulent': 23.17947495550471, 'rob': 23.17947495550471, 'thousand': 23.788777281086105, 'china': 8.705381778309407, 'eastern': 3.262660087719298, 'crash': 4.686992025518341, 'disaster': 1.1908421052631577, 'state': 8.594271170093538, 'airline': 1.1908421052631577, 'metro': 1.733277027027027, 'catch': 7.330719665792008, 'dear': 7.203449296820521, 'friend': 17.047693414639323, 'robbie': 1.1088844086021505, 'push': 3.627422221995799, 'carlton': 1.1088844086021505, 'chief': 1.7154485111662532, 'executive': 4.391474469180646, 'friends': 1.7178934176111595, 'british': 22.507615835762103, 'overseas': 1.717051075268817, 'territories': 1.1088844086021505, 'plain': 1.1088844086021505, 'speaking': 1.7735278019955438, 'yorkshireman': 1.7168049452378575, 'opinion': 7.858334656075932, 'look': 27.5283691653416, 'score': 2.996410236062488, 'mastercard': 7.144243528578737, 'luck': 4.7547409755614, 'click': 5.342555439765963, 'link': 22.975669029766316, 'bio': 18.76715147708792, 'description': 1.1031878557874761, 'apply': 31.280234220627925, 'start': 22.285001682124474, 'path': 3.535257772305067, 'corporate': 1.71254916350571, 'fintech': 1.7115590679086883, 'partner': 3.094128335906268, 'analyst': 6.6276378475863424, 'associate': 5.371250841748159, 'managing': 1.1031878557874761, 'consultant': 15.271332057268891, 'businessmgmt': 2.3093593542116513, 'experience': 17.153561166675924, 'offer': 8.422527557120146, 'breaker': 1.1044102822580646, 'take': 17.25826839911798, 'break': 5.610778929974589, 'return': 4.309819515256214, 'returnship': 1.1044102822580646, 'mother': 7.824609109531274, 'daughter': 5.37305936351459, 'distance': 2.9336625471302886, 'ldrnomore': 1.1080889540566958, 'unlimommy': 1.1080889540566958, 'phinee': 1.1080889540566958, 'virtue': 1.1080889540566958, 'fearless': 1.7451635540116204, 'stargazer': 1.1080889540566958, 'seastar': 1.1080889540566958, 'laugh': 4.245424545005097, 'lord': 5.366967292174314, 'shy': 2.9421979564704026, 'loss': 1.1015469416785206, 'prevention': 1.1015469416785206, 'officer': 2.3177392219570443, 'tkmaxx': 2.3085831298723445, 'putney': 2.929738148554861, 'time': 46.12771205362245, 'tjx': 1.1015469416785206, 'companies': 1.1015469416785206, 'ask': 6.880718660610322, 'referral': 1.702380275011854, 'meeting': 11.393015908045424, 'hr': 5.924752192429516, 'check': 21.18264465104111, 'security': 30.296319306476157, 'balletrockstar': 1.1910087719298246, 'isaachernández': 1.1910087719298246, 'leave': 8.804763328412731, 'audience': 2.4919657713078767, 'breathless': 1.1910087719298246, 'expo': 10.868675364436665, 'dubai': 12.778060294803872, 'relax': 1.1060326086956522, 'concert': 5.552204171833158, 'devon': 1.7311056802422273, 'brilliant': 5.369268496525717, 'virtuoso': 1.1060326086956522, 'piano': 5.961626782170611, 'krzysztof': 1.1060326086956522, 'penderecki': 1.1060326086956522, 'pianist': 4.146320073918601, 'steinway': 1.1060326086956522, 'prize': 2.9244093505475592, 'san': 1.1060326086956522, 'marino': 1.1060326086956522, 'early': 4.22706596756763, 'pyjamazoom': 1.109656177156177, 'beyondthebrush': 1.109656177156177, 'podcast': 4.214787236370787, 'makeupartist': 1.109656177156177, 'makeupeducation': 1.109656177156177, 'warpaintextra': 1.7193123543123543, 'paintopia': 1.109656177156177, 'serve': 9.284892100613694, 'pro': 4.927408881625011, 'makeup': 9.130566618821263, 'hair': 20.33241490921624, 'body': 9.084261747507565, 'warpaint': 1.7193123543123543, 'mag': 1.109656177156177, 'extra': 1.7745239295239292, 'beyondthebrushuk': 1.109656177156177, 'comp': 2.9468369974239006, 'foto': 5.975951374207188, 'appena': 5.975951374207188, 'pubblicata': 5.975951374207188, 'stunning': 4.166330626162569, 'bts': 1.8192607985223075, 'wear': 6.1366307835286396, 'accessoriesbyme': 1.1091219096334186, 'kyrikibridal': 1.1091219096334186, 'breathtaking': 1.1091219096334186, 'gown': 1.1091219096334186, 'royale': 1.1091219096334186, 'designing': 1.1091219096334186, 'hand': 8.407627201023658, 'craft': 12.67223478885561, 'passion': 11.64218963786154, 'bespoke': 7.23579076806562, 'bridal': 1.717834749608118, 'tiara': 1.1091219096334186, 'comb': 1.1091219096334186, 'fascinator': 1.1091219096334186, 'stefana': 1.1091219096334186, 'jewellery': 13.515489981565254, 'archive': 2.935348254504504, 'acrylic': 1.1085045045045043, 'canvas': 2.935488175675675, 'wing': 4.205872256872256, 'acrylicpainte': 1.1085045045045043, 'ren': 9.628305281664256, 'creator': 30.011691509293183, 'tribes': 5.368640203021182, 'v': 1.7243251474113914, 'elite': 2.3481495988220495, 'getready': 2.9503149386845036, 'newseason': 2.9503149386845036, 'stock': 7.391497640684939, 'battingpractice': 1.1156192358366273, 'ajsport': 2.3346957028478768, 'instock': 1.1156192358366273, 'cricketgram': 2.3346957028478768, 'cricketdaily': 2.3346957028478768, 'kingston': 2.9356891561239387, 'harrow': 1.1156192358366273, 'clapham': 2.9350149879110847, 'vnet': 1.1156192358366273, 'aj': 3.5598327759197326, 'sports': 6.208883881956632, 'cricket': 6.5934143678258295, 'hockey': 9.024786116254504, 'rugby': 11.619976845508678, 'quality': 6.579281408838771, 'gear': 2.9437835406857147, 'advice': 2.943869372315664, 'proud': 19.022103774168382, 'tbt': 2.4649141656319076, 'en': 12.925075033680079, 'londres': 3.6041218622929145, 'esta': 1.1641388888888888, 'vez': 1.1641388888888888, 'throwbackthursday': 1.7730551580992757, 'tiktok': 2.381653971365215, 'pre': 5.98252487576778, 'salt': 1.1079734848484848, 'cod': 1.716791314305849, 'tempura': 1.1079734848484848, 'fish': 1.717806458986416, 'xo': 1.1079734848484848, 'sauce': 2.3245597417288595, 'katsudon': 1.1079734848484848, 'カツ丼': 1.1079734848484848, 'bread': 3.546622728952788, 'aged': 1.1079734848484848, 'pork': 1.1079734848484848, 'loin': 1.1079734848484848, 'egg': 2.324039074960128, 'koya': 1.1079734848484848, 'daft': 1.1079734848484848, 'pun': 4.7587716131907305, 'coffee': 18.833042947585003, 'drunk': 1.1079734848484848, 'bi': 2.9334415438165435, 'royal': 11.259362909570797, 'albert': 11.223139695406632, 'adventurer': 1.107125, 'fashion': 31.31735853196428, 'enthusiast': 2.923187053154445, 'تحرم': 2.3214769813519816, 'النار': 2.3214769813519816, 'على': 3.6298911827212423, 'كل': 3.5377059556806065, 'سهل': 2.3214769813519816, 'لين': 2.3214769813519816, 'فاللهم': 2.3214769813519816, 'اجعلني': 2.3214769813519816, 'منهم': 2.3214769813519816, 'anchor': 2.3270923692259897, 'warm': 5.373058421192042, 'assure': 2.3270923692259897, 'visit': 13.654741328337964, 'pub': 6.598252071299599, 'fabulous': 8.431132571761827, 'vibe': 5.414266477668868, 'awesome': 5.374486746132184, 'monday': 11.747721374264133, 'singer': 24.927324108781903, 'content': 18.5037172440707, 'flower': 9.180890587272984, 'smile': 11.682546666717434, 'bit': 7.303147288290772, 'meh': 1.1070175438596492, 'riverlight': 1.1724184782608695, 'quay': 1.1724184782608695, 'millionaire': 3.204923913043478, 'strategist': 3.8061567248026056, 'best': 3.204923913043478, 'selling': 6.317510679752516, 'personal': 14.80214660918061, 'development': 10.039531803243133, 'fulfilment': 3.204923913043478, 'business': 30.0209427219221, 'strategies': 4.423059877955759, 'lmi': 3.204923913043478, 'fia': 1.88250203998368, 'women': 2.483236274217914, 'motorsportcommissionmember': 1.1914932680538555, 'aseel': 1.1914932680538555, 'al': 5.834483820224955, 'hamad': 1.1914932680538555, 'wheel': 1.8008529494264045, 'car': 4.3043379641946045, 'bwt': 1.1914932680538555, 'alpine': 9.791230977142948, 'saudi': 1.8823353733170132, 'arabia': 1.1914932680538555, 'tomorrow': 11.596107391387223, 'go': 15.703074698911973, 'afrohouse': 1.1095362202619619, 'afrotech': 1.1095362202619619, 'africanelectronicmusic': 1.1095362202619619, 'afrohousemusic': 1.1095362202619619, 'afrohouseuk': 1.1095362202619619, 'ham': 2.9367220902840754, 'utah': 1.8001662043129985, 'jazz': 5.9737672749094415, 'soulfulshow': 1.1095362202619619, 'tues': 1.718988641433133, 'pm': 13.486644218287251, 'quit': 4.112587181605528, 'barista': 2.912608339624317, 'store': 12.560244306029151, 'victoria': 9.219561220148094, 'palmer': 1.1010964912280703, 'starbucks': 3.5953650971037234, 'company': 15.336867709474186, 'able': 4.721562305983638, 'reach': 4.803217165656566, 'directly': 4.721976743581298, 'retail': 14.947002428126957, 'ux': 1.7143402653548, 'audits': 1.1056891025641025, 'automate': 1.1056891025641025, 'brand': 24.381453296944805, 'marketbl': 2.9248447276407803, 'leanmarketing': 2.9248447276407803, 'investor': 4.162431656273646, 'advisor': 2.3058049535603713, 'metaverse': 3.5212286230281586, 'nft': 3.5349700623706486, 'crypto': 2.933590633977631, 'private': 12.057964407721641, 'placement': 3.572027927652198, 'platforms': 2.3058049535603713, 'ppp': 2.3058049535603713, 'ppe': 2.3058049535603713, 'gold': 3.5234164415748452, 'scandinavian': 1.1093613077182338, 'meal': 3.0030221382891793, 'aquavit': 2.3268914750855907, 'sea': 6.872027392330616, 'cocktail': 9.66280457082988, 'shrimp': 1.7166579584359372, 'skagen': 1.1093613077182338, 'rydberg': 1.1093613077182338, 'kladdkaka': 1.1093613077182338, 'espresso': 1.7188201628166238, 'martini': 2.3777205069984855, 'michigander': 2.946089955467908, 'rhap': 2.946089955467908, 'tabulator': 2.946089955467908, 'topchef': 2.946089955467908, 'gbbo': 2.946089955467908, 'podcaster': 5.506252653633951, 'game': 7.815397153357691, 'addict': 6.675230178184481, 'escaper': 2.946089955467908, 'rooms': 2.946089955467908, 'clarkcurse': 2.946089955467908, 'resident': 4.128129991385426, 'circle': 4.1221826923076925, 'custom': 7.161166621386252, 'tattoo': 12.644380510198072, 'piercings': 4.1221826923076925, 'lifestyle': 11.496267716298078, 'establish': 7.924613746060255, 'guard': 1.7251089469451906, 'buckingham': 2.939487242829634, 'graduate': 5.415366673402278, 'assistant': 3.5726552614052616, 'contributing': 3.607626590141125, 'intern': 2.963044871794872, 'nebraskausrep': 1.1903508771929823, 'fortenberry': 1.1903508771929823, 'guilty': 1.7998097322913722, 'campaignprobe': 1.1903508771929823, 'approval': 2.328416149068323, 'details': 3.019559329600298, 'york': 6.05732318631029, 'old': 17.070919514286846, 'spitalfields': 2.33447874988622, 'market': 14.733758522752165, 'purveyor': 1.109564233163554, 'antique': 2.943589874189195, 'ephemera': 2.938586214686332, 'lot': 19.371887101448557, 'rednoseday': 7.191216216216215, 'support': 22.54938748721152, 'comicrelief': 7.191216216216215, 'community': 20.64613147959581, 'generosity': 7.191216216216215, 'tc': 6.590896989532888, 'candle': 5.363154962942115, 'maker': 12.694316055487928, 'capri': 2.9315774814710576, 'racer': 2.9315774814710576, 'judge': 9.560037257058587, 'mai': 1.109234496124031, 'healing': 1.7189602212186086, 'centre': 17.764062557519456, 'children': 3.528285537341173, 'bamenda': 1.109234496124031, 'buea': 1.109234496124031, 'cameroon': 1.109234496124031, 'email': 13.469713331675578, 'afrocentric': 1.7094318645450837, 'holistic': 2.3190581517138904, 'health': 8.442552022745009, 'training': 5.953971380190858, 'advocacy': 1.7094318645450837, 'racialise': 1.7094318645450837, 'europeanmarsmission': 1.1903508771929823, 'war': 7.244131516945151, 'peacefully': 2.322767411840638, 'yog': 2.322767411840638, 'chicago': 2.960192151851585, 'booth': 4.130603610020618, 'alum': 2.959898178971405, 'mufc': 2.9307408966891226, 'shoreditch': 4.149774275869192, 'basically': 2.930892411840638, 'snob': 2.322767411840638, 'choose': 3.5409084374816637, 'pill': 3.0136095171037955, 'think': 5.9724932213057205, 'barbican': 3.1073205380061255, 'conservatory': 1.106730769230769, 'actuallyautistic': 1.7243486352357318, 'comunism': 1.1091736694677872, 'genocide': 2.4897707587819817, 'dictator': 1.1091736694677872, 'unidaspodemos': 1.1091736694677872, 'spanishgovernment': 1.1091736694677872, 'psoe': 1.1091736694677872, 'freeukraine': 1.1091736694677872, 'libertarian': 1.1091736694677872, 'spaniard': 1.1091736694677872, 'vlogger': 2.9342928310080016, 'trump': 2.490533318590594, 'boris': 1.8000157747309449, 'johnson': 1.893261507305625, 'thatcher': 1.1091736694677872, 'reagan': 1.1091736694677872, 'díaz': 1.1091736694677872, 'ayuso': 1.1091736694677872, 'santiago': 1.1091736694677872, 'abascal': 1.1091736694677872, 'supporter': 7.2533082087276375, 'socialismsuck': 1.1091736694677872, 'socialismkilll': 1.1091736694677872, 'jobalert': 18.605791129160703, 'senior': 25.59783002053575, 'aw': 2.914279741997133, 'projectmanagement': 11.972880094227211, 'smart': 1.7071428571428573, 'sheet': 1.7071428571428573, 'visasponsor': 18.605791129160703, 'eng': 19.81467306118217, 'hire': 21.126497911128826, 'technology': 27.17370821997001, 'software': 44.76332381538441, 'miss': 24.171642668484406, 'opera': 5.373387351961734, 'swanlake': 1.1075087719298247, 'scrub': 1.7144216507177035, 'nurse': 6.055226056766452, 'cat': 5.484422534120391, 'lady': 6.622049396882685, 'zelenskyy': 1.1906299840510366, 'evoke': 1.1906299840510366, 'holocaust': 1.8814720893141943, 'appeal': 5.530430076725052, 'israel': 1.1906299840510366, 'aid': 3.2372555263667504, 'hit': 6.309705360949738, 'copperbalayage': 1.1089522380595147, 'hairtransformation': 1.7183418000352835, 'colouroftheweek': 1.1089522380595147, 'olaplex': 1.1089522380595147, 'thatshine': 1.1089522380595147, 'naturallight': 1.1089522380595147, 'sunsout': 1.7181079053547168, 'readyforsummer': 1.1089522380595147, 'rush': 2.327519860734414, 'kensington': 7.838167669753581, 'originally': 1.1089522380595147, 'grimsby': 1.1089522380595147, 'loudoeshair': 1.1089522380595147, 'save': 10.254893302701847, 'grace': 2.327496684984323, 'top': 1.717147560160428, 'tan': 4.153215898879582, 'face': 10.39492187709014, 'sort': 2.930189821326681, 'right': 8.119237032904255, 'flank': 1.1084117647058824, 'dulwich': 6.63700337347098, 'novellist': 1.7159485294117647, 'humour': 1.7159485294117647, 'blogger': 18.774354520930583, 'walker': 5.366735439869728, 'cricketlover': 1.7159485294117647, 'optimistic': 1.7159485294117647, 'cook': 6.052154798502835, 'mutt': 1.7159485294117647, 'nut': 5.967455512852402, 'hole': 1.7159485294117647, 'digger': 1.7159485294117647, 'unreliable': 1.7159485294117647, 'reader': 2.3253098371299985, 'mechanical': 1.7166488095238095, 'engineer': 27.891665200612366, 'bear': 14.116300372810583, 'гукъыдэж': 1.1078869047619047, 'уиiэмэ': 1.1078869047619047, 'пхуэмыщiэн': 1.1078869047619047, 'щыiэкъым': 1.1078869047619047, 'circassian': 1.1078869047619047, 'абдзах': 1.1078869047619047, 'bulgarian': 1.1078869047619047, 'chechen': 1.1078869047619047, 'адыгэ': 1.1078869047619047, 'cheer': 3.044695881969601, 'season': 13.395473574702775, 'shotoniphone': 1.1080889540566958, 'nottinghill': 1.1080889540566958, 'dq': 1.1080889540566958, 'journalist': 9.873036876515728, 'mexique': 2.3239657869012706, 'reborn': 2.3239657869012706, 'un': 7.520568419995676, 'hermoso': 2.9328425984954736, 'desastre': 2.3239657869012706, 'mikistheodorakis': 1.1913466097676624, 'orchestra': 1.1913466097676624, 'enchant': 1.1913466097676624, 'lilting': 1.1913466097676624, 'greek': 2.425029768188452, 'melody': 1.1913466097676624, 'russianstrike': 1.1906299840510366, 'kill': 4.480564595837041, 'mariupoltheater': 1.1906299840510366, 'say': 13.639395043021352, 'worth': 3.01475096398976, 'bfi': 2.3268399040952286, 'imax': 1.1080100574712644, 'large': 6.663434440398392, 'photograph': 4.152052900185851, 'thunder': 1.7166829937304076, 'storm': 3.649044921548272, 'thing': 44.17607885317458, 'purple': 1.7166829937304076, 'baker': 4.153903056307747, 'unusual': 4.150859541245664, 'manage': 5.975247367499295, 'interesting': 10.812788593742294, 'got': 4.76134600131195, 'door': 2.9360582570497185, 'abbey': 6.05038008997955, 'youth': 1.1090629800307221, 'everton': 1.1090629800307221, 'leicester': 2.9348942527797766, 'tigers': 1.1090629800307221, 'bike': 4.208317805451126, 'baking': 1.1090629800307221, 'locke': 1.1012328117591275, 'broken': 1.1012328117591275, 'wharf': 1.1012328117591275, 'schön': 2.9390878529440823, 'rocket': 2.9390878529440823, 'scientist': 7.887842415264439, 'agent': 6.802962698570789, 'wall': 6.673950819129753, 'group': 10.502127516038987, 'passing': 1.1094225372913897, 'supremely': 1.1094225372913897, 'talented': 1.7177937494126019, 'dan': 1.716848612560207, 'hartman': 1.1094225372913897, 'fire': 6.925730451926395, 'burnin': 1.1094225372913897, 'ktfb': 1.1094225372913897, 'hamradio': 7.810413574156946, 'editing': 7.193028357598248, 'senate': 1.798305422647528, 'gop': 2.5726475279106857, 'texas': 1.1910087719298246, 'abortion': 2.57269298245614, 'bill': 1.1910087719298246, 'permission': 7.809872010920953, 'commercial': 4.874032184588242, 'unit': 4.741983846510537, 'bloomsbury': 5.374370333588297, 'sunflower': 1.7118461538461538, 'seeds': 1.105923076923077, 'auction': 1.7144728604728607, 'piece': 4.178841768136158, 'facebook': 4.840170044580985, 'proceed': 1.105923076923077, 'sale': 10.358513565001429, 'donate': 1.7309961484696523, 'standwithukraine': 1.7154227245622595, 'sunflowerseed': 1.105923076923077, 'draw': 7.801273619663236, 'ink': 2.3221495624742303, 'online': 18.308694930818284, 'promotions': 5.3485683866084965, 'pr': 13.09804020163872, 'coverage': 5.3485683866084965, 'african': 7.227190492849037, 'musicians': 5.3485683866084965, 'advert': 5.3485683866084965, 'enquires': 5.3485683866084965, 'energy': 7.276885644242231, 'far': 4.984365687742741, 'away': 12.300252148748832, 'covent': 5.558481689947853, 'garden': 15.39133558966184, 'international': 6.1295891135176666, 'multi': 3.04236264408869, 'genre': 1.7725955774853799, 'pleasure': 4.150787345617477, 'share': 9.13980199554727, 'week': 26.688743391113153, 'enjoy': 14.724238007627473, 'thameside': 3.5459926171777503, 'inn': 4.155510454412979, 'bridges': 2.936639627824761, 'premier': 4.163267148202281, 'realale': 3.544572320132453, 'locate': 4.76335266769187, 'southbank': 3.5462500174351503, 'booking': 11.65601105389483, 'dm': 18.276119619466343, 'detail': 7.8069962406129285, 'samoa': 1.8816842105263154, 'detect': 1.8816842105263154, 'covidcase': 1.1908421052631577, 'outbreak': 2.572314194577352, 'bagels': 3.547589614283767, 'bagelsandwaffle': 2.9381693244286944, 'londonfoodspot': 1.719015492253873, 'purley': 3.5394351472135046, 'croydon': 31.31009874198449, 'londondessert': 1.719015492253873, 'explorepage': 1.1094202898550725, 'londonbagel': 1.719015492253873, 'takeaway': 3.65778920746963, 'diner': 2.9381693244286944, 'sensation': 2.9381693244286944, 'waffles': 2.9381693244286944, 'jerk': 2.9381693244286944, 'chicken': 4.763724904202016, 'slushies': 2.9381693244286944, 'joseph': 2.405004257334317, 'ford': 2.5980701688010037, 'arnold': 1.1069128787878788, 'worldwide': 2.4065179872170246, 'flock': 1.1069128787878788, 'tavistock': 1.109472049689441, 'square': 15.77521132420526, 'couple': 4.7553800501060595, 'minute': 4.761178282273747, 'lion': 2.325348484848485, 'lyceum': 1.717181818181818, 'currently': 5.968187393678009, 'pursue': 1.1081666666666665, 'master': 5.672574418053373, 'later': 4.189874012260286, 'medicine': 1.7168178294573642, 'dare': 1.711378205128205, 'الحمدلله': 1.711378205128205, 'traveler': 5.361111667014336, 'writing': 5.3641142309725165, 'starwriter': 4.754515151515152, 'writingstar': 4.754515151515152, 'girl': 10.644794684768092, 'matchday': 1.7171666666666665, 'wandsworth': 7.8220601837115, 'wnc': 1.7171666666666665, 'netball': 1.7171666666666665, 'girlpower': 1.7171666666666665, 'met': 2.3257499999999998, 'leagues': 2.3257499999999998, 'playhard': 2.3257499999999998, 'gilbertgirl': 2.3257499999999998, 'god': 12.232860664040045, 'remember': 2.3181124319229154, 'exist': 5.975898846086951, 'nsppd': 4.756954746708067, 'cyber': 29.112280492645045, 'infosec': 6.581460049928541, 'dx': 6.582929075268604, 'management': 13.623251168020218, 'appearance': 1.7158750820902524, 'hopefully': 1.717967993348318, 'appreciate': 1.7172147950089127, 'jersey': 1.7171740024681204, 'christian': 2.9515102704956337, 'husband': 11.638963195407001, 'lawyer': 2.935754020341907, 'cvo': 1.717552790346908, 'bjj': 1.717552790346908, 'black': 12.248597764228847, 'belt': 1.717552790346908, 'teamiridium': 2.326527149321267, 'sense': 7.8005132282578105, 'dance': 15.377173367801692, 'different': 10.872880345359187, 'weekend': 13.98991663088359, 'fridayafternoon': 1.1082923832923832, 'almostspre': 1.1082923832923832, 'longerday': 1.1082923832923832, 'londonstyle': 1.1082923832923832, 'happyme': 1.1082923832923832, 'plan': 6.414962704134877, 'luxury': 5.4666439860436995, 'freelancer': 1.1072966507177033, 'holborn': 2.9338813514092266, 'bicycles': 5.374974555933596, 'planes': 5.374974555933596, 'contain': 6.065816661196754, 'alcohol': 5.981087494530087, 'fuselage': 5.374974555933596, 'hero': 5.973238774732561, 'topshopidol': 1.108595571095571, 'boot': 7.179828778197565, 'transitionalstyle': 1.108595571095571, 'blazerstyle': 1.108595571095571, 'oldandnewstyle': 1.108595571095571, 'styleinspo': 1.108595571095571, 'wearitagain': 1.108595571095571, 'instafashion': 1.108595571095571, 'whatiworetoday': 1.108595571095571, 'bloggersofinstagram': 1.108595571095571, 'balletomane': 1.108595571095571, 'maven': 1.108595571095571, 'gym': 2.326692417942418, 'bunny': 2.3275893629696878, 'lead': 36.26291434530294, 'developer': 50.44459712775517, 'electrical': 24.24829960912823, 'ml': 24.848672506158735, 'ai': 28.688074855005215, 'iot': 24.92610040355374, 'mail': 24.24803445761308, 'spot': 6.578904726976414, 'le': 1.1236146632566069, 'pain': 2.339866703240287, 'quotidien': 1.1236146632566069, 'david': 2.354921904832727, 'duncan': 1.746326333737156, 'utilize': 1.746326333737156, 'search': 8.772344926063026, 'medium': 12.57235831910009, 'certify': 2.9642538231438964, 'trainer': 9.233309893967192, 'incident': 1.1083010752688172, 'require': 2.3509820126800136, 'clear': 3.627101208912417, 'suspect': 2.4892819365128362, 'drinking': 1.7169722464399884, 'trivia': 1.1083010752688172, 'matt': 1.1083712121212121, 'draws': 1.1083712121212121, 'republican': 1.191143180531975, 'fights': 1.191143180531975, 'voter': 1.191143180531975, 'fraud': 1.191143180531975, 'election': 3.7904630499730194, 'platform': 14.171106348585303, 'stream': 4.758359268455386, 'counting': 1.1093910256410258, 'monster': 1.7178587675765096, 'c': 3.58091943275674, 'ship': 5.451738612016591, 'entertainer': 4.150092888961597, 'firephone': 2.3237182876856792, 'athlete': 4.255883068596575, 'bsc': 2.9330635257809172, 'rewind': 1.109234496124031, 'throwbacktuesday': 1.109234496124031, 'instaphoto': 1.109234496124031, 'instapicture': 1.109234496124031, 'instapic': 1.109234496124031, 'singersongwriter': 1.109234496124031, 'recording': 8.398986936791186, 'vo': 5.938149873961428, 'imdb': 5.938149873961428, 'represent': 11.446477771486672, 'bma': 5.938149873961428, 'caffrey': 1.1085833333333333, 'premium': 2.9578140823444845, 'irish': 4.235623070248788, 'ale': 17.52225919862586, 'heavy': 5.981904638710943, 'metal': 10.842490690978348, 'beer': 32.75404591247033, 'comedy': 10.968344510480842, 'history': 12.343218494345551, 'part': 5.364739633173844, 'derbyshire': 5.364739633173844, 'tom': 1.1084390415785763, 'newfacemodel': 1.1084390415785763, 'readyforspre': 1.1084390415785763, 'photoshootbooke': 1.1084390415785763, 'londonphotographer': 1.7175478091550858, 'castingnow': 1.1084390415785763, 'bookingnow': 1.1084390415785763, 'tompettoftkmgmt': 1.1084390415785763, 'londonmalemodel': 1.1084390415785763, 'prettyboy': 1.1084390415785763, 'taylor': 1.8381776036700797, 'kelsaw': 1.1084390415785763, 'forever': 4.755457772062374, 'feature': 6.737469917916973, 'tone': 1.716297644883852, 'device': 3.543052249115827, 'nuera': 1.1088850574712645, 'tight': 3.547813141526439, 'magazine': 2.326881155179902, 'toe': 1.1088850574712645, 'changer': 1.1088850574712645, 'natalikelly': 1.717770114942529, 'aesthetic': 3.5430476438534453, 'practitioner': 2.9286002008423826, 'specialise': 9.801821147768049, 'facial': 2.9336415723380624, 'aesthetics': 2.93500461106656, 'cosmetic': 1.717770114942529, 'dermatology': 1.717770114942529, 'quoteoftheday': 1.7192165593027664, 'manifest': 1.1096469622331693, 'lockonegoboost': 2.3288269489131563, 'smileeveryday': 1.1096469622331693, 'positivevibe': 2.3288269489131563, 'haveagreatweek': 1.1096469622331693, 'kingsroad': 2.3288269489131563, 'lockonegoquote': 1.7192165593027664, 'lockonego': 4.157653897826312, 'saunders': 2.3288269489131563, 'long': 18.47487988194705, 'launch': 4.144310512102787, 'soon': 10.012390285366651, 'redken': 2.3288269489131563, 'ambassador': 5.481692972145003, 'quotes': 2.3288269489131563, 'growth': 3.5453938394579803, 'provider': 1.7187171120322193, 'brag': 1.1091219096334186, 'branded': 1.1091219096334186, 'prints': 1.1091219096334186, 'metallurgical': 1.1091219096334186, 'technician': 1.1091219096334186, 'azubi': 1.1091219096334186, 'queen': 10.523049147923508, 'zim': 1.1091219096334186, 'diamond': 1.1091219096334186, 'primum': 1.1085045045045043, 'vivere': 1.1085045045045043, 'deinde': 1.1085045045045043, 'philosophari': 1.1085045045045043, 'micro': 1.7178068300858995, 'service': 13.970848183699463, 'boulderer': 1.1085045045045043, 'goer': 1.1085045045045043, 'fashionista': 1.1085045045045043, 'musketeers': 1.1084117647058824, 'stooges': 1.1084117647058824, 'probably': 5.366182470647642, 'accurate': 1.1084117647058824, 'funny': 4.75715931451402, 'slice': 1.1084117647058824, 'geeky': 1.1084117647058824, 'nutjob': 1.1084117647058824, 'smiley': 1.7158607954545455, 'mapetiteelodie': 1.1069128787878788, 'amor': 1.7142045454545456, 'vincit': 1.7142045454545456, 'omnia': 1.7142045454545456, 'conquer': 1.7142045454545456, 'ben': 8.588825865022267, 'doofus': 1.1090629800307221, 'nerd': 5.375826198383775, 'guy': 6.731575126550686, 'tabletop': 1.7183293892971314, 'genesis': 1.7183293892971314, 'call': 5.713750383836911, 'delightful': 1.7183293892971314, 'weirdo': 2.3268274130125466, 'battery': 2.4091714945602893, 'low': 3.599455913594708, 'ok': 3.0140724586464898, 'alpacalyeverafter': 1.1092146494320407, 'cityfarm': 1.7186042114078095, 'bible': 1.7597683933933934, 'sleep': 3.5617491293498054, 'wicked': 1.7163652999590502, 'jira': 1.1035196687370599, 'gocardless': 16.19151138716357, 'acupuncture': 1.7120956963378777, 'blood': 2.322184068365292, 'circulation': 1.1060478481689389, 'tighten': 2.323344670346086, 'jawline': 1.7149329056402034, 'facialacupuncture': 1.1060478481689389, 'facelift': 1.1060478481689389, 'natural': 6.704675586515691, 'naturalremedie': 1.1060478481689389, 'youthfullookingskin': 1.1060478481689389, 'wecliniclondon': 1.1060478481689389, 'clinic': 2.3216319165998396, 'naturalbeautycare': 1.1060478481689389, 'vision': 1.1060478481689389, 'approach': 1.715814365804309, 'philosophy': 1.714207782889461, 'promote': 3.6690676154133937, 'safe': 2.9322623366716694, 'patient': 2.3222947769158675, 'center': 1.1060478481689389, 'cloud': 1.7176680327868854, 'vsco': 2.32521331738437, 'vscocam': 2.32521331738437, 'slow': 2.9327220893141948, 'walk': 10.994679537884805, 'vieille': 2.32521331738437, 'âme': 2.32521331738437, 'liebe': 4.15042663476874, 'ist': 2.32521331738437, 'yawn': 2.32521331738437, 'silent': 3.109301155222208, 'scream': 2.32521331738437, 'magnificent': 1.107675438596491, 'magnolia': 1.107675438596491, 'freelance': 5.429912582324111, 'southampton': 1.7137483130904183, 'stuff': 5.981573546141783, 'birthday': 13.005376738902106, 'elton': 1.1925479827653742, 'theofennell': 1.1925479827653742, 'eltonjohn': 1.1925479827653742, 'sireltonjohn': 1.1925479827653742, 'theofennelljewellery': 1.1925479827653742, 'jewellerylove': 1.1925479827653742, 'jewelleryaddict': 1.1925479827653742, 'throwback': 1.1925479827653742, 'theo': 3.064812420190415, 'fennell': 1.864760820603212, 'fine': 12.20548009413777, 'silver': 1.864760820603212, 'renowne': 1.864760820603212, 'traditional': 2.480884009009009, 'craftsmanship': 2.4737759721183634, 'nose': 4.159062628304989, 'hazy': 1.7198562371319976, 'malt': 5.378611337298153, 'carbonation': 4.769179689911206, 'light': 9.721569144061837, 'mouthfeel': 3.5494593262124576, 'spice': 3.5421627300544882, 'floral': 2.9489090881837674, 'note': 1.7198334060817695, 'fill': 3.5476557361188, 'mouth': 1.7185847122468687, 'subtly': 1.109948348610505, 'sour': 4.153226751259876, 'palate': 1.719808530459879, 'completely': 1.109948348610505, 'tuck': 1.109948348610505, 'mafia': 1.7191629980425458, 'ncfc': 4.159319508061832, 'ticket': 9.68176163070998, 'camra': 5.372587051921481, 'cicerone': 4.159319508061832, 'certified': 9.024346109127906, 'server': 4.159319508061832, 'motorsport': 4.159319508061832, 'audi': 4.159319508061832, 'include': 7.4236133070878285, 'waterstones': 1.1362822822822822, 'picadilly': 1.7453452097788622, 'recover': 4.247163487307844, 'dramaturg': 2.4091175235385762, 'ernie': 2.4091175235385762, 'bert': 2.4091175235385762, 'labyrinth': 2.4091175235385762, 'alright': 2.324255221130221, 'real': 20.165301793348398, 'swigging': 4.7515069834406365, 'silence': 1.800019992126178, 'replace': 1.1910087719298246, 'folk': 1.7969178628389155, 'historic': 1.1910087719298246, 'quarter': 1.1910087719298246, 'kabul': 1.8816387559808612, 'toimin': 1.7154573013415892, 'tvt': 1.7154573013415892, 'n': 2.9449831144718903, 'opetuskäytön': 1.7154573013415892, 'asiantuntijana': 1.7154573013415892, 'suunnittelijana': 1.7154573013415892, 'ja': 2.9309146026831785, 'tukihenkilönä': 1.7154573013415892, 'digipalveluissa': 1.7154573013415892, 'erityisesti': 1.7154573013415892, 'ssa': 1.7154573013415892, 'oppimisenit': 1.7154573013415892, 'potentialdefense': 1.1906299840510366, 'heard': 1.1906299840510366, 'depp': 1.1906299840510366, 'libel': 1.1906299840510366, 'suit': 2.4097417397816447, 'hyde': 3.630537467385879, 'painter': 1.7920289387684898, 'eurovision': 1.7920289387684898, 'catdad': 1.7920289387684898, 'fritz': 1.7920289387684898, 'frida': 1.7920289387684898, 'bedford': 2.3284619366141106, 'forward': 3.54638942570344, 'academy': 7.856219999642856, 'islington': 2.934428029793153, 'alternative': 2.3262295941632463, 'sold': 1.1089950980392156, 'enquiries': 1.1089950980392156, 'neighbour': 1.1475759290699867, 'toot': 4.22153389955816, 'beach': 2.3634170023414005, 'bikini': 1.7487122927063505, 'kickstart': 1.1475759290699867, 'scenic': 1.1082706766917294, 'tower': 15.133479143922905, 'aht': 1.7170325814536342, 'edtech': 1.7170325814536342, 'dt': 1.7170325814536342, 'computing': 4.752537701333753, 'npqsl': 1.7170325814536342, 'sci': 1.7170325814536342, 'cas': 1.7170325814536342, 'mt': 1.7170325814536342, 'teacher': 8.406174571318296, 'rpi': 1.7170325814536342, 'educator': 5.526895911819719, 'gce': 1.7170325814536342, 'mie': 1.7170325814536342, 'lager': 2.3244789833822086, 'dogs': 3.5410811339198434, 'grandad': 3.5410811339198434, 'ice': 9.01597117036057, 'make': 14.825355548623142, 'sing': 2.3226248353096177, 'joy': 3.5446435754110257, 'lollycampbell': 1.108498023715415, 'selflove': 1.108498023715415, 'selfcare': 1.7181084133258047, 'happiness': 6.80659095010456, 'beyourself': 1.108498023715415, 'lovewhatyoudo': 1.108498023715415, 'fitness': 8.512872612425186, 'instructor': 4.145997337378827, 'german': 1.1906299840510366, 'lawmaker': 1.1906299840510366, 'vote': 3.8703856428659056, 'abolish': 1.1906299840510366, 'pandemic': 1.8812599681020732, 'restriction': 1.1906299840510366, 'rnr': 1.715078453884424, 'bundle': 1.7139677983707835, 'londonvibe': 1.107539226942212, 'theshardlondon': 1.7163448067155338, 'uklife': 1.107539226942212, 'belini': 1.107539226942212, 'goodfriend': 1.107539226942212, 'snuggly': 1.107539226942212, 'yes': 3.5394614675070977, 'vacationmode': 1.1087128399746997, 'hilton': 2.3250973285302408, 'bankside': 1.717151881553276, 'poor': 1.7153127658182297, 'man': 21.54574964344468, 'depend': 2.3242606824848964, 'madonna': 2.3245472619422607, 'madonnafamily': 1.7153127658182297, 'mdna': 1.7153127658182297, 'boyfriend': 1.109472049689441, 'u': 4.207585593989046, 'properly': 1.718390082476326, 'mancunian': 1.109472049689441, 'sounding': 1.109472049689441, 'end': 16.712610805736663, 'boogeying': 1.109472049689441, 'acting': 3.803448939706429, 'superhero': 1.109472049689441, 'loveislouder': 1.109472049689441, 'appear': 2.9342544958616896, 'bridgerton': 2.3271191085129708, 'cityoflondon': 2.930795297045297, 'citylife': 1.1091666666666669, 'thegherkin': 1.1091666666666669, 'lloydsoflondon': 1.1091666666666669, 'cityphotography': 1.7165792540792544, 'blackandwhitephotography': 1.7164583333333336, 'wtw': 1.1091666666666669, 'blackandwhite': 1.1091666666666669, 'hart': 2.3284230220955098, 'lane': 6.040892002668741, 'block': 2.3273252357929777, 'parklane': 1.1091666666666669, 'coys': 1.1091666666666669, 'yidarmy': 1.1091666666666669, 'ttid': 1.1091666666666669, 'classic': 6.700589047523904, 'elderflower': 2.325253313328332, 'saison': 2.325253313328332, 'wander': 6.580222115038328, 'sample': 7.2710642203014855, 'beers': 7.799369548632276, 'kent': 7.792481143331491, 'member': 22.004333172589565, 'guardz': 1.1088178294573643, 'youtube': 10.16207578033087, 'channel': 1.7184460071717857, 'hip': 7.197547934661137, 'hop': 5.978950352113736, 'filmmaker': 1.1088178294573643, 'enquiry': 6.519623628290968, 'restaurant': 18.37052988917089, 'jessica': 1.2505656108597285, 'wright': 1.2505656108597285, 'singing': 1.2505656108597285, 'softwareteste': 1.1035196687370599, 'partyinspiration': 1.1090629800307221, 'alcoholmeme': 1.1090629800307221, 'newmusicalert': 1.7182125401480242, 'newmusicfriday': 2.324121631057115, 'feelingmyself': 1.1090629800307221, 'redcup': 1.1090629800307221, 'popmusician': 1.1090629800307221, 'singersofinstagram': 1.1090629800307221, 'goodtimeswithgoodpeople': 1.1090629800307221, 'lifeisgoodtoday': 1.1090629800307221, 'single': 6.573224514286377, 'wish': 5.370239018214074, 'february': 2.3272755201787465, 'scientific': 2.9154261381693947, 'meaningful': 2.30666423340749, 'position': 2.9184267864016604, 'spelljar': 1.1088178294573643, 'moneyspell': 1.1088178294573643, 'ostera': 1.1088178294573643, 'fullmoon': 1.1088178294573643, 'candlemagic': 1.1088178294573643, 'viking': 2.9354436052194863, 'bodyguard': 2.9354436052194863, 'protect': 3.6268690438159776, 'nhs': 4.791747490183896, 'favorite': 6.057250627696125, 'legendary': 2.4583130603263808, 'gary': 1.1038741302972803, 'oldman': 1.1038741302972803, 'talent': 3.0142587279391373, 'relations': 2.3783037301553076, 'digital': 29.000719420190872, 'marketing': 11.543984756460704, 'productions': 1.8073557024447031, 'influencer': 2.3081269498461525, 'roasty': 2.32960308908046, 'jet': 1.7197180316091956, 'thin': 1.7119410110285767, 'soft': 2.329601044508798, 'roast': 2.3284462130452876, 'evident': 1.1098329741379311, 'watery': 1.1098329741379311, 'cast': 1.828980867260205, 'notromeo': 1.2193817878028406, 'iphone': 1.2193817878028406, 'colourphotography': 1.2193817878028406, 'westend': 2.437868989007433, 'attentionspanbitche': 1.2193817878028406, 'shaftesbury': 3.2441390878213636, 'property': 2.951387259393341, 'boom': 1.71724166538046, 'sanction': 4.656217500337195, 'interest': 2.934130526500671, 'spike': 1.1088844086021505, 'defoes': 2.323185483870968, 'ag': 2.323185483870968, 'switzerland': 2.323185483870968, 'zug': 2.323185483870968, 'raisecapital': 2.323185483870968, 'investment': 3.012591691698228, 'mining': 2.323185483870968, 'nico': 1.107449160035367, 'rao': 1.107449160035367, 'pimparé': 1.107449160035367, 'glitter': 1.107449160035367, 'joeorton': 1.107449160035367, 'offwestend': 1.107449160035367, 'offwestendtheatre': 1.107449160035367, 'theatrelondon': 1.107449160035367, 'londontheatre': 1.107449160035367, 'seven': 1.107449160035367, 'dials': 1.107449160035367, 'playhouse': 1.107449160035367, 'headshotphotographer': 1.107449160035367, 'chinesebrushindianink': 1.107449160035367, 'rubens': 3.622039473684211, 'media': 18.410320982433554, 'analyticalskill': 1.1035196687370599, 'monkswell': 1.1090151515151514, 'manor': 1.1090151515151514, 'themousetrap': 1.1090151515151514, 'whodunit': 1.1090151515151514, 'murdermystery': 1.1090151515151514, 'mousetrap': 1.718030303030303, 'agathachristie': 1.1090151515151514, 'welsh': 2.967677361602086, 'keddie': 1.1090151515151514, 'scott': 1.7181708188103535, 'associates': 1.1090151515151514, 'android': 2.9349604457058156, 'ios': 2.3265892335846035, 'tripogy': 1.1089479166666667, 'lsd': 1.1089479166666667, 'bet': 1.7178323252688172, 'colour': 7.186327337969796, 'painting': 1.7181215861344539, 'trilogy': 1.1089479166666667, 'acid': 1.1089479166666667, 'acidhouse': 1.7178958333333334, 'expandyourmind': 1.1089479166666667, 'mono': 1.1089479166666667, 'yellow': 2.9277247538645566, 'gallery': 12.946789148009735, 'definitely': 2.355746610669024, 'cool': 6.741836674563206, 'paint': 7.1937272342369445, 'realism': 1.7193854995579132, 'lgbtq': 1.7193854995579132, 'ally': 3.0181145095829756, 'bdsm': 1.7193854995579132, 'fetish': 1.7193854995579132, 'scene': 2.9375056545966727, 'munch': 1.7193854995579132, 'dungeon': 1.7193854995579132, 'monitor': 1.7193854995579132, 'freebie': 1.1056891025641025, 'notting': 6.583720222141941, 'hill': 14.589267383118468, 'jacket': 2.327384056241333, 'skirt': 1.109149560117302, 'boots': 2.517519885197142, 'elalondonjewelry': 1.109149560117302, 'tap': 2.9366941737625, 'e': 10.281160328693774, 'l': 4.143594819159335, 'womenswear': 2.931099735161063, 'multibrand': 2.3217974095796676, 'boutique': 9.625465262037435, 'brompton': 2.3217974095796676, 'knightsbridge': 7.334359328456236, 'happybirthday': 1.7170443433226728, 'birthdayboy': 1.7158988012553378, 'ski': 8.409107725038055, 'theskiguru': 8.409107725038055, 'alpinedesign': 8.409107725038055, 'softpastel': 9.01811894523441, 'linneberg': 1.7150735294117645, 'portrait': 3.5656835580682777, 'advertising': 2.9933304684390776, 'fashionphotographer': 1.7398176814585486, 'celebrityphotographer': 1.7398176814585486, 'stone': 2.3261284488661538, 'stpaulscathedral': 1.1082923832923832, 'paul': 6.908405911892109, 'cathedral': 3.1614171826284263, 'nuke': 2.3254680589680587, 'remain': 4.409070938328197, 'usna': 2.3254680589680587, 'marine': 2.3254680589680587, 'vet': 3.5311744440862087, 'put': 4.150333187399714, 'discover': 14.486637011485412, 'enter': 4.143948938396613, 'entirely': 2.932069916517591, 'r': 1.7147581276929103, 'kelly': 2.933453711376162, 'woman': 11.055490296720254, 'jail': 1.7137623951182301, 'rkelly': 1.1055434782608695, 'bdexentertainment': 1.7112948443810883, 'bdexentertainmenttv': 1.7112948443810883, 'bdexentertainmentnew': 1.7112948443810883, 'bdexentertainmentupdate': 1.7112948443810883, 'bdextv': 1.7112948443810883, 'bdxe': 2.9225896887621765, 'bdex': 1.7112948443810883, 'entertainment': 5.960713998662802, 'capitalise': 1.7112948443810883, 'youtuber': 3.0393377123242593, 'videographer': 4.755440130736611, 'high': 9.004917654719168, 'level': 3.5534837729388693, 'ig': 10.779453395278255, 'evolved': 1.100969696969697, 'rotate': 1.100969696969697, 'rabbit': 1.7103827645222993, 'operate': 2.303580262080262, 'sex': 2.303580262080262, 'show': 6.001893549725922, 'mercy': 2.933865339747693, 'sascha': 1.7406911217437533, 'journalism': 2.3493622929149245, 'award': 12.290916714663565, 'winner': 4.172938710928941, 'teddy': 1.7406911217437533, 'graham': 1.1722916666666667, 'jones': 1.1722916666666667, 'internet': 1.8445833333333335, 'psychologist': 1.1722916666666667, 'lecturer': 4.996135605311653, 'evening': 13.409169897249656, 'journey': 4.761123686490874, 'duck': 8.022441203304684, 'waffle': 4.148687260154651, 'shoe': 8.46089333771634, 'blogge': 1.7175000000000002, 'landan': 1.108848484848485, 'belated': 1.108848484848485, 'valentine': 1.108848484848485, 'treat': 3.0187176106922617, 'moll': 1.108848484848485, 'plus': 2.3893388725969373, 'cahoots': 1.108848484848485, 'normality': 1.108848484848485, 'vaudeville': 1.108848484848485, 'debut': 4.223998241165441, 'webb': 1.108848484848485, 'gea': 1.108848484848485, 'uow': 1.108848484848485, 'alumni': 3.611667571463624, 'seo': 1.108848484848485, 'copywriter': 1.7161451355661883, 'icecream': 1.1066337719298245, 'melt': 1.1066337719298245, 'selfridge': 3.043322754349642, 'depop': 1.713267543859649, 'vintagekoeasi': 1.713267543859649, 'timmmeeeeeee': 1.2198239510858104, 'ufc': 3.7682183528911057, 'octagon': 1.2198239510858104, 'ring': 3.0462914838455486, 'give': 4.8810248935186005, 'well': 9.949387271575636, 'try': 18.099749275513975, 'kaffeine': 3.7722233980255244, 'titchfield': 3.7722233980255244, 'eastcastle': 7.044446796051049, 'friday': 12.932089899468814, 'saturday': 11.08026951155025, 'sundays': 4.4094695666079, 'survivor': 2.587465709728867, 'chineseairliner': 1.9232902711323763, 'trust': 2.9913408397599577, 'pesa': 1.7148423423423425, 'billing': 1.1095045045045047, 'plugin': 2.937608527011512, 'suicidal': 1.1095045045045047, 'callback': 1.7189841333871185, 'url': 1.1095045045045047, 'dummy': 1.718009009009009, 'transaction': 1.1095045045045047, 'payment': 2.323226983574766, 'simple': 3.530483012367001, 'curl': 1.1095045045045047, 'request': 1.7187979827653743, 'threerounds': 1.1906299840510366, 'jackson': 1.8816387559808612, 'confirmation': 1.1906299840510366, 'playbook': 1.1906299840510366, 'homeward': 1.1083010752688172, 'bind': 1.7164610099893394, 'kings': 2.9280771218387405, 'pancreas': 1.1083010752688172, 'booze': 4.763138324472287, 'footy': 1.7178706723384143, 'posh': 1.1083010752688172, 'opening': 8.499421176936709, 'dev': 7.2548527930816205, 'general': 5.345725428544463, 'cambridge': 4.7722690128204945, 'martinfreeman': 5.374356438135508, 'cute': 4.181414165889908, 'green': 9.032694938034814, 'johnwatson': 2.937178219067754, 'sherlock': 4.153498088508798, 'thehobbit': 2.937178219067754, 'bilbobaggins': 1.718579734219269, 'totally': 4.15114658953875, 'richardarmitage': 2.937178219067754, 'thilbo': 2.937178219067754, 'richartin': 2.937178219067754, 'gothgirl': 2.937178219067754, 'failartist': 2.937178219067754, 'jensenackles': 2.937178219067754, 'bencumberbatch': 2.937178219067754, 'sexy': 4.761372972524017, 'order': 6.61826374532421, 'tartare': 1.1374358393719808, 'forget': 4.229144560455701, 'seat': 2.9650542131648336, 'kore': 1.1374358393719808, 'popular': 3.6551533509981047, 'recommend': 2.958133018536902, 'sam': 4.879283665458937, 'harrison': 3.0083597524154593, 'hammersmith': 4.849066959622666, 'riverside': 4.879283665458937, 'kettle': 1.1092664092664093, 'rasp': 1.1092664092664093, 'rhubard': 1.1092664092664093, 'fizzy': 1.1092664092664093, 'ginger': 5.979584189049492, 'cure': 2.9333634267791737, 'ails': 1.1092664092664093, 'ya': 3.597086437428543, 'squashed': 1.1092664092664093, 'rhubarb': 1.1092664092664093, 'junkie': 5.369413618505724, 'accent': 3.541472905236063, 'banter': 3.625709231345454, 'coincidentally': 2.934455361376414, 'actually': 4.785352220992077, 'blackfriars': 3.5355228195228197, 'bfr': 1.7131282051282053, 'office': 15.177483950250021, 'continuous': 10.197373834498835, 'improvement': 10.804745629370629, 'crown': 1.1916344086021504, 'edition': 6.188363536214511, 'typical': 1.1185167615433271, 'bbcworldservice': 1.1185167615433271, 'mariupol': 2.418367286375492, 'bbcweekend': 1.1185167615433271, 'bbc': 8.045612852647887, 'panorama': 1.1185167615433271, 'itv': 1.1185167615433271, 'documentary': 1.1185167615433271, 'communications': 1.1185167615433271, 'لا': 2.930584217506632, 'ukac': 1.1093895619757688, 'contest': 1.7187791239515375, 'vhf': 1.1093895619757688, 'amateurradio': 2.3281686859273063, 'icom': 1.1093895619757688, 'asian': 2.484405493119691, 'fall': 3.8733841457534894, 'gain': 1.7998931805319751, 'mosque': 2.923503115764462, 'pembr': 1.1007281883762081, 'xx': 4.765339334089335, 'tattoos': 4.766318197568197, 'studio': 10.502257782575521, 'se': 5.382843282435674, 'pls': 4.773524977200227, 'info': 7.834899711308044, 'site': 7.889972200840246, 'chance': 1.7185205312666787, 'zoo': 1.1087357954545456, 'iconic': 1.7183919726107226, 'apollo': 4.235157834672638, 'vaccinate': 1.1087357954545456, 'neutral': 1.1087357954545456, 'tylerhab': 1.1087357954545456, 'pretty': 1.7146226580437107, 'scarf': 2.3517827817827817, 'durable': 1.1073260073260074, 'buy': 5.364944043112323, 'silk': 1.7168273734462258, 'nativeinme': 5.350207908033995, 'clothingthatmeansmore': 2.9251039540169974, 'silkscarf': 1.1073260073260074, 'clothing': 4.751692823480868, 'stephen': 2.404634407055891, 'williams': 1.7957163742690059, 'tailoring': 1.1478581871345028, 'tailor': 2.366821255316321, 'arrange': 4.946345403206998, 'appointment': 1.1478581871345028, 'exhibit': 1.1082706766917294, 'curve': 1.1082706766917294, 'interested': 2.9272055653325006, 'transport': 2.9398494571067166, 'handsome': 1.717199248120301, 'usually': 2.9321010130220664, 'instead': 2.324490914786968, 'send': 4.838269710500849, 'drunken': 1.717199248120301, 'euston': 6.584669610302067, 'attempt': 2.325695912614517, 'activity': 2.934274343987066, 'trainee': 2.9341349541930932, 'wildcamper': 2.325695912614517, 'munro': 2.325695912614517, 'wainwright': 2.325695912614517, 'bagger': 2.325695912614517, 'bunnyhugger': 2.325695912614517, 'fab': 2.3279223911675304, 'rosalind': 1.1094318181818181, 'mckever': 1.1094318181818181, 'claire': 1.1094318181818181, 'wilcox': 1.1094318181818181, 'fashioning': 1.8296058567895095, 'masculinities': 1.1094318181818181, 'menswear': 4.266845265809143, 'partnership': 1.1094318181818181, 'producing': 1.1094318181818181, 'young': 4.1513969773417445, 'marketingmeme': 1.1094961240310077, 'marketingagencylife': 1.1094961240310077, 'disruptiveinnovation': 1.1094961240310077, 'genz': 1.1094961240310077, 'guarantee': 1.1094961240310077, 'result': 1.7179078887368902, 'area': 9.20069452389906, 'web': 3.6141495482584634, 'onelifeliveit': 1.2741754385964912, 'bag': 3.765732427609667, 'thedesignmuseum': 1.1089180327868853, 'designmuseum': 1.1089180327868853, 'designismybag': 1.1089180327868853, 'designbag': 1.1089180327868853, 'designtotebag': 1.1089180327868853, 'totebag': 1.1089180327868853, 'tote': 1.1089180327868853, 'kengsington': 1.1089180327868853, 'kengsintonhigh': 1.1089180327868853, 'museum': 11.066640106715077, 'shotonsamsung': 1.1089180327868853, 'diseñadora': 1.1089180327868853, 'gráfica': 1.1089180327868853, 'especializada': 1.1089180327868853, 'packaging': 1.7179131308261009, 'licenciada': 1.1089180327868853, 'negocios': 1.1089180327868853, 'de': 14.617757411032827, 'diseño': 1.1089180327868853, 'comunicación': 1.7174160565023002, 'transformation': 2.319758657328425, 'entrance': 1.1089285714285715, 'recently': 7.542453226619935, 'complete': 11.02211768455144, 'rosenarmani': 1.1089285714285715, 'luxuryinteriordesign': 1.1089285714285715, 'renovation': 1.1089285714285715, 'extremerenovation': 1.1089285714285715, 'londoninteriordesign': 1.1089285714285715, 'londonrenovation': 1.1089285714285715, 'rose': 1.7183511087199612, 'narmani': 1.1089285714285715, 'interior': 10.902896644159663, 'pilpel': 1.1070686070686069, 'wandering': 5.362748249261407, 'canuck': 5.362748249261407, 'itchy': 5.362748249261407, 'foot': 9.623211827030056, 'figure': 5.362748249261407, 'hoard': 5.362748249261407, 'handbag': 5.971870158894825, 'carriage': 1.1077878787878788, 'drive': 6.014267791875089, 'battersea': 12.069279952120898, 'sap': 1.8923712121212122, 'basis': 1.1077878787878788, 'frustrated': 1.1077878787878788, 'perfection': 1.7152590090090092, 'authenticity': 1.7152590090090092, 'purrrrrr': 1.7152590090090092, 'styling': 2.981481983100836, 'behave': 1.7152590090090092, 'bitch': 3.0448870951335563, 'seldom': 1.7152590090090092, 'devil': 1.1074260752688172, 'george': 2.9305536375612844, 'wetherspoons': 1.1074260752688172, 'mad': 2.320190877422414, 'wrestling': 2.9417461660997954, 'cover': 6.618712388726555, 'tpo': 1.7191868074904424, 'barrie': 1.109558629776021, 'edmund': 1.109558629776021, 'cutting': 1.1070686070686069, 'cost': 1.7979107123317646, 'wordpress': 2.324827616077616, 'fallow': 1.1950100553041731, 'michelin': 1.8045796523737703, 'star': 5.685917795073775, 'stratford': 1.1950100553041731, 'avon': 1.1950100553041731, 'cookbook': 1.8321408224349403, 'ccfc': 1.1950100553041731, 'partners': 1.1065641025641026, 'brother': 3.6231107348696687, 'elizabeth': 2.4519880948085286, 'ii': 2.435697367991486, 'alley': 1.7152022380595149, '鹿角巷': 1.1077761627906977, 'danish': 1.1075367647058822, 'éclairs': 1.108672936259143, 'change': 11.238693469460523, 'till': 3.546251381195981, 'coffeeaddict': 1.108672936259143, 'justcoffee': 1.108672936259143, 'eclair': 1.108672936259143, 'frenchpastry': 1.108672936259143, 'bonappetit': 1.108672936259143, 'londonlifestyle': 1.717735916289865, 'teak': 1.1081996434937613, 'desk': 2.3243198236232296, 'rise': 6.224342432927854, 'skyline': 1.1091666666666669, 'shame': 1.7173333333333334, 'window': 1.1091666666666669, 'sahara': 1.718822843822844, 'sand': 1.1091666666666669, 'techie': 1.1091666666666669, 'petrol': 1.1091666666666669, 'broadcaster': 1.8935984848484853, 'relief': 1.1091666666666669, 'postcard': 2.938188648189445, 'poprad': 1.1091666666666669, 'bigben': 2.3633255410025913, 'buckinghampalace': 2.3342586003480847, 'gardenlodge': 1.1171650055370987, 'freddiemercury': 1.1171650055370987, 'abbeyroad': 2.3351379008462008, 'beatle': 1.725669510041603, 'crystalpalaceeverton': 1.1171650055370987, 'selhurstpark': 1.1171650055370987, 'towerbridge': 1.7258013691734624, 'mba': 5.382503690544901, 'nsu': 1.1171650055370987, 'fiu': 1.1171650055370987, 'ucab': 1.1171650055370987, 'economist': 1.7225816722037655, 'usm': 1.1171650055370987, 'insurance': 1.1171650055370987, 'realtor': 1.1171650055370987, 'madridista': 1.1171650055370987, 'delighted': 1.7744668318251167, 'speak': 3.127571072913178, 'stand': 4.81568909298919, 'introduce': 2.9926779432076334, 'larisa': 1.1648677523677522, 'shepitko': 1.1648677523677522, 'institut': 1.1648677523677522, 'français': 1.1648677523677522, 'du': 2.3832150913033265, 'royaume': 1.1648677523677522, 'uni': 1.1648677523677522, 'guardian': 1.1648677523677522, 'critic': 2.3833066663949016, 'gothic': 1.1648677523677522, 'romance': 2.383885492057942, 'horrible': 1.1648677523677522, 'eu': 1.7967028585449638, 'regulator': 1.1906299840510366, 'advise': 1.7999829734040258, 'astrazeneca': 1.1906299840510366, 'covid': 5.863810730049927, 'drug': 1.7977549840510365, 'userexperience': 1.1035196687370599, 'dynasty': 1.1094683908045977, 'groove': 1.1094683908045977, 'control': 2.932557344861294, 'album': 4.15578246050435, 'adventures': 1.1094683908045977, 'land': 4.752990916143486, 'solar': 1.7174010831122901, 'repost': 1.7738474757719178, 'choon': 1.7187618690654674, 'coronadiarie': 1.1094683908045977, 'besafe': 1.1094683908045977, 'lotta': 2.932196044379697, 'liquid': 1.1072916666666668, 'lottttaaa': 1.1072916666666668, 'lottta': 1.1072916666666668, 'cheating': 1.1086711711711712, 'italian': 3.6279101021038906, 'breakfast': 4.1506373104155365, 'fullenglish': 1.1086711711711712, 'local': 8.462190174746937, 'laneway': 1.1080889540566958, 'expatlife': 4.149530681355349, 'awesomeness': 3.5430534086280763, 'color': 1.1080889540566958, 'biz': 5.974299380793167, 'cape': 5.36464320363699, 'decent': 2.434704412546518, 'bitter': 1.71645904995905, 'cerberus': 1.1077878787878788, 'surge': 4.559574162679425, 'come': 30.456618314040515, 'stop': 9.785464455432669, 'stare': 2.929091873746385, 'clock': 2.929091873746385, 'title': 6.67456503587753, 'principal': 2.3175462777332267, 'civil': 1.1048850574712645, 'define': 1.104848484848485, 'innovator': 1.104848484848485, 'architecture': 4.145941059671669, 'role': 2.4070620466121317, 'projectmgmt': 2.311393694025273, 'ba': 2.920608343457314, 'page': 8.73203989897755, 'satinder': 1.2508639910813826, 'sartaaj': 1.2508639910813826, 'poet': 4.90326132240237, 'composer': 2.4685115749141, 'concerts': 1.2508639910813826, 'holmes': 1.7163198694410444, 'celebratory': 1.1089522380595147, 'claridge': 1.7179044761190296, 'supreme': 1.7997943433226724, 'court': 5.615178925058397, 'case': 6.4080145548179015, 'silkstreatjunior': 1.1089522380595147, 'qc': 1.717285571392848, 'tradition': 1.1089522380595147, 'thebar': 1.1089522380595147, 'supremecourt': 1.1089522380595147, 'law': 3.777373723048284, 'immigration': 1.7459161485773742, 'rights': 1.717391279638091, 'barrister': 1.1089522380595147, 'inner': 1.1089522380595147, 'temple': 7.805211537790312, 'grow': 11.118372005510327, 'organic': 7.9745134883040665, 'biodynamic': 5.537928173972292, 'method': 5.537928173972292, 'rhythm': 5.537928173972292, 'pret': 1.1074260752688172, 'vegan': 9.04974301416019, 'bean': 2.335562774586731, 'wrap': 6.605857762412564, 'serotonin': 1.1074260752688172, 'brutalist': 1.1074260752688172, 'imagine': 2.961081232149716, 'autocorrect': 1.1074260752688172, 'chair': 4.915998748620733, 'café': 1.7102564102564102, 'dawn': 1.7145600233100233, 'strong': 1.712916083916084, 'leclerc': 1.19125386996904, 'leads': 1.19125386996904, 'ferrari': 1.19125386996904, 'bahrain': 1.19125386996904, 'ahead': 3.8727455053100397, 'hamilton': 2.40886425957943, 'bull': 1.19125386996904, 'fail': 6.744002962640408, 'finish': 4.237109623072423, 'paddington': 1.715625718762578, 'fam': 2.3247756128495407, 'chelseafc': 1.7158988012553376, 'peloton': 1.7158988012553376, 'easy': 3.5359613115372968, 'cheeky': 2.32448569229628, 'thrifty': 1.1088178294573643, 'hot': 6.112401277765463, 'turnip': 1.1088178294573643, 'orangerie': 1.1088178294573643, 'alongside': 1.1088178294573643, 'smash': 1.7151698108093456, 'caraway': 1.1088178294573643, 'workparty': 1.1088178294573643, 'gentrification': 5.979233981172766, 'meat': 4.154311839359608, 'veg': 4.26408323755206, 'dietary': 3.5450515898052415, 'distastefully': 5.979233981172766, 'dine': 5.979233981172766, 'tip': 9.016344816522174, 'brooklyn': 3.5450515898052415, 'transform': 1.1081996434937613, 'fried': 1.71749960254372, 'bun': 1.7175196560196557, 'stellar': 1.1085045045045043, 'bab': 1.1085045045045043, 'afternoon': 2.9528258102518663, 'gaswork': 1.1165697674418604, 'eastlondon': 1.1165697674418604, 'broadwaymarket': 1.1165697674418604, 'londonfield': 1.1165697674418604, 'broadway': 4.78486630576473, 'fields': 1.1165697674418604, 'anybody': 1.1165697674418604, 'true': 4.85097974351587, 'parker': 1.1165697674418604, 'shape': 4.184347471696584, 'message': 2.928597567984077, 'fight': 4.514689350796544, 'yous': 1.105923076923077, 'newquaybomb': 1.105923076923077, 'boxer': 2.339395299145299, 'undefeate': 1.7709011697700223, 'bradpauls': 1.105923076923077, 'sponsorship': 1.105923076923077, 'song': 4.787146358443541, 'thecure': 1.1068651778329197, 'justlikeheaven': 1.1068651778329197, 'robertsmith': 1.1068651778329197, 'boston': 1.716521354989097, 'release': 3.624810272584666, 'mgmt': 3.031992251709643, 'blossom': 5.364280771239441, 'k': 6.16621026206141, 'arsenal': 3.539598297390525, 'somerset': 2.322923721015826, 'winebore': 1.713267543859649, 'unite': 1.8814720893141943, 'punish': 1.1908421052631577, 'putin': 5.265712196646406, 'kidstracksuit': 1.1063519813519813, 'beany': 1.10686517783292, 'tate': 2.948756807035323, 'modern': 2.342138093976329, 'foodie': 9.096486884412705, 'obsessed': 6.1065921130468785, 'portfolio': 6.659537224790429, 'goth': 1.1171650055370987, 'portland': 1.1171650055370987, 'untoother': 1.1171650055370987, 'idlehand': 1.1171650055370987, 'camdenunderworld': 1.1171650055370987, 'underworldcamden': 1.1171650055370987, 'roadrunnerrecord': 1.1171650055370987, 'heavymetalgothrock': 1.1171650055370987, 'livemusic': 2.944284586525115, 'underworld': 1.1171650055370987, 'reporter': 1.7921860892393968, 'blue': 10.946396247574862, 'polo': 1.1074125874125875, 'classy': 1.1074125874125875, 'breathable': 1.1074125874125875, 'fabric': 2.353610994054478, 'poloshirt': 1.1074125874125875, 'vue': 1.1078098471986417, 'vuecinema': 1.1078098471986417, 'movie': 7.196967549579841, 'saturdayvibe': 1.7162488887772183, 'parliament': 3.0334366961540873, 'francophone': 1.1075757575757574, 'تجديف': 1.1075757575757574, 'ideal': 1.7173993668023517, 'english': 1.7180914610262437, 'brekky': 1.7182898791468055, 'suites': 1.108876811594203, 'orchid': 1.108876811594203, 'ardent': 2.322628313328332, 'friendship': 10.226027276131688, 'adventure': 12.064427136075665, 'beardy': 4.15003380958876, 'bisexual': 4.15003380958876, 'leather': 6.0044911893076485, 'guinea': 4.15003380958876, 'pig': 5.366999470096353, 'nsfw': 4.786822807562891, 'topic': 4.758839389362082, 'bwiththet': 4.15003380958876, 'carpo': 1.1065641025641026, 'felt': 1.7426815297739213, 'delete': 1.134846384846385, 'inquire': 2.403831220798963, 'jameelajoie': 1.7701098641210868, 'gunpowder': 1.1088055797733216, 'combine': 3.5559983436686764, 'guide': 6.584547562021657, 'dratford': 1.1062500000000002, 'magic': 4.142900180152056, 'hamiltonwestend': 1.108, 'hamiltonmusical': 1.108, 'injure': 1.797967105263158, 'musical': 3.5412249944868543, 'therapy': 1.1095013661202184, 'porcelain': 1.7188923917612442, 'screen': 3.539796397926878, 'print': 9.008340815587138, 'oxide': 1.1095013661202184, 'glass': 2.9377059546936595, 'shard': 7.2013933134889525, 'technique': 1.1095013661202184, 'katharine': 2.3288424758301804, 'wapping': 2.3270494430432955, 'hamlets': 1.719116750735603, 'witty': 2.3256231609920133, 'architect': 3.538450698038301, 'whine': 1.7188923917612442, 'merchant': 1.7188923917612442, 'loves': 2.9335394401253976, 'endurance': 1.7188923917612442, 'challenge': 3.5714136228413955, 'bectu': 1.1012328117591275, 'lpd': 1.1012328117591275, 'costume': 1.7090206905470062, 'wardrobe': 1.1012328117591275, 'committee': 2.320302056467907, 'pinch': 1.1012328117591275, 'democratic': 1.1914932680538555, 'republic': 2.407112962451139, 'congo': 1.1914932680538555, 'solidify': 1.1914932680538555, 'commitment': 1.1914932680538555, 'clean': 20.662759685559006, 'greendevelopment': 1.1914932680538555, 'memory': 1.7174199799949985, 'escapetheordinary': 5.368353095030514, 'neoladesign': 2.934176547515257, 'independent': 6.040740358494913, 'original': 5.370705890788307, 'handmade': 10.857250557628204, 'ethical': 4.180876911715622, 'setting': 1.7172912713472486, 'consultancy': 9.022352745730306, 'burn': 2.961800832900577, 'philippine': 2.4085819038853096, 'step': 2.3260836041883093, 'hiphopsavedmylife': 1.1080921052631578, 'ukhiphop': 1.1080921052631578, 'hiphopquote': 1.1080921052631578, 'snow': 2.9260685038645566, 'disney': 3.016580741626794, 'disneyprincess': 1.1072916666666668, 'guest': 3.6363874892098575, 'bottomless': 1.1093895619757688, 'prosecco': 1.1093895619757688, 'brunch': 2.935336167390116, 'course': 4.772730534555619, 'opt': 1.1093895619757688, 'notification': 4.15772723193089, 'intended': 3.5480990542164683, 'conservation': 4.157630304216468, 'russell': 2.3286106946526735, 'borisjohnson': 1.1913466097676624, 'line': 4.839394021466469, 'barbarism': 1.1913466097676624, 'slap': 1.1913466097676624, 'president': 5.253523871341674, 'plead': 1.1906299840510366, 'happyfriday': 1.7176034008502126, 'solution': 3.5385469961240306, 'imagination': 1.7165716994264044, 'unique': 4.761462601599484, 'creativity': 2.326428219067754, 'aka': 2.936247079037658, 'ui': 1.716943546083081, 'entrepreneur': 10.554174142255595, 'marketer': 1.7143402653548003, 'prehospitalcare': 1.1117694617694616, 'environment': 1.7314375198096126, 'hellomynameis': 1.1117694617694616, 'appleemployee': 1.1906299840510366, 'charge': 2.572234731213059, 'defraud': 1.1906299840510366, 'million': 4.569996677299308, 'dredging': 1.1908421052631577, 'ground': 3.1370329853675663, 'cargo': 1.1908421052631577, 'chesapeakebay': 1.1908421052631577, 'air': 11.462475894695572, 'sofarsound': 1.106975867269985, 'acoustic': 1.106975867269985, 'freshairmusic': 1.7139517345399697, 'crisis': 1.7973267444629673, 'decry': 1.1908421052631577, 'deportation': 1.1908421052631577, 'chaos': 1.798138755980861, 'haiti': 1.1908421052631577, 'bed': 7.4084818114256565, 'flat': 6.715395550559384, 'edgware': 1.1368865453542871, 'viewing': 3.684764795082632, 'plaza': 3.684764795082632, 'estates': 3.684764795082632, 'properties': 3.684764795082632, 'marble': 3.684764795082632, 'glassware': 1.1091861327400814, 'alert': 1.1091861327400814, 'flow': 2.3324697098455376, 'tumbler': 1.1091861327400814, 'lungo': 1.1091861327400814, 'carafes': 1.1091861327400814, 'glassblower': 1.1091861327400814, 'form': 2.3282978884706895, 'delicate': 1.1091861327400814, 'silhouette': 1.1091861327400814, 'ooze': 1.1091861327400814, 'elegance': 1.1091861327400814, 'sophistication': 1.7179480375019862, 'decorum': 1.7183356928573834, 'eclectic': 1.7183356928573834, 'mix': 4.923328259188866, 'industrial': 2.935645187695208, 'minimal': 2.9373426599620664, 'inspire': 6.0137439396509285, 'variation': 1.718944099378882, 'removal': 1.718944099378882, 'cumberland': 1.109472049689441, 'kink': 1.1011363636363636, 'string': 1.7106047544409613, 'shrug': 1.1011363636363636, 'touch': 2.32536608322336, 'rosewood': 1.7137303556658394, 'rosewoodhotel': 1.1068651778329197, 'londonist': 1.1068651778329197, 'instalondon': 1.1068651778329197, 'ad': 1.1068651778329197, 'cappuccino': 1.1079545454545454, 'lyric': 1.7168725782414307, 'manger': 2.3245378787878788, 'motivation': 1.1079545454545454, 'succeed': 1.1079545454545454, 'ƨ': 1.1070686070686069, 'alpinedecor': 1.1089522380595147, 'alpinestyle': 1.1089522380595147, 'chaletstyle': 1.1089522380595147, 'chaletdecot': 1.1089522380595147, 'decomontagna': 1.1089522380595147, 'bringthemountainshome': 1.1089522380595147, 'blanket': 1.1089522380595147, 'python': 4.121118012422359, 'ruby': 4.7293176559161205, 'source': 1.7154642719583295, 'seen': 1.1088055797733216, 'korea': 3.953574162679425, 'test': 1.800258161765458, 'biggesticbm': 1.1906299840510366, 'add': 3.7084110839588003, 'pippy': 1.9059941520467838, 'houldsworth': 1.9059941520467838, 'passionate': 13.297521688456257, 'fortunate': 4.614165848771112, 'spread': 4.006753261358525, 'primaries': 1.1906299840510366, 'testingtrump': 1.1906299840510366, 'kingpin': 1.1906299840510366, 'bbq': 2.435281647746818, 'halloumi': 1.2190316477468182, 'kebab': 1.2190316477468182, 'excellent': 1.2190316477468182, 'kfc': 1.7401075268817203, 'ate': 1.1200537634408603, 'wake': 1.7296528428982247, 'vomit': 2.9795118759405876, 'constant': 1.7221618003315058, 'vomiting': 1.1200537634408603, 'affect': 1.1200537634408603, 'poisoning': 6.078374337499182, 'nausea': 2.3594581124997274, 'diarrhea': 2.3594581124997274, 'report': 4.918955601373291, 'consumer': 2.3594581124997274, 'reporting': 2.3594581124997274, 'landmark': 3.5336538461538454, 'create': 11.570529878248207, 'nearby': 5.955372622001654, 'picture': 4.760015223892454, 'abbeyroadstudio': 1.1094683908045977, 'sessionstring': 1.1094683908045977, 'stringquartet': 1.1094683908045977, 'backingstring': 1.1094683908045977, 'studios': 3.544883699723627, 'ensemble': 1.7188579527803665, 'events': 1.7190379878741948, 'session': 9.131199376604393, 'brookspeare': 1.1094683908045977, 'cellist': 1.1094683908045977, 'rachel': 1.1094683908045977, 'shakespeare': 2.324894466073415, 'liberalism': 1.2440494842668754, 'discontent': 1.2440494842668754, 'tour': 6.120965515873916, 'fellow': 5.108105054688831, 'stanford': 1.991157290013125, 'freeman': 2.6007268870827223, 'spogli': 1.991157290013125, 'institute': 2.600629339702566, 'dorsey': 1.991157290013125, 'masters': 2.6551246102745627, 'intl': 2.599740623346458, 'policy': 3.827978142860193, 'childs': 1.1081996434937613, 'smarter': 1.1003959276018098, 'fast': 4.278605038818569, 'expand': 1.1003959276018098, 'applicant': 1.7014924188298801, 'qualification': 1.1003959276018098, 'sales': 2.9043188623494793, 'drip': 1.7704859682800862, 'everybody': 2.4163560448613697, 'swag': 1.8828092006033184, 'aos': 2.924810718821942, 'workshop': 6.1290747548380144, 'stylist': 4.152258917735948, 'multitask': 2.3251191615402145, 'reception': 6.577878787878789, 'pe': 6.577878787878789, 'lesson': 7.187224025974027, 'smoke': 1.1080889540566958, 'ripmarc': 1.1080889540566958, 'hearts': 1.1080889540566958, 'beam': 1.1216845878136201, 'ecommerce': 1.7804903877484524, 'bwfc': 1.7804903877484524, 'french': 3.6547332761300706, 'injuryinterrupts': 1.1906299840510366, 'nadal': 1.1906299840510366, 'carbon': 1.7167622377622376, 'kalua': 1.1081666666666665, 'meneman': 1.1081666666666665, 'hackney': 3.5413298272649603, 'canolfan': 1.1194970760233918, 'celfyddydau': 1.1194970760233918, 'chymunedol': 1.1194970760233918, 'yn': 1.1194970760233918, 'llundain': 1.1194970760233918, 'heel': 1.7118485228539577, 'summer': 8.649876848812104, 'readyforsummeralready': 1.1078351449275363, 'orangeslipper': 1.1078351449275363, 'summerslipper': 1.1078351449275363, 'openheel': 1.1078351449275363, 'orangelifestyle': 1.1078351449275363, 'ecofashionrevolution': 1.1078351449275363, 'ethicalbrand': 1.1078351449275363, 'onstail': 1.1078351449275363, 'shoporange': 1.1078351449275363, 'ukdesign': 1.1078351449275363, 'wool': 1.1078351449275363, 'slipper': 1.716054061784897, 'rain': 3.0726696908084854, 'ft': 4.193388412979397, 'pull': 3.121434641245229, 'errol': 1.202997076023392, 'douglas': 1.202997076023392, 'notch': 1.745784096013347, 'medlar': 1.1368996874111965, 'tmt': 2.4098082251295168, 'ned': 3.0173169970593414, 'semplice': 2.4098082251295168, 'cfc': 4.844463287056416, 'reduced': 1.1344883930583727, 'hoisin': 1.1344883930583727, 'hack': 2.3614815354545002, 'ebay': 1.1344883930583727, 'spend': 1.7438497007766065, 'cah': 1.1344883930583727, 'tuba': 1.1344883930583727, 'rcm': 1.1344883930583727, 'blacklivesmatter': 2.3519630852608353, 'translivesmatter': 1.1344883930583727, 'acab': 1.1344883930583727, 'astro': 1.1480367585630744, 'drum': 3.591360080755104, 'bass': 1.7680383390909706, 'electro': 1.1480367585630744, 'officialsocalval': 1.2303960659223816, 'bueno': 1.109558629776021, 'bubble': 1.109558629776021, 'mealdeallondon': 1.109558629776021, 'stickwaffle': 1.109558629776021, 'londonwaffle': 1.109558629776021, 'croydonfood': 2.328749034573622, 'croydonfoodie': 1.109558629776021, 'therapeutic': 1.729154934009422, 'glaze': 1.1093910256410258, 'tutor': 2.325974358974359, 'basil': 1.7190014152514155, 'shadwell': 1.1093910256410258, 'selfie': 2.4931520562770566, 'ladyinred': 1.2758333333333334, 'nowruz': 1.885443722943723, 'desistyle': 1.2758333333333334, 'wearingchinyere': 1.2758333333333334, 'fightingcancer': 1.2758333333333334, 'pacifist': 2.493726750944493, 'feminist': 1.2758333333333334, 'centrist': 1.2758333333333334, 'politicalscientist': 1.2758333333333334, 'phd': 2.549983803777921, 'militaryethics': 1.2758333333333334, 'actresswriter': 1.2758333333333334, 'columnist': 1.9204150516795866, 'llbhons': 1.2758333333333334, 'ir': 1.2758333333333334, 'diplomacy': 1.2758333333333334, 'amazon': 2.4021280290168234, 'warehouse': 2.4075094906924033, 'nyc': 1.1910087719298246, 'hold': 5.708225679812026, 'union': 5.5346107185316455, 'april': 7.425566609932179, 'produce': 4.764718647234029, 'ago': 2.9351021460927336, 'mood': 4.197721676822048, 'injection': 1.109234496124031, 'ease': 1.109234496124031, 'bandage': 1.109234496124031, 'cjs': 1.718468992248062, 'tokyo': 1.8002432680538556, 'kneepain': 1.109234496124031, 'jux': 1.109234496124031, 'bragging': 1.109234496124031, 'streamer': 1.828434561291838, 'everyman': 1.1082189168573606, 'batman': 1.7988489009083972, 'alien': 3.539980957257845, 'mars': 1.7154931643489992, 'bowie': 1.7154931643489992, 'roxer': 1.7154931643489992, 'duranie': 1.7154931643489992, 'bassist': 1.7154931643489992, 'drummer': 4.148785479356339, 'outsider': 1.7154931643489992, 'bring': 6.174186359610706, 'taste': 1.7154931643489992, 'planet': 3.125762844960785, 'smithwick': 1.1077083333333335, 'soring': 1.118925831202046, 'chalk': 1.7256566004328153, 'shopsouthfield': 1.118925831202046, 'shoplocal': 1.118925831202046, 'shopindependent': 1.728692348837416, 'mothersdaygift': 1.118925831202046, 'mothersdaypresent': 1.118925831202046, 'southfields': 2.974616368286445, 'aladdin': 1.7373081841432225, 'cave': 1.7373081841432225, 'bond': 3.069644190334362, 'liver': 1.1075757575757574, 'onion': 1.1075757575757574, 'memorable': 1.1639673202614378, 'soo': 1.1639673202614378, 'georgina': 1.1639673202614378, 'theriodiarie': 1.1639673202614378, 'vocation': 1.1081599347205222, 'chase': 2.3249312480845776, 'elusive': 1.1081599347205222, 'shoot': 10.062036184714653, 'eventually': 1.1081599347205222, 'asp': 1.7070393374741197, 'orleans': 1.797263755980861, 'loop': 4.1721611721611715, 'treasure': 2.9450918062769396, 'trove': 2.336080586080586, 'gorgeous': 6.590551188076491, 'knitting': 2.336080586080586, 'crochet': 2.336080586080586, 'supply': 2.945773335859543, 'looplondonloves': 2.336080586080586, 'hhem': 1.1051344086021504, 'speed': 2.920867091772943, 'knot': 3.5301792885851397, 'heading': 2.3157326831707925, 'location': 4.7735093497257886, 'automatic': 2.920867091772943, 'ambulance': 2.920867091772943, 'helicopter': 2.920867091772943, 'coastguard': 2.920867091772943, 'rescue': 3.6117091970361006, 'tracker': 2.920867091772943, 'suwaidi': 1.19125386996904, 'holds': 1.19125386996904, 'attiyah': 1.8826793085655313, 'claim': 1.19125386996904, 'victory': 2.4908582129944357, 'merc': 1.19125386996904, 'round': 5.00643264854751, 'kuwait': 1.19125386996904, 'stonewall': 1.1081996434937613, 'divider': 1.1081996434937613, 'holi': 1.1095990794573645, 'absence': 1.7193838152694976, 'joyful': 1.1095990794573645, 'svp': 1.1095990794573645, 'adjustable': 1.1095990794573645, 'fit': 3.7208024797213524, 'finger': 1.1095990794573645, 'band': 2.3286101304045568, 'stack': 1.1095990794573645, 'hello': 3.626271437188643, 'sintillate': 2.9366564491801688, 'ℝ𝕠𝕠𝕗𝕥𝕠𝕡': 1.1092194570135747, '𝔹𝕣𝕦𝕟𝕔𝕙': 1.1092194570135747, 'bisushima': 2.357986153574389, 'marbella': 2.357875464137324, 'mallorca': 2.357875464137324, 'ibiza': 2.357875464137324, 'phuket': 1.7183282245900844, 'mot': 1.7183282245900844, 'shrill': 1.1089522380595147, 'bushwick': 1.1089522380595147, 'esp': 2.3255856146699214, 'pummelo': 1.1089522380595147, 'govida': 1.1089522380595147, 'mezcal': 1.1089522380595147, 'idrank': 1.1089522380595147, 'hedge': 1.1088844086021505, 'fund': 5.536518978556458, 'commodity': 1.1088844086021505, 'sherif': 1.1329059829059829, 'nations': 1.7998963933174459, 'swing': 2.3324412514274435, 'hh': 1.7736454942337296, 'loverugbyloveyoung': 1.1092664092664093, 'togetheratyoung': 1.1092664092664093, 'pubsinlondon': 1.1092664092664093, 'guinness': 3.5441732352291933, 'sixnation': 2.3253939374863286, 'swlondon': 3.5439842238551913, 'halfway': 1.7181508178685598, 'perfect': 7.427826235143373, 'bite': 2.3256373419164116, 'signature': 2.3281591057016255, 'burger': 1.1092664092664093, 'player': 2.3278684254546325, 'vs': 2.9347441561390157, 'avatar': 1.1093895619757688, 'babylonsfall': 1.1093895619757688, 'squareenix': 1.1093895619757688, 'greenhair': 1.1093895619757688, 'mermaid': 2.327540372405649, 'hairfashion': 1.1093895619757688, 'gamergirl': 1.1093895619757688, 'gamer': 1.1093895619757688, 'alt': 1.1093895619757688, 'kawaii': 2.3709180128404266, 'cutegirl': 1.1093895619757688, 'harajuku': 1.1093895619757688, 'jfashion': 1.1093895619757688, 'anime': 1.71574154332775, 'cosplay': 1.1093895619757688, 'lolita': 1.1093895619757688, 'japanese': 2.40694845045571, 'sprint': 1.135453216374269, 'athens': 1.135453216374269, 'gentleman': 1.7702485380116957, 'qualified': 2.322961362350157, 'veterinary': 2.322961362350157, 'story': 5.967511857801279, 'hub': 9.146683155324146, 'gmt': 8.5773331663799, 'showcase': 6.694115497076023, 'rink': 1.1086511627906976, 'whos': 1.1573434343434343, 'tickets': 1.1573434343434343, 'trafalgar': 2.3238127584489816, 'fly': 4.753693476742154, 'grandaughter': 1.1081666666666665, 'incessant': 1.716333333333333, 'user': 2.9275744509208743, 'easily': 1.716333333333333, 'offend': 1.716333333333333, 'duke': 1.7101213133249744, 'portraitphotography': 1.1072916666666668, 'wedding': 5.984908354549825, 'firefighter': 2.430263582891337, 'centraltexas': 1.189967105263158, 'wildfiresrage': 1.189967105263158, 'exchange': 2.3470796048835973, 'term': 3.0416596089296313, 'serial': 1.1277856804172592, 'bitcoin': 1.8476586962902752, 'invest': 1.1277856804172592, 'grassroots': 1.1908421052631577, 'dr': 2.933181652862454, 'kim': 1.1093895619757688, 'modelling': 1.1093895619757688, 'doctor': 5.019290025234234, 'medical': 2.327847234047045, 'medicaldoctor': 1.1093895619757688, 'actorslife': 1.1093895619757688, 'tvpersonality': 1.1093895619757688, 'tvactor': 1.1093895619757688, 'lifestylemodel': 1.1093895619757688, 'connoisseur': 1.7181514667376736, 'mindfullness': 1.1093895619757688, 'discomfort': 1.1093895619757688, 'shawarma': 1.1199388209121244, 'fattoush': 1.1199388209121244, 'salad': 2.3382457668056644, 'sambousek': 1.1199388209121244, 'hrs': 1.1199388209121244, 'mojito': 1.1078869047619047, 'licensed': 2.32671303986711, 'number': 3.5443584125124823, 'eot': 4.900977962255136, 'endoftenancycleane': 5.529743987896162, 'endoftenancy': 5.529743987896162, 'endoftenancyclean': 8.673482541009715, 'smallbusinessuk': 4.253348942723942, 'smallbusiness': 3.643738553113553, 'badass': 1.10945885509839, 'promo': 1.10945885509839, 'ortise': 1.10945885509839, 'captain': 1.10945885509839, 'fedora': 1.10945885509839, 'accessories': 2.3262777113060404, 'pirates': 1.10945885509839, 'rockstar': 1.10945885509839, 'gypsy': 1.7740773906846674, 'residence': 1.10945885509839, 'pass': 1.7142369727047146, 'pal': 1.1068651778329197, 'grill': 2.9284739454094293, 'dorchester': 1.7142369727047146, 'boyz': 1.1077761627906977, 'deliver': 2.9357965975280513, 'figgie': 1.1077761627906977, 'smalls': 1.1077761627906977, 'decadent': 1.7280809311217817, 'belgian': 1.1077761627906977, 'hercules': 2.930807339946875, 'lambeth': 5.3671559718363575, 'bathroom': 1.108578431372549, 'allotment': 1.1367728758169935, 'sweet': 4.846117037265392, 'darling': 1.108763003165988, 'gabythecat': 1.108763003165988, 'britishshorthair': 1.108763003165988, 'catsofinstagram': 1.773203616192808, 'purrfect': 1.108763003165988, 'myboy': 1.108763003165988, 'getyourfridayfixxx': 1.718467864107399, 'track': 1.8006588065798592, 'play': 16.44422811099598, 'doublequicktime': 1.1093121968121968, '𝘿𝙞𝙖𝙣𝙖': 1.7184979838709677, 'aussie': 1.109248991935484, 'practice': 3.0828987002066532, 'councillor': 2.3276659008502127, 'charity': 3.6157525872464786, 'worker': 3.044284430420304, 'incredible': 4.23921356751322, 'tolerate': 1.1081996434937613, 'pink': 2.9336220977411513, 'aldgate': 2.3224721614814494, 'aldgatesquare': 1.1081996434937613, 'omar': 1.1081996434937613, 'sophia': 1.1081996434937613, 'mama': 1.1081996434937613, 'shade': 2.325500124308777, 'staunch': 1.1079326923076924, 'shipping': 1.1079326923076924, 'guru': 1.1079326923076924, 'mentally': 1.1079326923076924, 'unbalanced': 1.1079326923076924, 'moleskin': 1.1079326923076924, 'digit': 1.719037100727388, 'massive': 2.343878627774797, 'tandoori': 1.1103242607526882, 'box': 3.5451961886141845, 'mahi': 1.1103242607526882, 'machli': 1.1103242607526882, 'afghani': 1.1103242607526882, 'rest': 3.01625315575329, 'earlsfield': 2.3244636860772463, 'keen': 2.3271337646545835, 'watcher': 2.3279510723468912, 'occasional': 5.369561430673511, 'participant': 1.1103242607526882, 'init': 1.1089285714285715, 'abuslife': 1.1089285714285715, 'japanesefood': 1.1089285714285715, 'eattokyolondon': 1.1089285714285715, 'coventgarden': 1.1089285714285715, 'planner': 1.7138136288998358, 'cyclist': 2.9314271778945695, 'siân': 1.1086711711711712, 'availability': 1.1086711711711712, 'camberwell': 5.978350692677518, 'sundowner': 1.1072966507177033, 'programme': 2.3170660782049164, 'chilli': 1.7172999723145073, 'eggs': 1.1094130675526026, 'avo': 1.1094130675526026, 'corn': 1.1094130675526026, 'fritter': 1.1094130675526026, 'poached': 1.1094130675526026, 'pastrychef': 1.718679476819012, 'runner': 3.5611607080502425, 'accident': 1.718679476819012, 'hate': 4.234660516904757, 'milky': 1.718679476819012, 'dill': 2.3268483364681347, 'silly': 1.108498023715415, 'utterly': 1.7183216329420092, 'ofahmusical': 1.108498023715415, 'fool': 1.108498023715415, 'horse': 5.390568308503091, 'haymarket': 1.108498023715415, 'voice': 2.4064246584841547, 'libyan': 1.2024670523947285, 'belly': 1.2024670523947285, 'wednesday': 6.092880415239399, 'puzzle': 1.8843910720025718, 'pizza': 6.145593713761893, 'pilate': 2.493546739297774, 'glory': 2.3228934036393714, 'waldo': 2.3228934036393714, 'emerson': 2.3228934036393714, 'advertisement': 2.328416149068323, 'sweat': 1.108013276434329, 'small': 2.3271709856677143, 'cask': 2.9350580049867965, 'absolutely': 2.3190665438165436, 'seriously': 2.9219173832923833, 'pint': 2.9404651516630054, 'nelson': 2.320496502404763, 'matter': 1.7145933014354067, 'gms': 1.1020264681555005, 'screenshot': 1.1020264681555005, 'gmsworld': 1.1020264681555005, 'butterfly': 1.1368407052743579, 'accessory': 1.1368407052743579, 'valid': 1.7742654452853048, 'adinasjewel': 1.1368407052743579, 'adinasgal': 1.1368407052743579, 'paralegal': 1.7567495460036322, 'visualise': 1.1097964015151516, 'foe': 1.8008051734449761, 'chat': 1.1097964015151516, 'survey': 1.1097964015151516, 'cutwastage': 1.1097964015151516, 'sustainability': 2.953065025252525, 'engineers': 1.1097964015151516, 'surveyors': 1.1097964015151516, 'truly': 2.9647852305112767, 'sql': 2.3105590062111796, 'regent': 4.775506817633354, 'kickoff': 1.1088076923076922, 'getme': 1.1088076923076922, 'plug': 1.718198717948718, 'adjsplaylist': 1.1088076923076922, 'adjs': 3.5442832587724507, 'eugottalent': 1.7177828166858016, 'webreakrecords': 1.7176927497789567, 'spotify': 1.7170073358014535, 'deejay': 2.935475566464758, 'eating': 2.9296571157187943, 'exception': 1.1021080368906455, 'yearly': 1.1021080368906455, 'update': 3.589908661065077, 'devonshire': 1.1369972347913526, 'youareenough': 1.7181756756756759, 'youarenotalone': 1.7181756756756759, 'youarelove': 1.7181756756756759, 'thursdaythought': 1.7181756756756759, 'procreate': 2.327607493857494, 'trusttheprocess': 1.7181756756756759, 'pamelaoliverasart': 2.9363513513513513, 'pittie': 1.7181756756756759, 'adopter': 1.7181756756756759, 'warrior': 1.7181756756756759, 'ldn': 2.327093708462561, 'bottomlessbrunch': 1.1091087675765094, 'gardenrooftop': 1.1091087675765094, 'londonskyline': 1.1091087675765094, 'rooftop': 1.1091087675765094, 'connect': 6.6655743724708945, 'data': 6.608481998625437, 'analytics': 4.7547759838201005, 'measurement': 4.148424002468119, 'mini': 5.359259511660555, 'ynwa': 4.148424002468119, 'puppy': 2.323664276817152, 'yoga': 1.1077878787878788, 'brighton': 1.1077878787878788, 'statue': 1.7177164502164501, 'scenes': 1.7186904761904762, 'gene': 1.109345238095238, 'singe': 1.109345238095238, 'insane': 2.325573593073593, 'weird': 3.543388621182739, 'aeroplane': 1.7114367816091953, 'wrapping': 1.1057183908045976, 'want': 7.1621190014267775, 'skysthelimit': 1.7431431308155445, 'sign': 6.902875625306077, 'dedicated': 2.9265741123980242, 'ensure': 2.317221123045035, 'recieve': 2.317221123045035, 'product': 7.25586833806187, 'branding': 2.317221123045035, 'duty': 2.322594696969697, 'strip': 1.1094318181818181, 'cigar': 1.7183840562413328, 'size': 2.940563264611016, 'carrot': 2.325721217188608, 'puff': 1.1094318181818181, 'meltdown': 1.1094318181818181, 'competitive': 1.7151779422128257, 'shadow': 4.7616860581381815, 'boxing': 2.3242925255461593, 'undefeated': 2.380156035059771, 'colorful': 1.1369639105178595, 'lubainahimid': 1.1369639105178595, 'sound': 8.413827414008374, 'integrate': 1.7456150733085571, 'certain': 1.1369639105178595, 'pause': 1.8281070910498345, 'exploration': 1.1369639105178595, 'pavlondon': 3.047498594681511, 'tatemodern': 1.773927821035719, 'facilitator': 4.275518480261881, 'im': 1.1093910256410258, 'akon': 1.1093910256410258, 'apex': 1.1093910256410258, 'revenant': 1.1093910256410258, 'gow': 1.7148500050673965, 'palladium': 3.5406425458599373, 'perfume': 4.155064071736522, 'verge': 1.1085045045045043, 'soap': 1.7182710221398745, 'baller': 1.1085045045045043, 'stress': 1.1055745554035568, 'begin': 1.7146592548571087, 'wednesdaywisdom': 1.1055745554035568, 'upskille': 1.1055745554035568, 'inside': 1.7149342367761058, 'socialmediamarkete': 1.1055745554035568, 'peer': 2.934656862745098, 'autism': 1.717328431372549, 'spectrum': 1.717328431372549, 'condition': 1.717328431372549, 'zoom': 1.717328431372549, 'divine': 1.1087128399746997, 'kitchen': 3.5795311552853204, 'phew': 1.106730769230769, 'scorcher': 1.106730769230769, 'fave': 2.3231568444995863, 'annie': 2.3201923076923077, 'sloan': 2.3201923076923077, 'goodies': 1.106730769230769, 'stockist': 1.106730769230769, 'stencil': 1.106730769230769, 'sevenoak': 1.106730769230769, 'ye': 1.1894062078272603, 'perform': 1.1894062078272603, 'grammys': 1.1894062078272603, 'prosecutor': 1.1908421052631577, 'michigan': 1.8814720893141943, 'teen': 1.1908421052631577, 'parent': 9.72319524189261, 'trial': 3.9530159489633165, 'votecampaign': 1.1908421052631577, 'amid': 2.572102073365231, 'violence': 1.1908421052631577, 'virus': 2.572526315789473, 'fear': 1.88119298245614, 'continue': 2.967710011177938, 'promise': 1.7174486354292449, 'copy': 3.545997180270839, 'viz': 1.109359681372549, 'counter': 1.7187727489251516, 'musing': 1.109359681372549, 'ranting': 1.109359681372549, 'random': 2.32423208966601, 'wittering': 1.109359681372549, 'wannabe': 1.109359681372549, 'adonis': 1.109359681372549, 'trap': 2.9639346031003457, 'wagon': 1.109359681372549, 'marks': 1.1095952023988005, 'church': 7.252594640999923, 'carer': 9.049568342285733, 'slide': 1.8541988160409213, 'tbh': 1.1635688319898847, 'az': 1.1635688319898847, '𝐘𝐨𝐮': 1.1635688319898847, '𝐦𝐚𝐤𝐞': 1.1635688319898847, '𝐭𝐡𝐞': 1.1635688319898847, '𝐝𝐚𝐦𝐬𝐞𝐥': 1.1635688319898847, '𝐢𝐧': 1.1635688319898847, '𝐦𝐞': 1.1635688319898847, 'ep': 2.3733066040217743, 'tide': 1.771902165323218, 'changingoftheguard': 1.7124248558459083, 'windsorcastle': 1.7124248558459083, 'queenelizabeth': 1.1063519813519813, 'windsor': 1.7124248558459083, 'castle': 3.54674845243404, 'liberty': 2.9274266886904834, 'pursuit': 1.7124248558459083, 'sheep': 1.218236111111111, 'dnd': 2.637936403508772, 'dillaxdres': 2.637936403508772, 'customer': 5.426024073996349, 'onboarding': 1.1010964912280703, 'tracking': 1.1010964912280703, 'system': 4.13601360772031, 'specific': 2.3190166543347255, 'keyword': 2.3114593917225497, 'resume': 1.1010964912280703, 'hiring': 2.904005551055107, 'nearly': 2.3338180930757035, 'reality': 1.7141295066413664, 'fantasy': 1.1088844086021505, 'short': 4.1521442251790095, 'tcd': 1.1088844086021505, 'teach': 5.375151233408464, 'minisport': 1.1093529893529892, 'wandsworths': 1.1093529893529892, 'wee': 1.829348509066251, 'ones': 1.7189811670674107, 'class': 3.5530912714481975, 'wandle': 1.725110565110565, 'rec': 1.725110565110565, 'spencer': 2.3408681408681407, 'leisure': 2.334225148443898, 'surround': 1.725110565110565, 'schools': 1.725110565110565, 'governor': 1.8816842105263154, 'billbanne': 1.1908421052631577, 'texaslaw': 1.1908421052631577, 'cold': 3.6262118368828897, 'froze': 1.1093529893529892, 'repeat': 1.1093529893529892, 'literally': 2.326829740297482, 'marcheuse': 1.1093529893529892, 'localbrandaddict': 1.1093529893529892, 'wanna': 2.3260252767430183, 'town': 7.937414377763204, 'photog': 1.190093424995593, 'swipe': 3.7907052338453076, 'lol': 1.79900969420598, 'bookcase': 1.715841073271414, 'playframework': 1.7070393374741197, 'peoplemanagement': 2.3105590062111796, 'forge': 2.324616949691968, 'oatmeal': 2.324616949691968, 'stout': 3.540523126848145, 'shabbat': 1.1083712121212121, 'shalom': 1.1083712121212121, 'canopy': 1.1083712121212121, 'vp': 2.3251136363636364, 'igaming': 2.3251136363636364, 'innovation': 6.0807444355082305, 'engagement': 2.9348983721757698, 'dadtrepreneur': 2.3251136363636364, 'skipatrol': 2.3251136363636364, 'yachting': 2.3251136363636364, 'igame': 2.3251136363636364, 'superdraft': 2.3251136363636364, 'hull': 1.2001962560386472, 'lass': 1.2001962560386472, 'publicist': 1.2001962560386472, 'public': 3.163773859958356, 'dreams': 1.2001962560386472, 'مكتب': 3.153775865946918, 'مرزوق': 3.153775865946918, 'الشريكة': 3.153775865946918, 'للمحاماة': 3.153775865946918, 'والإستشارات': 3.153775865946918, 'القانونية': 3.153775865946918, 'مؤسس': 3.153775865946918, 'شركة': 3.153775865946918, 'أتعابي': 3.153775865946918, 'لتحصيل': 3.153775865946918, 'الأموال': 3.153775865946918, 'بصفه': 3.153775865946918, 'وديه': 3.153775865946918, 'أمارس': 3.153775865946918, 'مهنتي': 3.153775865946918, 'من': 3.153775865946918, 'خلال': 3.153775865946918, 'مكتبي': 3.153775865946918, 'الخاص': 3.153775865946918, 'turisteando': 1.7163992869875226, 'piccadilly': 6.0033959422624035, 'circus': 3.5411568627450984, 'doglover': 1.1088055797733216, 'doggylove': 1.1088055797733216, 'dogcare': 1.1088055797733216, 'doggydaycare': 2.324587026816628, 'doggroome': 1.1088055797733216, 'doggroomer': 1.1088055797733216, 'dogboarde': 1.7176111595466432, 'wimbledonvillage': 2.3259122348154606, 'common': 5.981371673119142, 'dog': 6.582351148232268, 'dogwalke': 2.9347178145887822, 'dogsitte': 2.9347178145887822, 'dogdaycare': 2.9347178145887822, 'maria': 1.718944099378882, 'fidelis': 1.718944099378882, 'rap': 1.1092146494320407, 'hiphop': 2.3803798863601453, 'rapmonster': 1.1092146494320407, 'rapartist': 1.1092146494320407, 'brixton': 4.179920694454092, 'fighter': 1.7457543319717232, 'lucid': 1.1092146494320407, 'bilingual': 1.1092146494320407, 'checkout': 2.327643948296122, 'set': 7.613094268831543, 'broaden': 1.1908421052631577, 'warningsystem': 1.1908421052631577, 'draught': 1.7161842105263156, 'toucan': 1.1080921052631578, 'todaysoffice': 1.1646185355862775, 'blend': 1.7738849448526868, 'stepmum': 1.1646185355862775, 'abba': 1.1646185355862775, 'throw': 2.3261319404820355, 'jimmyscoffee': 1.1089950980392156, 'foco': 1.1089950980392156, 'orchestrator': 4.150798128342246, 'arranger': 4.150798128342246, 'phonometrician': 4.150798128342246, 'monkey': 4.7598093485385995, 'treble': 4.150798128342246, 'clef': 4.150798128342246, 'friendly': 2.326970987782196, 'trader': 1.1091861327400814, 'japanessefood': 1.1091861327400814, 'homemade': 1.1091861327400814, 'mary': 2.9906879462635856, 'デリバリー': 1.1091861327400814, 'で毎土教会マーケット': 1.1091861327400814, 'lucy': 1.1081996434937613, 'fantadtic': 1.108578431372549, 'demo': 2.934484766979007, 'healthyfood': 1.7175070028011206, 'healthretreat': 1.108578431372549, 'cannon': 1.116736111111111, 'darby': 1.1088055797733216, 'horror': 1.7180679418620597, 'bless': 2.94780727090805, 'weddings': 1.1095695970695971, 'kimpton': 1.883451529091064, 'fitzroy': 2.4922693585484286, 'livery': 1.1095695970695971, 'kickboxe': 1.1095695970695971, 'wco': 1.1095695970695971, 'innholders': 1.1095695970695971, 'litty': 1.1063519813519813, 'playsafe': 1.1063519813519813, 'excited': 2.372491848763189, 'wax': 3.569535405664373, 'installation': 3.5724065676557064, 'spine': 1.1369639105178595, 'statement': 1.7454684150223638, 'yinkashonibare': 1.1369639105178595, 'asm': 1.7146212121212123, 'dental': 4.754850844372536, 'hygienist': 2.323088954056696, 'swiss': 2.323088954056696, 'pilates': 3.5383174958458254, 'shopping': 2.931908959048494, 'tony': 1.860086956521739, 'j': 3.089922974852823, 'selimi': 1.860086956521739, 'intuitive': 3.83766633624735, 'version': 2.3261125573576478, 'essex': 1.1083164642375167, 'upload': 1.1083164642375167, 'vlog': 1.7160926270282144, 'altered': 1.1058673469387754, 'images': 1.1058673469387754, 'paisley': 1.1058673469387754, 'products': 1.1058673469387754, 'opendata': 1.1058673469387754, 'ukulele': 1.1058673469387754, 'foolishly': 1.1098236092265943, 'sure': 2.9366542052967697, 'cleanse': 1.1098236092265943, 'freshface': 1.1098236092265943, 'cooking': 3.5467122492034697, 'lefty': 3.5467122492034697, 'unapologetically': 3.5467122492034697, 'queer': 4.156496985015602, 'pinky': 1.716672287390029, 'ps': 1.1080889540566958, 'oven': 2.34802837248958, 'fitzrovia': 1.715700946340481, 'westendmatter': 1.1088178294573643, 'pearson': 1.1088178294573643, 'candidate': 3.536225502577127, 'boundary': 1.7184169089147288, 'ward': 2.9374769387005006, 'pension': 1.7184169089147288, 'retweet': 3.545191284185565, 'endorsement': 3.545191284185565, 'signal': 1.1093895619757688, 'twickenham': 1.1093895619757688, 'stadium': 2.3286459174046117, 'digitalradio': 1.1093895619757688, 'yaesu': 1.1093895619757688, 'systemfusion': 1.1093895619757688, 'lp': 2.9401258530282504, 'standard': 2.93724459165235, 'peppa': 1.109189497716895, 'bus': 2.3258499547462046, 'honeyglaze': 1.109189497716895, 'crush': 1.7976475279106858, 'mexican': 1.1072966507177033, 'legal': 2.407479092115315, 'compliance': 3.555487587232169, 'bookworm': 1.71546331738437, 'iranianpopsinger': 1.19125386996904, 'aliyasini': 1.19125386996904, 'enthrall': 1.19125386996904, 'farsi': 1.19125386996904, 'blind': 1.1095013661202184, 'distinction': 1.1095013661202184, 'recognize': 1.1095013661202184, 'unrecognized': 1.1095013661202184, 'convention': 1.1095013661202184, 'deaf': 1.800131350171255, 'transitory': 1.1095013661202184, 'teaching': 2.3249132250945777, 'demand': 2.4091941964779537, 'particular': 1.719019203355447, 'wassily': 1.1095013661202184, 'kandinsky': 1.1095013661202184, 'disciplined': 1.1095013661202184, 'arts': 1.7740681418721274, 'chess': 1.1095013661202184, 'books': 2.3385120460260667, 'skateboard': 1.1095013661202184, 'occult': 1.1095013661202184, 'discord': 1.7291651088102769, 'opensea': 1.1095013661202184, 'heat': 1.163092320261438, 'artiste': 1.163092320261438, 'nigeria': 1.163092320261438, 'sorry': 2.988306313601295, 'announce': 2.465236976281094, 'deptofdreams': 1.1641388888888888, 'hon': 1.1641388888888888, 'dsc': 1.1641388888888888, 'dayo': 1.1094683908045977, 'olanubi': 1.1094683908045977, 'birthdayblessing': 1.7190268485160405, 'raise': 2.9934896158591324, 'spirit': 1.7190268485160405, 'express': 1.7190268485160405, 'faith': 1.7190268485160405, 'supernatural': 1.7190268485160405, 'dhlxveldskoen': 2.905373488461724, 'deareveryone': 1.702762923351159, 'nightout': 2.925850858563662, 'partyin': 4.108479549067784, 'rasa': 1.1445817183462532, 'sayang': 1.1445817183462532, 'banker': 1.1445817183462532, 'lecordonbleu': 1.1445817183462532, 'greattasteaward': 1.1445817183462532, 'nikkeicuisine': 1.1445817183462532, 'thejapaneselarder': 1.1445817183462532, 'supperclub': 1.1445817183462532, 'drury': 1.1080889540566958, 'frozen': 1.1080889540566958, 'district': 1.1089950980392156, 'ls': 1.1089950980392156, 'piwc': 1.1089950980392156, 'vibrant': 1.7183403361344536, 'commit': 1.7184176353306053, 'equip': 1.1089950980392156, 'gloriouslyhispeople': 1.1089950980392156, 'contemporary': 1.1196637426900584, 'verify': 1.1196637426900584, 'dga': 1.7570884827010054, 'serpentine': 1.7166333766104067, 'fhea': 1.7166333766104067, 'stem': 2.933266753220813, 'interests': 1.7166333766104067, 'tgo': 1.7166333766104067, 'github': 1.7166333766104067, 'quirksahern': 1.7166333766104067, 'laughter': 1.7178978966769662, 'anniversary': 4.161588775764847, 'babycake': 1.1093023255813952, 'theyllneverlast': 1.1093023255813952, 'twoyearsbaby': 1.1093023255813952, 'clearance': 1.1286094961240312, 'trim': 1.1286094961240312, 'gardening': 1.7374273255813955, 'bake': 2.3989546545408613, 'loaf': 1.137123015873016, 'grain': 1.742077970827971, 'einkorn': 1.137123015873016, 'balans': 1.1072966507177033, 'fanboy': 2.9299569377990426, 'da': 5.359913875598085, 'blackberry': 2.9299569377990426, 'conversation': 2.326142394900085, 'neurodiversity': 1.718376287168807, 'summit': 1.7177929538354735, 'wallington': 1.109626287168807, 'achievable': 1.109626287168807, 'therapist': 3.0114798863081083, 'neuro': 1.109626287168807, 'linguistic': 1.109626287168807, 'programming': 2.328044369086889, 'eft': 1.109626287168807, 'behavioural': 1.109626287168807, 'tenancy': 2.386005434782609, 'alwaslplaza': 1.1908421052631577, 'logo': 2.425029760143066, 'immortalise': 1.1908421052631577, 'finejewellery': 1.1908421052631577, 'parkrowlondon': 1.1063519813519813, 'row': 1.7124248558459083, 'nationalbaroqueorchestra': 1.1910087719298246, 'theseasoninmusic': 1.1910087719298246, 'vivaldi': 1.1910087719298246, 'landing': 2.3029090598270368, 'informational': 4.1058181196540735, 'interview': 5.336326765155003, 'emergency': 1.7264697569248164, 'dead': 5.531399450962315, 'dangerous': 1.1096281777144215, 'attract': 1.1087619047619048, 'complexity': 1.1087619047619048, 'greubelforsey': 1.1087619047619048, 'tourbillon': 1.1087619047619048, 'earth': 1.1087619047619048, 'wotd': 1.1087619047619048, 'mayfair': 7.253619797576271, 'collection': 12.249936023246626, 'watches': 2.3233793478629003, 'ashish': 1.1906299840510366, 'jha': 1.8809808612440189, 'comforting': 1.1906299840510366, 'tamp': 1.1906299840510366, 'covidspoliticaldivide': 1.1906299840510366, 'monkfish': 1.717626811594203, 'dish': 7.196885334614234, 'alarm': 1.1908421052631577, 'afghan': 1.1908421052631577, 'fuel': 2.4154006263353116, 'price': 3.110343508159822, 'builder': 1.1083712121212121, 'yard': 2.3179084766584768, 'ultimate': 2.944798245305747, 'asking': 1.1204793545325107, 'thr': 1.1204793545325107, 'poppy': 1.1204793545325107, 'hackbridge': 1.7409587090650214, 'bedroom': 1.1204793545325107, 'hunter': 2.95132482048816, 'carshalton': 4.195848393024473, 'estate': 2.3433754449901607, 'agents': 1.7342017755223735, 'rental': 1.7342017755223735, 'islamic': 4.131747222519916, 'cultural': 4.768441269508081, 'lose': 4.980080225557255, 'londonnight': 1.137130767130767, 'registered': 1.7847066962007538, 'dietitian': 1.137130767130767, 'nutritionist': 2.404787105557479, 'cnn': 1.137130767130767, 'fridge': 1.137130767130767, 'eats': 1.137130767130767, 'awards': 1.137130767130767, 'portobello': 2.3396848581525997, 'hear': 3.5269858896035315, 'martin': 1.7179901960784312, 'christie': 1.7179901960784312, 'emom': 1.7179901960784312, 'jazzlive': 1.7179901960784312, 'crypt': 1.7179901960784312, 'yorkshire': 1.7179901960784312, 'bylines': 1.7179901960784312, 'shed': 3.0447641859774213, 'readings': 1.7179901960784312, 'mends': 1.7179901960784312, 'toilet': 1.7179901960784312, 'dover': 1.1094696969696969, 'hypnotherapist': 1.1094696969696969, 'plant': 2.520683162898333, 'googlebigquery': 1.1035196687370599, 'qrm': 1.1093895619757688, 'ssb': 1.1093895619757688, 'lndn': 2.3157326831707925, 'bang': 1.7168585423197493, 'gradually': 1.1088850574712645, 'move': 3.098145025573338, 'refugee': 1.1908421052631577, 'hope': 2.4640671144092194, 'wane': 1.8814720893141943, 'smug': 1.1083572567783095, 'fuck': 2.3249356881508585, 'grandslam': 1.1083572567783095, 'rocknrolla': 1.1083572567783095, 'hippy': 1.1083572567783095, 'lunatic': 1.1083572567783095, 'retire': 3.651777558508108, 'hell': 1.1083572567783095, 'raiser': 1.1083572567783095, 'naked': 1.1083572567783095, 'responsible': 2.501903658293461, 'goa': 1.1083572567783095, 'tooting': 2.3351730755655424, 'versace': 1.1013814616755795, 'ping': 1.1094318181818181, 'pong': 1.1094318181818181, 'spare': 1.1094318181818181, 'whilevfilme': 1.1094318181818181, 'breeder': 1.1094318181818181, 'bilbobaggin': 1.718598484848485, 'headline': 2.92604884883015, 'showtime': 1.105700680272109, 'solit': 1.105700680272109, 'unsigned': 1.7140017555409262, 'inquiries': 1.7140017555409262, 'instrumental': 1.7140017555409262, 'russia': 6.634088762471717, 'uncouncilvote': 1.1906299840510366, 'resolution': 2.5716108452950555, 'askavani': 8.009554803937744, 'keep': 9.494937924861594, 'blessedami': 6.735099039395773, 'honour': 2.437868655037773, 'fridaynight': 1.1096103896103897, 'suggest': 1.7166789966789966, 'donation': 1.8002403736614263, 'improv': 1.1096103896103897, 'pitch': 2.3284860237801417, 'spontaneously': 1.1096103896103897, 'improvise': 1.7192207792207792, 'kind': 4.7544698182023515, 'beatboxer': 1.1096103896103897, 'percussionist': 1.1096103896103897, 'peace': 1.1345085470085472, 'yokoono': 1.1345085470085472, 'movies': 1.1345085470085472, 'geopolitics': 1.1345085470085472, 'cryptocurrency': 1.1345085470085472, 'reportage': 2.3214391945773523, 'jumma': 1.1089522380595147, 'khateebs': 1.1089522380595147, 'inshallah': 1.1089522380595147, 'admire': 1.1086511627906976, 'whilst': 2.327173596384646, 'labourdoorstep': 1.1086511627906976, 'labour': 1.7173023255813953, 'fairfield': 1.7173023255813953, 'ucu': 1.7173023255813953, 'turf': 1.7280809311217817, 'fitting': 1.1079326923076924, 'milk': 1.780351170568562, 'locale': 1.1079326923076924, 'belgravia': 3.1706572290928166, 'borough': 4.345315937296773, 'chelsea': 3.071794932982419, 'modi': 1.2603269537480064, 'enterprises': 1.2603269537480064, 'russianstockmarket': 1.1903508771929823, 'partially': 1.1903508771929823, 'reopen': 3.1805028296547815, 'cream': 1.1090629274965802, 'wilton': 1.7181258549931602, 'hm': 1.1090629274965802, 'pinafore': 1.1090629274965802, 'jenny': 1.1090629274965802, 'whisperer': 1.1090629274965802, 'bsl': 1.1090629274965802, 'rescuer': 1.1090629274965802, 'spoonie': 1.1090629274965802, 'rantaghost': 1.106730769230769, 'stable': 1.106730769230769, 'loyalty': 1.106730769230769, 'respect': 1.106730769230769, 'earn': 1.106730769230769, 'shift': 4.106363739858308, 'supervisor': 3.5055304065249744, 'mansions': 1.1094202898550725, 'ass': 1.7185724463665641, 'tran': 1.1092194570135747, 'flare': 1.1092194570135747, 'screenwriter': 1.1092194570135747, 'novelist': 1.1092194570135747, 'essayist': 1.1092194570135747, 'declarer': 1.1092194570135747, 'titles': 1.1092194570135747, 'tomatometer': 1.1092194570135747, 'approve': 1.1092194570135747, 'londonfoodie': 2.9382138619605933, 'londonfood': 1.7190234571629923, 'londonrestaurant': 1.7190234571629923, 'londoneat': 1.7190234571629923, 'londonfoodguide': 1.7190234571629923, 'tdq': 1.7190234571629923, 'steaks': 2.938046914325984, 'seafood': 1.7190234571629923, 'cosy': 1.7190234571629923, 'unpretentious': 1.7190234571629923, 'atmosphere': 2.937097657390068, 'embrace': 1.7190234571629923, 'comfort': 1.7190234571629923, 'ancient': 2.9927680211249474, 'amsterdam': 1.7190234571629923, 'torodorado': 1.7190234571629923, 'exec': 1.711626414137923, 'financier': 1.1024117647058822, 'distribution': 1.712022154316272, 'artillery': 1.79833831738437, 'missilelaunch': 1.1906299840510366, 'harvey': 1.1004464285714284, 'nichols': 1.1004464285714284, 'mentor': 1.1004464285714284, 'finding': 1.1004464285714284, 'meetings': 1.1004464285714284, 'incentives': 1.1004464285714284, 'conference': 2.927574416707804, 'intoxicate': 1.1090629274965802, 'dulse': 1.1090629274965802, 'mirto': 1.1090629274965802, 'infuse': 1.1090629274965802, 'allspice': 1.1090629274965802, 'kamora': 1.1090629274965802, 'dank': 1.1086711711711712, 'unidimensional': 1.1086711711711712, 'inverter': 1.1086711711711712, 'shavuot': 1.1083712121212121, 'tov': 1.1083712121212121, 'brewdog': 1.1086511627906976, 'buxton': 1.1086511627906976, 'sc': 1.1086511627906976, 'robertospread': 1.1086511627906976, 'champion': 5.460152998493098, 'despair': 1.1903508771929823, 'disbelief': 1.1903508771929823, 'maybe': 2.3504928498732114, 'option': 2.3326493341167254, 'inspiring': 1.7426532995428343, 'natalie': 1.1371688034188034, 'pant': 1.1371688034188034, 'entertain': 1.7572492127755286, 'motivate': 1.7572492127755286, 'rodial': 1.7572492127755286, 'overnight': 1.7572492127755286, 'success': 3.058287818556702, 'customise': 1.1057513661202187, 'zeh': 1.1057513661202187, 'chain': 1.7153795438346402, 'iced': 1.1057513661202187, 'portablebaeby': 1.1057513661202187, 'drzeh': 1.1057513661202187, 'hoodrich': 2.3992996871685395, 'latest': 1.823918818339871, 'topboy': 1.7662229740918267, 'netflix': 2.35027145460969, 'complex': 1.7417826246514774, 'haddonpr': 1.7662229740918267, 'ual': 1.716054061784897, 'write': 6.592224490665129, 'badly': 1.716054061784897, 'biden': 5.336239311622164, 'aide': 1.191143180531975, 'congress': 1.191143180531975, 'budget': 1.191143180531975, 'ludovico': 1.1588057999348322, 'einaudi': 1.1588057999348322, 'underwater': 1.1588057999348322, 'fresco': 1.77366396888136, 'connector': 1.7700591189721626, 'elegant': 2.3826497860301474, 'stylebeat': 1.164105339105339, 'obsess': 3.0135791977200648, 'comedyclub': 1.1259920634920635, 'jongleur': 1.1259920634920635, 'standupcomedy': 1.1259920634920635, 'browns': 1.1259920634920635, 'regional': 1.1092194570135747, 'tasting': 1.7141744119685298, 'menu': 1.7187780867895959, 'wines': 1.7189322948514125, 'redwine': 1.1092194570135747, 'whitewine': 1.1092194570135747, 'italianwine': 1.1092194570135747, 'winesofitaly': 1.1092194570135747, 'italianredwine': 1.1092194570135747, 'theorandallattheintercontinental': 1.1092194570135747, 'winelover': 1.1092194570135747, 'winetaste': 1.1092194570135747, 'winepairing': 1.1092194570135747, 'winepicture': 1.1092194570135747, 'hospitality': 6.618775181788555, 'foodreview': 2.309271056600778, 'foodblogger': 2.309271056600778, 'exhibition': 2.3274366991214817, 'artwork': 1.109472049689441, 'abstract': 2.9329403115000945, 'limited': 2.9364588791727315, 'element': 1.718348861283644, 'reflection': 2.9366711952455127, 'manipulation': 1.718348861283644, 'pancras': 2.438229474164608, 'renaissance': 2.438261334772844, 'board': 2.4386313215208566, 'ev': 1.219873015873016, 'ceviche': 1.1088178294573643, 'celeriac': 1.1088178294573643, 'shepherd': 1.1894062078272603, 'delight': 1.7977072830960774, 'leo': 3.177042152893546, 'enfp': 1.1894062078272603, 'tfl': 1.2187865497076023, 'ukrainian': 1.828176111683371, 'arrival': 1.2187865497076023, 'answers': 1.1063519813519813, 'google': 2.403054839896945, 'faq': 1.1063519813519813, 'dermalogica': 1.1076295045045046, 'orbit': 2.9325714951465134, 'brewery': 2.9325714951465134, 'county': 1.109087837837838, 'loyal': 1.109087837837838, 'marry': 1.109087837837838, 'uwcn': 1.1084677419354838, 'uwcnfootball': 1.1084677419354838, 'oldschool': 1.7169067835140601, 'rigger': 1.1084677419354838, 'gaffer': 1.773111135328877, 'lalit': 1.7125000000000001, 'active': 3.5312129317084104, 'force': 3.8217497299146355, 'cms': 2.326626970622347, 'careful': 1.1093121968121968, 'especially': 1.7188300340474254, 'backdoor': 1.1093121968121968, 'daraja': 1.1093121968121968, 'api': 1.1093121968121968, 'straight': 3.6225183048407517, 'sit': 4.758101951924447, 'rory': 1.108498023715415, 'noticed': 1.108498023715415, 'cards': 1.1081996434937613, 'series': 1.7237277442689551, 'episode': 1.1081996434937613, 'tamaratott': 1.1094318181818181, 'makeupartistlondon': 1.1094318181818181, 'abroad': 1.7184269162210337, 'utility': 1.1083010752688172, 'lets': 1.1083010752688172, 'straightforward': 1.1083010752688172, 'specialists': 1.1395472395472395, 'accessibleexclusivity': 1.1395472395472395, 'moorgate': 1.1085833333333333, 'mog': 1.1085833333333333, 'administrator': 1.7839054923044486, 'pedant': 1.1088844086021505, 'brownie': 1.1088844086021505, 'cheese': 7.80567697589506, 'worshipper': 1.1088844086021505, 'boat': 1.7182974761547531, 'dweller': 2.3266434176111597, 'clearly': 1.1088844086021505, 'steal': 1.718512586316572, 'tube': 2.322539908848561, 'procrastinator': 1.7143519813519814, 'bout': 1.7143519813519814, 'productivity': 2.3241367171641145, 'anna': 1.1087128399746997, 'busta': 1.1087128399746997, 'subtle': 1.1098850574712644, 'smokiness': 1.1098850574712644, 'develop': 2.934852879360139, 'creamy': 1.1098850574712644, 'mask': 1.71562886996904, 'hint': 1.1080921052631578, 'shushyou': 1.1080921052631578, 'willy': 1.1080921052631578, 'wonka': 1.1080921052631578, 'factory': 1.1080921052631578, 'reusable': 1.1080921052631578, 'crueltyfree': 1.1080921052631578, 'eyelash': 1.1080921052631578, 'haus': 1.1080921052631578, 'lightroom': 1.7144166666666667, 'porqué': 1.7144166666666667, 'la': 4.766121575972056, 'vida': 1.7144166666666667, 'és': 1.7144166666666667, 'corta': 1.7144166666666667, 'instagramer': 1.7144166666666667, 'rusher': 1.7144166666666667, 'adore': 2.325974328560535, 'worship': 1.7165847665847664, 'rewarder': 1.7165847665847664, 'diligently': 1.7165847665847664, 'fennel': 1.1087128399746997, 'semolina': 1.1087128399746997, 'yoghurt': 1.7166333766104067, 'sydney': 1.7174256799493992, 'decorator': 1.1087128399746997, 'florist': 1.1087128399746997, 'client': 2.9604413941868066, 'oxford': 1.1094202898550725, 'atardecer': 1.1160416666666668, 'robert': 1.718944099378882, 'person': 1.1080100574712644, 'tongue': 1.1080100574712644, 'إلـه': 1.1080100574712644, 'الله': 1.1080100574712644, 'وحده': 1.1080100574712644, 'شريك': 1.1080100574712644, 'لـه': 1.716020114942529, 'الملك': 1.1080100574712644, 'ولـه': 1.1080100574712644, 'الحمد': 1.7157979362591431, 'وهو': 1.1080100574712644, 'شيء': 1.716228974328625, 'قدير': 1.1080100574712644, 'aspect': 1.1081599347205222, 'manufacture': 1.1081599347205222, 'cwd': 1.7163198694410444, 'industrialdesign': 1.1081599347205222, 'officedesign': 1.1081599347205222, 'productdesign': 1.1081599347205222, 'arm': 1.7173914092664093, 'machete': 1.1092664092664093, 'ceska': 1.1092664092664093, 'glock': 1.7153392837603363, 'etc': 1.7463105963105963, 'sword': 1.7185328185328186, 'die': 1.1092664092664093, 'entertaining': 1.7161779081133917, 'celebration': 2.9322245588310953, 'assembly': 1.7161779081133917, 'recite': 1.7161779081133917, 'sunset': 7.3037441012285, 'seating': 1.1074125874125875, 'cityscape': 2.32162863037863, 'nightphotography': 1.7164238076089409, 'loan': 2.346623549085186, 'admin': 1.1146116138763198, 'bounce': 1.1084117647058824, 'fantastic': 4.815707318608875, 'act': 1.8282323232323234, 'hilarious': 1.7179646494320409, 'greatshow': 1.1087500000000001, 'divide': 1.1906299840510366, 'name': 1.7997856513462387, 'electric': 2.933016279638091, 'ballroom': 2.324198450180727, 'lls': 1.7162878787878788, 'hey': 1.7162878787878788, 'angel': 2.32488344988345, 'liter': 1.1087128399746997, 'orrery': 1.7174256799493992, 'sommelier': 1.1087128399746997, 'wset': 1.1087128399746997, 'advanced': 1.7181446581565178, 'hide': 4.276876827023621, 'biology': 1.7334722222222219, 'grad': 1.7334722222222219, 'ultra': 1.7334722222222219, 'unnamed': 1.109, 'army': 2.419893431121782, 'field': 1.109, 'jacquard': 1.109, 'sleeve': 1.109, 'comingsoon': 1.109, 'newarrival': 1.109, 'zero': 1.109, 'waste': 1.109, 'garment': 1.109, 'textile': 1.7167878787878788, 'endless': 1.1910087719298246, 'final': 5.505580304278689, 'grand': 1.1910087719298246, 'slams': 1.1910087719298246, 'adopt': 1.1910087719298246, 'tiebreaker': 1.1910087719298246, 'madeleinealbright': 1.1903508771929823, 'femalesecretary': 1.1903508771929823, 'telephone': 1.7171070075757577, 'dzimbabwe': 1.1083712121212121, 'bantupeoplemovement': 1.1083712121212121, 'fyah': 1.1083712121212121, 'bantu': 1.1083712121212121, 'afro': 1.768636912604304, 'beat': 2.325998405103668, 'root': 1.7179993898356336, 'reggae': 2.9343943775440975, 'rub': 1.1083712121212121, 'dub': 1.7164441287878787, 'zimdancehall': 1.1083712121212121, 'barely': 1.2751711711711713, 'daniellepeazer': 1.2751711711711713, 'artcan': 1.108876811594203, 'expertise': 1.1026041666666666, 'technological': 1.1026041666666666, 'advancement': 1.1026041666666666, 'tangent': 2.322628313328332, 'hyacinth': 1.10686517783292, 'chinley': 1.7158763980292733, 'primrose': 1.1095178372352286, 'primary': 1.1095178372352286, 'princess': 1.1095178372352286, 'posca': 2.935716766391589, 'cotton': 2.3267416420134794, 'rag': 2.3267416420134794, 'paper': 3.557797843563867, 'cm': 2.9422697427886733, 'stonework': 1.1089180327868853, 'poscapen': 1.7177665176353702, 'piaget': 1.1085045045045043, 'hautejoaillerie': 1.1085045045045043, 'hautehorlogerie': 1.1085045045045043, 'marcus': 1.7158011552222077, 'taliban': 1.1906299840510366, 'cancel': 1.1906299840510366, 'highereducation': 1.1906299840510366, 'pledge': 1.1906299840510366, 'ronnie': 1.7183113345904044, 'scotts': 1.109155667295202, 'festival': 2.936840392021986, 'rich': 1.109155667295202, 'defeat': 1.109155667295202, 'sonnet': 1.109155667295202, 'june': 1.109155667295202, 'publishing': 1.109155667295202, 'attack': 2.5828168478629, 'georgia': 1.2840878378378378, 'baltic': 1.2840878378378378, 'receive': 5.0280379291959525, 'op': 4.421419216136958, 'ed': 5.672429505911783, 'operations': 1.72658371040724, 'matterhorn': 1.718022440392707, 'softpastelsart': 1.1090112201963533, 'alpineart': 1.1090112201963533, 'mountainart': 1.1090112201963533, 'chaletdecor': 1.1090112201963533, 'decomontagne': 1.1090112201963533, 'cervino': 1.1090112201963533, 'autumn': 1.1060728744939272, '𝐬𝐞𝐜𝐫𝐞𝐭𝐮𝐦': 1.1060728744939272, '𝐬𝐞𝐜𝐫𝐞𝐭𝐨𝐫𝐮𝐦': 1.1060728744939272, 'letra': 1.1060728744939272, 'svt': 1.1060728744939272, 'snsd': 1.1060728744939272, 'ts': 1.1060728744939272, 'gi': 1.741771188907412, 'vibes': 1.7698760900934816, 'haircut': 1.1096103896103897, 'haircolor': 1.1096103896103897, 'lookgoodfeelgood': 1.1096103896103897, 'salonvibe': 1.1096103896103897, 'lifeistoshortforboringhair': 1.1096103896103897, 'simply': 1.714046359342412, 'image': 1.1090629274965802, 'belgium': 1.1090629274965802, 'foreignminister': 1.1906299840510366, 'surprise': 1.1906299840510366, 'aim': 1.1906299840510366, 'dulwichhamlet': 1.1090629274965802, 'sloughtown': 1.1090629274965802, 'jamiesfootballtour': 1.1090629274965802, 'hamlet': 1.7172818443539408, 'confessed': 1.7181258549931604, 'genius': 1.7181258549931604, 'depeche': 1.7181258549931604, 'mode': 1.7181258549931604, 'devotee': 2.9342460351226287, 'idles': 1.7181258549931604, 'af': 1.7181258549931604, 'ganger': 1.7181258549931604, 'hates': 1.7181258549931604, 'celery': 1.7181258549931604, 'technical': 1.7102199749808986, 'program': 1.7097777981101503, 'mergers': 1.712433345431196, 'acquisitions': 1.712433345431196, 'hertfordshire': 4.154350183007888, 'apologise': 1.1093895619757688, 'advance': 1.7187508696940026, 'crias': 1.1093895619757688, 'alpacas': 1.1093895619757688, 'discuss': 1.1094130675526026, 'extremism': 1.1094130675526026, 'government': 2.407631234847805, 'association': 3.026885350407145, 'lib': 2.319727036006106, 'dem': 2.95542535041959, 'cllr': 1.1094130675526026, 'ealing': 1.1094130675526026, 'vice': 1.7177842796738148, 'federal': 1.1094130675526026, 'unfeasibly': 1.1094130675526026, 'tall': 2.3835930167325516, 'peter': 2.3364225864225863, 'grimes': 1.7186574349074348, 'roh': 1.1095695970695971, 'deeply': 1.1095695970695971, 'unsettling': 1.1095695970695971, 'beautifully': 1.1095695970695971, 'nate': 1.1095695970695971, 'lorna': 1.1095695970695971, 'leverhulme': 1.1095695970695971, 'doctoral': 1.1095695970695971, 'scholar': 2.419326730320583, 'critical': 1.7192165593027662, 'decade': 1.1095695970695971, 'uea': 1.1095695970695971, 'tyndall': 1.1095695970695971, 'migration': 1.1095695970695971, 'maestro': 1.7410972222222219, 'sketch': 2.325038669349695, 'shanghaipark': 1.1908421052631577, 'shenzhen': 1.8816842105263154, 'italy': 1.799857256778309, 'study': 1.8816842105263154, 'southern': 1.1908421052631577, 'glaci': 1.1908421052631577, 'doubt': 1.1068831168831168, 'circular': 1.7158582412612262, 'theme': 1.1068831168831168, 'railing': 1.1068831168831168, 'goodge': 1.1068831168831168, 'stockwell': 1.7146808078773228, 'continental': 1.105246212121212, 'edge': 2.927431129350247, 'devop': 1.7099315268065267, 'witness': 1.7099315268065267, 'investigation': 1.7099315268065267, 'gorgeousness': 1.1077878787878788, 'citydream': 1.1077878787878788, 'vino': 3.542227982162765, 'drag': 2.324171328671329, 'performer': 4.758217819011937, 'coliseum': 1.1169146825396825, 'ballet': 1.1169146825396825, 'int': 1.1169146825396825, 'council': 3.027138690053595, 'cid': 1.1169146825396825, 'unesco': 1.1169146825396825, 'rsa': 1.1169146825396825, 'leadership': 1.7266994183518156, 'notsuchstuff': 1.1095990794573645, 'sagar': 1.7191981589147287, 'unfortunately': 1.1095990794573645, 'minus': 1.1095990794573645, 'vegetarian': 2.3289401891673265, 'artistic': 1.1095990794573645, 'mighty': 1.1087128399746997, 'mua': 1.7170700967530093, 'bookng': 1.1087128399746997, 'helium': 1.1085497835497837, 'wale': 1.7170995670995675, 'milan': 1.7170995670995675, 'bolonga': 1.7170995670995675, 'paris': 3.654816935796538, 'toronto': 1.7170995670995675, 'greece': 3.01591515721121, 'newyork': 2.4074504442925497, 'artfair': 1.7170995670995675, 'edward': 2.3257017176372017, 'cutler': 1.7170995670995675, 'purleyway': 1.710428535732134, 'certificate': 1.718944099378882, 'lawfulness': 1.718944099378882, 'drummond': 1.109472049689441, 'urgent': 1.1168415792103947, 'cypriot': 1.7336831584207897, 'cypriotcommunity': 1.1168415792103947, 'greeknew': 1.1168415792103947, 'greekcommunity': 1.1168415792103947, 'barnet': 1.1168415792103947, 'leukaemia': 1.1168415792103947, 'officers': 1.1168415792103947, 'staff': 1.7262311411861635, 'crime': 3.188552105526184, 'dress': 6.191636565371757, 'dressy': 1.1368407052743579, 'sundaytime': 1.1368407052743579, 'sundaze': 1.1368407052743579, 'dresstodigress': 1.1368407052743579, 'grooming': 3.0068102570696675, 'gq': 2.3904798477129425, 'fmja': 2.3904798477129425, 'junior': 1.7070393374741197, 'consulting': 2.3182583639330887, 'acct': 1.1001223990208078, 'mngt': 1.1001223990208078, 'cellulite': 2.930775263951735, 'skin': 2.9330596462361167, 'treatment': 2.3370607305455433, 'lipotherapeia': 1.7153876319758674, 'dedicate': 1.7153876319758674, 'ageing': 1.7153876319758674, 'firming': 1.7153876319758674, 'fat': 2.323342177430413, 'reduction': 1.7153876319758674, 'replay': 3.048911529083943, 'sometro': 1.1372095959595958, 'entertainmentnetwork': 1.7744557645419712, 'worldwideairplay': 1.7744557645419712, 'radiopersonality': 1.7744557645419712, 'halo': 1.1606837606837606, 'dirty': 1.8213675213675211, 'alex': 1.1606837606837606, 'talks': 1.1606837606837606, 'prince': 1.7182303282520557, 'poppins': 1.1086021505376342, 'hubblebubble': 1.109234496124031, 'toilandtrouble': 1.109234496124031, 'spellcaste': 1.109234496124031, 'blackmagic': 1.109234496124031, 'spiritcapture': 1.109234496124031, 'ghosttrap': 1.109234496124031, 'protectionspell': 1.109234496124031, 'pithy': 1.1099078885214926, 'citrus': 1.1099078885214926, 'zesty': 1.1099078885214926, 'refresh': 1.1099078885214926, 'zest': 1.1099078885214926, 'fest': 1.7165266015804868, 'josie': 1.1075367647058822, 'dior': 1.7150735294117647, 'ginohairdresse': 1.1095695970695971, 'daffodil': 2.3243131868131868, 'windowdisplay': 1.1095695970695971, 'londonhairsalon': 1.1095695970695971, 'londonhair': 1.1095695970695971, 'russellsquare': 1.1095695970695971, 'teamgino': 1.7191391941391942, 'gino': 2.3287087912087916, 'hairdressing': 2.3287087912087916, 'gents': 1.1095695970695971, 'ggh': 1.1095695970695971, 'range': 2.327491872710623, 'sb': 1.1095695970695971, 'wellaprofessionals': 1.1095695970695971, 'salon': 1.1095695970695971, 'bodevolution': 1.7171666666666667, 'botox': 1.1085833333333333, 'aestheticstraine': 1.1085833333333333, 'laseracademy': 1.1085833333333333, 'treatments': 1.717234496124031, 'technologies': 2.3252268234897597, 'therapies': 1.717234496124031, 'brick': 1.1724184782608695, 'fiercely': 1.1724184782608695, 'dele': 1.1724184782608695, 'sosimi': 1.1724184782608695, 'isaac': 1.1724184782608695, 'birituro': 1.1724184782608695, 'rail': 1.1724184782608695, 'abandon': 1.8632605835240272, 'resonators': 1.1724184782608695, 'soothsayers': 1.1724184782608695, 'suvs': 1.1908421052631577, 'pickup': 1.1908421052631577, 'pedestrian': 1.1908421052631577, 'lemonpie': 1.7168017940313955, 'soundcloud': 2.3234418453779866, 'andrew': 1.1088844086021505, 'webber': 1.1088844086021505, 'cinderella': 1.1088844086021505, 'son': 3.5429912285801177, 'uncle': 1.7179722464399885, 'outlander': 1.1073717948717947, 'randall': 1.7000515995872032, 'intercontinental': 1.7000515995872032, 'raspberry': 2.934595975585408, 'lemon': 2.3249032258064517, 'troykotsur': 1.1903508771929823, 'oscars': 1.1903508771929823, 'trinity': 1.7170674017058456, 'fiennes': 1.1081666666666665, 'politic': 3.54370327969974, 'walking': 2.931290616429411, 'blackfriar': 1.1078098471986417, 'tryna': 2.3200986271480457, 'angels': 1.1072152653548002, 'eternity': 1.7144305307096004, 'glendo': 1.1072152653548002, 'elle': 2.4168942246578196, 'hosiery': 1.1463998538011695, 'aqua': 1.7132808857808857, 'tshirt': 2.933163431750026, 'ʜᴇʟʟᴏ': 1.109234496124031, 'sᴜɴsʜɪɴᴇ': 1.109234496124031, 'hibernation': 1.109234496124031, 'tistheseason': 1.109234496124031, 'sunworship': 1.109234496124031, 'psycle': 1.109234496124031, 'freely': 1.109234496124031, 'einstein': 1.109234496124031, 'streetdance': 1.109234496124031, 'flawless': 1.109234496124031, 'leona': 1.109234496124031, 'lewis': 1.109234496124031, 'yeast': 1.136361111111111, 'games': 2.4306473548211613, 'programmer': 1.1201482388140893, 'yves': 1.7148724082934608, 'disclosure': 1.1175000000000002, 'tch': 1.718135964912281, 'revenue': 2.9362719298245614, 'advisory': 2.9362719298245614, 'startup': 2.3274481617244778, 'ludovicoeinaudi': 1.7127039627039626, 'eventim': 3.0200700578661106, 'question': 2.322117030256565, 'authority': 3.0944434428790304, 'timothy': 1.7127039627039626, 'leary': 1.7127039627039626, 'waterloo': 2.334928190484405, 'scottish': 1.716157581453634, 'bookish': 1.716157581453634, 'murderino': 1.716157581453634, 'tbtl': 1.716157581453634, 'wittere': 1.716157581453634, 'surprisingly': 1.7167637163561078, 'calm': 1.7166812286424356, 'kwentongkalye': 1.1072916666666668, 'risk': 1.7960787019997544, 'silverlining': 1.108595571095571, 'burst': 1.108595571095571, 'braininjurysupport': 1.717093594810986, 'fridaymeeting': 1.108595571095571, 'brain': 2.3243902455286896, 'injured': 1.717093594810986, 'rebuild': 1.717093594810986, 'gc': 1.1056891025641025, 'gratitude': 1.7160535714285712, 'entrepreneurship': 1.1081666666666665, 'near': 3.0898659172038094, 'error': 1.1094796288826139, 'processing': 1.1094796288826139, 'disable': 1.1094796288826139, 'download': 2.334429126077177, 'woocommerce': 1.1094796288826139, 'opencart': 1.1094796288826139, 'chest': 2.9330106951871664, 'drawer': 2.9330106951871664, 'wallet': 1.1908421052631577, 'id': 2.4090006743894685, 'slug': 2.322419028340081, 'totem': 1.1073717948717947, 'prime': 1.1073717948717947, 'minister': 1.7154607489284905, 'disgusting': 1.1073717948717947, 'disgraceful': 1.1073717948717947, 'primeminister': 1.1073717948717947, 'illustration': 1.1073717948717947, 'effigy': 1.1073717948717947, 'peppers': 1.1091666666666669, 'woburn': 1.718944099378882, 'weekendvibe': 1.1072152653548002, 'mandarinoriental': 1.1072152653548002, 'mandarin': 1.7315763764659113, 'oriental': 1.7315763764659113, 'tg': 1.1072152653548002, 'foundation': 1.7168434430692217, 'virginiedearaujorecchia': 1.109234496124031, 'arrest': 3.0187448050827896, 'police': 2.4007653810759684, 'treason': 1.109234496124031, 'nuremberg': 1.109234496124031, 'leg': 1.7106298687694035, 'avenue': 1.1014742014742014, 'net': 1.1014742014742014, 'sleeved': 1.1014742014742014, 'rohingya': 1.8814720893141943, 'fix': 1.7156754385964912, 'future': 4.925133282311982, 'defense': 2.759366028708134, 'medicationerror': 1.1903508771929823, 'chill': 1.7165998570686072, 'sundaymorning': 1.7161075903263403, 'daddysboy': 1.1075120192307693, 'toddler': 1.1075120192307693, 'toddleractivitie': 1.1075120192307693, 'spiced': 1.109087837837838, 'remixer': 1.7184000346500348, 'lushsocasunday': 1.7184000346500348, 'theurbanrevolution': 1.7184000346500348, 'bloody': 2.437350830502225, 'happiest': 1.1088844086021505, 'fishing': 1.1088844086021505, 'skiing': 1.1088844086021505, 'scuba': 1.1088844086021505, 'diving': 1.1088844086021505, 'affair': 1.7173234501807269, 'ipswich': 2.325004588731619, 'university': 2.4195043713018585, 'education': 1.7188172877846792, 'sill': 1.1087128399746997, 'fsb': 1.717314990512334, 'faststartbuilder': 1.717314990512334, 'construction': 2.9544787332023925, 'savethedate': 1.1079734848484848, 'liveperformance': 1.1079734848484848, 'rnb': 1.7160464015151513, 'singersongwrit': 1.7138825757575757, 'giglife': 1.1079734848484848, 'gigslondon': 1.1079734848484848, 'deceit': 2.3234724767839685, 'appreciator': 1.7398176814585486, 'supergolden': 1.7398176814585486, 'bakes': 1.7398176814585486, 'editorial': 1.7177536231884059, 'malemodel': 1.108876811594203, 'fyp': 2.327977257171786, 'followme': 1.7184354413702239, 'retoucher': 1.717626811594203, 'merchandise': 1.7178934176111595, 'tshirtprinte': 1.7178934176111595, 'dtg': 1.7178934176111595, 'createsomenoise': 1.7178934176111595, 'fieldsofnephilim': 1.7178934176111595, 'noisemerch': 1.7178934176111595, 'mph': 1.1087619047619048, 'adelphi': 1.1087619047619048, 'algorithm': 1.1092146494320407, 'comedian': 1.7186464676138589, 'automotive': 1.7188727110262436, 'mention': 1.1092146494320407, 'motor': 1.1092146494320407, 'neck': 1.7162917487569191, 'oil': 3.016385220140296, 'identity': 1.107920536635707, 'airport': 1.8180594255245959, 'rebellion': 1.107920536635707, 'gbp': 2.319692307692308, 'aesthetician': 1.1088850574712645, 'jodie': 1.1088850574712645, 'ultracel': 1.1088850574712645, 'collagen': 1.1088850574712645, 'pure': 1.1088850574712645, 'natali': 1.1088850574712645, 'ciinic': 1.1088850574712645, 'strike': 3.180061640587956, 'californiarefinery': 1.8807017543859645, 'chevron': 1.8807017543859645, 'lci': 2.3250139152435167, 'format': 2.31991449694632, 'sutton': 2.3250139152435167, 'arms': 4.151239825305477, 'fancy': 1.1095013661202184, 'tucking': 1.1095013661202184, 'tasty': 4.152808971763697, 'baked': 2.3282962105013065, 'potato': 1.718914433672821, 'tuna': 1.1095013661202184, 'til': 1.1095013661202184, 'homeless': 1.1095013661202184, 'vulnerable': 1.1095013661202184, 'tnt': 1.1092146494320407, 'reside': 1.1092146494320407, 'tell': 3.5520392597344213, 'understand': 2.321857811904205, 'trinisonamission': 1.1092146494320407, 'makingmoves': 1.1092146494320407, 'dawg': 1.1092146494320407, 'slaughter': 1.7187142970712233, 'itron': 1.1092146494320407, 'caliber': 1.1092146494320407, 'phone': 1.8193535383209296, 'italianjob': 1.1096580615942029, 'miniclassic': 1.1096580615942029, 'preview': 1.7175449663561078, 'epic': 1.829832100201894, 'exclusively': 1.1096580615942029, 'canterbury': 1.1096580615942029, 'ppoty': 1.1096580615942029, 'mj': 1.10945885509839, 'hudson': 1.10945885509839, 'hobby': 1.10945885509839, 'sailing': 1.10945885509839, 'whisky': 1.10945885509839, 'trait': 1.10945885509839, 'loud': 1.10945885509839, 'opinionated': 1.10945885509839, 'confirm': 1.1908421052631577, 'jiddah': 1.1908421052631577, 'fucking': 1.1090629274965802, 'bruise': 1.1090629274965802, 'mash': 1.1090629274965802, 'upper': 2.3277678469643672, 'norwood': 1.1090629274965802, 'saatchi': 1.1090629274965802, 'dyslexic': 1.1090629274965802, 'spelling': 1.1090629274965802, 'nfts': 1.1090629274965802, 'sunnyday': 3.5421218570544184, 'thisislondon': 1.108498023715415, 'saimachaudhry': 1.7169960474308301, 'saimachaudhrycouture': 1.108498023715415, 'saimachaudhryofficial': 1.7169960474308301, 'saimachaudhryjewelry': 1.108498023715415, 'rp': 1.1012658227848102, 'junction': 1.7152022380595149, 'gap': 1.1089522380595147, 'simon': 1.120304768331084, 'lycett': 1.120304768331084, 'decoration': 1.729650006426322, 'modest': 1.728900339426655, 'dinner': 5.978958743690506, 'magical': 2.3659942127451794, 'myqueen': 1.136788997974131, 'non': 2.3557679176052244, 'partisan': 1.136788997974131, 'egalitarian': 1.136788997974131, 'agnostic': 1.136788997974131, 'female': 1.7724873123876157, 'nodms': 1.136788997974131, 'fur': 1.1087619047619048, 'decide': 1.7183722943722946, 'comfy': 1.1087619047619048, 'childrenscorner': 1.1087619047619048, 'eve': 1.717467816336669, 'grape': 2.349468122343122, 'merchants': 1.1049549549549549, 'saints': 1.1049549549549549, 'bitey': 1.108013276434329, 'bandit': 1.715425135408688, 'lockdown': 1.7992538699690401, 'ramadan': 1.1092191080557026, 'maisondemarrakech': 1.1092191080557026, 'kaftan': 1.1092191080557026, 'kaftansale': 1.1092191080557026, 'ramadankaftan': 1.1092191080557026, 'abayas': 1.1092191080557026, 'muslimkaftan': 1.1092191080557026, 'marrakech': 1.718438216111405, 'moroccankaftan': 1.1092191080557026, 'etsy': 2.32304486563146, 'bohofashion': 1.1092191080557026, 'maison': 1.1092191080557026, 'moroccan': 1.1092191080557026, 'homewear': 1.1092191080557026, 'fifa': 1.219200065167807, 'twitch': 1.219200065167807, 'ku': 1.1084390415785763, 'persuasion': 1.1084390415785763, 'kindness': 1.7181647666731539, 'forwards': 1.1084390415785763, 'bekind': 1.1084390415785763, 'pat': 1.1084117647058824, 'vieira': 1.1084117647058824, 'pride': 1.7451058116940472, 'accountable': 1.1084117647058824, 'tories': 1.1084117647058824, 'whysoserious': 1.10967993754879, 'redcarpet': 1.10967993754879, 'dapper': 1.7184299375487901, 'ootd': 2.3267859503663972, 'guyswithstyle': 1.10967993754879, 'isabel': 1.10967993754879, 'rep': 2.327762919421677, 'shania': 1.10967993754879, 'twain': 1.10967993754879, 'glee': 1.10967993754879, 'curb': 1.10967993754879, 'ent': 1.10967993754879, 'nicki': 1.10967993754879, 'minaj': 1.10967993754879, 'beyoncé': 1.10967993754879, 'rowland': 1.10967993754879, 'jlo': 1.10967993754879, 'hailee': 1.10967993754879, 'seinfeld': 1.10967993754879, 'thoughtoftheday': 1.7155523255813954, 'mate': 1.1086711711711712, 'skunx': 2.9344992050874406, 'tattooist': 1.7172496025437203, 'nufc': 1.7172496025437203, 'nyjets': 1.7172496025437203, 'springtime': 1.716298669467787, 'londonisbloomingmarvellousinthesunshine': 1.1075367647058822, 'londonisbloome': 1.1075367647058822, 'snack': 1.1093121968121968, 'champions': 1.1093121968121968, 'ifyouknowyouknow': 1.1093121968121968, 'zaboca': 1.1093121968121968, 'avocado': 1.7189073992109973, 'choka': 1.1093121968121968, 'crix': 1.1093121968121968, 'icy': 1.1093121968121968, 'mauby': 1.1093121968121968, 'exactly': 1.1085045045045043, 'technically': 1.1085045045045043, 'classified': 1.1085045045045043, 'forecast': 1.7962587719298244, 'drought': 1.1908421052631577, 'deepen': 1.1908421052631577, 'floodingebb': 1.1908421052631577, 'motorcadepal': 1.1903508771929823, 'congressman': 1.1903508771929823, 'foes': 1.1903508771929823, 'starship': 1.1072966507177033, 'roca': 1.1072966507177033, 'oddly': 1.1096103896103897, 'flattering': 1.1096103896103897, 'rip': 3.745112120932508, 'godspeed': 1.1096103896103897, 'buddy': 2.3830253616115686, 'strategy': 4.16056400695381, 'john': 3.545393390511826, 'brabourne': 1.1096103896103897, 'awardee': 1.1096103896103897, 'happydog': 1.1086021505376342, 'tired': 2.323908919757447, 'blacklab': 2.9347350230414744, 'blacklabsofinsta': 1.1086021505376342, 'bday': 1.1089162692103869, 'virgin': 1.1089162692103869, 'sony': 1.718447519210387, 'sheninamaradj': 1.1089162692103869, 'brands': 1.1089162692103869, 'onedancefestival': 1.1089162692103869, 'theasylum': 1.1089162692103869, 'housepassion': 1.1089162692103869, 'hitty': 1.1089162692103869, 'bollock': 1.1075367647058822, 'overground': 1.1075367647058822, 'wearer': 1.1075367647058822, 'vow': 1.1908421052631577, 'naturally': 1.1088076923076922, 'evidence': 1.1088076923076922, 'propaganda': 1.1088076923076922, 'nazi': 1.1088076923076922, 'lie': 2.322514328808446, 'ignore': 1.1088076923076922, 'parliamentary': 1.1088076923076922, 'computer': 1.1088076923076922, 'pixel': 1.1088076923076922, 'bloom': 3.5436994089954617, 'compassionate': 1.1066337719298245, 'advocate': 2.931293051603639, 'sunny': 3.5403938835931514, 'iamezelle': 1.1088055797733216, 'ezelleofficial': 1.1088055797733216, 'ezellethebrand': 1.1088055797733216, 'ezelle': 1.1088055797733216, 'purpose': 3.556207916948067, 'décor': 1.1088055797733216, 'blast': 1.1081666666666665, 'past': 2.3270848057506583, 'hms': 1.1081666666666665, 'usadmiral': 1.1903508771929823, 'militarizedisle': 1.1903508771929823, 'lightning': 1.1092146494320407, 'sooo': 1.1092146494320407, 'smell': 1.1092146494320407, 'pourhomme': 1.1092146494320407, 'reinvent': 3.546559567232017, 'fragrance': 4.1559821045234075, 'kenleyjansen': 1.1903508771929823, 'atlanta': 1.1903508771929823, 'braves': 1.1903508771929823, 'lean': 2.401180963092836, 'bullpen': 1.1903508771929823, 'vanity': 1.7175238095238095, 'pic': 1.8013442300307219, 'vanityofvanitie': 1.1087619047619048, 'mememe': 1.1087619047619048, 'hackedaccount': 1.1087619047619048, 'agitator': 2.9346550619268994, 'aspergertard': 2.9346550619268994, 'blakean': 3.5435730947137847, 'crow': 2.9346550619268994, 'clapton': 3.5433262330980706, 'collector': 4.765368424529057, 'immigrant': 3.5792367802731526, 'sinister': 3.544172899162128, 'marginalian': 2.9346550619268994, 'wusc': 2.9346550619268994, 'barre': 1.1074260752688172, 'germany': 3.0118818168956114, 'thankfully': 1.1648677523677522, 'ride': 2.4117243105605173, 'suddenly': 1.1648677523677522, 'saddle': 1.1648677523677522, 'qt': 1.1648677523677522, 'joke': 1.1648677523677522, 'extremely': 1.1648677523677522, 'classicalmat': 1.109155667295202, 'weybridgemum': 1.109155667295202, 'weybridgelife': 1.109155667295202, 'cobhammum': 1.109155667295202, 'cobham': 1.109155667295202, 'pilatespluswellness': 1.7183113345904044, 'rosa': 1.7152285417891293, 'reeve': 1.109155667295202, 'mac': 1.1090112201963533, 'niche': 1.7455389979741311, 'prod': 1.1090112201963533, 'exploremore': 1.1090112201963533, 'remedy': 1.1090112201963533, 'trinijam': 1.1090112201963533, 'remedycure': 1.1090112201963533, 'lyricist': 1.717647583832717, 'threefxtemusic': 1.1090112201963533, 'disseminate': 1.2845833333333334, 'morale': 1.2845833333333334, 'freedom': 3.7473558276321435, 'relevant': 1.106658692185008, 'liberian': 1.106658692185008, 'gossip': 1.106658692185008, 'delivery': 4.769931886889006, 'sneeze': 1.108672936259143, 'busyday': 1.108672936259143, 'pancake': 1.108672936259143, 'soulfood': 1.108672936259143, 'scotland': 2.3145499993168093, 'tualatin': 1.1077761627906977, 'layering': 1.1084566885964913, 'postage': 1.1084566885964913, 'bracelet': 1.1084566885964913, 'necklace': 3.09890191028906, 'rainbow': 1.7169133771929825, 'layer': 1.7169133771929825, 'gemstone': 2.9338267543859646, 'neckmess': 1.7169133771929825, 'armcandy': 1.1084566885964913, 'marylebone': 2.381082893158837, 'sophisticated': 2.3335706594752645, 'inglaterra': 1.1079734848484848, 'niamh': 1.7169886363636362, 'cease': 1.7169886363636362, 'amaze': 1.7169886363636362, 'hairdresser': 2.3251882798573975, 'reap': 1.7169886363636362, 'sow': 1.7169886363636362, 'circussolidarity': 1.1903508771929823, 'ukrainianperformer': 1.1903508771929823, 'hungary': 1.1903508771929823, 'eastside': 1.1081599347205222, 'answer': 1.7179110912680176, 'tornado': 1.1906299840510366, 'suburb': 1.1906299840510366, 'petergrimes': 1.109087837837838, 'royalopera': 1.109087837837838, 'royaloperahouse': 1.109087837837838, 'afternoonattheopera': 1.109087837837838, 'culturedteddybear': 1.109087837837838, 'petergrimesopera': 1.109087837837838, 'snatch': 1.109087837837838, 'tanzania': 1.109087837837838, 'mummy': 1.7177242014742016, 'remade': 1.109087837837838, 'borehamwood': 1.109087837837838, 'goodmorne': 2.3239761918189337, 'piccadillycircus': 1.1079545454545454, 'daisy': 2.9367471172998556, 'paradise': 1.1093895619757688, 'marc': 1.1093895619757688, 'jacobs': 1.1093895619757688, 'dazzle': 1.7189999515861585, 'marcjacob': 1.1093895619757688, 'forher': 1.718655971242178, 'blackandblue': 1.107125, 'keylab': 1.1075120192307693, 'essential': 1.1075120192307693, 'itaymusic': 1.1075120192307693, 'musicproduction': 1.1075120192307693, 'arturia': 1.1075120192307693, 'pleasant': 1.7150795454545453, 'cheap': 1.7990087719298242, 'sicilian': 1.1081666666666665, 'musico': 1.1082923832923832, 'poeta': 1.1082923832923832, 'loco': 1.1082923832923832, 'todo': 1.1082923832923832, 'tenemos': 1.1082923832923832, 'poco': 1.1082923832923832, 'pezzaccio': 1.1082923832923832, 'eroticsound': 1.1082923832923832, 'houses': 1.1163194444444444, 'privatetour': 1.1163194444444444, 'historichouse': 1.1163194444444444, 'driverguide': 1.1163194444444444, 'keg': 1.1091736694677872, 'citra': 1.1091736694677872, 'pale': 4.758728499205552, 'cider': 1.1091736694677872, 'organise': 1.7740260472004894, 'hawkins': 1.2297385620915033, 'major': 1.9208817426234783, 'proponent': 1.2297385620915033, 'coexist': 1.2297385620915033, 'movement': 2.4482811184706974, 'nbc': 1.2297385620915033, 'skylerelyse': 1.137424740010947, 'londoneye': 2.3555973239092727, 'ferriswheel': 1.137424740010947, 'europeanvacation': 1.137424740010947, 'heyman': 1.137424740010947, 'yjb': 1.137424740010947, 'bmg': 1.137424740010947, 'aefh': 1.137424740010947, 'carson': 1.137424740010947, 'adler': 1.137424740010947, 'mom': 1.137424740010947, 'permit': 1.137424740010947, 'coogan': 1.137424740010947, 'fatback': 1.7183333333333335, 'soulmusic': 1.7184601449275365, 'akinbosola': 1.175021083702298, 'relationshipcoach': 1.175021083702298, 'relationship': 1.7842874929687074, 'polina': 1.2838844086021508, 'kovaleva': 1.2838844086021508, 'effective': 1.2838844086021508, 'stepdaughter': 1.2838844086021508, 'sergey': 1.2838844086021508, 'lavrov': 1.2838844086021508, 'bluehouse': 1.1908421052631577, 'coffeeholic': 1.1089522380595147, 'whiskey': 1.1089522380595147, 'intelligentcompliance': 1.1089522380595147, 'strict': 1.1089522380595147, 'definition': 1.1089522380595147, 'unlock': 1.7177576357126951, 'access': 1.109084699453552, 'happywomensday': 1.109084699453552, 'happylife': 1.109084699453552, 'positivity': 1.109084699453552, 'blessing': 1.72530048809459, 'motivational': 1.7181992827868853, 'strategic': 2.325267889855492, 'flip': 1.7181992827868853, 'coin': 2.327511479599082, 'widen': 1.8816387559808612, 'blackbox': 1.1910087719298246, 'insider': 1.1107142857142858, 'threat': 1.1107142857142858, 'boozallen': 1.1107142857142858, 'administration': 1.7132783882783884, 'venture': 1.1093121968121968, 'capitalist': 1.1093121968121968, 'equity': 1.1093121968121968, 'dude': 1.7163808038808037, 'currency': 1.1093121968121968, 'ethereum': 1.1093121968121968, 'vcs': 1.1093121968121968, 'ramble': 1.109656177156177, 'vine': 1.109656177156177, 'recycle': 1.7184797065679418, 'zip': 1.109656177156177, 'hoodie': 1.109656177156177, 'xxl': 1.109656177156177, 'fairwear': 1.109656177156177, 'burlingtonarcade': 1.1643790849673201, 'burlington': 1.1643790849673201, 'arcade': 1.7731290849673202, 'stopkillingwhales': 2.4940838404327246, 'deafen': 1.1060728744939272, 'jobless': 1.1071086711711713, 'ton': 1.1071086711711713, 'md': 1.70966328709788, 'linkedin': 2.3213260135135134, 'fork': 2.3241318440766974, 'app': 2.9366993300822637, 'coop': 1.1093895619757688, 'safaricom': 2.3240803891665958, 'reverse': 1.1093895619757688, 'initiate': 1.7187791239515378, 'reversal': 1.7187791239515378, 'authorize': 1.8128711341231916, 'tie': 1.1085833333333333, 'knee': 1.1085833333333333, 'cock': 1.1085833333333333, 'deserve': 1.717384011145871, 'positively': 1.1089162692103869, 'identify': 1.71870100502252, 'hyatt': 1.1065641025641026, 'regency': 1.1065641025641026, 'churchill': 1.1065641025641026, 'stuttgart': 1.1065641025641026, 'mall': 1.715206939799331, 'tavern': 2.946347244081579, 'winners': 1.1067363184079602, 'powerpill': 1.7134726368159203, 'giveaway': 1.7158509017412935, 'pacman': 1.1067363184079602, 'eatthemupyumyum': 1.1067363184079602, 'european': 4.272526679720015, 'atomsmasher': 1.1906299840510366, 'ponder': 1.1906299840510366, 'response': 1.8812599681020732, 'invasion': 2.6659039074960127, 'coda': 1.1906299840510366, 'adapt': 1.7994355638243582, 'boys': 1.108595571095571, 'bnl': 1.108595571095571, 'trekkie': 3.2490388461857345, 'tng': 1.108595571095571, 'picardneedsbev': 1.108595571095571, 'thewlis': 1.108595571095571, 'revive': 1.1908421052631577, 'climatedamage': 1.1908421052631577, 'estimate': 1.1908421052631577, 'wimbledondoggydaycare': 1.1083010752688172, 'wimbledondoggroomer': 1.717106655042139, 'wimbledondogwalke': 1.1083010752688172, 'daff': 1.1035754504504505, 'windmill': 1.7065900034650037, 'housing': 2.3431177812427815, 'expect': 2.9205111746361747, 'fascist': 1.7065900034650037, 'exclude': 1.7065900034650037, 'aperitif': 1.1081996434937613, 'modelondon': 1.1080729166666665, 'radioshow': 1.1080729166666665, 'moremusicmorelife': 1.1080729166666665, 'dancehall': 3.621987180319462, 'dnb': 1.1080729166666665, 'grime': 1.1080729166666665, 'drill': 1.1080729166666665, 'radiosetting': 1.1080729166666665, 'myanmarrepression': 1.189967105263158, 'muslimrohingya': 1.189967105263158, 'peep': 1.7184876298564822, 'happyweekend': 1.7169956723384143, 'manifestation': 1.1095695970695971, 'iranianpopidolrezasadeghi': 1.19125386996904, 'wow': 2.487763270434377, 'panam': 1.7171666666666667, 'chiswick': 1.1085833333333333, 'medically': 1.1085833333333333, 'ret': 1.1085833333333333, 'flt': 1.1085833333333333, 'attendant': 1.1085833333333333, 'philosopher': 1.1085833333333333, 'loppa': 1.1085833333333333, 'sámi': 1.1085833333333333, 'perplexed': 1.1085833333333333, 'citizen': 1.7182115110477547, 'gate': 1.7163900293255132, 'لك': 1.1077878787878788, 'حتى': 1.1077878787878788, 'ترضا': 1.1077878787878788, 'واذا': 1.1077878787878788, 'رضيت': 1.1077878787878788, 'وبعد': 1.1077878787878788, 'الرضا': 1.1077878787878788, 'houserepublican': 1.1910087719298246, 'illegally': 1.1910087719298246, 'rescind': 1.1910087719298246, 'lil': 1.715496212121212, 'hq': 1.1083712121212121, 'chanelle': 1.7156678628389155, 'celebsgodate': 1.7156678628389155, 'threats': 1.1908421052631577, 'lurk': 1.1908421052631577, 'strongbow': 1.108595571095571, 'fruit': 1.108595571095571, 'millers': 1.108595571095571, 'reese': 5.366586101645949, 'cup': 6.142029720774416, 'conditioning': 4.759461101645949, 'earring': 6.078670721823311, 'kilt': 9.018922203291899, 'bearded': 5.368413339705464, 'plot': 1.109087837837838, 'estrella': 1.1083712121212121, 'galicia': 1.717929841897233, 'especial': 1.7175858615532529, 'planecrash': 1.189967105263158, 'marlborough': 1.7109860044196572, 'type': 2.3083917121069515, 'distribute': 2.3274249305801726, 'nwn': 1.7205597527472527, 'gory': 1.1103766025641026, 'death': 2.4921497671471142, 'shall': 1.1103766025641026, 'deathrash': 1.1103766025641026, 'repress': 1.1103766025641026, 'peaceville': 1.1103766025641026, 'profile': 1.7205597527472527, 'smackdownlive': 1.1078098471986417, 'risograph': 1.7188636363636365, 'pattern': 1.7164076854518031, 'pack': 2.382950441919192, 'personify': 1.1094318181818181, 'retrosupplyco': 1.1094318181818181, 'riso': 1.1094318181818181, 'vintagevibe': 1.1094318181818181, 'ricotta': 2.3282392026578074, 'spinach': 1.1094130675526026, 'taglio': 1.1094130675526026, 'pizzalondon': 1.1094130675526026, 'theagilerabbit': 1.1094130675526026, 'agile': 1.1094130675526026, 'herne': 2.327182308115961, 'artisanal': 1.1094130675526026, 'elderly': 1.1094996476391825, 'terroristattack': 1.1094996476391825, 'murder': 1.1094996476391825, 'voiceactor': 1.1094996476391825, 'confidence': 1.7295800569959077, 'presentation': 1.1094996476391825, 'satnavvoice': 1.1094996476391825, 'gameonthemusical': 1.1094996476391825, 'tvsketch': 1.1094996476391825, 'fizz': 1.1094996476391825, 'buddhist': 1.1094996476391825, 'armenian': 1.1094996476391825, 'tesco': 1.1176801801801801, 'william': 1.1176801801801801, 'morris': 1.1176801801801801, 'wetherspoon': 1.7259812554489973, 'legend': 1.8425243071901578, 'nelsondamoura': 1.139042735042735, 'newengland': 1.139042735042735, 'nightlife': 2.3517894455690507, 'timeless': 2.3225779806409768, 'velvet': 1.1082189168573606, 'versatile': 1.1082189168573606, 'occasion': 1.7160067956452394, 'velvetslipper': 1.1082189168573606, 'williamnormanlondon': 1.1082189168573606, 'englishshoe': 1.1082189168573606, 'footwear': 1.1082189168573606, 'agree': 2.490474617534114, 'taxis': 1.1906299840510366, 'aluminum': 1.1906299840510366, 'gas': 1.88119298245614, 'shipment': 1.1908421052631577, 'russianleverage': 1.1908421052631577, 'settlementdeal': 1.1906299840510366, 'manuelellis': 1.1906299840510366, 'meu': 2.322987325778813, 'filhão': 2.322987325778813, 'dia': 2.322987325778813, 'oj': 2.327695557131041, 'hangover': 1.7168508588186009, 'londonbylondoner': 1.1090629800307221, 'hangovergang': 1.1090629800307221, 'londonmusic': 1.1090629800307221, 'publife': 1.1090629800307221, 'musicindustry': 1.1090629800307221, 'partylife': 1.7182125401480242, 'musicmaker': 1.1090629800307221, 'coldbrew': 1.1090629800307221, 'defend': 1.108974358974359, 'submission': 1.718319597069597, 'champ': 1.108974358974359, 'theepidemic': 1.108974358974359, 'brasserie': 1.773298281936726, 'relaunch': 1.1650276052449966, 'oyster': 1.1650276052449966, 'finedine': 1.1650276052449966, 'quantum': 2.4775793797256114, 'attraction': 2.4775793797256114, 'transformational': 2.4775793797256114, 'retreats': 2.4775793797256114, 'reiki': 2.4775793797256114, 'psychic': 2.4775793797256114, 'yr': 3.087185544109173, 'gooner': 3.1141190622652934, 'sanctions': 1.1906299840510366, 'russianlawmaker': 1.1906299840510366, 'heads': 1.1906299840510366, 'tomb': 2.382560502146709, 'raider': 1.1088076923076922, 'tutankhamun': 1.1088076923076922, 'millennia': 1.1088076923076922, 'jesus': 2.3271427201701176, 'miraclestreet': 1.1088076923076922, 'cleopatra': 1.1088076923076922, 'needle': 1.1088076923076922, 'present': 2.9354098003445825, 'gospel': 1.716896646364388, 'christ': 1.1088076923076922, 'indoors': 1.1088076923076922, 'outdoors': 2.327650002203951, 'contabilidad': 1.1069128787878788, 'finanzas': 1.1069128787878788, 'urjc': 1.1069128787878788, 'systems': 1.7184487555455297, 'buzz': 1.109386889083992, 'facilitate': 1.109386889083992, 'extraordinary': 1.109386889083992, 'familytime': 2.323330396528846, 'bigbirthday': 1.1072966507177033, 'grumpy': 1.1072966507177033, 'hurtle': 1.109009009009009, 'evangelist': 1.109009009009009, 'barefoot': 1.109009009009009, 'hubby': 1.109009009009009, 'teenage': 1.109009009009009, 'sweetheart': 1.109009009009009, 'deco': 1.1084117647058824, 'obsession': 1.2101388888888889, 'clothe': 1.2101388888888889, 'van': 2.321325376416219, 'gogh': 1.7122107930828858, 'immersive': 1.1025546159267088, 'chinese': 1.1025546159267088, 'diversity': 2.3298770517528165, 'mentalhealth': 1.7123393517388419, 'ipa': 2.3248855201815726, 'workout': 1.8288812260536398, 'ironmantraine': 1.16444061302682, 'ironman': 1.16444061302682, 'thriatlon': 1.16444061302682, 'marathontraine': 1.16444061302682, 'cycle': 2.5459688764300834, 'firnessmotivation': 1.16444061302682, 'autore': 1.16444061302682, 'il': 1.773614282494607, 'sistema': 1.16444061302682, 'casaleggio': 1.16444061302682, 'programmatore': 1.16444061302682, 'viaggio': 1.16444061302682, 'leggo': 1.16444061302682, 'scrivo': 1.16444061302682, 'scoville': 1.7157738095238095, 'lego': 1.1078869047619047, 'legophotography': 1.1078869047619047, 'toyphotography': 1.1078869047619047, 'afol': 1.1078869047619047, 'raman': 1.717147154316272, 'ramennoodle': 1.1078869047619047, 'shopkeeper': 1.1078869047619047, 'mr': 2.3808237764161677, 'crate': 1.1078869047619047, 'digging': 1.1078869047619047, 'modeling': 1.1089162692103869, 'unlimited': 1.1089162692103869, 'moves': 1.1089162692103869, 'inquiry': 4.766110493815406, 'likethat': 1.1356983144134847, 'stag': 1.1075367647058822, 'stool': 1.1075367647058822, 'ostara': 1.717391279638091, 'ostarablessing': 1.717391279638091, 'wintersend': 1.717391279638091, 'resowthecrop': 1.1089522380595147, 'bythegod': 1.1089522380595147, 'fecundearth': 1.1089522380595147, 'exposure': 2.325641358869129, 'supermarket': 1.7168235294117649, 'paperwork': 1.7168235294117649, 'collect': 2.3251807861900744, 'disturb': 1.7168235294117649, 'entire': 2.327315840455375, 'coal': 1.1086363636363636, 'newmarket': 1.7172727272727273, 'horses': 1.1086363636363636, 'parenting': 1.7562122927063504, 'notice': 1.7183985709847778, 'gadget': 1.109009009009009, 'londonbridge': 2.32656763878503, 'semparatuttciold': 1.108, 'bastecacsipedalgrasss': 1.108, 'nomadic': 1.1079545454545454, 'enjoyer': 1.1079545454545454, 'crispy': 1.7738789725641058, 'hash': 1.1093121968121968, 'leweekend': 1.1093121968121968, 'springhassprung': 1.1093121968121968, 'omnomnom': 1.1093121968121968, 'crispyduckhash': 1.1093121968121968, 'icedcoffee': 1.1093121968121968, 'penny': 2.3249549777510303, 'paella': 1.1094130675526026, 'americangunmaker': 1.1906299840510366, 'ukrainians': 1.8812599681020732, 'mixture': 1.1063519813519813, 'specialrequest': 1.1092934782608697, 'ukdon': 1.1092934782608697, 'badman': 1.1092934782608697, 'ballad': 1.105909090909091, 'newmusic': 2.375237718888763, 'neoclassical': 1.105909090909091, 'musician': 2.932172647527911, 'drift': 1.105909090909091, 'dim': 1.2196198830409357, 'sum': 1.2196198830409357, 'goldmine': 1.2196198830409357, 'portion': 1.2196198830409357, 'ho': 1.2196198830409357, 'zebra': 1.1160416666666668, 'crossing': 1.1160416666666668, 'cuppa': 1.1365277777777778, 'superbly': 1.1093023255813952, 'tad': 1.1093023255813952, 'hoppy': 1.1093023255813952, 'mainly': 1.7181201550387595, 'spanish': 1.7181201550387595, 'es': 1.7181201550387595, 'sobre': 1.7181201550387595, 'escena': 1.7181201550387595, 'cerveza': 1.7181201550387595, 'artesana': 1.7181201550387595, 'española': 1.7181201550387595, 'gcse': 2.3282940584503677, 'mathproblemsolve': 1.7187248628727851, 'mathsonlinetutor': 1.7187248628727851, 'mathtutoronline': 1.7187248628727851, 'mathshelp': 1.7187248628727851, 'directory': 1.109626287168807, 'lecture': 2.3284870704616454, 'yba': 1.109626287168807, 'badge': 1.718860783292838, 'tourist': 1.718860783292838, 'chap': 1.718860783292838, 'tripadvisor': 2.326781319928545, 'travellers': 1.718860783292838, 'choice': 3.542358968167135, 'ghf': 1.1019349845201238, 'engage': 1.1019349845201238, 'grading': 1.1019349845201238, 'wip': 1.717696154982484, 'inthestudio': 1.717696154982484, 'preppe': 1.7191643979763833, 'gaming': 1.1095362202619619, 'disorder': 1.1095362202619619, 'residency': 1.1095362202619619, 'peckham': 1.717696154982484, 'mental': 4.201629290076259, 'founding': 1.717696154982484, 'aue': 1.717696154982484, 'solidarity': 1.717696154982484, 'newarmsdeal': 1.1908421052631577, 'france': 1.1908421052631577, 'billion': 1.1908421052631577, 'communicationskill': 1.1035196687370599, 'almasnotnormal': 1.9405335568126265, 'wooop': 1.2202667784063133, 'broadcastingpressguildsaward': 1.2202667784063133, 'bafta': 1.2202667784063133, 'boldbravebeautiful': 1.2202667784063133, 'patron': 2.4942192302276176, 'thick': 1.7197203636987477, 'juicy': 2.329630296791903, 'soupy': 1.1098601818493739, 'smoothy': 1.1098601818493739, 'tropical': 1.1098601818493739, 'batch': 1.7175685151827071, 'ktbffh': 1.135612922705314, 'stamford': 1.135612922705314, 'detached': 1.1369972347913526, 'tite': 1.1369972347913526, 'extend': 1.1906299840510366, 'brittney': 1.1906299840510366, 'griner': 1.1906299840510366, 'detention': 1.1906299840510366, 'mutyabuena': 1.1011363636363636, 'sugababe': 1.1011363636363636, 'nanousa': 1.1082189168573606, 'أنا': 1.1082189168573606, 'وعكسه': 1.1082189168573606, 'جناني': 1.1082189168573606, 'دة': 1.1082189168573606, 'عين': 1.1082189168573606, 'العقل': 1.1082189168573606, 'carlos': 1.1081996434937613, 'retrieve': 1.1089751243781094, 'equinox': 1.1089751243781094, 'druids': 1.1089751243781094, 'vernalequinox': 1.1089751243781094, 'druid': 1.1089751243781094, 'toweroflondon': 1.1089751243781094, 'ludgate': 1.116736111111111, 'consider': 1.8939038678712592, 'purchase': 1.7250001504646348, 'last': 1.718621609806743, 'approximately': 1.109472049689441, 'firepit': 1.109472049689441, 'veteran': 1.7168839086638, 'clinician': 1.109472049689441, 'ktm': 1.109472049689441, 'triumph': 1.109472049689441, 'rider': 1.7164009541183454, 'utahlawmaker': 1.1906299840510366, 'likely': 1.1906299840510366, 'override': 1.1906299840510366, 'veto': 1.1906299840510366, 'trans': 2.415056743885405, 'sportsban': 1.1906299840510366, 'psa': 1.1084677419354838, 'everyday': 2.3249242362608307, 'graveney': 1.7176173020527858, 'meadow': 1.7176173020527858, 'culinary': 2.323619057593712, 'creations': 2.323619057593712, 'explain': 3.0153560789503207, 'remove': 3.0996981842134783, 'censorship': 2.93687643222281, 'suck': 2.3212112777978793, 'paddythebaddy': 1.7184382161114051, 'paddypimblett': 1.7184382161114051, 'mma': 1.7184382161114051, 'ufcnew': 1.7184382161114051, 'strength': 1.7184382161114051, 'published': 1.7184382161114051, 'ungoogleable': 1.7184382161114051, 'capture': 2.3459079785266854, 'lens': 1.1284137426900585, 'swift': 1.1090629274965802, 'jaded': 1.1090629274965802, 'knife': 1.1090629274965802, 'damson': 1.1090629274965802, 'brandy': 1.7182185947917823, 'mixology': 1.1090629274965802, 'necessary': 1.1093529893529892, 'armed': 4.155767534437961, 'thug': 1.718880324907722, 'prosecute': 1.7997038665459715, 'date': 3.709264787232529, 'flamingo': 1.7156196943972835, 'viajecompartido': 1.108013276434329, 'castlecombe': 1.108013276434329, 'rideshare': 1.108013276434329, 'compartircosto': 1.108013276434329, 'carpoolworld': 1.108013276434329, 'mission': 3.015119294804142, 'carpool': 1.108013276434329, 'matching': 1.108013276434329, 'commuter': 1.108013276434329, 'toshiba': 1.1906299840510366, 'shareholder': 1.1906299840510366, 'restructure': 1.1906299840510366, 'djow': 1.1913466097676624, 'crowd': 3.1830665747984828, 'distinctive': 1.1913466097676624, 'jubilee': 1.9117179704331408, 'review': 2.4191760721693543, 'bullock': 1.1856516290726815, 'tatum': 1.1856516290726815, 'charm': 1.1856516290726815, 'lost': 1.1856516290726815, 'moreno': 1.1081666666666665, 'penguin': 1.7704769148979675, 'cupcake': 1.1072742474916386, 'holidays': 1.1072742474916386, 'eastercupcake': 1.1072742474916386, 'easterbakingwithkid': 1.1072742474916386, 'carrotcupcake': 1.1072742474916386, 'joel': 1.1060728744939272, 'modelo': 1.1092146494320407, 'tolerance': 1.71848105869845, 'usairforce': 1.71848105869845, 'publichealth': 1.71848105869845, 'emergencymanager': 1.71848105869845, 'cliffdiver': 1.71848105869845, 'dchotel': 1.1903508771929823, 'miamiinvestmentfund': 1.1903508771929823, 'thanks': 1.108498023715415, 'cuttingcrew': 1.108498023715415, 'southbanksinfonia': 1.108498023715415, 'mike': 2.4178782013067996, 'mechanics': 1.108498023715415, 'nik': 1.108498023715415, 'kershaw': 1.108498023715415, 'roachford': 1.108498023715415, 'habit': 1.106730769230769, 'warming': 1.7147042540792539, 'gherkin': 1.1077083333333335, 'tree': 2.5486632579666635, 'tunnel': 1.107920536635707, 'css': 1.107920536635707, '𝐹𝒶𝒷𝓊𝓁𝑜𝓊𝓈': 1.7185081276929104, '𝑒𝓋𝑒𝓃𝒾𝓃𝑔': 1.7185081276929104, '𝓌𝒾𝓉𝒽': 1.7185081276929104, '𝓂𝓎': 1.7185081276929104, '𝒷𝑒𝒶𝓊𝓉𝒾𝒻𝓊𝓁': 1.7185081276929104, '𝒻𝓇𝒾𝑒𝓃𝒹𝓈': 1.7185081276929104, 'bestftiendsforever': 1.7185081276929104, 'asiaivylondon': 1.1092934782608697, 'ivy': 2.4097619976619504, 'nail': 1.7185081276929104, 'tecnician': 1.7185081276929104, 'gel': 3.5451851150349434, 'nails': 2.937016255385821, 'manicure': 1.7185081276929104, 'pedicure': 1.7185081276929104, 'spray': 2.937016255385821, 'opi': 1.7185081276929104, 'gelish': 1.7185081276929104, 'sienna': 1.7185081276929104, 'vizsla': 1.7185081276929104, 'craic': 1.1161231884057972, 'historical': 1.1161231884057972, 'leadenhall': 1.1161231884057972, 'basement': 1.8004147198631697, 'aleamaral': 1.109784735812133, 'djlife': 1.109784735812133, 'djlifestyle': 1.109784735812133, 'instadj': 1.109784735812133, 'disco': 1.109784735812133, 'housemusic': 1.7187326524787996, 'brazil': 1.109784735812133, 'globe': 1.7169097358121332, 'southwark': 2.319298741763912, 'drone': 1.1050526315789475, 'pilot': 1.1050526315789475, 'litre': 1.1089522380595147, 'momma': 1.1089522380595147, 'bowman': 1.1089522380595147, 'jacuzzi': 1.1089522380595147, 'pierce': 1.7137599303672069, 'cuddly': 1.1089522380595147, 'american': 1.7997943433226724, 'homosocialist': 1.1089522380595147, 'roastdinner': 1.1093529893529892, 'boroughmarket': 1.71856763878503, 'riverthame': 1.718519656019656, 'nicholsonspub': 1.1093529893529892, 'second': 3.2226763981317417, 'receta': 1.1087128399746997, 'reunite': 1.7192623415397388, 'sibling': 1.1096061643835617, 'sister': 2.3288043232982902, 'famille': 1.1096061643835617, 'eden': 1.1096061643835617, 'edenproject': 1.1096061643835617, 'cornwall': 1.1096061643835617, 'sudouest': 1.1096061643835617, 'angleterre': 1.7175607098381072, 'feetinthepose': 1.1096061643835617, 'happily': 1.1096061643835617, 'lacanau': 1.1096061643835617, 'océan': 1.1096061643835617, 'kilky': 1.1096061643835617, 'bude': 1.1096061643835617, 'patio': 1.1092664092664093, 'labeling': 1.1906299840510366, 'warcriminal': 1.1906299840510366, 'personalize': 1.1906299840510366, 'conflict': 1.1906299840510366, 'freddiefreeman': 1.1903508771929823, 'dodgers': 1.1903508771929823, 'qatar': 1.1914254385964913, 'hosts': 1.799644355453852, 'middle': 1.8816716507177036, 'country': 3.807083457919749, 'bajas': 1.1914254385964913, 'entrant': 1.1914254385964913, 'rajhi': 1.1914254385964913, 'punk': 3.0296888498424055, 'guitar': 2.9342140733402227, 'dyslexia': 1.1087059115747642, 'runs': 1.1087059115747642, 'mill': 1.1087059115747642, 'ban': 1.1087059115747642, 'upside': 1.7734600316745852, 'terrain': 1.1910087719298246, 'hampering': 1.1910087719298246, 'plane': 1.1910087719298246, 'inspired': 1.1201482388140893, 'transformative': 1.1201482388140893, 'tool': 1.7292111663106695, 'vehicle': 1.1201482388140893, 'marketin': 1.1162157886410378, 'accounts': 1.1162157886410378, 'ozzy': 1.7176651305683563, 'blacklabsofinstagram': 2.32613287250384, 'itsadogslife': 1.1086021505376342, 'vigil': 1.1080889540566958, 'porter': 1.1080889540566958, 'trouser': 1.1346429556106976, 'happybirthdaydad': 1.1095695970695971, 'ripdad': 1.1095695970695971, 'heath': 1.1095695970695971, 'boro': 1.1095695970695971, 'spins': 1.1095695970695971, 'truth': 2.3544489290413204, 'juggler': 1.1095695970695971, 'spin': 1.1095695970695971, 'plate': 1.1095695970695971, 'glorify': 1.1095695970695971, 'troll': 1.1095695970695971, 'agenda': 1.1095695970695971, 'jo': 1.1095695970695971, 'maughm': 1.1095695970695971, 'owners': 1.7398176814585486, 'authentic': 2.3490521775825797, 'adventurous': 1.7398176814585486, 'camera': 2.3755159958720333, 'lb': 1.1082923832923832, 'ferry': 1.8819852857951327, 'massfiring': 1.1908421052631577, 'crew': 2.4902042026524933, 'outrageunion': 1.1908421052631577, 'championship': 1.798717105263158, 'millwall': 1.1077083333333335, 'htafc': 1.1077083333333335, 'huddersfieldtown': 1.1077083333333335, 'afobe': 1.1077083333333335, 'possesion': 1.1077083333333335, 'shots': 1.1077083333333335, 'soccer': 1.1077083333333335, 'tactic': 1.1077083333333335, 'formation': 1.1077083333333335, 'database': 1.1077083333333335, 'fair': 2.3280209239409952, 'exhibitor': 1.109673993840926, 'list': 3.6544140808579004, 'poster': 1.7182237773907096, 'collectable': 2.3837091230107292, 'organiser': 1.109673993840926, 'emotion': 2.327561616918813, 'lovestruggle': 1.1095952023988005, 'poem': 2.935761474466387, 'poetrybook': 1.1095952023988005, 'romancebook': 1.1095952023988005, 'romancebookstagram': 1.1095952023988005, 'conscience': 1.1095952023988005, 'raw': 1.1095952023988005, 'sky': 3.027087978325501, 'walkway': 1.1093895619757688, 'eccentric': 1.1093895619757688, 'sarcastic': 1.1093895619757688, 'iconoclast': 1.1093895619757688, 'robotic': 1.1093895619757688, 'apology': 1.1093895619757688, 'randomness': 1.7190457391319458, 'estrela': 1.1046853146853146, 'california': 2.5715438596491222, 'contaminate': 1.1903508771929823, 'columbiariverisland': 1.1903508771929823, 'superfund': 1.1903508771929823, 'brazilian': 1.1194655281467427, 'bucketload': 1.1094524211711712, 'londonjazz': 1.1094524211711712, 'vocalist': 1.71686428014553, 'ndo': 1.1063519813519813, 'jpn': 1.1063519813519813, 'nightshot': 1.1090112201963533, 'ambience': 1.1090112201963533, 'ioannisthephotographer': 1.1090112201963533, 'visualart': 1.1090112201963533, 'photographylover': 1.1090112201963533, 'unami': 1.1090112201963533, 'robbery': 1.7184436047651197, 'congratulate': 1.1095273355547328, 'weed': 1.1095273355547328, 'criminal': 1.1095273355547328, 'forgive': 1.1095273355547328, 'gang': 1.1095273355547328, 'possible': 1.7190269831939153, 'nem': 1.1072966507177033, 'pho': 1.1072966507177033, 'jt': 1.1072966507177033, 'sherbert': 1.1072966507177033, 'mudlarker': 1.1902462121212123, 'solna': 1.1135135135135135, 'glasgow': 1.1135135135135135, 'plenty': 1.7182710221398745, 'biscuit': 1.1097665176353702, 'mothersday': 1.1097665176353702, 'confectionery': 1.1097665176353702, 'fridayfeele': 1.1089522380595147, 'sunnymood': 1.1089522380595147, 'coffeetime': 1.1089522380595147, 'mihaelachristou': 1.7179044761190296, 'mcbracelet': 1.1089522380595147, 'vogue': 2.9996355675422866, 'cosmopolitan': 1.1089522380595147, 'glamour': 1.1089522380595147, 'coco': 1.1089522380595147, 'carnabystreet': 1.7175610037461368, 'heave': 1.1080889540566958, 'desire': 1.1086711711711712, 'pickle': 1.1086711711711712, 'beaver': 1.1086711711711712, 'bestie': 1.1092146494320407, 'expressomartini': 1.1092146494320407, 'chapter': 1.716640724700858, 'acts': 1.1092146494320407, 'creates': 1.1092146494320407, 'masterclass': 1.1092146494320407, 'circuit': 1.1092146494320407, 'midwife': 1.1092146494320407, 'ox': 1.108974358974359, 'cheek': 1.108974358974359, 'adam': 1.108974358974359, 'bennett': 1.108974358974359, 'michelinstar': 2.326601170568562, 'farmersmarket': 1.108876811594203, 'simplepleasure': 1.108876811594203, 'beautifulconversation': 1.108876811594203, 'selfcareisyourhealthcare': 1.7170434782608694, 'beanathleteinyourownlife': 1.7170434782608694, 'sharing': 1.7290120192307692, 'maltby': 1.7397948717948717, 'hannah': 1.1094318181818181, 'gadsby': 1.1094318181818181, 'hannahgadsby': 1.1094318181818181, 'bodyofwork': 1.1094318181818181, 'thepalladium': 1.1094318181818181, 'thelondonpalladium': 1.1094318181818181, 'drgadsby': 1.1094318181818181, 'quitcomedy': 1.1094318181818181, 'photos': 1.1094318181818181, 'bffs': 1.1094318181818181, 'gaggle': 1.1093613077182338, 'specbudget': 1.1093613077182338, 'springstatement': 1.1093613077182338, 'spectatorevent': 1.1093613077182338, 'specspre': 1.1093613077182338, 'westerner': 1.1093613077182338, 'newcastle': 1.1093613077182338, 'wash': 1.717036746314725, 'shore': 1.1093613077182338, 'generally': 1.1093613077182338, 'belleandsebastian': 1.1095178372352286, 'bellesglasgow': 1.1095178372352286, 'ifyourefeelingsinister': 1.1095178372352286, 'theboywiththearabstrap': 1.1095178372352286, 'vinyl': 2.937139258432326, 'vinylcommunity': 1.1095178372352286, 'vinylcollector': 1.1095178372352286, 'indiemusic': 1.1095178372352286, 'indierockband': 1.1095178372352286, 'jeepster': 1.7190356744704571, 'recordings': 1.1095178372352286, 'transparent': 1.1095178372352286, 'redi': 1.107125, 'comicon': 1.107125, 'johnny': 2.6104447164422684, 'ramone': 2.6104447164422684, 'ramones': 1.2034815721474228, 'llc': 1.2034815721474228, 'representative': 1.2034815721474228, 'muhammadu': 1.1088055797733216, 'buhari': 1.1088055797733216, 'abuja': 1.1088055797733216, 'dnctvnewsupdate': 1.1088055797733216, 'gracias': 1.109558629776021, 'holy': 1.109558629776021, 'destapa': 1.109558629776021, 'magia': 1.7180631342805253, 'alegre': 1.109558629776021, 'divertido': 1.109558629776021, 'lleno': 1.109558629776021, 'sol': 1.109558629776021, 'lluvia': 1.109558629776021, 'aroma': 1.7189716973286235, 'frutale': 1.109558629776021, 'leyenda': 1.109558629776021, 'te': 1.109558629776021, 'atreve': 1.109558629776021, 'nest': 1.7163992869875226, 'tables': 2.324598930481284, 'cecil': 1.1096852693056456, 'palm': 1.1082706766917294, 'assume': 1.1081599347205222, 'correctly': 1.1081599347205222, 'maritime': 2.930750400150645, 'honours': 4.139632332172112, 'division': 1.7153752000753224, 'sectors': 1.7153752000753224, 'sar': 1.7153752000753224, 'commonwealth': 2.3247977373667124, 'souls': 1.1069128787878788, 'langham': 1.1069128787878788, 'missionary': 1.1069128787878788, 'direct': 1.1908421052631577, 'india': 2.3272860472860475, 'chamber': 1.109345238095238, 'proudindian': 1.109345238095238, 'researcher': 1.109345238095238, 'ted': 1.109345238095238, 'governance': 1.109345238095238, 'redtelephonebox': 1.1087357954545456, 'redphonebox': 1.1087357954545456, 'redkiosk': 1.1087357954545456, 'unitedkingdom': 3.5442805384437808, 'eurail': 2.3261079545454546, 'europetravel': 2.934744318181818, 'europeantravel': 2.934744318181818, 'europetrip': 2.934744318181818, 'europeantrip': 2.934744318181818, 'solotravel': 2.934744318181818, 'solotraveler': 2.934744318181818, 'faces': 2.934744318181818, 'higsons': 1.108876811594203, 'rhoda': 1.108876811594203, 'dakar': 1.108876811594203, 'wardour': 1.7177003410059677, 'doorway': 1.108876811594203, 'twixt': 1.108876811594203, 'mainstream': 1.108876811594203, 'avantgarde': 1.108876811594203, 'sax': 1.108876811594203, 'problemsolve': 1.7071368848542758, 'eco': 1.7115027322404375, 'banner': 2.9230054644808745, 'instal': 1.7115027322404375, 'wemakeithappen': 1.7115027322404375, 'trumpcampaign': 1.1910087719298246, 'owe': 1.1910087719298246, 'fee': 1.8128466097676625, 'failed': 1.1910087719298246, 'ndacase': 1.1910087719298246, 'doctorwho': 1.1084390415785763, 'tardi': 1.1084390415785763, 'tvshow': 1.717262570990341, 'policebox': 1.1084390415785763, 'earl': 1.1084390415785763, 'groceryworker': 1.1903508771929823, 'authorization': 1.1903508771929823, 'accurately': 1.1266891891891893, 'backlava': 1.1266891891891893, 'liman': 1.1266891891891893, 'storyteller': 1.753512786980529, 'cocktails': 2.527394719001996, 'softie': 1.753512786980529, 'beerstorming': 1.753512786980529, 'whu': 1.753512786980529, 'coyi': 2.380336384771869, 'refurb': 1.1073717948717947, 'successful': 3.5719845299902793, 'rutlishains': 1.1095178372352286, 'instadaily': 1.7190764670112495, 'oldrut': 1.1095178372352286, 'stall': 1.1095178372352286, 'bacon': 1.773034517687393, 'francisbacon': 1.164566775751909, 'royalacademyofart': 1.164566775751909, 'scorpio': 1.7731623468474802, 'rhinoskin': 1.164566775751909, 'earing': 1.1093529893529892, 'handmadejewelry': 1.1093529893529892, 'unfinished': 1.1649451175313246, 'transact': 1.1649451175313246, 'bazalgette': 1.829890235062649, 'resting': 1.1649451175313246, 'substantial': 1.1649451175313246, 'tlc': 1.773111784197991, 'academic': 1.8093801775913847, 'paterson': 1.8093801775913847, 'pullin': 1.1072966507177033, 'iamothmann': 1.7143141945773523, 'iamthemanoth': 1.7143141945773523, 'moon': 4.151996919212283, 'navy': 1.70570638511815, 'muse': 1.2735318444995865, 'itvbe': 2.0474137765210534, 'towie': 2.0474137765210534, 'dean': 2.3340119866051827, 'thrilling': 1.109155667295202, 'cayenne': 1.109155667295202, 'manzana': 1.109155667295202, 'verde': 1.109155667295202, 'bittipsy': 1.109155667295202, 'lynks': 1.1090629274965802, 'lynk': 1.1090629274965802, 'concertphotography': 1.1090629274965802, 'caribbean': 1.1906299840510366, 'savesoil': 1.1906299840510366, 'patriotictattoos': 1.1903508771929823, 'billboard': 1.1903508771929823, 'happyplace': 1.1086711711711712, 'adjudicator': 1.1086711711711712, 'college': 2.9342868711672327, 'haha': 1.1082923832923832, 'fullness': 1.1082923832923832, 'visa': 1.1083712121212121, 'financial': 1.715236389954132, 'comms': 1.717929841897233, 'esg': 1.1083712121212121, 'mediarelation': 1.1083712121212121, 'wqxr': 1.1083712121212121, 'gilt': 1.116025641025641, 'louis': 1.116025641025641, 'philippe': 1.116025641025641, 'mirror': 2.934723772659405, 'giltmirror': 1.116025641025641, 'louisphilippe': 1.116025641025641, 'londonmirror': 1.116025641025641, 'antiquemirror': 1.116025641025641, 'consist': 1.116025641025641, 'frenchmirror': 1.116025641025641, 'mile': 1.116025641025641, 'radius': 1.116025641025641, 'publisher': 1.1200015805278962, 'sunrise': 2.355179052973171, 'lovelondon': 1.717815028109146, 'overlook': 1.1026120660599932, 'prom': 1.1026120660599932, 'negroni': 1.1371980676328501, 'entry': 1.71749960254372, 'oneshothairaward': 1.1089950980392156, 'editorialmakeup': 1.1089950980392156, 'صخه': 1.1066337719298245, 'اللهم': 1.1066337719298245, 'اغفر': 1.1066337719298245, 'لعبدك': 1.1066337719298245, 'سلطان': 1.1066337719298245, 'الشمري': 1.1066337719298245, 'وارحمه': 1.1066337719298245, 'crushed': 1.1090151515151514, 'seersucker': 1.718030303030303, 'button': 1.1090151515151514, 'shirting': 1.1090151515151514, 'diverso': 1.718030303030303, 'mensshirt': 1.1090151515151514, 'buttondownshirt': 1.1090151515151514, 'madeinitaly': 1.1090151515151514, 'londondaysout': 1.1084117647058824, 'vangogh': 1.1084117647058824, 'courtauldgallery': 1.1084117647058824, 'tapas': 1.1084117647058824, 'greatweather': 1.1084117647058824, 'birthdayweek': 1.1084117647058824, 'emjaymedia': 1.1084117647058824, 'artists': 1.1084117647058824, 'bird': 1.7166114081996438, 'chapel': 1.1084117647058824, 'negotiate': 1.1089162692103869, 'hellospre': 1.1083010752688172, 'ʈɧiʂ': 1.716301075268817, 'ɭiʈʈɭε': 1.716301075268817, 'ɱiʂʂ': 1.716301075268817, 'ʙᴇ': 4.1489032258064515, 'ᴘʀᴇᴛᴛʏ': 1.716301075268817, 'ʜᴀᴘᴘʏ': 1.716301075268817, 'ʏᴏᴜ': 1.716301075268817, 'thislittlemissblog': 1.716301075268817, 'fob': 1.1084566885964913, 'pendant': 1.1084566885964913, 'nailsofinstagram': 1.1084566885964913, 'jewellerydesign': 1.1084566885964913, 'alfresco': 1.107920536635707, 'blueskie': 1.107920536635707, 'poland': 1.1910087719298246, 'lowkey': 1.1087500000000001, 'canon': 2.9349065391347833, 'gelphotography': 1.1087500000000001, 'photoshoot': 1.1087500000000001, 'egyptian': 1.1906299840510366, 'pound': 1.1906299840510366, 'mothers': 1.1092934782608697, 'carolina': 1.1092934782608697, 'bakery': 2.9379369135522273, 'prepare': 1.1092934782608697, 'healthy': 3.545611222734979, 'bore': 1.1065641025641026, 'floor': 1.1088055797733216, 'gordon': 1.108498023715415, 'difusión': 1.108498023715415, 'cultura': 1.108498023715415, 'del': 2.3220246196501133, 'wineblogger': 1.108498023715415, 'communicator': 1.108498023715415, 'press': 2.3264715204679813, 'tarragona': 1.108498023715415, 'catalonia': 1.108498023715415, 'spain': 1.108498023715415, 'miembro': 1.108498023715415, 'aepev': 1.108498023715415, 'mildreds': 1.1072916666666668, '𝔐𝔬𝔱𝔥𝔢𝔯': 1.1072916666666668, '𝔬𝔣': 1.1072916666666668, 'ℭ𝔥𝔦𝔠𝔨𝔢𝔫𝔰': 1.1072916666666668, 'gooᑎieᔕ': 1.1072916666666668, 'ᑎeᐯeᖇ': 1.1072916666666668, 'ᔕᗩy': 1.1072916666666668, 'ᗪie': 1.1072916666666668, '𝐑𝐞𝐩𝐩𝐞𝐝': 1.1072916666666668, '𝐛𝐲': 1.1072916666666668, 'settle': 1.1906299840510366, 'sexabuse': 1.1906299840510366, 'lawsuit': 1.1906299840510366, 'montanasheriff': 1.1906299840510366, 'hiker': 1.1906299840510366, 'grizzlybear': 1.1906299840510366, 'tania': 1.1074260752688172, 'eric': 1.1074260752688172, 'sylvie': 1.1074260752688172, 'winemakers': 1.1078098471986417, 'justice': 1.1078098471986417, 'honesty': 1.724140256555367, 'compassion': 1.7175355722932193, 'lcfc': 1.1078098471986417, 'watercolour': 1.1072742474916386, 'gouache': 1.1072742474916386, 'londonartist': 1.1072742474916386, 'nationalgallery': 1.1072742474916386, 'fountain': 1.1072742474916386, 'watercolur': 1.1072742474916386, 'watercolourpainte': 1.1072742474916386, 'architecturelondon': 1.1072742474916386, 'architecturalillustration': 1.1072742474916386, 'londonart': 1.1072742474916386, 'thebigpaintingchallenge': 1.1072742474916386, 'scottishart': 1.1072742474916386, 'tug': 1.105245098039216, 'webar': 1.105245098039216, 'longstripe': 1.105245098039216, 'engaging': 1.105245098039216, 'augmented': 1.105245098039216, 'campaign': 1.105245098039216, 'woody': 1.1646185355862775, 'banksy': 1.1646185355862775, 'shout': 1.1646185355862775, 'balloon': 1.1646185355862775, 'literatus': 1.1646185355862775, 'classical': 1.772573081040823, 'santa': 1.1646185355862775, 'cruz': 1.1646185355862775, 'resist': 1.1646185355862775, 'blm': 1.1646185355862775, 'tweets': 1.7738331850183182, 'éclectique': 1.1646185355862775, 'bravo': 1.1646185355862775, 'busker': 1.109087837837838, 'myopinion': 1.7177590090090091, 'mytwitter': 1.7177590090090091, 'foodiewifeymumsie': 1.7177590090090091, 'drinker': 1.7167440660474718, 'highlight': 1.1372956150130062, 'spectacular': 1.8286422247806686, 'benchmark': 1.1372956150130062, 'michelinlondon': 1.1372956150130062, 'bestinclass': 1.1372956150130062, 'meilluretable': 1.1372956150130062, 'londre': 1.1372956150130062, 'claude': 1.1372956150130062, 'bosi': 1.1372956150130062, 'bibendum': 1.1372956150130062, 'stoke': 1.7125000000000004, 'gravlax': 1.1081688596491228, 'mayonnaise': 1.1081688596491228, 'starter': 2.325080894982211, 'cheflife': 1.1081688596491228, 'nordicstyle': 1.1081688596491228, 'cap': 1.1370441870441872, 'moulin': 1.1370441870441872, 'rouge': 1.1370441870441872, 'librarian': 1.1085497835497837, 'overdue': 1.1085497835497837, 'corgi': 1.1085497835497837, 'loose': 1.1085497835497837, 'northerner': 1.7149017649017653, 'protester': 1.1906299840510366, 'jamaicaspurn': 1.1906299840510366, 'feelgoodfood': 1.1089285714285715, 'vie': 1.7999829734040258, 'presidency': 1.1093529893529892, 'privilege': 2.324563210571598, 'kenyan': 1.1093529893529892, 'gluten': 1.7191273455350675, 'grab': 1.7191273455350675, 'perch': 1.1094345957561107, 'glorious': 2.576616279999287, 'gf': 1.1094345957561107, 'priory': 1.1094345957561107, 'ciders': 1.1094345957561107, 'quiz': 1.1094345957561107, 'sumosan': 1.1334668803418804, 'twiga': 1.1334668803418804, 'freshfields': 1.1097128378378378, 'supplier': 2.3290539475478003, 'selection': 1.7185184176111594, 'foods': 1.1097128378378378, 'sharer': 1.1475759290699867, 'mummin': 1.1475759290699867, 'lafayette': 1.7143519813519812, 'pumpkin': 1.7143519813519812, 'iamenough': 1.7143519813519812, 'clouds': 1.1089751243781094, 'spraypaint': 1.7179502487562188, 'darktime': 1.1089751243781094, 'depression': 1.1089751243781094, 'darkcloud': 1.1089751243781094, 'kobra': 1.1089751243781094, 'surrogatebabie': 1.1906299840510366, 'peppermint': 1.10715821812596, 'paddy': 1.10715821812596, 'relxuk': 1.10715821812596, 'vape': 1.10715821812596, 'vapingcommunity': 1.10715821812596, 'ecig': 1.10715821812596, 'ukvape': 1.10715821812596, 'stpatricksday': 2.3249313430842182, 'relx': 1.71431643625192, 'authorized': 1.10715821812596, 'distributor': 1.10715821812596, 'smoker': 1.10715821812596, 'timetorelx': 1.10715821812596, 'justrelx': 1.10715821812596, 'thankyou': 1.1197639083683963, 'appreciative': 1.1197639083683963, 'lovemyjob': 1.1197639083683963, 'massage': 1.739527816736793, 'deep': 3.0013377348686934, 'relaxation': 1.1197639083683963, 'thorough': 1.1197639083683963, 'awardwinning': 1.1197639083683963, 'weleda': 1.1197639083683963, 'cet': 1.1089751243781094, 'riddim': 1.1089751243781094, 'driven': 1.1089751243781094, 'goodvibe': 1.1089751243781094, 'mixcloud': 1.1089751243781094, 'balanceit': 1.1089751243781094, 'weigh': 1.1906299840510366, 'exit': 1.1906299840510366, 'zerocovid': 1.1906299840510366, 'involve': 1.7991280077664515, 'suspicious': 1.1083010752688172, 'possession': 1.1083010752688172, 'recommendation': 1.1092664092664093, 'carella': 1.1093023255813952, 'carisbrooke': 1.1093023255813952, 'corina': 1.1093023255813952, 'diva': 1.1093023255813952, 'catwalk': 1.1093023255813952, 'league': 1.7989622033023736, 'rugbyleague': 1.7157972873900293, 'capitalchallenge': 1.1077083333333335, 'honourable': 1.1077083333333335, 'material': 1.7189789196310934, 'amendments': 1.7189789196310934, 'lincoln': 1.109558629776021, 'employeessue': 1.1906299840510366, 'racial': 1.1906299840510366, 'discrimination': 1.1906299840510366, 'bunch': 1.7445131673881673, 'mrics': 1.1079734848484848, 'jdk': 1.1079734848484848, 'safstand': 1.1079734848484848, 'fools': 1.1079734848484848, 'boddies': 1.1079734848484848, 'bromley': 1.1079734848484848, 'minimalist': 1.109149560117302, 'concrete': 1.109149560117302, 'construct': 1.109149560117302, 'refined': 1.109149560117302, 'indoor': 1.7268158187872327, 'phoenix': 1.71395173453997, 'gaze': 1.106975867269985, 'ray': 1.7128488028951958, 'tear': 1.106975867269985, 'deception': 1.106975867269985, 'officially': 1.7179851330713398, 'crowder': 1.1096927497789566, 'mindset': 1.1091145833333333, 'thesecret': 1.1091145833333333, 'universe': 1.1091145833333333, 'newway': 1.1091145833333333, 'alwaysaway': 1.1091145833333333, 'anthonyjoshua': 1.1091145833333333, 'newwinner': 1.1091145833333333, 'forgot': 1.1090151515151514, 'bearaoke': 1.1090151515151514, 'kids': 1.7184011164274322, 'log': 2.3277541057804214, 'ralph': 1.7126094961240308, 'fienne': 1.1054844961240309, 'chen': 1.708881932021467, 'macaroon': 1.708881932021467, 'motto': 1.708881932021467, 'breakfastbun': 1.1096927497789566, 'veganbun': 1.1096927497789566, 'chocolatechip': 1.1096927497789566, 'blueberry': 1.1096927497789566, 'banana': 1.7193854995579134, 'coconut': 1.718801517355466, 'freshbake': 1.1096927497789566, 'coffeeshop': 1.1096927497789566, 'bakerylove': 1.1096927497789566, 'shoplocaluk': 1.1096927497789566, 'decorate': 1.7185004420866488, 'wholesale': 1.1096927497789566, 'inter': 1.1096927497789566, 'irevsco': 1.1069128787878788, 'vryheid': 1.1069128787878788, 'mountain': 1.1082923832923832, 'bowl': 1.7171102127497475, 'kate': 1.1082923832923832, 'saul': 1.1648523777327022, 'leiter': 1.1648523777327022, 'rfshooter': 1.1648523777327022, 'streetphotography': 2.383024125339934, 'streetsnapper': 1.1648523777327022, 'streetsnapperscollective': 1.1648523777327022, 'saulleiterinspire': 1.1648523777327022, 'telephonebox': 1.1648523777327022, 'protest': 1.1910087719298246, 'slam': 1.1910087719298246, 'boeingexpilot': 1.1903508771929823, 'fraudcharge': 1.1903508771929823, 'madness': 1.1903508771929823, 'vangoghselfportrait': 1.109656177156177, 'courtaldgallery': 1.109656177156177, 'selfportraitwithbandagedear': 1.109656177156177, 'somersethouse': 1.109656177156177, 'courtauld': 1.109656177156177, 'strand': 1.7915801967640204, 'sporadic': 1.109656177156177, 'wanderlust': 1.109656177156177, 'beatlemania': 1.1085045045045043, 'descúbrenos': 1.1085045045045043, 'para': 1.1085045045045043, 'televisión': 1.1085045045045043, 'teatro': 1.1085045045045043, 'grande': 1.1085045045045043, 'ilusione': 1.1085045045045043, 'efectos': 1.1085045045045043, 'sofisticado': 1.1085045045045043, 'ilusionismo': 1.1085045045045043, 'contemporáneo': 1.1085045045045043, 'leopard': 1.1241776315789473, 'lamp': 1.1180035650623887, 'whitehall': 1.7249324694912933, 'lse': 1.1180035650623887, 'analysis': 1.7376716231025398, 'process': 1.1180035650623887, 'jerwood': 1.106975867269985, 'arvon': 1.106975867269985, 'mentee': 1.106975867269985, 'bro': 2.324378691346433, 'compliment': 1.1088055797733216, 'mrandmrshj': 1.1086511627906976, 'bluesskie': 1.1086511627906976, 'choreographer': 1.1086511627906976, 'bop': 1.1086511627906976, 'emotional': 1.7165833333333333, 'blunt': 1.7165833333333333, 'society': 1.2279150516795867, 'disinformation': 1.2279150516795867, 'communication': 2.445859693631525, 'malaysia': 1.2279150516795867, 'ball': 2.327318327624305, 'lifeofadog': 1.1090629800307221, 'alchemistbar': 1.1090629274965802, 'frontend': 1.1090629274965802, 'divops': 1.1090629274965802, 'previously': 1.1090629274965802, 'javascript': 1.71258259623364, 'typescript': 1.1090629274965802, 'react': 1.7181507653344181, 'sadhguru': 1.1903508771929823, 'working': 1.1903508771929823, 'conscious': 1.7994727868264009, 'butter': 1.7173333333333334, 'teaserrrrr': 1.1085833333333333, 'suya': 1.7181145833333331, 'jikoni': 1.7891634366925062, 'proudly': 1.1445817183462532, 'inauthentic': 1.1445817183462532, 'recipes': 1.1445817183462532, 'scorpion': 1.1284137426900585, 'wolves': 1.1087059115747642, 'leed': 1.1087059115747642, 'pool': 1.7172843429473132, 'brewpub': 1.1087059115747642, 'dryhoppe': 1.1087059115747642, 'newbeer': 1.1087059115747642, 'grosvenor': 1.1087059115747642, 'brew': 1.1087059115747642, 'downstairs': 1.1087059115747642, 'waverton': 1.1368865453542871, 'coppelia': 1.7157738095238095, 'magnificant': 1.1643611353288772, 'mareographe': 1.1643611353288772, 'heuermareographe': 1.1643611353288772, 'setthegooseloose': 1.8287222706577544, 'pen': 1.1643611353288772, 'cufflink': 1.8287222706577544, 'trinket': 1.1643611353288772, 'blackgoose': 1.1643611353288772, 'vintagewatche': 1.1643611353288772, 'vintagepen': 1.1643611353288772, 'darkness': 1.7148521505376344, 'postoftheday': 1.1074260752688172, 'loch': 1.1088178294573643, 'duart': 1.1088178294573643, 'salmon': 1.1088178294573643, 'poke': 1.717623409230686, 'yummy': 1.1088178294573643, 'aldwych': 1.1088178294573643, 'edinburgh': 1.1088178294573643, 'leith': 1.1088178294573643, 'hotels': 1.1088178294573643, 'hibs': 1.1088178294573643, 'squash': 1.1088178294573643, 'tourism': 1.7994478135084009, 'morningride': 1.1094318181818181, 'albertbridge': 1.1094318181818181, 'sunnylondon': 1.7168036130536128, 'sunrisephotography': 1.1094318181818181, 'getoutthere': 1.1094318181818181, 'dailyride': 1.1094318181818181, 'tuesdayride': 1.1094318181818181, 'pictureimage': 1.1094318181818181, 'broadcast': 3.7206392370076724, 'workflow': 1.1094318181818181, 'inspirational': 1.1094996476391825, 'steer': 1.1094996476391825, 'grafting': 1.1094996476391825, 'congratulation': 1.1094996476391825, 'ammu': 1.1094996476391825, 'remind': 1.1094996476391825, 'bosslady': 1.1094996476391825, 'experiment': 1.718912715191785, 'lush': 1.718912715191785, 'ingredient': 2.327508286287356, 'raastawala': 2.93782543038357, 'kati': 1.718912715191785, 'rolls': 1.718912715191785, 'influence': 1.7090707776517386, 'bluecolour': 1.1088178294573643, 'blueink': 1.1088178294573643, 'markmake': 1.1088178294573643, 'carolinebank': 1.1088178294573643, 'beautyofcolour': 1.1088178294573643, 'bluebrushstroke': 1.1088178294573643, 'brushstroke': 1.1088178294573643, 'fascinate': 1.1088178294573643, 'gesture': 1.1088178294573643, 'drawing': 1.1088178294573643, 'trendy': 1.1059537798668235, 'grind': 1.1059537798668235, 'vegas': 1.1059537798668235, 'investing': 1.1059537798668235, 'sportsprofs': 1.1059537798668235, 'vegasstrong': 1.1059537798668235, 'harvard': 1.1910087719298246, 'ketanji': 1.1910087719298246, 'brown': 1.1910087719298246, 'fought': 1.1910087719298246, 'injustices': 1.1910087719298246, 'steelyacademicfocus': 1.1910087719298246, 'dmalice': 1.1270299145299145, 'dialedin': 1.1270299145299145, 'defectedbasement': 1.1270299145299145, 'defect': 1.1270299145299145, 'siren': 1.7176969696969697, 'ocean': 1.108848484848485, 'entrepreneure': 1.109234496124031, 'blank': 1.109234496124031, 'bwb': 1.109234496124031, 'upcycled': 1.109234496124031, 'kirkeby': 1.7183473389355743, 'geological': 1.1091736694677872, 'messages': 1.1091736694677872, 'michael': 1.7183473389355743, 'werner': 1.7183473389355743, 'perkirkeby': 1.1091736694677872, 'michaelwernergallery': 1.1091736694677872, 'newtown': 1.1091736694677872, 'hampton': 1.1091736694677872, 'brook': 1.1091736694677872, 'tgitw': 1.1084117647058824, 'hun': 1.1012328117591275, 'wkout': 1.1154970760233918, 'thewkoutfamily': 1.1154970760233918, 'thewkout': 1.1154970760233918, 'outdoor': 1.7176153846153845, 'browse': 1.1088076923076922, 'cushion': 1.7176153846153845, 'nigga': 1.1042877906976742, 'escala': 1.1084117647058824, 'bow': 1.1084117647058824, 'singalong': 1.7142948717948718, 'paypal': 1.1906299840510366, 'enable': 1.7960804345014871, 'ruskin': 1.7173458725182864, 'stroll': 1.1086729362591432, 'pardoned': 1.1908421052631577, 'hospital': 1.8086072567783091, 'ahoy': 1.1079545454545454, 'vwemma': 1.1079545454545454, 'spurs': 1.7175827231689669, 'tape': 1.1079545454545454, 'renewplea': 1.1906299840510366, 'nevadawoman': 1.1906299840510366, 'yaself': 1.1064285714285713, 'edbl': 1.1064285714285713, 'october': 1.7128571428571429, 'automatically': 1.1064285714285713, 'brockwell': 1.1064285714285713, 'exclusive': 1.1064285714285713, 'cd': 1.7160276508859358, 'cassette': 1.1064285714285713, 'bluh': 1.1064285714285713, 'brace': 1.1906299840510366, 'honduras': 1.1894062078272603, 'ladurée': 1.1070686070686069, 'retache': 1.108578431372549, 'servicer': 1.107992327365729, 'shelling': 1.1083010752688172, 'norbury': 1.7166021505376343, 'shut': 1.1082189168573606, 'issawholenewwave': 1.7164378337147215, 'wavey': 1.1082189168573606, 'subscribers': 1.1082189168573606, 'idealhomeshow': 1.1086711711711712, 'dayout': 1.716042966042966, 'houseandhome': 1.1086711711711712, 'sender': 1.7181585691263108, 'shortcode': 1.1093529893529892, 'alphanumeric': 1.1093529893529892, 'network': 1.7190091665091662, 'sms': 1.7178574938574935, 'bruce': 1.71395173453997, 'awardwinne': 1.106975867269985, 'exceptional': 1.106975867269985, 'boarding': 1.106975867269985, 'groom': 2.32493274608379, 'woofwoof': 1.106975867269985, 'arkansascarshow': 1.1906299840510366, 'sauf': 1.1081996434937613, 'loos': 1.107920536635707, 'kingofmoderndayafrobeat': 1.1914254385964913, 'davido': 1.1914254385964913, 'prodigious': 1.1914254385964913, 'damien': 1.1084390415785763, 'dempsey': 1.1084390415785763, 'brummie': 1.1084390415785763, 'exile': 1.1084390415785763, 'suffering': 1.1084390415785763, 'wba': 1.1084390415785763, 'current': 1.1084390415785763, 'complaint': 1.1084390415785763, 'smithfield': 1.108996212121212, 'trafficker': 1.108996212121212, 'gun': 1.735938181124673, 'sagat': 1.1091145833333333, 'patch': 1.1091145833333333, 'panther': 1.1091145833333333, 'embroider': 1.1091145833333333, 'shirt': 1.1091145833333333, 'sagatboxe': 1.1091145833333333, 'streetfighter': 1.1091145833333333, 'muaythai': 1.1091145833333333, 'fightwear': 1.1091145833333333, 'ross': 1.1091145833333333, 'recipe': 1.1091145833333333, 'emptyre': 1.1074260752688172, 'wildlife': 1.2199188034188033, 'disappoint': 1.2199188034188033, 'screw': 1.2199188034188033, 'escape': 1.8295469811332248, 'hatched': 1.1616284300494826, 'vr': 2.489698605488079, 'ar': 1.7873594242015294, 'southside': 1.1444350600600601, 'moneycantbuy': 1.1064275814275812, 'shane': 1.1064275814275812, 'cutter': 1.1064275814275812, 'finyltweek': 1.1064275814275812, 'dukes': 1.1166572822822822, 'nestle': 1.7260185900005163, 'dukeslondon': 1.1166572822822822, 'shine': 1.1073717948717947, 'springishere': 1.1073717948717947, 'mumanddaughter': 1.1073717948717947, 'mialma': 1.1073717948717947, 'ohana': 1.1073717948717947, 'lovinglife': 1.1073717948717947, '𝘈𝘳𝘵𝘪𝘴𝘵': 1.1073717948717947, '𝘐𝘯𝘴𝘵𝘳𝘶𝘤𝘵𝘰𝘳': 1.1073717948717947, 'tripod': 1.1091666666666669, 'citylights': 1.1091666666666669, 'millennium': 1.1091666666666669, 'spider': 1.1091666666666669, 'webpage': 1.1091666666666669, 'brewer': 1.108595571095571, 'lore': 1.7171911421911423, 'thankful': 1.7182186473259242, 'contributemoney': 1.1906299840510366, 'icc': 1.7989223673434198, 'probe': 1.1906299840510366, 'gardener': 1.1088178294573643, 'groweasy': 1.7176356589147286, 'masculinity': 1.2201740386076914, 'insightful': 1.2201740386076914, 'campaigner': 3.247372179519068, 'ronblomberg': 1.1894062078272603, 'universaldh': 1.1894062078272603, 'plum': 2.326156539134783, 'gose': 2.326156539134783, 'brewing': 2.326156539134783, 'injury': 1.1092602495543673, 'knuckle': 1.1092602495543673, 'pit': 1.1092602495543673, 'clumsyox': 1.1092602495543673, 'bulk': 1.1085045045045043, 'regular': 1.104, 'bayham': 1.1094202898550725, 'brit': 1.2023391812865496, 'vocal': 1.2023391812865496, 'blake': 1.2023391812865496, 'genetic': 1.109784735812133, 'factor': 1.109784735812133, 'severe': 1.109784735812133, 'symptom': 1.109784735812133, 'mindfulness': 1.109784735812133, 'wellness': 1.109784735812133, 'wellbee': 1.109784735812133, 'workplace': 1.7152351862625834, 'safety': 1.109784735812133, 'occupational': 1.109784735812133, 'wellbeing': 1.109784735812133, 'services': 2.9269528232243163, 'rehabilitation': 1.109784735812133, 'benefits': 1.109784735812133, 'resources': 1.109784735812133, 'londonbeach': 1.107920536635707, 'visitlondon': 1.107920536635707, 'londonsightseeing': 1.107920536635707, 'kyriecarveout': 1.1910087719298246, 'vaccine': 1.1910087719298246, 'mandate': 1.8816387559808612, 'irving': 1.1910087719298246, 'guess': 2.433823000793018, 'friendsforever': 1.1053294573643413, 'interestingchat': 1.1053294573643413, 'deeptalk': 1.1053294573643413, 'alexlondonlife': 1.7143811815022723, 'chilean': 1.7143811815022723, 'norwegian': 1.7143811815022723, 'nicaragua': 1.7143811815022723, 'egypt': 1.7143811815022723, 'becker': 1.1908421052631577, 'accuse': 2.5718229665071766, 'tennis': 3.1043766334825333, 'trophy': 1.1908421052631577, 'groundbreaking': 1.1094225372913897, 'lgbtfaith': 1.1094225372913897, 'multifaith': 1.1094225372913897, 'foreign': 1.1094225372913897, 'lesbian': 1.1094225372913897, 'empower': 1.7103234381922907, 'lbq': 1.1094225372913897, 'womxn': 1.1094225372913897, 'lesbianfilm': 1.1094225372913897, 'femalefounder': 1.1094225372913897, 'lee': 2.3752192146397255, 'sweatshirt': 1.1250730715465753, 'neil': 1.1250730715465753, 'foster': 1.1250730715465753, 'leeabbeylondon': 1.1250730715465753, 'virusvariant': 1.1908421052631577, 'pleased': 1.1185167615433271, 'routine': 1.1185167615433271, 'hurdle': 1.1908421052631577, 'beetles': 1.109558629776021, 'tribute': 1.109558629776021, 'footie': 1.109558629776021, 'champagne': 2.3270221186198343, 'recycling': 1.109558629776021, 'motorway': 1.109558629776021, 'maintenance': 1.109558629776021, 'ofcom': 1.2844318181818184, 'revoke': 1.2844318181818184, 'rt': 2.068863636363637, 'licence': 2.068863636363637, 'immediate': 1.2844318181818184, 'effect': 1.2844318181818184, 'proper': 1.2844318181818184, 'satisfied': 1.893068181818182, 'dalkeith': 1.1095695970695971, 'hernehill': 1.7191391941391942, 'frontdoor': 1.1095695970695971, 'stainedglass': 1.1095695970695971, 'frontdoordecor': 1.1095695970695971, 'whatiseeatwork': 1.1095695970695971, 'victorianhouse': 1.1095695970695971, 'reliable': 1.1095695970695971, 'value': 2.3562419618282053, 'domestic': 1.1095695970695971, 'appliance': 1.1095695970695971, 'repair': 1.1095695970695971, 'washing': 1.1095695970695971, 'machine': 1.1095695970695971, 'dishwasher': 1.1095695970695971, 'scrap': 1.1095695970695971, 'ltn': 1.1095695970695971, 'cos': 1.1092934782608697, 'dont': 1.1092934782608697, 'fuuuuuuqqqq': 1.1092934782608697, 'maiden': 1.7977549840510365, 'lonely': 1.107125, 'companion': 1.107125, 'jellycat': 1.1092602495543673, 'teddie': 1.1092602495543673, 'kidstoy': 1.1092602495543673, 'shopsmallbusiness': 1.1092602495543673, 'chosenforchevene': 1.1089162692103869, 'iamchevene': 1.1089162692103869, 'solutions': 1.1089162692103869, 'activistmotivational': 1.1089162692103869, 'skills': 1.1089162692103869, 'haxells': 1.1084117647058824, 'incoming': 1.774391160399548, 'blink': 1.1649780928469453, 'ufclondon': 1.1649780928469453, 'elmatador': 1.1649780928469453, 'ilia': 1.1649780928469453, 'topuria': 1.1649780928469453, 'viptreat': 1.1091219096334186, 'designerbag': 1.1091219096334186, 'luxurybag': 1.1091219096334186, 'esin': 1.1091219096334186, 'akan': 1.1091219096334186, 'versatility': 1.1091219096334186, 'merch': 1.7179393455255525, 'birmingham': 1.716080262080262, 'sanamente': 1.1082923832923832, 'hypnotherapy': 1.1082923832923832, 'tough': 1.1082923832923832, 'cope': 1.1082923832923832, 'earlyyear': 1.100265197878417, 'physicaldevelopment': 1.100265197878417, 'intermediate': 1.1035196687370599, 'tulip': 1.7138257575757576, 'embroidery': 1.7138257575757576, 'commission': 1.7138257575757576, 'bubba': 1.1072966507177033, 'gump': 1.1072966507177033, 'guards': 1.7051092318534176, 'displace': 1.7051092318534176, 'ministerial': 1.7051092318534176, 'briefing': 1.7051092318534176, 'correspondence': 1.7051092318534176, 'export': 1.7051092318534176, 'cecilia': 1.1066187130589942, 'galley': 1.1066187130589942, 'beuy': 1.1066187130589942, 'cecilavicuña': 1.1066187130589942, 'tategallery': 1.1066187130589942, 'venicebiennale': 1.1066187130589942, 'goldenlion': 1.1066187130589942, 'lifetime': 2.3328842932260354, 'achievement': 1.1066187130589942, 'humanitas': 1.1066187130589942, 'voices': 1.1066187130589942, 'finalist': 2.322633451009216, 'nicholl': 1.1066187130589942, 'austin': 1.1066187130589942, 'flsc': 1.1066187130589942, 'semifinal': 1.1066187130589942, 'freed': 1.1903508771929823, 'britishiraniancriticises': 1.1903508771929823, 'effort': 1.8813596491228068, 'libertylondon': 1.1069128787878788, 'tô': 1.1060728744939272, 'pt': 1.1060728744939272, 'mirando': 1.1060728744939272, 'faixa': 1.1060728744939272, 'pique': 1.1060728744939272, 'norte': 1.1060728744939272, 'immortelle': 1.7182291666666667, 'mint': 1.7182291666666667, 'addition': 1.1091145833333333, 'seasonal': 1.7182291666666667, 'socially': 1.1091145833333333, 'ethically': 1.1091145833333333, 'formulations': 1.1091145833333333, 'falafel': 1.1095952023988005, 'hoummos': 1.1095952023988005, 'bagel': 2.325265492253873, 'purleyfood': 1.1095952023988005, 'vicky': 1.1075367647058822, 'sloane': 1.100497512437811, 'ave': 1.100497512437811, 'twisted': 1.1089479166666667, 'conical': 1.1089479166666667, 'ecstasy': 1.1089479166666667, 'raveon': 1.1089479166666667, 'ninety': 1.1089479166666667, 'spiritofecstasy': 1.1089479166666667, 'icon': 1.7646078057462495, 'generate': 1.7241148325358853, 'profit': 2.330116588076811, 'sportsbiz': 1.7241148325358853, 'newsletter': 1.7241148325358853, 'thread': 1.1072916666666668, 'enhance': 1.1072916666666668, 'achieve': 1.1072916666666668, 'indomitable': 1.1080889540566958, 'thats': 1.1080889540566958, 'worshiper': 1.1080889540566958, 'yogisheraldinternationalday': 1.1910087719298246, 'surreal': 1.1910087719298246, 'water': 2.4911470505010156, 'goes': 1.1078351449275363, 'rave': 1.7169439125040458, 'walworth': 1.1078351449275363, 'grazia': 1.8096789593030191, 'times': 1.8096789593030191, 'mordenhallpark': 1.1372956150130062, 'springsunset': 1.1372956150130062, 'eveninglight': 1.1372956150130062, 'merton': 2.3825457754805583, 'morden': 1.7745912300260127, 'surreylife': 1.1372956150130062, 'igerssurrey': 1.1372956150130062, 'clinpsychologist': 1.1372956150130062, 'equality': 1.1372956150130062, 'kitten': 1.1372956150130062, 'weave': 1.1093121968121968, 'norfolk': 1.7186243936243937, 'handmaderug': 1.1093121968121968, 'lukeirwinrug': 1.1093121968121968, 'luke': 1.7186243936243937, 'irwin': 1.7186243936243937, 'rug': 2.3278390430564344, 'mosaic': 1.1093121968121968, 'premiere': 2.335870717264579, 'ewtmakeup': 1.7366222294258273, 'themoonknight': 1.1182236584410497, 'maycalamawy': 1.7366222294258273, 'cheekbone': 1.1182236584410497, 'triathlon': 1.1080921052631578, 'safeguard': 1.1086711711711712, 'democracy': 1.1086711711711712, 'straightfromthefrontline': 1.1086711711711712, 'frontline': 1.1086711711711712, 'championing': 1.1086711711711712, 'speech': 1.7172667422667423, 'battle': 1.1903508771929823, 'rage': 1.7994596447694917, 'policefunde': 1.1903508771929823, 'anticipated': 1.1097257250945776, 'loveliness': 1.1097257250945776, 'ahmed': 1.1097257250945776, 'mentalhealthmatter': 1.1097257250945776, 'docks': 1.1097257250945776, 'jung': 1.1097257250945776, 'occupy': 1.1097257250945776, 'adorable': 1.1097257250945776, 'londonpub': 1.7186866991214818, 'carnaby': 1.109472049689441, 'regentstreet': 1.109472049689441, 'clachan': 1.718944099378882, 'victorian': 1.109472049689441, 'wood': 1.109472049689441, 'carving': 1.109472049689441, 'ceramic': 1.109472049689441, 'ironwork': 1.109472049689441, 'gaelic': 1.109472049689441, 'piercing': 1.7096153846153845, 'piercer': 1.7096153846153845, 'londonpiercer': 1.1048076923076922, 'londonpierce': 1.1048076923076922, 'ukpiercer': 1.1048076923076922, 'safepiercinguk': 1.1048076923076922, 'safepierce': 1.1048076923076922, 'jewelleryupgrade': 1.1048076923076922, 'femalepiercer': 1.1048076923076922, 'femalepierceruk': 1.1048076923076922, 'baba': 1.1078098471986417, 'vaticancardinal': 1.1906299840510366, 'musiclifestyle': 1.109149560117302, 'drinkinggame': 1.109149560117302, 'lightdesign': 1.109149560117302, 'funkopop': 1.109149560117302, 'lifeisstrange': 1.109149560117302, 'clublife': 1.109149560117302, 'musicstudio': 1.109149560117302, 'peel': 1.109558629776021, 'wrapper': 1.109558629776021, 'followforfollowback': 1.109558629776021, 'likeforfollow': 1.109558629776021, 'likeforlike': 1.109558629776021, 'newbalancecricket': 1.109558629776021, 'screening': 1.1366940469881648, 'ritzy': 2.410082140964494, 'upstairs': 1.1366940469881648, 'activate': 1.1088055797733216, 'shred': 1.1094130675526026, 'cabbage': 1.1094130675526026, 'thorkari': 1.1094130675526026, 'margarita': 1.1084677419354838, 'iti': 1.7147556207233627, 'itidhtukireland': 1.1084677419354838, 'axe': 1.7163333333333333, 'throwing': 1.7163333333333333, 'whistle': 1.1081666666666665, 'punks': 1.1081666666666665, 'twloha': 1.1081666666666665, 'holic': 1.1081666666666665, 'bidenadministration': 1.1903508771929823, 'prepares': 1.1903508771929823, 'sweeping': 1.1903508771929823, 'asylumprocess': 1.1903508771929823, 'suprise': 1.1095312499999999, 'pollen': 1.1095312499999999, 'hive': 1.7190625, 'bee': 1.1095312499999999, 'advantage': 1.1095312499999999, 'selfridges': 1.1095312499999999, 'ecologist': 1.1095312499999999, 'beekeeper': 1.7183547794117646, 'beekeeping': 1.1095312499999999, 'wild': 1.1095312499999999, 'pollinator': 1.7190625, 'benefit': 1.1095312499999999, 'buffalo': 1.71625, 'wingwednesday': 1.108125, 'fulham': 1.108125, 'fulhamroad': 1.108125, 'fulhambroadway': 1.108125, 'fulhampub': 1.108125, 'durell': 1.108125, 'frivolity': 1.108125, 'ashleigh': 1.189967105263158, 'barty': 1.189967105263158, 'peroni': 1.1080921052631578, 'libera': 1.1080921052631578, 'transit': 1.1085833333333333, 'escapebar': 1.1085833333333333, 'gregrekus': 1.1085833333333333, 'timholehouse': 1.1085833333333333, 'tamborine': 1.1085833333333333, 'mount': 1.1085833333333333, 'maycomb': 1.108974358974359, 'tommannion': 1.108974358974359, 'allrise': 1.108974358974359, 'tokillamockingbird': 1.108974358974359, 'gielgud': 1.108974358974359, 'felix': 1.108974358974359, 'wolfe': 1.108974358974359, 'sail': 1.1095312499999999, 'midsoles': 1.1095312499999999, 'skool': 1.1095312499999999, 'swooshes': 1.1095312499999999, 'baddie': 1.1095312499999999, 'jordan': 1.1095312499999999, 'ko': 1.1095312499999999, 'sneaker': 1.1095312499999999, 'nba': 1.1095312499999999, 'ncaa': 1.1095312499999999, 'alpha': 1.1095312499999999, 'gopro': 1.1095312499999999, 'dji': 1.1095312499999999, 'acc': 1.118018018018018, 'sculpture': 1.1080889540566958, 'helloweekend': 1.1068651778329197, 'friyay': 1.1068651778329197, 'gintonictime': 1.1068651778329197, 'outfit': 1.209856630824373, 'disembody': 1.1077878787878788, 'quinn': 1.1077878787878788, 'harper': 1.1077878787878788, 'fundraiser': 1.106001755540926, 'reminder': 1.7094624421411475, 'vodka': 1.106001755540926, 'ukraineappeal': 1.106001755540926, 'tootingbroadway': 1.106001755540926, 'sides': 1.1908421052631577, 'republicans': 1.1908421052631577, 'wisconsin': 1.1908421052631577, 'redistricting': 1.1908421052631577, 'reform': 1.1910087719298246, 'chip': 1.7993799840510367, 'israelichief': 1.1910087719298246, 'rabbi': 1.1910087719298246, 'unfiltered': 1.116330409356725, 'cherryblossom': 1.1092664092664093, 'monzo': 1.1035196687370599, 'sight': 1.8842275366887804, 'greet': 1.274599358974359, 'bathe': 1.274599358974359, 'shorn': 1.274599358974359, 'ugly': 1.274599358974359, 'scaffolding': 1.274599358974359, 'commons': 1.274599358974359, 'mp': 1.274599358974359, 'grandmum': 1.10659992584353, 'mitton': 1.10659992584353, 'zealand': 1.10659992584353, 'grandmummy': 1.10659992584353, 'oop': 1.10659992584353, 'tenuous': 1.189967105263158, 'confront': 1.189967105263158, '𝖊𝖛𝖊𝖗𝖞𝖔𝖓𝖊': 1.1077878787878788, '𝖐𝖓𝖔𝖜𝖘': 1.1077878787878788, '𝖜𝖍𝖊𝖗𝖊': 1.1077878787878788, '𝖙𝖍𝖎𝖘': 1.1077878787878788, '𝖕𝖑𝖆𝖙𝖋𝖔𝖗𝖒': 1.1077878787878788, '𝖎𝖘': 1.1077878787878788, '𝖑𝖔𝖈𝖆𝖙𝖊𝖉': 1.1077878787878788, 'plataforma': 1.1077878787878788, 'turismóloga': 1.1077878787878788, 'pelirroja': 1.1077878787878788, 'intento': 1.1077878787878788, 'cantante': 1.1077878787878788, 'bright': 1.1092146494320407, 'quoth': 1.1092146494320407, 'raven': 1.1092146494320407, 'nevermore': 1.1092146494320407, 'language': 1.1092146494320407, 'literature': 1.1092146494320407, 'tesol': 1.1092146494320407, 'celta': 1.1092146494320407, 'esl': 1.1092146494320407, 'practise': 1.1096281777144215, 'cbma': 1.1096281777144215, 'hardatwork': 1.1096281777144215, 'wig': 1.1096281777144215, 'hairwrappe': 1.1096281777144215, 'onlyatcbma': 1.1096281777144215, 'christine': 1.719256355428843, 'blundell': 1.719256355428843, 'found': 1.1096281777144215, 'aspire': 1.7179615110477549, 'stjamespark': 1.7164937045052135, 'hooligan': 1.106975867269985, 'tenor': 1.1077761627906977, 'conductor': 1.1077761627906977, 'layclerk': 1.1077761627906977, 'paradis': 1.1077761627906977, 'files': 1.1077761627906977, 'gray': 1.1095178372352286, 'one': 1.109009009009009, 'watching': 1.109009009009009, 'freak': 1.109009009009009, 'winchester': 1.1365277777777778, 'established': 1.7730555555555556, 'detailed': 1.7445410542121067, 'temp': 1.1087128399746997, 'coconutty': 1.1091087675765094, 'pineapple': 1.1091087675765094, 'pina': 1.1091087675765094, 'colada': 1.1091087675765094, 'youngling': 1.108, 'prouddad': 1.108, 'theyouth': 1.108, 'whanau': 1.108, 'reject': 1.1903508771929823, 'russiandemand': 1.1903508771929823, 'surrender': 1.1903508771929823, 'wrong': 1.798620857259301, 'afghanwar': 1.1894062078272603, 'subject': 1.1083164642375167, 'debate': 1.1083164642375167, 'prove': 1.1083164642375167, 'oystercatchers': 1.1083164642375167, 'oysyercatcher': 1.1083164642375167, 'accelerate': 1.1083164642375167, 'skill': 1.1083164642375167, 'groundbreake': 1.1903508771929823, 'wildlifecrossing': 1.1903508771929823, 'дилетант': 1.1072966507177033, 'во': 1.1072966507177033, 'всем': 1.1072966507177033, 'еще': 1.1072966507177033, 'один': 1.1072966507177033, 'рандомный': 1.1072966507177033, 'чувак': 1.1072966507177033, 'из': 1.1072966507177033, 'интернетов': 1.1072966507177033, 'figurine': 1.109087837837838, 'squiresgardencentre': 1.109087837837838, 'teddington': 1.109087837837838, 'justbrowse': 1.109087837837838, 'divorce': 1.1080889540566958, 'croissant': 1.108595571095571, 'bonjour': 1.108595571095571, 'coffeeandcroissant': 1.108595571095571, 'frenchbreakfast': 1.108595571095571, 'morland': 1.1048333333333333, 'speckle': 1.1048333333333333, 'hen': 1.1048333333333333, 'yankee': 2.313412878787879, 'islander': 2.313412878787879, 'nygiant': 2.313412878787879, 'buff': 2.313412878787879, 'stun': 1.1081996434937613, 'walnut': 1.717810033104151, 'jaunt': 1.1368407578084998, 'kyoto': 2.3806104200459037, 'holland': 1.7736815156169994, 'baftas': 1.109345238095238, 'slush': 1.1095952023988005, 'ripple': 1.1914254385964913, 'conserve': 1.1914254385964913, 'waterweek': 1.1914254385964913, 'donna': 1.1094225372913897, 'luminous': 1.1094225372913897, 'sensuality': 1.1094225372913897, 'iris': 1.1094225372913897, 'pourfemme': 1.718688946557799, 'saas': 1.1035196687370599, 'alexandra': 1.1082189168573606, 'issue': 1.1090438596491228, 'powerful': 1.7181934197664248, 'alchemist': 1.717627192982456, 'virusrestriction': 1.1906299840510366, 'expire': 1.1906299840510366, 'midweek': 1.1085833333333333, 'kcla': 1.1085833333333333, 'pom': 1.1085833333333333, 'pp': 1.1085833333333333, 'cuts': 1.1092146494320407, 'linkinbio': 1.7185759571502746, 'itunes': 1.7185759571502746, 'tunein': 1.7185759571502746, 'apps': 1.7185759571502746, 'hotline': 1.7185759571502746, 'poi': 1.1084390415785763, 'dici': 1.1084390415785763, 'tramonto': 1.1084390415785763, 'count': 1.7153565136413973, 'holiday': 1.7983284492998246, 'nigerians': 1.109087837837838, 'passenger': 1.109087837837838, 'stair': 1.109087837837838, 'ghana': 1.109087837837838, 'antropóloga': 1.1643790849673201, 'arqueóloga': 1.1643790849673201, 'ch': 1.1643790849673201, 'mesa': 1.1643790849673201, 'sitios': 1.1643790849673201, 'memoria': 1.8287581699346405, 'caach': 1.1643790849673201, 'observadores': 1.1643790849673201, 'dd': 1.1643790849673201, 'casa': 1.1643790849673201, 'jose': 1.1643790849673201, 'domingo': 1.1643790849673201, 'cañas': 1.1643790849673201, 'ajda': 1.1643790849673201, 'wars': 1.717123044965787, 'hongkong': 1.8814720893141943, 'covidinfection': 1.1906299840510366, 'exceed': 1.7992255551466076, 'legendsonthemap': 1.1085833333333333, 'multivizionmusic': 1.1085833333333333, 'seer': 1.106730769230769, 'falta': 1.1082923832923832, 'criatividade': 1.1082923832923832, 'fez': 1.1082923832923832, 'com': 1.7171408681408682, 'que': 2.934050819344937, 'essa': 1.1082923832923832, 'ficasse': 1.1082923832923832, 'sem': 1.1082923832923832, 'nada': 1.1082923832923832, 'útil': 1.1082923832923832, 'escrito': 1.1082923832923832, 'korean': 1.1906299840510366, 'slaveryvictim': 1.1906299840510366, 'unjustice': 1.1906299840510366, 'multimedia': 1.7991817546951987, 'imucha': 1.1913466097676624, 'czech': 1.1913466097676624, 'alfonsmucha': 1.1913466097676624, 'philippinevolcano': 1.1903508771929823, 'spewsash': 1.1903508771929823, 'pose': 1.109009009009009, 'allow': 1.109009009009009, 'stylish': 1.109009009009009, 'curator': 1.109009009009009, 'atone': 1.109009009009009, 'somewhat': 1.109009009009009, 'educate': 1.109009009009009, 'infrastructure': 1.1039035087719298, 'ericsson': 1.1039035087719298, 'notre': 1.19125386996904, 'dame': 1.19125386996904, 'atkinson': 1.19125386996904, 'tournament': 1.19125386996904, 'berry': 1.7197701149425288, 'node': 1.1098850574712644, 'sharp': 1.1098850574712644, 'linger': 1.1098850574712644, 'passionfruit': 1.1098850574712644, 'winter': 1.7190407247664665, 'idre': 1.2177448830409356, 'parkway': 1.1094202898550725, 'spoon': 1.1083010752688172, 'cinnamon': 1.1090151515151514, 'thismorne': 1.1090151515151514, 'asparagus': 1.108876811594203, 'hophead': 1.1062500000000002, 'coya': 2.372532894736842, 'ukrainianrefugee': 1.1906299840510366, 'bomb': 1.1906299840510366, 'hunger': 1.1906299840510366, 'asianshare': 1.1910087719298246, 'wallst': 1.1910087719298246, 'focaccia': 1.1097257250945776, 'wappe': 1.7193411097099622, 'stkatharinedock': 1.7193411097099622, 'wappingsourdough': 1.7193411097099622, 'foccacia': 1.1097257250945776, 'artisan': 2.3278088516454463, 'sourdough': 2.937706494325347, 'olympics': 2.4104842902419374, 'athletes': 1.7193411097099622, 'village': 2.328146689483284, 'elizabethholmes': 1.1906299840510366, 'loom': 1.1906299840510366, 'wbff': 1.1475759290699867, 'biotechusa': 1.1475759290699867, 'certifiedstate': 1.1075087719298247, 'dripyourkick': 1.1075087719298247, 'moderna': 1.1908421052631577, 'fdaauthorization': 1.1908421052631577, 'dose': 1.1908421052631577, 'mobility': 1.1910087719298246, 'cbl': 1.1081996434937613, 'flesh': 1.191143180531975, 'veritas': 1.191143180531975, 'acquire': 1.191143180531975, 'ashley': 1.191143180531975, 'diary': 1.191143180531975, 'householder': 1.1093613077182338, 'maintain': 1.106287878787879, 'implant': 1.714960815047022, 'happyhygienist': 1.106287878787879, 'daytime': 1.1088178294573643, 'monument': 1.1088178294573643, 'avid': 1.7179734967525664, 'wwe': 1.7179734967525664, 'highboard': 1.1075367647058822, 'unicef': 1.1648523777327022, 'penge': 1.8297047554654045, 'pengestreetart': 1.1648523777327022, 'ldncallingblog': 1.1648523777327022, 'urge': 1.1908421052631577, 'condemn': 1.7999299431009956, 'scrum': 1.1035196687370599, 'greatbarrier': 1.1903508771929823, 'reef': 1.1903508771929823, 'suffer': 1.1903508771929823, 'widespreadcoral': 1.1903508771929823, 'bleaching': 1.1903508771929823, 'dinnerdate': 1.108595571095571, 'tick': 1.108595571095571, 'vid': 1.108595571095571, 'thursdaymood': 1.108595571095571, 'pisce': 1.1458389563652722, 'embankment': 1.1002604166666665, 'remotely': 1.7158741868419285, 'nonsense': 1.7158741868419285, 'terrific': 1.7158741868419285, 'pudding': 1.7158741868419285, 'alan': 1.7158741868419285, 'rickman': 1.7158741868419285, 'coyg': 1.7158741868419285, 'underway': 1.189967105263158, 'timorpresidentialelection': 1.189967105263158, 'nights': 1.108595571095571, 'exam': 1.108595571095571, 'prepared': 1.108595571095571, 'execute': 1.108595571095571, 'serving': 1.108595571095571, 'roman': 1.1642267267267268, 'spa': 1.1642267267267268, 'aire': 1.1642267267267268, 'baths': 1.1642267267267268, 'ian': 1.1642267267267268, 'colchester': 1.1642267267267268, 'torchwood': 1.1642267267267268, 'roger': 1.1642267267267268, 'holby': 1.1642267267267268, 'myanmar': 1.1906299840510366, 'military': 1.975061802232855, 'committed': 1.1906299840510366, 'skippertalk': 1.1646433933933933, 'supplement': 1.119668058040151, 'forage': 1.119668058040151, 'soil': 1.119668058040151, 'rting': 1.119668058040151, 'forageplus': 1.119668058040151, 'poweredbyforageplus': 1.119668058040151, 'outage': 1.1910087719298246, 'quakedamage': 1.1910087719298246, 'lineart': 1.1091087675765094, 'gelprint': 1.1091087675765094, 'printmake': 1.1091087675765094, 'artistsofinstagram': 1.1091087675765094, 'marchprintingchallenge': 1.1091087675765094, 'gelliart': 1.1091087675765094, 'gelliartsartist': 1.1091087675765094, 'printmakingart': 1.1091087675765094, 'artistoninstagram': 1.1091087675765094, 'createeveryday': 1.1091087675765094, 'patternlove': 1.1091087675765094, 'acrylicabstract': 1.1091087675765094, 'abstractagram': 1.1091087675765094, 'illustrator': 1.1091087675765094, 'enraged': 1.1091087675765094, 'sweary': 1.1091087675765094, 'discussion': 1.1091087675765094, 'teessider': 1.1091087675765094, 'torie': 1.1091087675765094, 'catering': 2.3267871815049235, 'nasa': 1.189967105263158, 'cooperation': 1.189967105263158, 'russiancolleagues': 1.189967105263158, 'indoctrinate': 1.1089162692103869, 'biomedical': 1.1089162692103869, 'reproductive': 1.1089162692103869, 'manchester': 1.1089162692103869, 'postal': 1.116453853046595, 'walkingshoe': 1.1081666666666665, 'wideeyedandbushytaile': 1.1081666666666665, 'chucs': 1.1081666666666665, 'restaurants': 1.1081666666666665, 'gothique': 1.1137605347282766, 'dracula': 1.1137605347282766, 'frankenstein': 1.1137605347282766, 'hardly': 1.1137605347282766, 'comic': 1.1137605347282766, 'writingcommunity': 1.1137605347282766, 'nosh': 1.1069289044289046, 'jack': 1.1069289044289046, 'mechanic': 1.1069289044289046, 'imbiber': 1.1069289044289046, 'snapper': 1.1069289044289046, 'mellowing': 1.1069289044289046, 'directoryday': 1.109234496124031, 'methodist': 1.109234496124031, 'springiscome': 1.7146785153985324, 'wimbledoncommon': 1.1088055797733216, 'wimbledondoggydogcare': 1.1088055797733216, 'raynesparkdogwalker': 1.1088055797733216, 'camilla': 1.1083333333333334, 'honary': 1.1083333333333334, 'oxo': 1.1083333333333334, 'occaisional': 1.1083333333333334, 'triathlete': 1.1083333333333334, 'twist': 1.1079734848484848, 'fruity': 1.1079734848484848, 'coast': 1.1079734848484848, 'twists': 1.1079734848484848, 'moorish': 1.1079734848484848, 'impy': 1.1079734848484848, 'decision': 2.5720350877192977, 'climb': 1.1908421052631577, 'outdoorretailer': 1.1906299840510366, 'boycottthreat': 1.1906299840510366, 'culturewar': 1.1910087719298246, 'georgetown': 1.1910087719298246, 'match': 1.732936536387831, 'whatspoppinguk': 1.1061129385964912, 'londonevent': 1.1061129385964912, 'lounge': 1.1061129385964912, 'slumberz': 1.1061129385964912, 'xxxx': 1.1176178660049627, 'halfprice': 1.1088055797733216, 'sushi': 1.1088055797733216, 'feelgreatfood': 1.1088055797733216, 'zerowaste': 1.1088055797733216, 'abokado': 1.1088055797733216, 'freshly': 1.1088055797733216, 'czechrepublic': 1.191143180531975, 'nationalday': 1.191143180531975, 'micalef': 1.1089180327868853, 'unofficial': 1.1089180327868853, 'laureate': 1.1089180327868853, 'poetlaureate': 1.1089180327868853, 'thewilliamblakecongregation': 1.1089180327868853, 'untendered': 1.1096103896103897, 'hd': 1.7192207792207792, 'cutz': 1.7192207792207792, 'barber': 1.7820288678712592, 'raheem': 1.1096103896103897, 'sterling': 1.1096103896103897, 'usain': 1.1096103896103897, 'bolt': 1.1096103896103897, 'jadon': 1.1096103896103897, 'sancho': 1.1096103896103897, 'wan': 1.1096103896103897, 'bissaka': 1.1096103896103897, 'bestinuk': 1.1096103896103897, 'discovery': 1.1060728744939272, 'ads': 1.1060728744939272, 'marcel': 1.1090112201963533, 'judgy': 1.1090112201963533, 'stick': 1.8015935454651704, 'perfectly': 1.1090112201963533, 'potteryshard': 1.1090112201963533, 'doggy': 1.1090112201963533, 'sundayfunday': 1.1090112201963533, 'doodlesofig': 1.1090112201963533, 'arrived': 1.1137224209898628, 'valuation': 1.7274448419797257, 'promiscuous': 1.1084677419354838, 'tenderloin': 1.1084677419354838, 'taco': 1.1084677419354838, 'knock': 1.108498023715415, 'snub': 1.108498023715415, 'thequeen': 1.108498023715415, 'caesar': 1.7172727272727273, 'travelingfish': 1.1086363636363636, 'koi': 1.1086363636363636, 'koinobori': 1.1086363636363636, 'juliuscaesar': 1.1086363636363636, 'cartoon': 1.1086363636363636, 'sew': 1.1086363636363636, 'organdonation': 1.1913466097676624, 'customerservice': 1.7113430777716494, 'ha': 1.192582325268817, 'backdrop': 1.192582325268817, 'atlas': 1.1083010752688172, 'nationalrail': 1.1083010752688172, 'shamrock': 1.1083010752688172, 'girls': 1.1083010752688172, 'forevergrateful': 1.108876811594203, 'unexpectedjourney': 1.108876811594203, 'fruitfulblesse': 1.108876811594203, 'londontraveller': 1.108876811594203, 'igersuk': 1.108876811594203, 'igerspinoy': 1.108876811594203, 'igerspinoyuk': 1.108876811594203, 'pinoyinlondon': 1.108876811594203, 'ilr': 1.108876811594203, 'philippinesplease': 1.108876811594203, 'profession': 1.108876811594203, 'rad': 1.108876811594203, 'disappointing': 1.191143180531975, 'mikaela': 1.191143180531975, 'shiffrin': 1.191143180531975, 'overall': 1.191143180531975, 'chelseaowner': 1.1903508771929823, 'abramovich': 1.1903508771929823, 'luxuryyacht': 1.1903508771929823, 'dock': 1.1903508771929823, 'turkey': 1.1903508771929823, 'beerage': 1.1365396825396825, 'breast': 1.1365396825396825, 'arse': 1.1365396825396825, 'kicker': 1.1365396825396825, 'bastille': 1.1365396825396825, 'fierce': 1.1365396825396825, 'remainer': 1.1365396825396825, 'bedside': 1.1081996434937613, 'roadtrip': 1.108710144927536, 'ontour': 1.108710144927536, 'ladsladslad': 1.108710144927536, 'bristol': 1.7174202898550723, 'hy': 1.108710144927536, 'brasil': 1.108710144927536, 'kongs': 1.108710144927536, 'wolfs': 1.108710144927536, 'stokes': 1.108710144927536, 'croft': 1.108710144927536, 'craig': 1.108710144927536, 'charles': 1.108710144927536, '𝙅𝙤𝙨𝙝𝙪𝙖': 1.1090112201963533, '𝙎': 1.1090112201963533, 'manchin': 1.1908421052631577, 'tout': 1.1908421052631577, 'lumina': 1.7176356589147288, 'yep': 1.1088178294573643, 'thankstoexpo': 1.1914254385964913, 'audio': 1.1602657004830919, 'muzikimupya': 1.1602657004830919, 'brandnew': 1.1602657004830919, 'tonta': 1.1602657004830919, 'africa': 1.7661386361083027, 'di': 1.7695321097495011, 'complicated': 1.1092664092664093, 'samesexmarriagelicense': 1.1903508771929823, 'denial': 1.1903508771929823, 'violate': 1.1903508771929823, 'feds': 1.1908421052631577, 'smuggle': 1.1908421052631577, 'reptile': 1.1908421052631577, 'mexico': 2.404368701197856, 'edgar': 1.109155667295202, 'compact': 1.1081996434937613, 'farringdon': 1.7131282051282053, 'zfd': 1.7131282051282053, 'playballers': 1.1157575757575757, 'brilliantly': 1.1157575757575757, 'lawn': 1.1157575757575757, 'airlineoffers': 1.1903508771929823, 'flight': 1.1903508771929823, 'newzealand': 1.8809808612440189, 'cabaret': 1.1072966507177033, 'shaw': 1.1072966507177033, 'linnaean': 1.108, 'oz': 1.1906299840510366, 'rivals': 1.1906299840510366, 'trumpbacking': 1.1906299840510366, 'colostomy': 1.1027730616864742, 'pulsate': 1.1176662586699306, 'labor': 1.1910087719298246, 'schultz': 1.1910087719298246, 'streets': 1.1084117647058824, 'britishferryoperator': 1.1906299840510366, 'deadline': 1.1906299840510366, 'mass': 1.1906299840510366, 'firing': 1.1906299840510366, 'avena': 1.107125, 'wec': 1.1906299840510366, 'takes': 1.1906299840510366, 'sebring': 1.1906299840510366, 'boundaries': 1.1092664092664093, 'si': 1.1092664092664093, 'passione': 1.1092664092664093, 'exceptionally': 1.1092664092664093, 'blackcurrant': 1.1092664092664093, 'nectar': 1.7185328185328186, 'sikora': 1.1331462610151135, 'frenzy': 1.1331462610151135, 'tease': 1.1331462610151135, 'crossover': 1.1331462610151135, 'discopub': 1.1093613077182338, 'gloucester': 1.1077761627906977, 'mixed': 1.7250867305512148, 'cauliflower': 1.719117259552042, 'comfortfood': 1.109558629776021, 'cauliflowercheese': 1.109558629776021, 'inspiration': 1.1084117647058824, 'lantern': 1.109345238095238, 'chinatown': 1.7186904761904762, 'edit': 1.7427260052260054, 'prioritise': 1.1370441870441872, 'guides': 1.1370441870441872, 'mentoring': 1.752572287819381, 'membership': 1.1370441870441872, 'fashionbrandguru': 1.1370441870441872, 'alison': 1.1370441870441872, 'lowe': 1.1370441870441872, 'mbe': 1.1370441870441872, 'television': 1.1521388888888888, 'cakeology': 1.1521388888888888, 'decorating': 1.1521388888888888, 'cakes': 1.1521388888888888, 'finland': 1.2194823232323233, 'finnish': 1.2194823232323233, 'finished': 1.829092712842713, 'mathshelponline': 1.109569195577583, 'viral': 1.109569195577583, 'foryoupage': 1.109569195577583, 'foryou': 1.719100445577583, 'azores': 1.1910087719298246, 'majestic': 1.1910087719298246, 'await': 1.1910087719298246, 'erc': 1.1910087719298246, 'contender': 1.1910087719298246, 'scandal': 1.1906299840510366, 'brokerage': 1.1906299840510366, 'carefully': 1.1095362202619619, 'londoncity': 1.1095362202619619, 'londonbynight': 1.1095362202619619, 'chieftain': 1.1077083333333335, 'anice': 1.1070686070686069, 'throughpqck': 1.1070686070686069, 'pursued': 1.1070686070686069, 'defence': 1.1070686070686069, 'studies': 1.1070686070686069, 'humanitarian': 1.7974194842615892, 'learner': 1.1070686070686069, 'ngo': 1.1070686070686069, 'strictly': 1.1070686070686069, 'expresso': 1.107675438596491, 'lettuce': 1.107675438596491, 'thame': 1.107675438596491, 'morgwn': 1.107675438596491, 'davies': 1.107675438596491, 'somnerfield': 1.107675438596491, 'haddington': 1.107675438596491, 'looku': 1.7192939244663383, 'enjoyment': 1.1096469622331693, 'livesey': 2.3289408866995074, 'stronger': 1.1096469622331693, 'communities': 1.71054786313407, 'enabler': 1.1096469622331693, 'rd': 1.1096469622331693, 'moscow': 1.1906299840510366, 'forcibly': 1.1906299840510366, 'civilian': 1.1906299840510366, 'grateful': 2.4335423474843894, 'allgoodvibe': 1.1082189168573606, 'earthee': 1.1082189168573606, 'ontherise': 1.1082189168573606, 'slayer': 1.1082189168573606, 'item': 1.1090629800307221, 'messylondon': 1.1090629800307221, 'sundayvibe': 1.1090629800307221, 'ootdfashion': 1.1090629800307221, '𝙰𝚂': 1.1090629800307221, '𝚂𝙴𝙴𝙽': 1.1090629800307221, '𝙿𝙰𝚈': 1.1090629800307221, '𝙻𝙰𝚃𝙴𝚁': 1.1090629800307221, '𝚆𝙸𝚃𝙷': 1.1090629800307221, '𝙲𝙻𝙴𝙰𝚁𝙿𝙰𝚈': 1.1090629800307221, 'klarna': 1.1090629800307221, 'lay': 1.1090629800307221, 'nottingham': 1.1369972347913526, 'uefa': 1.2034137426900586, 'license': 1.8128268102426612, 'footballer': 1.2034137426900586, 'pundit': 1.2034137426900586, 'يكتشف': 1.2004041438979964, 'الغامض': 1.2004041438979964, 'والمثير': 1.2004041438979964, 'يواجه': 1.2004041438979964, 'الحياة': 1.2004041438979964, 'بخطة': 1.2004041438979964, 'ويعتمد': 1.2004041438979964, 'الهجمات': 1.2004041438979964, 'المرتدة': 1.2004041438979964, 'ويتساءل': 1.2004041438979964, 'هو': 1.2004041438979964, 'فين': 1.2004041438979964, 'علي': 1.2004041438979964, 'ده': 1.2004041438979964, 'chevening': 1.2004041438979964, 'shew': 1.1066337719298245, 'omicron': 1.1906299840510366, 'scallop': 1.1078351449275363, 'lampshade': 1.1078351449275363, 'kcc': 1.716026552868658, 'madeinlago': 1.108013276434329, 'kaylamempire': 1.108013276434329, 'aboard': 1.2175087719298245, 'urgently': 1.121837837837838, 'experienced': 1.121837837837838, 'wikipedia': 1.121837837837838, 'salesforce': 1.7724336387127084, 'crm': 1.1362168193563542, 'techforgood': 1.1362168193563542, 'nfp': 1.1362168193563542, 'concern': 1.109155667295202, 'legsout': 1.109155667295202, 'summerishere': 1.109155667295202, 'marriage': 1.7285714285714286, 'alice': 1.1202380952380953, 'toklas': 1.1202380952380953, 'jermyn': 1.1202380952380953, 'blogging': 1.1202380952380953, 'podcasting': 1.1202380952380953, 'um': 1.7176969696969697, 'naive': 1.108848484848485, 'idealist': 1.108848484848485, 'gostou': 1.108848484848485, 'perfil': 1.108848484848485, 'obrigada': 1.108848484848485, 'não': 1.108848484848485, 'confunda': 1.108848484848485, 'aberta': 1.108848484848485, 'relacionamento': 1.108848484848485, 'procure': 1.108848484848485, 'ajuda': 1.108848484848485, 'psíquica': 1.108848484848485, 'adams': 1.1091145833333333, 'sapling': 1.1091145833333333, 'collider': 1.7182291666666667, 'route': 1.1091145833333333, 'harryadam': 1.1091145833333333, 'vanlife': 1.1091145833333333, 'gentlemens': 1.1091145833333333, 'disruptive': 1.1091145833333333, 'betterment': 1.1091145833333333, 'mortgage': 1.1054166666666667, 'rate': 2.40421331738437, 'prompt': 1.1054166666666667, 'lower': 1.1054166666666667, 'carpentry': 1.106975867269985, 'woodworke': 1.106975867269985, 'geometry': 1.106975867269985, 'patterndesign': 1.106975867269985, 'synthesis': 1.106975867269985, 'cognition': 1.106975867269985, 'reading': 1.1070686070686069, 'lostconnection': 1.1070686070686069, 'fortherapypurpose': 1.1070686070686069, 'graphics': 1.1078351449275363, 'analog': 1.1078351449275363, 'mastering': 1.1078351449275363, 'brutto': 2.9352450980392155, 'boozy': 1.1087500000000001, 'trattoria': 2.326495098039216, 'bratz': 1.109345238095238, 'doll': 1.109345238095238, 'inc': 1.109345238095238, 'xoxo': 1.109345238095238, 'alwcinderella': 1.109345238095238, 'gillian': 1.109345238095238, 'lynne': 1.109345238095238, 'crumpet': 1.109345238095238, 'unlike': 1.109087837837838, 'saddam': 1.109087837837838, 'gaddafi': 1.109087837837838, 'nuclear': 1.109087837837838, 'warhead': 1.109087837837838, 'whitehouse': 1.109087837837838, 'demonize': 1.109087837837838, 'entainment': 1.1095312499999999, 'explore': 1.1095312499999999, 'ilsatro': 1.1095312499999999, 'djknowledge': 1.1095312499999999, 'afrobeat': 1.1095312499999999, 'hearforthevibe': 1.1095312499999999, 'basketball': 1.1095312499999999, 'djay': 1.1095312499999999, 'knowledge': 1.1095312499999999, 'lobster': 1.1095312499999999, 'obment': 1.1095312499999999, 'knowledgeent': 1.1095312499999999, 'couplegoal': 1.1040133779264214, 'luli': 1.1724184782608695, 'difference': 1.100506268081003, 'shortfilm': 1.1083572567783095, 'onset': 1.1083572567783095, 'familyaffair': 1.1083572567783095, 'familyfirst': 1.1083572567783095, 'egyptiannose': 1.1083572567783095, 'carolyn': 1.1083572567783095, 'hambleton': 1.1083572567783095, 'coolkidz': 1.1072966507177033, 'raceandcrime': 1.1908421052631577, 'plays': 1.1908421052631577, 'fringe': 1.8818508771929823, 'relaunchyourcareer': 1.1054504504504505, 'successfully': 1.1054504504504505, 'succesful': 1.1177651515151514, 'operation': 1.1177651515151514, 'blindfold': 1.1177651515151514, 'colleague': 1.1177651515151514, 'francis': 1.1177651515151514, 'apiah': 1.1177651515151514, 'colleagues': 1.1177651515151514, 'stirling': 1.1200804093567251, 'reed': 1.1200804093567251, 'counsellor': 1.1084390415785763, 'venus': 1.1086363636363636, 'quirky': 1.1086363636363636, 'gucci': 1.7185328185328186, 'profumo': 1.1092664092664093, 'fiori': 1.1092664092664093, 'personified': 1.1092664092664093, 'florals': 1.1092664092664093, 'ukraineflew': 1.1908421052631577, 'sick': 1.1908421052631577, 'backend': 1.1082923832923832, 'template': 1.1082923832923832, 'elephant': 1.109155667295202, 'newington': 1.109155667295202, 'metropolitan': 1.7100565681961029, 'proximity': 1.109155667295202, 'cone': 1.1090112201963533, 'distinct': 1.1090112201963533, 'lack': 1.1090112201963533, 'sarf': 1.1090112201963533, 'rioja': 1.1090112201963533, 'tiramisu': 1.1090112201963533, 'dalmatians': 1.1093613077182338, 'bassett': 1.1093613077182338, 'outstanding': 1.1093613077182338, 'prep': 1.1093613077182338, 'leafy': 1.1093613077182338, 'thrive': 1.1093613077182338, 'looking': 1.1087128399746997, 'letsdolondon': 1.1066337719298245, 'railunion': 1.1903508771929823, 'arbitration': 1.1903508771929823, 'dispute': 1.1903508771929823, 'bnsfrules': 1.1903508771929823, 'chic': 1.1097335423197494, 'eastereggs': 1.1097335423197494, 'shoplocally': 1.1097335423197494, 'frencheaster': 1.1097335423197494, 'beginner': 1.1081599347205222, 'willbjj': 1.1081599347205222, 'secret': 2.9309989429175474, 'priority': 1.1084390415785763, 'shoppingday': 1.1084390415785763, 'victoriassecret': 1.1084390415785763, 'helles': 1.1083164642375167, 'reignite': 1.7173458725182862, 'potential': 1.108672936259143, 'radisson': 1.108672936259143, 'surgeon': 1.108672936259143, 'peripatetic': 1.108672936259143, 'dentist': 1.108672936259143, 'portuguese': 1.1646774651889742, 'tart': 1.1646774651889742, 'bulgariaprotest': 1.1903508771929823, 'rid': 1.106975867269985, 'eventbar': 1.1093613077182338, 'eventprof': 1.1093613077182338, 'tayto': 1.1093613077182338, 'speciality': 1.1093613077182338, 'individual': 1.1093613077182338, 'mobile': 1.1093613077182338, 'greenwich': 1.1052371541501977, 'nick': 1.2199955197132617, 'fame': 1.2199955197132617, 'cannizaro': 1.1056891025641025, 'solo': 1.1056891025641025, 'leigh': 1.109472049689441, 'jiu': 1.1078098471986417, 'jitsu': 1.1078098471986417, 'fortnite': 1.1079734848484848, 'doctorwhofortnite': 1.1079734848484848, 'ballerina': 1.10686517783292, 'professionista': 1.10686517783292, 'showdance': 1.10686517783292, 'latin': 1.10686517783292, 'showreel': 1.10686517783292, 'cto': 1.10686517783292, 'hola': 1.10686517783292, 'hammersmithapollo': 1.1063519813519813, 'whimsical': 1.1093023255813952, 'crescent': 1.1093023255813952, 'strawberry': 1.1093023255813952, 'sponge': 1.1093023255813952, 'luxurious': 1.1093023255813952, 'vanilla': 1.7186046511627906, 'buttercream': 1.7186046511627906, 'walnuts': 1.1093023255813952, 'honey': 1.1093023255813952, 'flavour': 1.1093023255813952, 'limit': 1.800144430844553, 'heavenly': 1.1183985709847777, 'sculpt': 1.1183985709847777, 'moonknight': 1.1183985709847777, 'pressday': 1.1183985709847777, 'moretown': 1.1083712121212121, 'belle': 1.1083712121212121, 'wevat': 1.1083712121212121, 'manchmal': 1.1083712121212121, 'ich': 1.1083712121212121, 'tweete': 1.1083712121212121, 'auf': 1.1083712121212121, 'deutsch': 1.1083712121212121, '隔唔鐘會出吓中文tweet': 1.1083712121212121, 'imc': 1.7108300858998535, 'lascivious': 1.1065972222222222, 'microball': 1.1083010752688172, 'midterm': 1.1096281777144215, 'carrick': 1.1096281777144215, 'agric': 1.1096281777144215, 'maf': 1.1096281777144215, 'sierra': 1.1096281777144215, 'leone': 1.1096281777144215, 'msc': 1.1096281777144215, 'dublin': 1.7261680327868851, 'fav': 1.108393829401089, 'teidetattoo': 1.108393829401089, 'tattoodo': 1.108393829401089, 'weedbreak': 1.108393829401089, 'operator': 1.191143180531975, 'mathematician': 1.2023391812865496, 'westafricanleaders': 1.189967105263158, 'coup': 1.189967105263158, 'themall': 1.1095178372352286, 'rome': 1.1095178372352286, 'alfred': 1.1072916666666668, 'parking': 1.1072916666666668, 'motorist': 1.1072916666666668, 'relaxing': 1.1088055797733216, 'prezzemolo': 1.1088055797733216, 'dogfriendly': 1.1088055797733216, 'dogrooming': 1.1088055797733216, 'stk': 1.7184292988640815, 'manual': 1.1092146494320407, 'paybill': 1.1092146494320407, 'realbread': 1.1096153846153847, 'hotter': 1.1343418803418803, 'steelworker': 1.1903508771929823, 'poise': 1.1903508771929823, 'karma': 1.7171691948865861, 'sanctum': 1.7171691948865861, 'gindashouse': 1.1073260073260074, 'kasperg': 1.1073260073260074, 'lostfavourite': 1.1073260073260074, 'lostfavouriterecord': 1.1073260073260074, 'electronic': 1.1073260073260074, 'dancemusic': 1.1073260073260074, 'feelgood': 1.1073260073260074, 'tanssimuzaa': 1.1073260073260074, 'danzzz': 1.1073260073260074, 'muzaa': 1.1073260073260074, 'mystic': 1.1073260073260074, 'tempt': 1.1083712121212121, 'kiss': 1.1083712121212121, 'tooth': 1.1083712121212121, 'musketeer': 1.1081666666666665, 'crochetier': 1.1081666666666665, 'volume': 1.1072152653548004, 'woozy': 1.106730769230769, 'fairchildcompressor': 1.106730769230769, 'theholdsteadyweekender': 1.106730769230769, 'vintagegearaddict': 1.106730769230769, 'richmond': 1.1009009009009008, 'accessible': 1.1009009009009008, 'better': 1.1009009009009008, 'fanya': 1.1070686070686069, 'kazi': 1.1070686070686069, 'microsot': 1.105667295202179, 'shit': 1.105667295202179, 'tours': 1.1087059115747642, 'yeovil': 1.1087059115747642, 'films': 1.7170631683530737, 'dislike': 1.1087059115747642, 'maggie': 1.1087059115747642, 'problemsolving': 1.7070393374741197, 'pfizer': 1.1903508771929823, 'covidpill': 1.1903508771929823, 'sirena': 1.1081996434937613, 'mylaanddavis': 1.1081996434937613, 'deptford': 1.1081996434937613, 'città': 1.1155281007751938, 'sons': 1.1155281007751938, 'bootcamp': 1.116539855072464, 'thursdays': 1.108578431372549, 'shannon': 1.108578431372549, 'ryan': 1.108578431372549, 'newnoise': 1.108578431372549, 'worthy': 1.1096281777144215, 'mongrel': 1.1096281777144215, 'abode': 1.1096281777144215, 'anchovy': 1.1087500000000001, 'kiosk': 1.109472049689441, 'pavement': 1.109472049689441, 'rothbart': 1.108393829401089, 'tormented': 1.108393829401089, 'sublime': 1.108393829401089, 'professor': 1.108393829401089, 'organisational': 1.108393829401089, 'psychology': 1.108393829401089, 'institution': 1.108393829401089, 'daytrip': 1.1080889540566958, 'coolbean': 1.1080889540566958, 'transylvanian': 1.1080889540566958, 'unknown': 1.1080889540566958, 'romanian': 1.1080889540566958, 'forgotten': 1.1080889540566958, 'jamaican': 1.1080889540566958, 'engl': 1.1080889540566958, 'ish': 1.1080889540566958, 'meaning': 1.1092146494320407, 'phrase': 1.1092146494320407, 'tinkle': 1.1092146494320407, 'thedigitalconsigliere': 1.1092146494320407, 'nxd': 1.1092146494320407, 'businesstransformation': 1.1092146494320407, 'interim': 1.1092146494320407, 'incl': 1.1092146494320407, 'elonmusklover': 1.1092146494320407, 'florida': 1.154, 'ms': 1.154, 'dynamite': 1.154, 'riddler': 1.109345238095238, 'mayfairlondon': 1.109345238095238, 'mayfairhotel': 1.109345238095238, 'amazonicolondon': 1.109345238095238, 'nightoutinlondon': 1.109345238095238, 'theriddler': 1.109345238095238, 'amazonico': 1.109345238095238, 'physio': 1.109345238095238, 'mhcpc': 1.109345238095238, 'mcsp': 1.109345238095238, 'miramos': 1.1082923832923832, 'los': 1.1082923832923832, 'ojos': 1.1082923832923832, 'nos': 1.7177126731474557, 'miran': 1.1082923832923832, 'lo': 1.1082923832923832, 'absuelto': 1.1082923832923832, 'entonce': 1.1082923832923832, 'descubrimos': 1.1082923832923832, 'así': 1.1082923832923832, 'somos': 1.1082923832923832, 'getinmybelly': 1.109051724137931, 'thetreat': 1.109051724137931, 'workhardplayhard': 1.109051724137931, 'ihavethebestclient': 1.109051724137931, 'cecconis': 1.109051724137931, 'calamari': 1.109051724137931, 'lemonsorbet': 1.109051724137931, 'creatureofhabit': 1.109051724137931, 'carnivore': 1.109051724137931, 'cecconi': 1.109051724137931, 'bigbentower': 1.1087357954545456, 'bigbenlondon': 1.1087357954545456, 'plunge': 1.1908421052631577, 'asylum': 1.1908421052631577, 'germantvstation': 1.2057814992025517, 'ukrainiananchor': 1.2057814992025517, 'youngatart': 1.1096103896103897, 'freeartclass': 1.1096103896103897, 'artclassforadult': 1.1096103896103897, 'papercraft': 1.1096103896103897, 'cube': 1.1096103896103897, 'mixedmedia': 1.1096103896103897, 'multifacete': 1.1096103896103897, 'carmelita': 1.1096103896103897, 'activities': 1.1096103896103897, 'weekly': 1.1096103896103897, 'upcycle': 1.1096103896103897, 'junk': 1.1096103896103897, 'amanda': 1.1096103896103897, 'callis': 1.1096103896103897, 'frsa': 1.1096103896103897, 'sunray': 1.1058729356252108, 'londonparksandgarden': 1.1058729356252108, 'londonpark': 1.1058729356252108, 'origin': 1.1058729356252108, 'personality': 1.1058729356252108, 'safari': 1.1058729356252108, 'docuseries': 1.1058729356252108, 'noura': 2.3288311688311687, 'nourarestaurant': 1.1096103896103897, 'lebanesefood': 1.1096103896103897, 'lebanese': 1.1096103896103897, 'buns': 1.7163992869875224, 'bidencovidcoordinator': 1.1903508771929823, 'dough': 1.1089950980392156, 'cuddle': 1.1089950980392156, 'prosciutto': 1.1089950980392156, 'stracchino': 1.1089950980392156, 'spiritual': 1.1019349845201238, 'haiku': 1.1019349845201238, 'pesto': 1.7192207792207792, 'dairy': 1.1096103896103897, 'suitable': 1.1096103896103897, 'tomatosauce': 1.1096103896103897, 'ownmade': 1.1096103896103897, 'fashioninmotion': 1.7031060606060606, 'harrisreed': 1.7031060606060606, 'victoriaandalbertmuseum': 1.7031060606060606, 'leftover': 1.1092602495543673, 'joint': 1.1092602495543673, 'threesome': 1.1056818181818182, 'tantric': 1.1056818181818182, 'je': 1.1069128787878788, 'ne': 1.716086548255666, 'suis': 1.1069128787878788, 'pas': 1.1069128787878788, 'robot': 1.1069128787878788, 'wasp': 1.1069128787878788, 'patriots': 1.1069128787878788, 'yayass': 1.109656177156177, 'caroline': 1.109656177156177, 'shiny': 1.7193123543123543, 'xxx': 1.109656177156177, 'containers': 1.109656177156177, 'apa': 1.7193123543123543, 'apaxbectu': 1.109656177156177, 'steps': 1.109656177156177, 'blame': 1.7155757575757575, 'gloria': 1.1077878787878788, 'relate': 1.1006359649122808, 'funding': 1.1006359649122808, 'partnerships': 1.1006359649122808, 'blindmanroy': 1.1006359649122808, 'sundayselfie': 1.1083333333333334, 'digitalmarketing': 1.1083333333333334, 'nurture': 1.1083333333333334, 'leavinganinheritance': 1.1083333333333334, 'extension': 1.1087128399746997, 'rehearsal': 1.1074118589743591, 'grease': 1.1074118589743591, 'drumteacher': 1.1074118589743591, 'workingdrummer': 1.1074118589743591, 'rmt': 1.1074118589743591, 'bandstand': 1.1074118589743591, 'neuromusictherapyconf': 1.108498023715415, 'jason': 1.108498023715415, 'sooooo': 1.108498023715415, 'chilternmusictherapy': 1.108498023715415, 'thesilverliningcharity': 1.108498023715415, 'abisolution': 1.108498023715415, 'divas': 1.1372461685823754, 'amebix': 1.11018315018315, 'monolith': 1.11018315018315, 'motörhead': 1.11018315018315, 'crust': 1.11018315018315, 'summon': 1.2844318181818184, 'attache': 1.2844318181818184, 'behavior': 1.975061802232855, 'numb': 1.1070175438596492, 'peepshow': 1.1089180327868853, 'cdncreative': 1.1089180327868853, 'cdn': 1.1089180327868853, 'stgeorgeswalk': 1.1089180327868853, 'cronx': 1.1089180327868853, 'southlondon': 1.1089180327868853, 'aauk': 1.1089180327868853, 'teemill': 1.1089180327868853, 'cdnzine': 1.1089180327868853, 'ita': 1.1095990794573645, 'emma': 1.1095990794573645, 'incantati': 1.7191981589147287, 'js': 1.1095990794573645, 'bach': 1.7191981589147287, 'recorder': 1.1095990794573645, 'violadamore': 1.1095990794573645, 'violadagamba': 1.1095990794573645, 'conway': 1.1095990794573645, 'display': 1.1081996434937613, 'busesofinstagram': 1.1083572567783095, 'londonbuse': 1.1083572567783095, 'birth': 1.1083572567783095, 'cork': 1.1083572567783095, 'pictures': 1.1083572567783095, 'buses': 1.1083572567783095, 'taxi': 1.1083572567783095, 'closed': 1.1083572567783095, 'pubs': 1.1083572567783095, 'lorries': 1.1083572567783095, 'tsetse': 1.1070686070686069, 'chelseaphysicgarden': 1.2203713606654785, 'hrh': 1.2203713606654785, 'platinum': 1.2203713606654785, 'array': 1.1088055797733216, 'western': 1.7128869047619049, 'zeph': 1.1039583333333334, 'northkorea': 1.1903508771929823, 'missile': 1.1903508771929823, 'oscar': 1.1903508771929823, 'godfather': 1.1903508771929823, 'anniversarie': 1.1903508771929823, 'enticing': 1.108876811594203, 'leyton': 1.108876811594203, 'canvey': 1.108876811594203, 'ocra': 1.108876811594203, 'promakeupdesign': 1.120304768331084, 'pallet': 1.120304768331084, 'glowup': 1.120304768331084, 'manic': 1.1370745999549245, 'fash': 1.1370745999549245, 'nicholascage': 1.1370745999549245, 'gqglobal': 1.1370745999549245, 'exfoliation': 1.1068651778329197, 'sanitisation': 1.1068651778329197, 'revisit': 1.1089285714285715, 'birdfeeder': 1.1088235294117648, 'chopstick': 1.1088235294117648, 'itsu': 1.1088235294117648, 'collaboration': 1.1088235294117648, 'inquires': 1.1088235294117648, 'jw': 1.133850652271705, 'marriott': 1.133850652271705, 'gb': 1.133850652271705, 'lnd': 1.133850652271705, 'fira': 1.2162717064890978, 'pace': 1.2162717064890978, 'corner': 1.2162717064890978, '𝐏𝐫𝐨𝐟𝐞𝐬𝐬𝐢𝐨𝐧𝐚𝐥': 1.2171839856050384, '𝐃𝐚𝐧𝐜𝐞𝐫': 1.2171839856050384, '𝐁𝐀𝐓𝐀': 1.2171839856050384, '𝐀𝐌𝐁𝐀𝐒𝐒𝐀𝐃𝐎𝐑': 1.2171839856050384, 'ushousecandidate': 1.1906299840510366, 'uproar': 1.1906299840510366, 'sleepover': 1.1906299840510366, 'disgrace': 1.1096281777144215, 'emperor': 1.1096281777144215, 'liberate': 1.1096281777144215, 'bronze': 1.1096281777144215, 'vase': 1.1096281777144215, 'mrs': 1.1095584577114428, 'ijeoma': 1.1095584577114428, 'ugboaja': 1.1095584577114428, 'aries': 1.7135265959346981, 'amargada': 1.7135265959346981, 'pero': 1.7135265959346981, 'día': 1.7135265959346981, 'buen': 1.7135265959346981, 'pedo': 1.7135265959346981, 'southkorea': 1.1906299840510366, 'omicrondeath': 1.1906299840510366, 'falter': 1.1906299840510366, 'ollyalexander': 1.1015530303030303, 'yearsandyear': 1.1015530303030303, 'suuuuuuure': 1.1041135283820955, 'babes': 1.1091087675765094, 'fashioninspo': 1.1091087675765094, 'fashionstreetstyle': 1.1091087675765094, 'streetstyle': 1.1091087675765094, 'londonfashion': 1.1091087675765094, 'streetphotographer': 1.1091087675765094, 'ridleyroad': 1.1091087675765094, 'krassebodie': 1.1091087675765094, 'thefutureofberlin': 1.1091087675765094, 'fleet': 1.1094202898550725, 'pioneer': 1.1086511627906976, 'alongwith': 1.1086511627906976, 'tycon': 1.1086511627906976, 'iqbal': 1.1086511627906976, 'latif': 1.1086511627906976, 'preparation': 1.12682359779134, 'rien': 1.1091736694677872, 'sera': 1.1091736694677872, 'jamais': 1.1091736694677872, 'facile': 1.1091736694677872, 'faudra': 1.1091736694677872, 'tu': 1.1091736694677872, 'apprenne': 1.1091736694677872, 'perdre': 1.1091736694677872, 'à': 1.1091736694677872, 'encaisser': 1.1091736694677872, 'prête': 1.1091736694677872, 'cœur': 1.1091736694677872, 'volontaire': 1.1091736694677872, 'bénévolement': 1.1091736694677872, 'ça': 1.1091736694677872, 'doit': 1.1091736694677872, 'faire': 1.1091736694677872, 'sentiment': 1.1091736694677872, 'optional': 1.1053378378378378, 'complain': 1.1053378378378378, 'torontoblue': 1.1903508771929823, 'jays': 1.1903508771929823, 'sights': 1.1903508771929823, 'worldseries': 1.1903508771929823, 'morbius': 1.1070175438596492, 'giannanannini': 1.1913466097676624, 'upbeat': 1.1913466097676624, 'guild': 1.1906299840510366, 'triumphanttenure': 1.1906299840510366, 'discgolflife': 1.1084117647058824, 'discstoyer': 1.1084117647058824, 'atheist': 1.1084117647058824, 'socialist': 1.1084117647058824, 'luluislife': 1.1077083333333335, 'mist': 1.1091736694677872, 'morningrun': 1.1091736694677872, 'dir': 1.1091736694677872, 'risks': 1.1091736694677872, 'bim': 1.1091736694677872, 'likes': 1.1091736694677872, 'jamiehardcastle': 1.108043032786885, 'asos': 1.108043032786885, 'topman': 1.108043032786885, 'unsignedartist': 1.108043032786885, 'outfitoftheday': 1.108043032786885, 'linktree': 1.108043032786885, 'foxesofinstagram': 1.1079545454545454, 'arresttrudeau': 1.1079545454545454, 'arrestfauci': 1.1079545454545454, 'homeopath': 1.1079545454545454, 'dennydenz': 1.107125, 'flooer': 1.1129758791049114, 'scotsindy': 1.1078869047619047, 'gentoo': 1.1078869047619047, 'linux': 1.1078869047619047, 'willing': 1.1078869047619047, 'side': 1.1078869047619047, 'disagreement': 1.1078869047619047, 'towerbridgelondon': 1.1086363636363636, 'recordist': 1.1081996434937613, 'kit': 1.1081996434937613, 'possibility': 1.1044102822580646, 'priceless': 1.1044102822580646}\n"
          ]
        }
      ]
    },
    {
      "cell_type": "markdown",
      "source": [
        "Let's also look at the average quality score for the HQ tweets. This will be useful in our relative importance scoring scheme."
      ],
      "metadata": {
        "id": "tetns1C5TlSQ"
      }
    },
    {
      "cell_type": "code",
      "source": [
        "sum = 0\n",
        "for tweet in hq_json:\n",
        "  sum += tweet['qualityS']\n",
        "\n",
        "avg_hq_qs = round(sum/len(hq_json), 3)\n",
        "print(\"Avg. HQ Qual. Score: \" + str(avg_hq_qs))"
      ],
      "metadata": {
        "colab": {
          "base_uri": "https://localhost:8080/"
        },
        "id": "3sBmP4SNTsG0",
        "outputId": "68fd2b34-4f35-416f-be2a-e7618a77bea4"
      },
      "execution_count": null,
      "outputs": [
        {
          "output_type": "stream",
          "name": "stdout",
          "text": [
            "Avg. HQ Qual. Score: 0.625\n"
          ]
        }
      ]
    },
    {
      "cell_type": "markdown",
      "source": [
        "## Counting Tfs for the Low Quality Model"
      ],
      "metadata": {
        "id": "4g5YAWZorBiR"
      }
    },
    {
      "cell_type": "markdown",
      "source": [
        "Now, let's do the same for the low quality tweets."
      ],
      "metadata": {
        "id": "_JndnWoKrIrL"
      }
    },
    {
      "cell_type": "markdown",
      "source": [
        "Let's tokenize."
      ],
      "metadata": {
        "id": "DYVVdul2rQjd"
      }
    },
    {
      "cell_type": "code",
      "source": [
        "for tweet in tqdm(lq_json):\n",
        "    # tokenize the tweet text\n",
        "    tweet['tokens'] = spacy_tokenization(tweet['text'])\n",
        "    # tokenize the description as well\n",
        "    tweet['tokens'].extend(spacy_tokenization(tweet['description'])) \n",
        "\n",
        "    # the following code gets rid of links and non-alphabet terms\n",
        "    token = 0\n",
        "    while token < len(tweet['tokens']):\n",
        "      if tweet['tokens'][token].isalpha() == False:\n",
        "          del tweet['tokens'][token]\n",
        "      else:\n",
        "        token += 1"
      ],
      "metadata": {
        "colab": {
          "base_uri": "https://localhost:8080/"
        },
        "id": "6QdC2icarFtK",
        "outputId": "408cf260-fc66-4ac0-a773-7cac5b66be41"
      },
      "execution_count": null,
      "outputs": [
        {
          "output_type": "stream",
          "name": "stderr",
          "text": [
            "100%|██████████| 1222/1222 [00:33<00:00, 36.90it/s]\n"
          ]
        }
      ]
    },
    {
      "cell_type": "markdown",
      "source": [
        "Let's look at the average quality score for the LQ tweets. This will be useful in our weighting scheme.\n"
      ],
      "metadata": {
        "id": "niQMjNxWUVJf"
      }
    },
    {
      "cell_type": "code",
      "source": [
        "sum = 0\n",
        "for tweet in lq_json:\n",
        "  sum += tweet['qualityS']\n",
        "\n",
        "avg_lq_qs = round(sum/len(lq_json), 3)\n",
        "print(\"Avg. LQ Qual. Score: \" + str(avg_lq_qs))"
      ],
      "metadata": {
        "colab": {
          "base_uri": "https://localhost:8080/"
        },
        "id": "ZES0jXbyUbZN",
        "outputId": "27590389-d87d-4de7-bc27-af762d931661"
      },
      "execution_count": null,
      "outputs": [
        {
          "output_type": "stream",
          "name": "stdout",
          "text": [
            "Avg. LQ Qual. Score: 0.421\n"
          ]
        }
      ]
    },
    {
      "cell_type": "markdown",
      "source": [
        "As you can see, the average low quality tweet deviates less from the \"average\" tweet (qs=0.5) than the average high quality tweet does. A value of 0.42 is only .08 below 0.5. Note that the average HQ tweet has a score of 0.62 which is 0.12 above random."
      ],
      "metadata": {
        "id": "kyT93mTFW831"
      }
    },
    {
      "cell_type": "markdown",
      "source": [
        "We are going to re-score the low quality tweets so that the average low quality tweet score is matched up with the average high quality tweet score. This will ensure a fair scoring method. The goal is for the average low quality tweet to have a score of 0.375 (or 0.421 / 1.123). So we will scale all of the LQ tweet quality scores as such."
      ],
      "metadata": {
        "id": "1YBNgEssXSY5"
      }
    },
    {
      "cell_type": "code",
      "source": [
        "for tweet in lq_json:\n",
        "  # rescore low quality tweets with scalar\n",
        "  tweet['qualityS'] = tweet['qualityS'] / 1.123"
      ],
      "metadata": {
        "id": "gHtguS3oXeBZ"
      },
      "execution_count": null,
      "outputs": []
    },
    {
      "cell_type": "markdown",
      "source": [
        "Now let's look at the new LQ average quality score."
      ],
      "metadata": {
        "id": "OgOZz7uUX8U7"
      }
    },
    {
      "cell_type": "code",
      "source": [
        "sum = 0\n",
        "for tweet in lq_json:\n",
        "  sum += tweet['qualityS']\n",
        "\n",
        "avg_lq_qs = round(sum/len(lq_json), 3)\n",
        "print(\"Avg. LQ Qual. Score: \" + str(avg_lq_qs))"
      ],
      "metadata": {
        "colab": {
          "base_uri": "https://localhost:8080/"
        },
        "id": "1_2SEIWyX-6b",
        "outputId": "8a1b268c-1545-4d76-cc0f-3fd390ef6428"
      },
      "execution_count": null,
      "outputs": [
        {
          "output_type": "stream",
          "name": "stdout",
          "text": [
            "Avg. LQ Qual. Score: 0.375\n"
          ]
        }
      ]
    },
    {
      "cell_type": "markdown",
      "source": [
        "Since we scaled all of the quality scores, the average is now 0.375 which creates a fair comparison between HQ and LQ term frequencies."
      ],
      "metadata": {
        "id": "dPff3l0Vf3PX"
      }
    },
    {
      "cell_type": "markdown",
      "source": [
        "And now let's count the frequencies for the LQ set."
      ],
      "metadata": {
        "id": "yRjvzgXprPOi"
      }
    },
    {
      "cell_type": "code",
      "source": [
        "# will hold dictionary of term frequencies in low quality collection\n",
        "lq_json_tf = {}\n",
        "# will hold total term frequency\n",
        "lq_total_terms = 0\n",
        "# iterate through low quality tweets\n",
        "for tweet in lq_json:\n",
        "  # count term frequencies in tweet\n",
        "  counts = Counter(tweet['tokens'])\n",
        "  # iterate thru term frequencies\n",
        "  for key, item in counts.items():\n",
        "    # due to punctuation that spacy doesn't understand\n",
        "    # some stopwords remain, this causes them not to be added to the dict\n",
        "    if key in stops:\n",
        "      pass\n",
        "    # if key is already in term freq dictionary, increment\n",
        "    elif key in lq_json_tf:\n",
        "      # terms are weighted by the one minus tweet quality score (see HQ TF for explanation)\n",
        "      # NOTE: It is one minus the QS because LQ weights are compared in relation\n",
        "      #       to the BG weights. If LQ has qualityS of 0.40 and BG has score of 0.55, LQ\n",
        "      #       should be weighted 0.60 so that it is weighted more than BG. If it was weighted as 0.40,\n",
        "      #       LQ terms would be at a loss against BG terms, and rarely have high relative importances.\n",
        "      lq_json_tf[key] += (item * (1-tweet['qualityS']))\n",
        "      # increment total terms\n",
        "      lq_total_terms += (item * (1-tweet['qualityS']))\n",
        "    # else, make new key\n",
        "    else:\n",
        "      # +0.5 is for smoothing\n",
        "      lq_json_tf[key] = (item * (1-tweet['qualityS'])) + 0.5\n",
        "      lq_total_terms += (item * (1-tweet['qualityS'])) + 0.5"
      ],
      "metadata": {
        "id": "LycNY3djrSoM"
      },
      "execution_count": null,
      "outputs": []
    },
    {
      "cell_type": "code",
      "source": [
        "print(lq_total_terms)\n",
        "print(lq_json_tf)"
      ],
      "metadata": {
        "colab": {
          "base_uri": "https://localhost:8080/"
        },
        "id": "cC1WmZhnraOY",
        "outputId": "0773ff65-f48a-4bd4-88aa-0780db75e8cc"
      },
      "execution_count": null,
      "outputs": [
        {
          "output_type": "stream",
          "name": "stdout",
          "text": [
            "12321.878079369713\n",
            "{'fool': 9.974895611699202, 'thousand': 6.883387197975451, 'time': 27.398154538596373, 'atheist': 8.719732005712181, 'human': 11.773093215134207, 'physician': 8.719732005712181, 'imam': 371.72571088705365, 'nasser': 404.35816882549904, 'mohammed': 439.49327210104786, 'al': 413.7552564356, 'yamani': 386.77773549660094, 'almahdicaliphofallah': 359.82600600615143, 'طب': 69.93610808946622, 'عام': 24.954565477840255, 'good': 30.68778953471627, 'morning': 1.127126114214271, 'lovely': 1.7576278228548934, 'people': 51.07452526120597, 'god': 3.604015871190194, 'countdown': 1.127126114214271, 'continue': 1.127126114214271, 'week': 2.9797817657287125, 'ready': 1.7182909319939517, 'tcncentrallondon': 1.127126114214271, 'tcnlondon': 1.127126114214271, 'thecovenantnation': 1.127126114214271, 'churchinlondon': 1.127126114214271, 'church': 1.127126114214271, 'eventsinlondon': 1.127126114214271, 'pojuoyemade': 1.127126114214271, 'pastorpoju': 1.127126114214271, 'post': 244.82323203577386, 'photo': 230.81823097245612, 'london': 346.76519458878283, 'united': 257.12091575593865, 'kingdom': 279.91572169929003, 'addition': 15.571163550014838, 'allaah': 203.52311564612648, 'awaken': 24.349040269120408, 'bin': 40.651032829323256, 'salman': 40.651032829323256, 'let': 42.89507892099877, 'speak': 34.41877586508505, 'video': 52.94427469317024, 'world': 57.923532882399535, 'ad': 161.6556984780791, 'طبيب': 176.47832908622863, 'rule': 6.738207985189699, 'aboshanab': 13.104662168617804, 'amp': 6.54647660698651, 'partners': 4.142684355183442, 'international': 8.905628836145338, 'law': 9.588022031847208, 'remote': 4.142684355183442, 'firm': 7.903696399327703, 'tie': 3.5270842459408884, 'reach': 4.240053836421539, 'aboshanabpartners': 1.7089791922569573, 'aboshanablaw': 2.3028883180988213, 'lawwithouttie': 4.736593481025306, 'challenger': 2.9337051629264845, 'founding': 2.9337051629264845, 'partner': 6.648049735262335, 'despicable': 3.635320918629679, 'dragon': 3.635320918629679, 'xi': 4.933983975615991, 'jinping': 4.933983975615991, 'president': 16.197652277029675, 'china': 8.692730257541642, 'disobey': 3.635320918629679, 'order': 33.747559840879205, 'caliph': 35.71689846009908, 'past': 2.3458539604916635, 'solo': 1.0915290828364208, 'artist': 13.986803460991514, 'fragmented': 1.0915290828364208, 'personage': 1.0915290828364208, 'baby': 1.0915290828364208, 'step': 2.3517576114485084, 'nft': 7.173243475109851, 'galerie': 1.0915290828364208, 'le': 1.690816705276314, 'royer': 1.0915290828364208, 'montreal': 1.0915290828364208, 'artleadher': 1.0915290828364208, 'drink': 1.0912160930673374, 'millions': 1.0912160930673374, 'peaches': 1.0912160930673374, 'craven': 1.725100633745242, 'cottage': 1.725100633745242, 'tudo': 1.725100633745242, 'sobre': 1.725100633745242, 'west': 4.145680147970538, 'ham': 1.725100633745242, 'instagram': 10.379945136542128, 'happy': 5.383526350639196, 'weekend': 2.937437269266388, 'harbour': 23.722994003585864, 'woman': 26.865163041472297, 'regain': 23.722994003585864, 'beauty': 26.247294127396227, 'con': 23.722994003585864, 'states': 1.095416542990007, 'hawaii': 1.095416542990007, 'island': 1.095416542990007, 'know': 61.32850953595112, 'almighty': 10.658928041385744, 'wise': 10.658928041385744, 'achieve': 12.528857632597616, 'purpose': 12.528857632597616, 'mahdi': 46.47960815732763, 'reply': 11.811717528064872, 'say': 10.499704977693668, 'daddy': 1.0958539678076165, 'wizkid': 14.835149732753356, 'black': 11.937097534968725, 'xcellencee': 10.71621188323977, 'promote': 43.478196052334454, 'afrobeat': 47.871940336736415, 'ig': 27.242595453402352, 'photographer': 20.996932491480074, 'sponsored': 13.824538395691848, 'جن': 1.1031463342238053, 'کے': 1.7062926684476105, 'آنے': 1.1031463342238053, 'سے': 1.1031463342238053, 'روشن': 1.1031463342238053, 'ہوۓ': 1.1031463342238053, 'دو': 1.1031463342238053, 'جہا': 1.1031463342238053, 'ان': 1.1031463342238053, 'قدموں': 1.1031463342238053, 'کی': 1.1031463342238053, 'برکت': 1.1031463342238053, 'پہ': 1.1031463342238053, 'لاکھوں': 1.1031463342238053, 'سلام': 1.1031463342238053, 'hardwork': 5.42591298046059, 'dedication': 4.761377563476375, 'love': 23.330257511126636, 'thoughtful': 4.761377563476375, 'business': 16.295904908856713, 'base': 17.006854633396056, 'uk': 29.61960399003959, 'excellent': 4.761377563476375, 'craftsmanship': 4.761377563476375, 'follow': 18.98129544322018, 'new': 18.92456147652051, 'page': 12.099898542144803, 'green': 12.2367395600209, 'planet': 9.125079590960459, 'polish': 1.6905362619966358, 'royal': 7.9051420063329925, 'bathroom': 1.6905362619966358, 'tour': 9.430164244446981, 'repent': 3.6585083089206365, 'lord': 40.882576494887516, 'listen': 12.452077112911363, 'intelligence': 3.0975516518704413, 'dweller': 3.0975516518704413, 'blaze': 3.0975516518704413, 'fire': 8.137112961244753, 'مجال': 31.378394668165868, 'التمريض': 28.08661335119968, 'torment': 37.55442515047028, 'whomever': 14.299484644736108, 'forgive': 7.399742322368055, 'turn': 14.404206160436393, 'final': 3.0169629655660377, 'manuscript': 1.0907661646753366, 'thedemagoguewar': 1.0907661646753366, 'formatting': 1.0907661646753366, 'print': 1.6841987456413103, 'celebrate': 7.7654935703800145, 'multiple': 1.0907661646753366, 'act': 6.144992361006418, 'map': 1.0907661646753366, 'cheer': 1.0907661646753366, 'europe': 2.355117864643571, 'author': 3.517659187809631, 'fiction': 1.0907661646753366, 'military': 3.599415919985822, 'scifi': 1.0907661646753366, 'futurist': 1.0907661646753366, 'althistory': 1.0907661646753366, 'whatif': 1.0907661646753366, 'combat': 1.0907661646753366, 'action': 1.740329787400549, 'political': 1.0907661646753366, 'thrillers': 1.0907661646753366, 'army': 1.0907661646753366, 'usaf': 1.0907661646753366, 'vet': 1.0907661646753366, 'lssmbb': 1.0907661646753366, 'coharie': 1.0907661646753366, 'nc': 1.0907661646753366, 'native': 1.718379731765536, 'put': 8.047711601251228, 'end': 5.499946755100865, 'corona': 8.02495852698946, 'zero': 3.6243088309158984, 'death': 23.1211562668228, 'case': 4.262402520305459, 'long': 4.217389062831164, 'ago': 4.198084883636976, 'murvellous': 6.659597815465558, 'contemporary': 8.490838359458598, 'british': 7.252814712508281, 'work': 18.75207276728338, 'centre': 9.688088334755333, 'music': 10.32612953921938, 'rave': 12.246174834808984, 'culture': 10.93880290184123, 'afraid': 6.2771654032109785, 'elaborate': 10.061675434706496, 'fabrication': 18.19157169707748, 'away': 6.26646399914359, 'sign': 8.135844239269892, 'verification': 5.650084262327522, 'في': 2.381516697112206, 'model': 14.703150421132973, 'influencer': 12.799444626704783, 'like': 53.632886598465014, 'today': 4.732367081320777, 'harvest': 2.2862496289700207, 'lisboeta': 2.2862496289700207, 'fight': 10.508150652329672, 'far': 18.00577724562535, 'truth': 13.721580946816399, 'نفسي': 7.398844008868261, 'mr': 2.3490376474032004, 'andretti': 1.68738165226546, 'well': 7.232576901493381, 'mind': 14.84427354453421, 'game': 1.7431150637136907, 'run': 5.451635770655478, 'patience': 1.09369082613273, 'bck': 1.09369082613273, 'bstard': 1.09369082613273, 'secret': 2.9309689654929176, 'child': 2.975300460191162, 'existence': 1.6869077231754523, 'major': 1.09369082613273, 'controversy': 1.09369082613273, 'mario': 1.09369082613273, 'dirty': 1.09369082613273, 'supporter': 5.69608880629439, 'الطب': 5.695540198269688, 'arrogant': 3.635812194138107, 'one': 3.635812194138107, 'way': 14.157373672733671, 'right': 11.071052679794684, 'guidance': 6.121463018594786, 'adopt': 3.635812194138107, 'eo': 3.635812194138107, 'hew': 1.0945581689413018, 'locke': 1.0945581689413018, 'favourite': 2.9493778676642632, 'hayward': 1.0945581689413018, 'gallery': 1.0945581689413018, 'southbank': 1.0945581689413018, 'try': 4.693816333253936, 'heal': 3.499969205653236, 'medicine': 2.8915535447231626, 'get': 4.104663379276402, 'habit': 2.2981283710281106, 'art': 8.933043511483877, 'calm': 1.1273622242010488, 'rema': 2.3824577025823688, 'officially': 1.1273622242010488, 'certify': 1.1273622242010488, 'gold': 2.364357416315283, 'usa': 2.961968475770791, 'mavinrecord': 1.1273622242010488, 'calmdown': 1.1273622242010488, 'swear': 2.331907678746503, 'earth': 4.929459330616944, 'heaven': 2.331907678746503, 'perfect': 7.7930450942411165, 'light': 4.138121472483442, 'servant': 9.844345053383345, 'ممرضه': 45.59124791409759, 'urgent': 3.61291568279115, 'news': 17.27587947429025, 'great': 17.923900478248783, 'global': 7.973554021956158, 'calamity': 6.748931739555203, 'accord': 11.160409713412273, 'official': 6.155070873278664, 'mecca': 3.61291568279115, 'mother': 3.61291568279115, 'towns': 3.61291568279115, 'galvin': 1.6908330859800138, 'la': 3.517317471112688, 'chapelle': 1.6908330859800138, 'french': 2.952361731758513, 'restaurant': 2.881031407957624, 'tomorrow': 2.999158998713763, 'insolent': 2.999158998713763, 'go': 4.8798397628752666, 'astray': 3.0309115540638247, 'leave': 5.505686669883531, 'heart': 3.0309115540638247, 'stray': 3.0309115540638247, 'pride': 3.0309115540638247, 'hope': 9.233441737705293, 'saudi': 12.413591866888607, 'crown': 9.278009625366785, 'prince': 28.734902469841185, 'wake': 4.262080071592172, 'clinical': 13.039956790697744, 'happen': 11.142824708116878, 'مساعد': 45.66330825095242, 'statement': 8.607650339173045, 'publish': 5.471634282408992, 'google': 5.471634282408992, 'different': 7.980008471687164, 'social': 6.690787072160721, 'medium': 5.471634282408992, 'platform': 6.709161985161422, 'birthday': 6.703090296468293, 'want': 17.211825933094783, 'learn': 2.3128682631589337, 'government': 8.643709354586349, 'function': 1.7333353191713068, 'upcoming': 1.115998715566718, 'podcast': 6.606434529647802, 'mohamed': 1.115998715566718, 'nomoretie': 13.05462356759653, 'building': 2.3421771815820716, 'bridges': 2.3035110097024676, 'east': 2.3035110097024676, 'buildinginpublic': 1.710001331597954, 'askmeanything': 1.710001331597954, 'meditation': 1.7325336292969573, 'goal': 5.985202743911689, 'moetchandon': 1.1162668146484787, 'thinker': 4.759021947570385, 'sole': 4.142440895923485, 'help': 20.326688980040085, 'kind': 5.411555818597954, 'place': 5.362183194003883, 'create': 10.27546320496708, 'evolve': 4.736376691996414, 'thinking': 4.142440895923485, 'process': 4.769522036806942, 'oh': 4.748717687739427, 'sail': 4.142440895923485, 'inflation': 8.473806809233531, 'currently': 1.0729107639169972, 'sit': 1.0729107639169972, 'psm': 1.0729107639169972, 'estates': 1.0729107639169972, 'specialise': 2.312495785318249, 'residential': 1.0729107639169972, 'sale': 5.488172582520036, 'letting': 1.0729107639169972, 'property': 2.2544369741374943, 'management': 2.30755449330577, 'year': 16.586291130463078, 'experience': 17.34411705396918, 'real': 8.31445778968861, 'estate': 1.6815262102204973, 'priority': 1.744882207927622, '𝗟𝗼𝘀𝗲': 1.6680657828112264, '𝗪𝗲𝗶𝗴𝗵𝘁': 1.6680657828112264, '𝗣𝗲𝗿': 1.0840328914056132, '𝗪𝗲𝗲𝗸': 1.0840328914056132, '𝗣𝗼𝘀𝘀𝗶𝗯𝗹𝗲': 1.0840328914056132, '𝗖𝗵𝗲𝗰𝗸': 1.0840328914056132, '𝗛𝗼𝘄': 1.0840328914056132, '𝗧𝗼': 1.0840328914056132, '𝗟𝗲𝗮𝗿𝗻': 1.0840328914056132, '𝗠𝗼𝗿𝗲': 1.0840328914056132, 'ties': 6.487055234871097, 'davido': 11.01347141618419, 'essential': 1.1278816661719602, 'popularity': 1.1719714440106248, 'sick': 6.08657701934343, 'hear': 10.499429979813016, 'believe': 23.768984516456104, 'worldwide': 11.797205563385132, 'start': 3.6241195875562857, 'calligraphy': 3.0296246249051233, 'journey': 4.284285450169867, 'pen': 9.662556204373235, 'paper': 3.0296246249051233, 'magic': 3.0296246249051233, 'roman': 3.0296246249051233, 'italic': 3.0296246249051233, 'gothic': 3.0296246249051233, 'etc': 4.277272334009678, 'coffee': 1.132675313417686, 'write': 1.132675313417686, 'addicted': 1.132675313417686, 'girl': 2.9708059440805656, 'lingerie': 1.7964848032407752, 'store': 1.7988354279538608, 'provide': 2.98190413917108, 'ultimate': 1.759363567061644, 'intimacy': 1.1440699895731061, 'deliver': 3.54047666596804, 'door': 1.1440699895731061, 'questioner': 21.889297438964277, 'مساعدة': 25.400296486716623, 'thank': 12.203599939573326, 'guy': 2.3191403546772156, 'support': 2.333985799040379, 'follower': 2.9349743293178965, 'followersinstagram': 1.1274324190619827, 'keepsupporte': 1.1274324190619827, 'coco': 1.7547946432630315, 'pillar': 1.7547946432630315, 'obey': 8.026991624401512, 'command': 6.738242610813536, 'odogwu': 1.1283190909895695, 'drip': 1.1283190909895695, 'honda': 1.0947081399306064, 'fireblade': 1.0947081399306064, 'fun': 4.17453757516827, 'safe': 15.495845703664207, 'contact': 4.0843783058459895, 'advanced': 7.166209291229221, 'motorcyclist': 6.549690170070655, 'bikesafe': 6.549690170070655, 'blackrat': 6.549690170070655, 'youniqueasvancedmotorcycle': 6.549690170070655, 'bikecop': 6.549690170070655, 'lying': 6.77013345265362, 'lead': 7.987669899361156, 'voice': 6.77013345265362, 'oxo': 1.7179729525654448, 'tower': 7.979133013831562, 'wharf': 1.7179729525654448, 'caa': 3.53314477787168, 'accredited': 3.53314477787168, 'drone': 3.53314477787168, 'pilot': 3.53314477787168, 'dm': 21.42933721333704, 'collab': 3.53314477787168, 'trial': 3.0086497553104854, 'owner': 3.0086497553104854, 'bisht': 3.0086497553104854, 'wear': 3.0086497553104854, 'uniform': 3.0086497553104854, 'arrival': 1.1493879129676103, 'saqar': 1.1493879129676103, 'line': 6.156044105919525, 'word': 6.793777213189502, 'exalted': 5.539524984760961, 'caller': 5.628934684589181, 'ممرض': 14.946538599324835, 'england': 10.844627326114042, 'perspective': 1.6834600543416216, 'current': 1.6834600543416216, 'event': 2.90762042102281, 'sense': 4.179905233778786, 'peaky': 4.85321694685159, 'blinders': 4.85321694685159, 'subscribe': 5.480579171052638, 'tube': 5.461902588016024, 'channel': 7.912398501392808, 'arrogance': 4.89013707179335, 'blind': 5.539913871798006, 'insight': 4.89013707179335, 'safety': 7.355807626436278, 'saud': 11.788167058898358, 'arab': 6.144828902175295, 'hijaz': 6.144828902175295, 'congratulation': 2.9766723357445892, 'come': 17.74288117812589, 'office': 1.6870174339889, 'build': 2.9062836764164754, 'lifestyle': 1.7023604836476154, 'buildinpublic': 1.7023604836476154, 'towerbridge': 1.1035837590414148, 'bridge': 5.488134152876755, 'gostosa': 3.5181741599701013, 'futil': 3.5181741599701013, 'bitter': 13.668347858244658, 'injustice': 13.668347858244658, 'glorified': 13.668347858244658, 'house': 19.28120443457849, 'guess': 1.691707935615233, 'comprehend': 4.951594858095302, 'grasp': 4.951594858095302, 'worldsimam': 4.951594858095302, 'sony': 3.596436825531195, 'dsc': 1.1059883131094306, 'zoom': 1.1059883131094306, 'town': 1.1059883131094306, 'canon': 2.339278450190734, 'shelf': 1.1059883131094306, 'filler': 1.1059883131094306, 'understand': 16.14543519696937, 'camera': 1.7405457744466641, 'shelfdecor': 1.1059883131094306, 'lens': 1.1059883131094306, 'film': 4.742533502314501, 'performer': 4.166628701033908, 'tv': 4.801858146644987, 'commercial': 3.501987727867837, 'maker': 10.43557606376616, 'coin': 2.907865424746529, 'content': 2.907865424746529, 'imdb': 3.501987727867837, 'cain': 3.501987727867837, 'aiden': 3.501987727867837, 'strive': 3.6375750062565833, 'diligently': 3.6375750062565833, 'g': 6.147383597175207, 'طبيبة': 5.518010556987471, 'whatsapp': 7.741434103604023, 'banknote': 7.132931579468112, 'clone': 7.132931579468112, 'note': 7.132931579468112, 'uv': 7.132931579468112, 'check': 8.38698883983578, 'self': 7.741798368660762, 'service': 10.7571522629998, 'machine': 7.132931579468112, 'dumb': 31.312096575495097, 'deaf': 20.6509526338525, 'transmit': 11.161143941642603, 'shame': 11.161143941642603, 'fabricate': 11.161143941642603, 'rare': 1.1278816661719602, 'gem': 1.1278816661719602, 'expect': 3.635320918629679, 'viral': 4.26252412998249, 'mutation': 3.635320918629679, 'shall': 11.129186228085024, 'coexist': 6.772132039634922, 'destroy': 5.539561309374311, 'join': 14.197492067498379, 'wicked': 5.539561309374311, 'heap': 5.539561309374311, 'peace': 6.143662807954882, 'messenger': 5.516300583753833, 'praise': 5.516300583753833, 'unιted': 23.890222486341536, 'st': 2.933016721084397, 'giles': 1.099287622439893, 'field': 1.099287622439893, 'knowledge': 8.602883234273905, 'power': 6.538521931483689, 'practice': 1.7048542137589333, 'make': 3.564149733955601, 'life': 15.330743371931764, 'offer': 4.902569170942508, 'sell': 1.7091847995677028, 'clothe': 2.3026173805336763, 'low': 1.1045923997838514, 'price': 1.1045923997838514, 'market': 1.6997982149362383, 'online': 4.788838195630874, 'unfollow': 1.1271624388276213, 'tems': 1.1271624388276213, 'maybe': 1.1271624388276213, 'popsy': 2.382966247169275, 'need': 3.560220077406482, 'fresh': 2.3819570820906533, 'air': 1.1271624388276213, 'tem': 1.7548956930078925, 'nigerian': 1.6691768886313574, 'food': 17.851117324725777, 'plug': 1.0845884443156786, 'yummy': 1.0845884443156786, 'dish': 1.0845884443156786, 'nationwide': 1.0845884443156786, 'choose': 7.36619374240758, 'family': 8.009467589837325, 'wevfvvjhh': 3.008812845411242, 'guide': 13.672396689362118, 'ophik': 2.398105637091219, 'shop': 3.0221523945252478, 'purchase': 3.0282586520055492, 'appliance': 2.398105637091219, 'fashion': 4.94164807068173, 'toy': 2.398105637091219, 'certainty': 5.515929553774612, 'highness': 5.515929553774612, 'king': 10.413820065005744, 'abdul': 23.78361496509008, 'aziz': 5.515929553774612, 'dead': 5.515929553774612, 'son': 6.110285131281523, 'yield': 2.996445179437165, 'fate': 2.996445179437165, 'pre': 3.5916509945895516, 'destiny': 2.996445179437165, 'choice': 5.492727268773573, 'natural': 1.724033741870386, 'hair': 7.1597066885682015, 'quality': 6.768427511676206, 'guarantee': 1.1085025241359105, 'delivery': 15.95234897538725, 'connect': 4.132754523671197, 'team': 7.898008232087044, 'motor': 2.353262332509993, 'vehicles': 2.3354876892219654, 'compulsory': 1.1177541108366642, 'insurance': 3.5618731411156164, 'insurer': 1.1177541108366642, 'able': 1.7128039889060278, 'reject': 1.1177541108366642, 'claim': 7.399680357144032, 'result': 1.1177541108366642, 'use': 9.258498149621666, 'vehicle': 1.1177541108366642, 'private': 1.7014752123437713, 'land': 1.1177541108366642, 'info': 1.1177541108366642, 'explain': 4.253075029466343, 'legislation': 1.1177541108366642, 'remind': 6.13426758064415, 'employer': 1.1177541108366642, 'review': 12.151082079634522, 'cover': 1.7123796685779364, 'fleet': 1.7055690957611302, 'becks': 2.944119030278952, 'focus': 2.944119030278952, 'broker': 2.944119030278952, 'brighton': 5.405101991283514, 'cash': 1.125149157651384, 'furniture': 3.655744855140272, 'inbox': 1.125149157651384, 'comfortable': 1.125149157651384, 'stylish': 1.125149157651384, 'relax': 1.125149157651384, 'seller': 3.030595697488888, 'silent': 6.8547419658830835, 'eye': 9.286621179799301, 'viewer': 6.8547419658830835, 'fattah': 18.767685411315473, 'el': 18.767685411315473, 'sisi': 18.767685411315473, 'certainly': 10.617607625008763, 'حساب': 1.1309474399177732, 'مهتم': 1.1309474399177732, 'بالعطور': 1.1309474399177732, 'المميزة': 1.1309474399177732, 'جميع': 1.1309474399177732, 'الاراء': 1.1309474399177732, 'شخصية': 1.1309474399177732, 'كل': 1.1309474399177732, 'ما': 1.1309474399177732, 'يجذبني': 1.1309474399177732, 'من': 1.1309474399177732, 'عطور': 1.1309474399177732, 'عالمية': 1.1309474399177732, 'برعاية': 1.1309474399177732, 'sponsor': 4.286903381809725, 'taste': 7.33457009993074, 'degree': 3.008150291876917, 'moment': 3.618563806541263, 'ozhaegjhhg': 3.635320918629679, 'poet': 3.561746041780723, 'writer': 4.763424341027387, 'graphic': 3.528844427793437, 'designer': 4.188701645976568, 'daughter': 2.9435629467551516, 'lover': 7.27396550958494, 'seventeen': 5.49339516156715, 'decision': 8.027710639019633, 'arachnophobe': 1.7643516999682345, 'keeper': 1.7643516999682345, 'tarantula': 1.7643516999682345, 'cat': 1.7615286457784993, 'book': 7.381585645297087, 'italian': 3.023057291556999, 'swimming': 1.7615286457784993, 'bilingual': 1.7615286457784993, 'tutor': 1.7615286457784993, 'pro': 1.7615286457784993, 'crash': 1.7615286457784993, 'session': 2.345249747285606, 'level': 14.14764111579624, 'academics': 1.7615286457784993, 'train': 2.8933745226387257, 'corporate': 2.885794910206041, 'executive': 2.848985803839304, 'client': 2.849784817928046, 'fat': 2.885794910206041, 'loss': 3.4940588544239617, 'strength': 2.885794910206041, 'yoga': 2.885794910206041, 'mislead': 3.0975516518704413, 'disobedient': 3.0975516518704413, 'break': 3.0975516518704413, 'covenant': 3.0975516518704413, 'allah': 7.6433760164837645, 'ratify': 3.0975516518704413, 'sever': 3.0975516518704413, 'cause': 4.968462029084423, 'corruption': 3.0975516518704413, 'drop': 5.447286535014851, 'femikuti': 1.1275150012513167, 'fela': 1.1275150012513167, 'furthermore': 8.652216115154058, 'wait': 9.279419326506869, 'dignity': 8.652216115154058, 'caliphate': 8.652216115154058, 'doorstep': 8.652216115154058, 'answer': 8.653641747586537, 'question': 8.653641747586537, 'originally': 2.3816096340584316, 'preserved': 2.3816096340584316, 'tablet': 2.3816096340584316, 'pmkvoo': 3.0748643362178534, 'professional': 2.3685833766376425, 'aim': 1.7532897991491045, 'introduce': 1.7532897991491045, 'unique': 2.977500351896987, 'design': 6.768825795685423, 'tshirt': 1.7532897991491045, 'anti': 4.252868583745122, 'beautiful': 3.59049326281568, 'autumn': 1.7107439603980619, 'filter': 1.0938566039034505, 'locally': 1.0938566039034505, 'source': 1.0938566039034505, 'ethical': 1.0938566039034505, 'flower': 2.303304825770552, 'brewdog': 1.0938566039034505, 'waterloo': 1.0938566039034505, 'proceed': 1.0938566039034505, 'community': 5.398898910117431, 'project': 1.7025422450678844, 'supply': 2.3629715265779176, 'enquire': 1.7188309172125813, 'disdain': 2.448272712742882, 'set': 4.352360998496764, 'forth': 2.448272712742882, 'example': 2.448272712742882, 'somewhat': 2.448272712742882, 'gnat': 4.3298823468013135, 'custodian': 1.1276135670901994, 'indigenous': 1.1276135670901994, 'rap': 2.382720461778572, 'olamide': 1.755128568341516, 'badoo': 1.1276135670901994, 'special': 4.2750871670675785, 'handmade': 4.272041269796289, 'girls': 3.656241375180308, 'dresses': 3.656241375180308, 'ship': 3.656241375180308, 'barons': 6.5296243463732795, 'court': 6.5296243463732795, 'theatre': 7.704308012475904, 'regular': 4.1306120678026215, 'butcher': 4.703959208150307, 'distinction': 4.703959208150307, 'rob': 4.703959208150307, 'hayes': 4.703959208150307, 'november': 4.680867521809995, 'warn': 3.6360160567640527, 'less': 6.794293912281445, 'pour': 3.6360160567640527, 'flood': 3.6360160567640527, 'tsunamis': 3.6360160567640527, 'sweet': 1.1509226278816662, 'babe': 1.1509226278816662, 'finance': 7.900896045316534, 'beat': 8.494181833867335, 'change': 11.627404034342632, 'million': 10.397032836199541, 'watch': 9.145479551090679, 'youtube': 12.17639400522027, 'singing': 2.936539553097645, 'song': 4.1916464477860185, 'sprout': 2.936539553097645, 'lyric': 2.936539553097645, 'single': 3.5464536043284225, 'headspace': 1.1091348882744112, 'health': 2.32609149278186, 'medical': 2.3187962104784305, 'tourism': 1.7175364467075358, 'dental': 1.7175364467075358, 'treatments': 1.7175364467075358, 'transplantation': 1.7175364467075358, 'cosmetic': 1.7175364467075358, 'surgery': 1.7175364467075358, 'lukes': 1.142883644998516, 'peckham': 1.785767289997032, 'send': 2.2923480270061747, 'wimbledon': 3.4390749246223313, 'common': 4.03301072069526, 'طبيبه': 2.381320519788908, 'mei': 1.1719714440106248, 'تمريض': 8.292966963927237, 'teacher': 15.077215525672917, 'improve': 13.883728980191801, 'english': 26.03441971806647, 'mahi': 13.267209859033237, 'sharma': 13.898338446979226, 'daily': 17.780207784917938, 'story': 14.494610696994831, 'newproject': 1.7217892808140625, 'newsetupnow': 1.0947081399306064, 'transform': 1.0947081399306064, 'brand': 4.123695037734311, 'vision': 1.0947081399306064, 'reality': 1.6881407208965802, 'meaningful': 1.0947081399306064, 'optimum': 1.0947081399306064, 'return': 2.349033017585849, 'escape': 3.7474323161148044, 'rapidity': 3.0980444031471945, 'destruction': 3.0980444031471945, 'qnpdeahgi': 3.0980444031471945, 'mistaken': 2.996445179437165, 'veracious': 5.527704186324342, 'iz': 2.996445179437165, 'q': 2.996445179437165, 'knn': 2.996445179437165, 'datingrelationshipslifeandstyle': 1.149776800004656, 'date': 7.288243779267231, 'think': 2.9685992616011516, 'punch': 1.149776800004656, 'weight': 3.027155666897044, 'guardian': 2.449215788573407, 'small': 11.533327968797858, 'press': 11.533327968797858, 'embassy': 1.7233272898900682, 'gardens': 1.7233272898900682, 'react': 1.1280705541613822, 'bisexual': 1.7451588437158934, 'autistic': 1.1611259523102802, 'female': 1.810749975264668, 'exciting': 1.116362980623458, 'ahead': 1.116362980623458, 'switch': 1.116362980623458, 'car': 2.943575687152081, 'demand': 1.116362980623458, 'efficient': 1.7102128196044264, 'rental': 1.7102128196044264, 'pick': 2.337645238666409, 'location': 3.5370644588752773, 'televisionkeeleyhawestelevisionradioculture': 1.1495636227252124, 'gun': 1.7659433595412803, 'gruelle': 1.1495636227252124, 'keeley': 1.1495636227252124, 'hawes': 1.1495636227252124, 'hero': 1.1495636227252124, 'fkirky': 2.3817479061003786, 'message': 1.1275150012513167, 'supper': 1.1275150012513167, 'violence': 1.1275150012513167, 'season': 1.1275150012513167, 'share': 5.41929873761596, 'randomly': 1.739261228385685, 'happybirthday': 1.0920818296855228, 'happybirthdaytome': 1.0920818296855228, 'enjoylife': 1.0920818296855228, 'livingthedream': 1.0920818296855228, 'loveislove': 1.0920818296855228, 'sky': 1.7342852530554644, 'garden': 1.6956655887269376, 'floor': 2.2931724013290262, 'samet': 1.0920818296855228, 'zili': 1.0920818296855228, 'resmi': 1.0920818296855228, 'twitter': 3.5285357069051857, 'hesabıdır': 1.0920818296855228, 'refuse': 5.5165662074889585, 'yemen': 3.635187864846146, 'error': 2.986019059792725, 'deny': 4.250867556609165, 'pay': 2.9848915028170904, 'heed': 2.3693802401263007, 'areblockbustertvshowsworthmoney': 1.1499950529336105, 'blockbuster': 1.1499950529336105, 'show': 1.1499950529336105, 'worth': 1.1499950529336105, 'money': 2.370825517066532, 'mail': 3.1017094700257792, 'sir': 3.0560115270999137, 'win': 1.1277332541802711, 'man': 12.987752411516718, 'tired': 2.9845823161559073, 'day': 9.011608007548135, 'cross': 1.746047649056507, 'pass': 1.6894097365927785, 'thyme': 1.0946255577412722, 'alphabet': 1.0946255577412722, 'soup': 1.0946255577412722, 'spelt': 1.0946255577412722, 'tragedy': 1.0946255577412722, 'ra': 1.0946255577412722, 'princess': 1.0946255577412722, 'brazil': 1.6908330859800138, 'recife': 1.6908330859800138, 'poland': 3.4774604909288787, 'lso': 1.1179097060951542, 'parma': 1.1179097060951542, 'records': 1.1179097060951542, 'john': 2.9544913470530343, 'wineglass': 1.1179097060951542, 'concertmaster': 1.1179097060951542, 'colorado': 1.1179097060951542, 'symphony': 1.1179097060951542, 'thomas': 2.9668564931088746, 'shelby': 2.9668564931088746, 'lost': 1.116532513866336, 'forever': 1.116532513866336, 'mankind': 2.996136790883006, 'xvsjdiyy': 2.996136790883006, 'underworld': 1.087109461025096, 'camden': 1.087109461025096, 'metalhead': 1.087109461025096, 'vocalist': 1.087109461025096, 'look': 4.175517803798452, 'band': 1.087109461025096, 'realise': 1.087109461025096, 'potential': 1.6784728232752635, 'animal': 1.087109461025096, 'care': 2.9476232332046584, 'increase': 3.625782784095188, 'intensity': 3.0310746441645815, 'earthquake': 3.0310746441645815, 'richter': 3.0310746441645815, 'scale': 3.0310746441645815, 'londen': 1.7340384432067737, 'engeland': 1.1169699386839456, 'greatbritain': 1.1169699386839456, 'londoneye': 1.7205536977253604, 'sightseeing': 1.1169699386839456, 'toerist': 1.1169699386839456, 'een': 1.7340384432067737, 'foto': 1.7340384432067737, 'de': 7.226508107523827, 'pauzeknop': 1.7340384432067737, 'van': 1.7340384432067737, 'het': 1.7340384432067737, 'leven': 1.7340384432067737, 'pink': 1.1271624388276213, 'taxis': 1.1271624388276213, 'roamingaroundeurope': 1.1271624388276213, 'roameurope': 1.1271624388276213, 'travel': 7.177716175686161, 'traveleurope': 1.7543248776552427, 'eurotrip': 1.1271624388276213, 'europevacation': 1.1271624388276213, 'bestofeurope': 1.1271624388276213, 'londonlife': 1.7542435797110776, 'visitlondon': 1.1271624388276213, 'londoncab': 1.1271624388276213, 'unitedkingdom': 1.1271624388276213, 'room': 1.116449931677002, 'selfie': 1.116449931677002, 'linkinbio': 1.116449931677002, 'pretty': 1.732899863354004, 'kitty': 1.116449931677002, 'feet': 1.116449931677002, 'creator': 4.105459066195716, 'foot': 1.7475785196229918, 'fetish': 1.116449931677002, 'kink': 1.116449931677002, 'friendly': 2.349890855506631, 'tribute': 1.116449931677002, 'eyfs': 2.3100056666396824, 'education': 2.918992142922405, 'consultant': 2.9276840083830287, 'foster': 2.3100056666396824, 'carer': 2.3100056666396824, 'despite': 3.635320918629679, 'grammatical': 3.635320918629679, 'mistake': 3.635320918629679, 'fluently': 3.635320918629679, 'clarify': 3.635320918629679, 'quran': 6.771336975393732, 'pizzaexpress': 1.1116636449450341, 'live': 9.219937229305431, 'controversial': 5.347727801147917, 'jazz': 4.739042159983483, 'singer': 6.013597184380332, 'storyteller': 4.739042159983483, 'puglia': 4.739042159983483, 'curly': 4.739042159983483, 'red': 5.329003345787187, 'discover': 5.3771369537172875, 'handcraft': 1.1066613550795958, 'fine': 3.006532489147032, 'dog': 2.33162102146754, 'coat': 1.1066613550795958, 'harness': 1.1066613550795958, 'exquisite': 2.9379018990726355, 'fabric': 1.1066613550795958, 'matter': 5.492564178672817, 'hand': 13.618084667008395, 'golf': 1.7333162975708787, 'challenge': 1.7333162975708787, 'nah': 1.1166581487854392, 'garbage': 1.1166581487854392, 'shot': 1.7332755250456893, 'sonyalpha': 1.7332755250456893, 'edit': 1.7332755250456893, 'lightroom': 1.7332755250456893, 'golfrange': 1.1166581487854392, 'perfectlyimperfect': 1.1166581487854392, 'sonyohotography': 1.1166581487854392, 'cinematographer': 1.7332755250456893, 'insta': 2.350275411969886, 'favorite': 1.7767317907845515, 'cowboy': 1.1492993717225686, 'boot': 2.3880237832740696, 'bromley': 1.1492993717225686, 'shipping': 1.1492993717225686, 'arrive': 1.1492993717225686, 'christmas': 2.3705114349045857, 'december': 1.1492993717225686, 'lindfield': 1.1158855169188786, 'parent': 2.9183098718000293, 'relevant': 2.9183098718000293, 'resource': 2.9183098718000293, 'local': 2.9183098718000293, 'venue': 4.15396637677647, 'night': 4.745473506621724, 'sussex': 2.9183098718000293, 'illustrate': 3.6360160567640527, 'polytheist': 3.6360160567640527, 'wsooiihhji': 3.6360160567640527, 'short': 5.483296245656835, 'plfyiiuyt': 1.1494650101061499, 'arrogantly': 3.7473250505307494, 'receive': 13.062331358399991, 'loud': 12.412943445432381, 'dankie': 1.1339254436983732, 'sound': 1.7615390107885727, 'hot': 1.1339254436983732, 'dj': 1.7835494666527612, 'capital': 1.7271948626795093, 'spin': 1.1339254436983732, 'big': 3.687465733424631, 'tune': 1.1339254436983732, 'amapiano': 1.1339254436983732, 'afrohouse': 1.1339254436983732, 'rock': 1.7271948626795093, 'sponsorship': 1.0851787192826232, 'promotion': 1.0851787192826232, 'turnstaar': 2.399871134067437, 'young': 2.9950195779756834, 'ambitious': 2.399871134067437, 'high': 3.037965927801241, 'bine': 2.399871134067437, 'lux': 2.399871134067437, 'assortment': 2.399871134067437, 'tailor': 2.399871134067437, 'mindsetsbody': 1.7691149226744671, 'methodology': 1.7691149226744671, 'combine': 1.7691149226744671, 'psychotherapy': 1.7691149226744671, 'movement': 3.0382298453489343, 'lose': 4.826549057875491, 'relationship': 2.4002435106204567, 'paul': 1.1833877510636193, 'cathedral': 1.1833877510636193, 'white': 1.0938214680030196, 'belt': 1.0938214680030196, 'tutorial': 1.0938214680030196, 'informational': 1.0938214680030196, 'underground': 5.389634573883697, 'mma': 7.834451860825545, 'fighter': 2.9448172869418485, 'fighting': 2.9448172869418485, 'bjj': 2.9448172869418485, 'hell': 3.5786121355501117, 'twerk': 2.9448172869418485, 'signature': 2.9448172869418485, 'barry': 2.9448172869418485, 'snooker': 1.730587154977076, 'cloth': 2.3458807324656137, 'technology': 1.7574970008584796, 'exclusive': 1.115293577488538, 'rank': 1.115293577488538, 'playing': 1.115293577488538, 'surface': 1.115293577488538, 'olive': 1.115293577488538, 'plaza': 1.115293577488538, 'pool': 1.115293577488538, 'est': 1.115293577488538, 'une': 1.115293577488538, 'entreprise': 1.115293577488538, 'specialisee': 1.115293577488538, 'dans': 1.115293577488538, 'l': 1.115293577488538, 'equipement': 1.730587154977076, 'des': 1.115293577488538, 'clubs': 1.115293577488538, 'billard': 1.115293577488538, 'et': 2.3458807324656137, 'vente': 1.115293577488538, 'tout': 1.115293577488538, 'materiel': 1.115293577488538, 'lie': 1.115293577488538, 'au': 1.115293577488538, 'cuesport': 1.115293577488538, 'merci': 1.115293577488538, 'merc': 1.115293577488538, 'dear': 1.7691149226744671, 'manufacturer': 2.3604782849246346, 'barbershop': 1.7691149226744671, 'products': 2.995833846245766, 'instruments': 1.7691149226744671, 'bulk': 1.7691149226744671, 'quantity': 1.7691149226744671, 'wholesale': 1.7691149226744671, 'prices': 1.7691149226744671, 'limited': 7.398029020514972, 'limitless': 7.398029020514972, 'truly': 10.510230642020488, 'truthful': 6.132461236201218, 'hyperlapse': 1.0942208689601904, 'reflections': 1.0942208689601904, 'floatilla': 1.6884417379203809, 'illuminate': 1.0942208689601904, 'thames': 1.0942208689601904, 'beginning': 4.9011435698880055, 'j': 2.381378342642813, 'paraguay': 1.6902968878164928, 'iqimpo': 1.6902968878164928, 'hydropower': 1.6902968878164928, 'plant': 1.6902968878164928, 'population': 4.262626417706714, 'frightening': 2.3817479061003786, 'punishment': 2.3817479061003786, 'worship': 2.3817479061003786, 'previous': 2.307603025616336, 'fortaleza': 1.0956054309794292, 'oqobie': 3.0083741892781717, 'dramatic': 5.516513469807486, 'play': 6.132996137521015, 'martyr': 5.516513469807486, 'ali': 8.11421042013133, 'abdullah': 8.11421042013133, 'saleh': 8.11421042013133, 'affash': 5.516513469807486, 'knightsbridge': 2.3589740871575247, 'particular': 1.1249743133091308, 'timepiece': 1.1249743133091308, 'venice': 1.6899345917600592, 'amalfi': 1.6899345917600592, 'coast': 1.6899345917600592, 'italy': 1.6899345917600592, 'positano': 1.6899345917600592, 'city': 8.953412098908077, 'easily': 1.1039254971801722, 'find': 7.425542623097398, 'circa': 1.1039254971801722, 'soho': 1.1039254971801722, 'tweet': 4.720374776024571, 'absolute': 3.517237271718923, 'shite': 3.517237271718923, 'dude': 1.1175299297516572, 'blackxcellence': 1.1175299297516572, 'therapy': 1.094057537833553, 'boyfriend': 1.094057537833553, 'enjoy': 4.686798204054597, 'advertise': 1.094057537833553, 'product': 2.3132270076996018, 'presence': 1.094057537833553, 'attract': 1.094057537833553, 'target': 1.69999966556881, 'audience': 1.094057537833553, 'attribute': 1.094057537833553, 'highlight': 1.094057537833553, 'attention': 1.094057537833553, 'item': 1.8053463281236635, 'add': 3.048632806232833, 'quranic': 1.1089864762827224, 'qualified': 2.3259915245545435, 'staff': 6.127884269891112, 'minecraft': 1.1306410937848739, 'creeper': 1.1306410937848739, 'cake': 7.340218681126495, 'cakephotography': 6.725300809412956, 'chocolatecake': 2.3924151117921957, 'umrahmubarakcake': 1.1306410937848739, 'weddingcake': 2.3917721467971456, 'instacake': 1.7611835749506854, 'bikecake': 1.7612296656313342, 'cakepop': 1.7611428024254963, 'establish': 12.291374381846882, 'collection': 14.694547953717953, 'available': 14.712336593231074, 'enquiry': 12.291374381846882, 'position': 12.291374381846882, 'hygiene': 12.291374381846882, 'certificate': 12.291374381846882, 'sammy': 1.149694217815322, 'guevara': 1.149694217815322, 'match': 1.7991184553962827, 'aew': 3.098418058820782, 'sunday': 3.6590542966322124, 'card': 1.149694217815322, 'wrestling': 1.149694217815322, 'mayfair': 1.13481211562596, 'rakul': 8.70166071125086, 'preet': 8.70166071125086, 'singh': 8.70166071125086, 'die': 9.319570417346014, 'fan': 9.32886392260367, 'ransomware': 1.6878715921458576, 'tactic': 1.0939357960729288, 'important': 1.0939357960729288, 'trend': 2.27611810915991, 'cyber': 2.2810749654026594, 'attack': 1.0939357960729288, 'technique': 1.0939357960729288, 'organisation': 1.0939357960729288, 'threat': 1.0939357960729288, 'protection': 1.0939357960729288, 'entrepreneur': 5.263030438053857, 'security': 3.5908254014065313, 'cyberattack': 1.0939357960729288, 'landscaping': 2.407465123181953, 'gardening': 2.407465123181953, 'services': 3.0163319123746035, 'series': 4.786984285002944, 'blood': 2.3816096340584316, 'adam': 3.0310746441645815, 'digital': 3.556949339187372, 'photography': 2.974005153163973, 'children': 1.1061419131086845, 'requests': 1.1061419131086845, 'welcome': 2.988692144506594, 'emma': 1.1061419131086845, 'tag': 1.7435818168521717, 'artiste': 1.1280705541613822, 'loser': 2.4282429203692737, 'jennifer': 1.1498753658435388, 'lopez': 1.1498753658435388, 'wedding': 1.7335964673506457, 'gown': 1.1498753658435388, 'reveal': 1.7992996034244995, 'merry': 1.6974335980223831, 'prosperous': 1.0938498389809683, 'colour': 2.3556043290946467, 'comment': 1.7433148490871182, 'ghana': 4.891357933432733, 'yesterday': 2.348080431813832, 'ivy': 1.0915578312060947, 'wood': 1.0915578312060947, 'berry': 1.0958539678076165, 'pon': 1.0958539678076165, 'elegant': 1.7313715575359463, 'tier': 1.7314078821492966, 'silhouette': 1.1157473726775673, 'cakebakeoffng': 1.1157473726775673, 'caketrend': 1.1157473726775673, 'cakeinspo': 1.1157473726775673, 'cakeultah': 1.1157473726775673, 'weddingcakeslondon': 2.3470320670076754, 'wonder': 1.7106414242798724, 'disney': 1.0941223031213079, 'pixar': 1.0941223031213079, 'locker': 1.0941223031213079, 'ask': 1.0941223031213079, 'dance': 1.677843404628415, 'couple': 1.7511385129841333, 'free': 6.579765795874596, 'august': 1.733468408141511, 'suffer': 1.1165810516468997, 'anxiety': 1.725136097721224, 'accident': 1.1165810516468997, 'fall': 1.1165810516468997, 'bike': 4.145985033435424, 'touch': 2.3054659330723974, 'postpone': 1.0947841788515063, 'early': 2.381487316482864, 'respiratory': 2.381487316482864, 'disease': 2.381487316482864, 'newborder': 6.449720319913224, 'goodmorne': 1.09369082613273, 'nomad': 1.09369082613273, 'globalist': 4.669094641980928, 'lawyer': 5.2622980152377306, 'newteam': 6.449399953636091, 'محمد': 4.669094641980928, 'ابوشنب': 4.669094641980928, 'محامي': 4.669094641980928, 'دولي': 4.669094641980928, 'نحن': 3.482452571243154, 'لا': 3.482452571243154, 'نؤمن': 3.482452571243154, 'بالقيود': 3.482452571243154, 'bad': 1.129929145894036, 'deal': 1.129929145894036, 'breakdown': 1.129929145894036, 'thought': 1.7682070566563635, 'burnaboy': 3.6412297464954646, 'atlanticrecord': 1.129929145894036, 'old': 1.0966951693799425, 'chang': 1.0966951693799425, 'kee': 1.0966951693799425, 'waste': 2.3250183901394434, 'pain': 1.1031463342238053, 'champagne': 1.1031463342238053, 'makoveli': 4.151842862174625, 'influence': 4.779205086375674, 'migrant': 4.151842862174625, 'refugee': 4.151842862174625, 'asylum': 4.151842862174625, 'seeker': 4.151842862174625, 'queens': 4.151842862174625, 'donate': 1.7172308926069997, 'popular': 1.072815293235826, 'information': 2.309907294580982, 'wonderful': 1.6603961937941834, 'library': 2.2690818349586173, 'طببب': 6.145033968188218, 'trinity': 1.089990549397311, 'discoverengland': 1.6799517352010147, 'exploreengland': 1.6799517352010147, 'englandtravel': 1.6799517352010147, 'streetphotography': 1.6799517352010147, 'ハイキング': 1.6799517352010147, '遠足': 1.6799517352010147, '旅行': 1.6799517352010147, '山登り': 1.6799517352010147, '山': 1.6799517352010147, '写真好きな人と繋がりたい': 1.6799517352010147, '景色': 1.6799517352010147, '景色最高': 1.6799517352010147, '景色綺麗': 1.6799517352010147, '綺麗目コーデ': 1.6799517352010147, '場所': 1.6799517352010147, 'pavilion': 1.089990549397311, 'triumph': 2.37132073295137, 'pack': 1.1170685045228281, 'sue': 1.1494242375809607, 'barker': 1.1494242375809607, 'finally': 1.1494242375809607, 'lay': 1.1494242375809607, 'bare': 1.1494242375809607, 'romance': 1.1494242375809607, 'cliff': 1.1494242375809607, 'richard': 1.1494242375809607, 'insured': 1.717005048271821, 'beautician': 1.717005048271821, 'aqualyx': 1.717005048271821, 'breast': 2.934010096543642, 'bum': 2.934010096543642, 'hip': 1.717005048271821, 'fillers': 1.717005048271821, 'vacuum': 1.717005048271821, 'lift': 2.3815404652560357, 'hour': 2.3453241392613906, 'response': 1.717005048271821, 'rate': 2.3083684105219886, 'vintage': 2.3312405439930397, 'jewelry': 2.3312405439930397, 'vapour': 2.3260569234933017, 'outfit': 1.1301530149143297, 'nico': 1.1301530149143297, 'sailor': 1.1301530149143297, 'boy': 2.3732547335021836, 'code': 1.1301530149143297, 'discount': 1.7253588300667166, 'little': 1.748062721009484, 'fluff': 1.1301530149143297, 'vector': 1.1273622242010488, 'album': 3.537948159513821, 'title': 4.263378280965102, 'teslim': 1.1273622242010488, 'gospel': 1.1273622242010488, 'bless': 1.1275150012513167, 'smile': 1.1275150012513167, 'road': 2.4120868430284, 'delicious': 4.809411299023278, 'bubble': 1.7617544901136784, 'tea': 1.7617544901136784, 'colourful': 1.7617544901136784, 'popping': 1.7617544901136784, 'tapioca': 1.7617544901136784, 'mooboo': 1.7617544901136784, 'bermondsey': 1.7617544901136784, 'c': 1.099287622439893, 'wigmore': 1.099287622439893, 'hall': 2.291923572820606, 'caramel': 1.1305885718464603, 'tall': 1.1305885718464603, 'cakeboss': 2.3921628044803547, 'cakedecorator': 6.094712237566495, 'cakemaker': 1.7610902804870827, 'cakeofinstagram': 1.1305885718464603, 'birthdaycake': 4.833374114919379, 'yali': 1.1190505444206011, 'quick': 1.7279173336132518, 'collect': 1.1190505444206011, 'nftcommunity': 1.1190505444206011, 'nftindia': 1.1190505444206011, 'indianft': 1.1190505444206011, 'nftdrop': 1.7128399831723937, 'newnft': 1.1190505444206011, 'nftcreator': 1.1190505444206011, 'elonmusk': 1.1190505444206011, 'opensea': 1.7128399831723937, 'tamil': 4.143475739785715, 'worldtamil': 1.1190505444206011, 'historical': 1.1190505444206011, 'non': 1.1190505444206011, 'fungible': 1.1190505444206011, 'token': 1.727665990724101, 'fill': 6.771828250902161, 'dread': 7.3652608318681345, 'dinner': 2.880952196865286, 'friend': 5.305575619730025, 'duck': 2.935367328902072, 'waffle': 2.285902318795922, 'pkiugouu': 3.7473250505307494, 'coronavirus': 1.1494650101061499, 'prison': 1.116379736816068, 'police': 1.116379736816068, 'seshe': 1.116379736816068, 'killm': 1.116379736816068, 'musical': 1.7551068946883728, 'killa': 1.7551068946883728, 'cakeartist': 1.115799894615981, 'cakelove': 1.7096497335969492, 'cakefondant': 2.9558527242344903, 'cakeart': 1.7314604040877104, 'cakeforgirls': 1.115799894615981, 'cakesmashphotography': 1.115799894615981, 'twice': 2.381487316482864, 'unlike': 2.381487316482864, 'songwriter': 1.7745550243968486, 'argue': 3.0976969503238427, 'murder': 3.0976969503238427, 'leader': 3.0976969503238427, 'interested': 1.1025139700853046, 'grow': 2.320783746634127, 'facebook': 1.7111996112497385, 'tiktok': 1.7412411279576094, 'telegram': 1.7111294163888044, 'lot': 1.1025139700853046, 'painting': 1.1093237762638335, 'website': 1.7258064439773633, 'commission': 1.1093237762638335, 'open': 1.1093237762638335, 'brasilia': 1.6912108619588584, 'hyde': 3.0186731636560573, 'park': 5.537346327312115, 'rich': 1.0947380881708575, 'dem': 1.0947380881708575, 'steady': 1.0947380881708575, 'p': 1.0947380881708575, 'spend': 1.0947380881708575, 'close': 1.0947380881708575, 'obo': 1.0947380881708575, 'adamrickitt': 1.1494650101061499, 'barclay': 1.1494650101061499, 'hollyoaks': 2.4484411209990986, 'bank': 2.9854099049783933, 'rickitt': 1.1494650101061499, 'tear': 1.7989761108929485, 'scammer': 1.1494650101061499, 'steal': 1.1494650101061499, 'ten': 3.0532283393214907, 'pound': 2.3921930079356706, 'mirror': 2.402513779253715, 'plan': 4.23990689755287, 'covid': 6.142484657263833, 'annihilate': 2.996136790883006, 'billion': 4.250389019311548, 'gracious': 3.6360160567640527, 'teach': 4.244571102838377, 'clarification': 3.6360160567640527, 'wanna': 1.7366000433729218, 'stand': 1.1088667891926507, 'footballer': 1.1088667891926507, 'gifty': 1.1088667891926507, 'toon': 1.1088667891926507, 'birkbeck': 1.7136413107027533, 'cinema': 1.7136413107027533, 'gordon': 2.9272826214055065, 'square': 4.161419630451163, 'bunch': 1.7136413107027533, 'cinephile': 1.7136413107027533, 'screening': 1.7136413107027533, 'birthdaycakeidea': 1.1162313248243791, 'cakekekinian': 1.1162313248243791, 'cakeinstagram': 1.1162313248243791, 'confidence': 1.7029974867870732, 'ride': 1.6892031025817689, 'motorcycle': 1.0944949626511626, 'feel': 3.5110452822445395, 'nervous': 1.7030500087254867, 'scared': 1.0944949626511626, 'cryptocurrency': 2.8774179660992885, 'nftgame': 1.0937894387517926, 'nftcollection': 1.0937894387517926, 'openseanft': 1.0937894387517926, 'nftproject': 1.0937894387517926, 'holder': 1.0937894387517926, 'cryptonews': 1.0937894387517926, 'tokenomics': 1.0937894387517926, 'launchpad': 1.0937894387517926, 'excited': 1.0937894387517926, 'looking': 1.0937894387517926, 'discord': 1.0937894387517926, 'exporter': 1.0913633622501675, 'leather': 1.0913633622501675, 'textile': 1.0913633622501675, 'cheap': 1.7229489372673403, 'chronicle': 1.1035837590414148, 'nude': 1.1345574613372336, 'workshop': 2.326781086980251, 'visit': 3.016755813234625, 'studio': 1.1345574613372336, 'threesome': 1.1345574613372336, 'cuckold': 1.1345574613372336, 'fantasy': 1.1345574613372336, 'scenario': 1.1345574613372336, 'strong': 1.1091348882744112, 'nevada': 1.6905362619966358, 'snow': 2.3411171517395446, 'valley': 1.6905362619966358, 'ex': 1.1089864762827224, 'pat': 1.1089864762827224, 'smoke': 1.1089864762827224, 'flash': 1.7614012899503915, 'qb': 1.1089864762827224, 'bafa': 1.1089864762827224, 'version': 1.1089864762827224, 'tom': 1.1089864762827224, 'brady': 1.1089864762827224, 'pinky': 1.1272032113528105, 'pie': 1.1272032113528105, 'imvu': 1.1272032113528105, 'imvubaddie': 1.1272032113528105, 'imvulifestyle': 1.1272032113528105, 'likesforlike': 1.1272032113528105, 'explorepage': 1.1272032113528105, 'imvumodel': 1.1272032113528105, 'imvubarbie': 1.1272032113528105, 'barbie': 1.1272032113528105, 'hollywood': 1.1272032113528105, 'california': 1.7224090265051974, 'debut': 2.937318716054012, 'aftershock': 2.3274046648232334, 'kensington': 1.1123017800444337, 'palace': 1.1123017800444337, 'infinite': 1.1123017800444337, 'possibility': 1.1123017800444337, 'explore': 1.1123017800444337, 'welcoming': 1.126970863812006, 'trod': 1.7539417276240121, 'pepsi': 1.126970863812006, 'rhythm': 1.126970863812006, 'unplug': 1.126970863812006, 'ticket': 2.316117898775673, 'dec': 1.126970863812006, 'eko': 1.126970863812006, 'convention': 1.126970863812006, 'lagos': 1.126970863812006, 'flytimefest': 1.126970863812006, 'pepsirhythmunplugge': 1.126970863812006, 'dagrin': 2.316905455572065, 'lago': 3.0095318512155047, 'german': 1.0956054309794292, 'berlin': 1.0956054309794292, 'wall': 1.689038011945403, 'future': 2.336085124521239, 'detail': 1.1495111007867986, 'contradictory': 1.1495111007867986, 'dorime': 1.1272032113528105, 'club': 1.7545050353246836, 'stadium': 1.1272032113528105, 'agirl': 1.0938498389809683, 'cakelover': 1.746202990637541, 'cakecakecake': 1.1156605094717293, 'famous': 1.1305017086406224, 'lol': 1.1305017086406224, 'character': 1.1305017086406224, 'filling': 1.1305017086406224, 'arrange': 1.1305017086406224, 'fashionistacake': 1.1305017086406224, 'talent': 1.1645354169842148, 'louder': 1.1645354169842148, 'consistency': 1.1645354169842148, 'bro': 1.1645354169842148, 'tuenwsbgf': 2.364362855903372, 'x': 1.7311973261316143, 'asake': 1.1276135670901994, 'joha': 1.1276135670901994, 'organize': 1.1276135670901994, 'visa': 1.7245537616410422, 'immigration': 1.0934251736950524, 'route': 1.0934251736950524, 'requirement': 1.0934251736950524, 'laura': 1.0934251736950524, 'devine': 1.0934251736950524, 'home': 2.3646884396925905, 'passport': 1.0934251736950524, 'visxa': 1.6866420707377747, 'nexaw': 2.279858967780497, 'businesswoman': 1.0938498389809683, 'representation': 1.0938498389809683, 'socialenterprise': 1.0938498389809683, 'creativeindustrie': 1.0938498389809683, 'network': 1.0938498389809683, 'marketing': 2.3445953181090693, 'branding': 1.0938498389809683, 'ba': 1.0938498389809683, 'msc': 1.0938498389809683, 'trade': 1.6997919667162253, 'enterprise': 1.0938498389809683, 'manager': 1.0938498389809683, 'move': 1.0938498389809683, 'account': 1.7025354801454022, 'slide': 1.75846244116909, 'history': 2.9405716986608788, 'repeat': 2.332016652586555, 'perverse': 4.841013860720392, 'african': 2.350879196493622, 'impact': 1.1273622242010488, 'adeleke': 1.7219612847450314, 'pause': 1.7332347525205, 'londonphotography': 1.11661737626025, 'barbican': 2.317185061736779, 'barbicancentre': 1.11661737626025, 'freeze': 1.11661737626025, 'cityphotography': 1.11661737626025, 'walkingman': 1.11661737626025, 'chelsea': 1.0870108951862134, 'trip': 4.0708434288002096, 'wroclaw': 1.095416542990007, 'compare': 1.1315855750171728, 'booking': 1.1315855750171728, 'mary': 1.099287622439893, 'strand': 1.099287622439893, 'troféu': 2.384460199312334, 'platina': 2.384460199312334, 'em': 3.0119752005636506, 'playstation': 2.384460199312334, 'gamer': 2.384460199312334, 'root': 2.3116738017549787, 'inspiration': 2.3116738017549787, 'diaspora': 2.3116738017549787, 'musician': 2.3116738017549787, 'cute': 1.1035837590414148, 'covent': 1.1035837590414148, 'reasonable': 1.754252228428542, 'country': 3.021395580278038, 'hundred': 1.754252228428542, 'multifunctional': 1.1495111007867986, 'vegetable': 1.1495111007867986, 'cutter': 1.1495111007867986, 'shredders': 1.1495111007867986, 'slicer': 1.7990222015735973, 'basket': 1.1495111007867986, 'fruit': 1.1495111007867986, 'potato': 1.1495111007867986, 'chopper': 1.1495111007867986, 'carrot': 1.1495111007867986, 'grater': 1.1495111007867986, 'mandoline': 1.1495111007867986, 'cakeshop': 1.131072523993272, 'gb': 1.1270133452653621, 'rest': 1.117276954765824, 'architecture': 1.117276954765824, 'second': 1.117276954765824, 'charles': 1.117276954765824, 'voguewilliamsdublin': 1.1494242375809607, 'vogue': 1.1494242375809607, 'williams': 1.1494242375809607, 'presenter': 1.1494242375809607, 'pal': 1.1494242375809607, 'divide': 1.1494242375809607, 'age': 2.3524217243680337, 'gap': 1.1494242375809607, 'virginity': 1.1494242375809607, 'irish': 1.1494242375809607, 'sun': 2.4426514224222227, 'scottish': 1.0840328914056132, 'cam': 1.0840328914056132, 'drift': 1.1337948486082636, 'shooting': 1.1337948486082636, 'cooking': 1.1337948486082636, 'schizo': 1.1337948486082636, 'affect': 1.1337948486082636, 'disorder': 1.1337948486082636, 'southside': 1.678850079657865, 'wandsworth': 1.0894250398289325, 'south': 1.0894250398289325, 'climate': 2.2950086186968464, 'hub': 1.0894250398289325, 'bring': 1.6846931708272503, 'rescue': 1.0894250398289325, 'shopping': 1.7418398534966015, 'gravity': 1.0894250398289325, 'opposite': 1.0894250398289325, 'snap': 1.755128568341516, 'braid': 2.382430392313389, 'blackexcellence': 1.7548168252231897, 'religious': 3.0312590068871774, 'scientific': 3.0312590068871774, 'verdict': 3.0312590068871774, 'leo': 1.152414813667669, 'dicaprio': 1.152414813667669, 'flame': 1.152414813667669, 'maria': 1.152414813667669, 'beregova': 1.152414813667669, 'ab': 1.152414813667669, 'ensemble': 1.152414813667669, 'street': 2.2848155231878184, 'frankfurt': 1.0952681309983179, 'main': 1.689757099040269, 'germany': 1.0952681309983179, 'lxhgjohggp': 2.4483950303184496, 'celestial': 1.1275150012513167, 'body': 1.1275150012513167, 'ayrastarr': 1.1275150012513167, 'adelphi': 1.0835188483229445, 'proud': 2.371575285199506, 'grammy': 1.7554665083605423, 'bitcoin': 1.105942127735257, 'mining': 1.105942127735257, 'dallas': 1.105942127735257, 'texas': 1.105942127735257, 'meeting': 1.105942127735257, 'tb': 1.1370294398285954, 'box': 1.108685641164434, 'visual': 1.108685641164434, 'communication': 1.108685641164434, 'applied': 1.108685641164434, 'multimedia': 1.108685641164434, 'solution': 1.108685641164434, 'unusual': 1.108685641164434, 'view': 1.108685641164434, 'fragile': 1.1168873564946113, 'poetry': 1.1168873564946113, 'corey': 1.1168873564946113, 'searle': 1.1168873564946113, 'poem': 1.1168873564946113, 'leaves': 1.1168873564946113, 'warsaw': 1.6908330859800138, 'inquiry': 1.7612439751798612, 'cakesfornekah': 1.1305424811658116, 'wish': 1.1188457918872712, 'person': 1.7354846115536955, 'lucky': 1.1188457918872712, 'yo': 2.954801675923191, 'dieter': 1.7274008379615955, 'advocate': 1.7274008379615955, 'positivity': 1.7274008379615955, 'binge': 1.7274008379615955, 'diary': 2.952498951978625, 'diets': 1.7274008379615955, 'emily': 1.1086154463034998, 'harding': 1.1086154463034998, 'yorkshire': 1.1086154463034998, 'wide': 1.1086154463034998, 'opening': 1.1086154463034998, 'soon': 3.5510590562542026, 'fb': 1.1086154463034998, 'rise': 1.1645354169842148, 'iyanya': 1.1645354169842148, 'kizzdaniel': 1.1645354169842148, 'donjazzy': 1.1645354169842148, 'mutt': 1.0947081399306064, 'motorcycles': 1.0947081399306064, 'email': 1.0947081399306064, 'gangsta': 1.1169699386839456, 'paradise': 1.1169699386839456, 'ft': 1.1169699386839456, 'amen': 1.7235872219878876, 'balogun': 1.1277332541802711, 'osun': 1.1276135670901994, 'arabia': 2.381378342642813, 'benefit': 2.381378342642813, 'situation': 2.381378342642813, 'liverpool': 1.0913763057861527, 'fc': 1.0913763057861527, 'request': 1.6827526115723055, 'nftartcollectable': 1.0913763057861527, 'collector': 3.5477621411844034, 'idea': 2.883752299941919, 'chauffeured': 1.1088667891926507, 'luxurious': 1.1088667891926507, 'hire': 1.1088667891926507, 'muse': 1.1422034233699416, 'number': 1.1422034233699416, 'hornet': 1.0947081399306064, 'sting': 1.0947081399306064, 'mayorkn': 1.1273622242010488, 'till': 1.1273622242010488, 'mayorkun': 1.1273622242010488, 'الصحه': 1.7542967586723535, 'parliament': 1.1321758499841172, 'picture': 1.7643516999682345, 'fix': 1.7177335783853012, 'bikr': 1.1088667891926507, 'londons': 1.1088667891926507, 'cycle': 1.1088667891926507, 'documentarytvcomedy': 1.1498753658435388, 'wilson': 1.1498753658435388, 'beg': 1.1498753658435388, 'miraculous': 1.1498753658435388, 'hari': 1.6865715771016014, 'operation': 1.6865715771016014, 'ice': 1.0932857885508007, 'variety': 1.0932857885508007, 'frozen': 1.0932857885508007, 'pea': 1.6865715771016014, 'decide': 1.0932857885508007, 'wound': 1.0932857885508007, 'link': 2.9281978929625287, 'bio': 2.9281978929625287, 'lexington': 1.699960423468883, 'saturday': 1.0999802117344415, 'month': 1.0999802117344415, 'blog': 1.093269418981136, 'document': 1.093269418981136, 'recent': 1.6878684795251186, 'tourist': 1.093269418981136, 'newblog': 1.093269418981136, 'blogger': 1.093269418981136, 'touristfortheday': 1.686538837962272, 'familytime': 1.686538837962272, 'makingmemorie': 1.093269418981136, 'rivercruise': 1.686538837962272, 'thame': 1.686538837962272, 'furtherafield': 1.093269418981136, 'thesussexmum': 1.686538837962272, 'username': 1.0935922602938475, 'moaboshanabhq': 1.0935922602938475, 'snapchat': 1.0935922602938475, 'pure': 1.1155312177344752, 'himalayan': 1.1155312177344752, 'shilajit': 2.346593653203426, 'resin': 1.1155312177344752, 'naturalsupplement': 1.1155312177344752, 'immunesystem': 1.1155312177344752, 'naturalhealth': 1.1155312177344752, 'supplement': 1.7237951619523961, 'superfood': 1.1155312177344752, 'vegan': 1.7310624354689506, 'organic': 2.3244950164349243, 'mineral': 2.346593653203426, 'complex': 1.1155312177344752, 'consist': 1.1155312177344752, 'include': 1.7087345909912768, 'trace': 1.1155312177344752, 'fulvic': 1.1155312177344752, 'acid': 1.7310624354689506, 'humic': 1.1155312177344752, 'cut': 1.1029979222321162, 'nottinghill': 1.1029979222321162, 'notting': 2.4036626280615594, 'hill': 2.398687453340169, 'luxury': 1.7222282168314336, 'gordy': 1.733038242317129, 'corner': 1.1165191211585646, 'roundabout': 1.1165191211585646, 'younique': 1.1165191211585646, 'motorcycling': 1.1165191211585646, 'theseagull': 1.0911648177796807, 'emilia': 1.0911648177796807, 'clarke': 1.0911648177796807, 'wellbee': 1.0911648177796807, 'style': 1.0911648177796807, '贊助': 1.0911648177796807, 'actor': 1.0911648177796807, 'mfa': 1.0911648177796807, 'acting': 1.0911648177796807, 'educator': 1.0911648177796807, 'reviewer': 1.7224130928157422, 'aspire': 1.0911648177796807, 'whisperer': 1.0911648177796807, 'ha': 1.7356768353862604, 'cakescakescake': 1.115624184858379, 'cakedesign': 1.115624184858379, 'cakedecoration': 1.7463256788724286, 'cakeidea': 1.115624184858379, 'cakesforgirl': 1.115624184858379, 'cakesicle': 1.115624184858379, 'cakevideo': 1.115624184858379, 'cakestyle': 1.115624184858379, 'hello': 1.095205815152387, 'prc': 1.6904116303047738, 'asset': 2.302157857439142, 'fast': 1.6743902060072517, 'launch': 1.095205815152387, 'prctoken': 1.095205815152387, 'prcasset': 1.6904116303047738, 'coinmarketcap': 1.095205815152387, 'canada': 1.095205815152387, 'america': 1.095205815152387, 'mumbai': 1.095205815152387, 'australia': 1.095205815152387, 'marketingdigital': 1.095205815152387, 'binance': 1.095205815152387, 'entry': 1.095205815152387, 'list': 1.095205815152387, 'blockchain': 2.300155415543557, 'huge': 1.1498753658435388, 'prediction': 1.1498753658435388, 'whatculture': 1.1498753658435388, 'premise': 1.1313966870277503, '𝐌𝐎𝐃𝐄𝐋': 1.1313966870277503, 'automatic': 1.1240467574340285, 'mixer': 1.1240467574340285, 'cook': 1.1240467574340285, 'instagood': 1.1240467574340285, 'instafood': 1.1240467574340285, 'fastfood': 1.1240467574340285, 'shopify': 1.1240467574340285, 'etsy': 1.1240467574340285, 'amazing': 2.3507656810053277, 'amazon': 1.1240467574340285, 'mm': 1.127301823971873, 'livemusic': 1.127301823971873, 'verily': 1.754252228428542, 'cjjjj': 1.754252228428542, 'broad': 1.2310916055350605, 'stripe': 1.2310916055350605, 'suit': 1.2310916055350605, 'handmadesuit': 1.2310916055350605, 'bespoketailore': 1.2310916055350605, 'bespokesuit': 1.2310916055350605, 'bespokepant': 1.2310916055350605, 'bespoketrouser': 1.2310916055350605, 'bespokeovercoat': 1.2310916055350605, 'bespoketuxedo': 1.2310916055350605, 'suitsupply': 1.2310916055350605, 'excellence': 1.7547182126041272, 'shutdown': 1.1280705541613822, 'eliza': 1.149624022954388, 'rose': 1.149624022954388, 'chart': 1.149624022954388, 'charts': 1.149624022954388, 'company': 1.780342255162989, 'morocco': 1.1272032113528105, 'unbeaten': 1.1272032113528105, 'concede': 1.1272032113528105, 'tournament': 1.1272032113528105, 'quarter': 1.1272032113528105, 'rehearsal': 2.282387090351196, 'londonfringetheatre': 1.6891470349636672, 'londontheatre': 1.6891470349636672, 'pull': 1.1062767918159415, 'pokemon': 1.1062767918159415, 'lostorigin': 1.1062767918159415, 'tcg': 1.1062767918159415, 'giratina': 1.1062767918159415, 'louis': 1.0992918219869132, 'vuitton': 1.0992918219869132, 'paris': 1.0992918219869132, 'football': 1.0992918219869132, 'late': 1.0992918219869132, 'edition': 1.1162705843303775, 'focused': 1.1162705843303775, 'newsletter': 1.1162705843303775, 'employee': 1.1162705843303775, 'ensure': 1.1162705843303775, 'driving': 1.1162705843303775, 'protect': 1.1162705843303775, 'occupational': 1.1162705843303775, 'dust': 1.1162705843303775, 'exposure': 1.1162705843303775, 'hse': 1.1162705843303775, 'beck': 1.1162705843303775, 'riskmanagement': 1.1162705843303775, 'respect': 1.6891981210879654, 'push': 1.0945990605439828, 'incidence': 1.0945990605439828, 'college': 1.7326477635971382, 'governor': 1.0932168970427223, 'investor': 1.0932168970427223, 'prepare': 1.0932168970427223, 'value': 1.0932168970427223, 'paw': 1.0941179380627288, 'patrol': 1.0941179380627288, 'backdoor': 1.0944949626511626, 'brutally': 1.0944949626511626, 'honest': 1.0944949626511626, 'trigger': 1.0944949626511626, 'cryin': 1.0944949626511626, 'lil': 1.6889899253023253, 'bit': 1.687920136346215, 'inferno': 1.0944949626511626, 'handle': 1.0944949626511626, 'albert': 1.108685641164434, 'large': 1.108685641164434, 'museum': 1.108685641164434, 'honour': 1.108685641164434, 'gifted': 1.0791843908548648, 'friday': 1.7067979579450643, 'newalbum': 1.0791843908548648, 'newmusic': 1.0791843908548648, 'rely': 1.0791843908548648, 'juicy': 1.0791843908548648, 'balo': 1.1276135670901994, 'surulere': 1.1276135670901994, 'emotional': 1.0944889680419512, 'motivation': 1.7327668788042787, 'truthoflife': 1.0944889680419512, 'shayar': 1.0944889680419512, 'toh': 1.0944889680419512, 'nahi': 1.0944889680419512, 'lovetowrite': 1.0944889680419512, 'shyarie': 1.0944889680419512, 'quote': 1.0944889680419512, 'crisis': 1.1035837590414148, 'formidably': 1.093700849189534, 'fourth': 1.093700849189534, 'jamspot': 1.687401698379068, 'present': 1.093700849189534, 'episode': 1.093700849189534, 'tamilmusic': 1.093700849189534, 'sahisiva': 1.093700849189534, 'orunation': 1.093700849189534, 'officialsahisiva': 1.093700849189534, 'ghost': 1.7561411083227645, 'tsushima': 1.7561411083227645, 'study': 1.1099140512307781, 'smiths': 1.1099140512307781, 'spirit': 1.1179097060951542, 'bruce': 1.1179097060951542, 'lee': 1.1179097060951542, 'darkcomedy': 1.0959069795761383, 'izz': 1.1174102426615855, 'ben': 2.389004872742043, 'crypto': 1.1086154463034998, 'builds': 1.1086154463034998, 'robots': 1.1086154463034998, 'connected': 1.1086154463034998, 'metaverse': 1.1086154463034998, 'group': 1.6923365478106067, 'omg': 1.1273622242010488, 'clean': 1.7218046649137977, 'ko': 1.1273622242010488, 'ni': 1.7548772254523657, 'baje': 1.1273622242010488, 'e': 1.1273622242010488, 'jungle': 1.1307014940140496, 'theme': 1.1307014940140496, 'cakejakarta': 1.1307014940140496, 'avon': 1.1382978446412855, 'therapist': 1.1382978446412855, 'griefjourney': 1.1382978446412855, 'polozhenie': 1.1163841018746472, 'izzamuzzic': 1.1163841018746472, 'remix': 1.1163841018746472, 'ah': 1.117909706095154, 'pm': 1.117909706095154, 'bureau': 1.117909706095154, 'veritas': 1.117909706095154, 'consumer': 1.117909706095154, 'enthusiastic': 1.117909706095154, '𝐏𝐇𝐎𝐓𝐎': 1.1137237268423896, '𝐇𝐎𝐋𝐈𝐂': 1.1137237268423896, '𝐋𝐎𝐕𝐄𝐑': 1.1137237268423896, '𝐅𝐞𝐛': 1.1137237268423896, 'giveaway': 1.1117462271343683, 'octopeeps': 1.1117462271343683, 'polygon': 1.1117462271343683, 'draw': 1.7497949301875237, 'programmatically': 1.1117462271343683, 'generate': 1.1117462271343683, 'concert': 1.083950309216279, 'trafalgar': 1.7341370090456563, 'trafalgarsquare': 1.1170685045228281, 'iglondon': 1.1170685045228281, 'suzetteverkuijlfotografie': 1.1170685045228281, 'hollyoaksscamsandfraud': 1.1495111007867986, 'legend': 1.1495111007867986, 'scamme': 1.1495111007867986, 'f': 1.1495111007867986, 'mascot': 1.1154493322024543, 'spanky': 1.1154493322024543, 'monkey': 1.1154493322024543, 'sailing': 1.1154493322024543, 'stick': 1.1154493322024543, 'deep': 1.7098917729152032, 'blue': 1.1154493322024543, 'spankthemonkey': 1.1154493322024543, 'sailingtime': 1.1154493322024543, 'tallest': 1.0951484439082464, 'premium': 1.1380947937338042, 'clothing': 1.7761895874676084, 'anime': 1.1380947937338042, 'ahegao': 1.1380947937338042, 'geek': 1.1380947937338042, 'casual': 1.1380947937338042, 'collections': 1.1380947937338042, 'eco': 1.1380947937338042, 'environment': 1.1380947937338042, 'give': 1.1494650101061499, 'winner': 1.127081140883456, 'failure': 1.7541622817669122, 'success': 1.7541622817669122, 'avoid': 1.7541622817669122, 'newera': 1.127081140883456, 'paddington': 1.127081140883456, 'buy': 1.1155112626907895, 'dad': 1.731022525381579, 'bottle': 1.1155112626907895, 'whisky': 1.1155112626907895, 'xmas': 1.1155112626907895, 'course': 1.1155112626907895, 'hmmm': 1.1155112626907895, 'securitytag': 1.1155112626907895, 'xmaspresent': 1.1155112626907895, 'iim': 1.1310300221071072, 'bhishtu': 1.1310300221071072, 'meme': 1.1310300221071072, 'joke': 1.1310300221071072, 'dashboard': 1.1310300221071072, 'puff': 1.7620600442142145, 'screen': 1.1310300221071072, 'bricks': 1.0899611858037037, 'printsforsale': 1.0934325809659737, 'wallart': 1.0934325809659737, 'collage': 1.0934325809659737, 'modernart': 1.0934325809659737, 'urbanart': 1.0934325809659737, 'wanderlust': 1.0934325809659737, 'nice': 1.7091269606852866, 'nasty': 1.0934325809659737, 'soul': 1.7543248776552427, 'realize': 1.7543248776552427, 'rightful': 1.7543248776552427, 'invent': 1.7543248776552427, 'desert': 1.7543248776552427, 'public': 1.1173366036045889, 'school': 2.9275450251332114, 'annual': 1.1173366036045889, 'embroider': 1.7847583488254624, 'merch': 1.7847583488254624, 'giant': 1.1280705541613822, 'toulouse': 1.108685641164434, 'lautrec': 1.108685641164434, 'flattering': 1.1012597637708947, 'allurion': 1.7025195275417895, 'photoshoot': 1.1012597637708947, 'здравейте': 1.1385787458806158, 'приятели': 1.1385787458806158, 'реших': 1.1385787458806158, 'да': 2.415736237641848, 'създам': 1.1385787458806158, 'акаунт': 1.1385787458806158, 'тук': 1.1385787458806158, 'за': 1.1385787458806158, 'може': 1.1385787458806158, 'комуникираме': 1.1385787458806158, 'по': 1.1385787458806158, 'лесно': 1.1385787458806158, 'en': 1.094355577506911, 'emprendedora': 1.094355577506911, 'por': 1.094355577506911, 'naturaleza': 1.094355577506911, 'mis': 1.094355577506911, 'trabajos': 1.094355577506911, 'mi': 1.094355577506911, 'pasión': 1.094355577506911, 'cada': 1.094355577506911, 'día': 1.6887111550138219, 'trabajo': 1.094355577506911, 'es': 1.094355577506911, 'un': 1.094355577506911, 'diversión': 1.094355577506911, 'para': 1.094355577506911, 'mí': 1.094355577506911, 'arquitecta': 1.094355577506911, 'profesión': 1.094355577506911, 'asesora': 1.094355577506911, 'bienes': 1.094355577506911, 'raíces': 1.094355577506911, 'gardenproject': 1.1501434649252993, 'beforeandafter': 1.1501434649252993, 'landscape': 1.1501434649252993, 'jdmtradingroup': 1.1501434649252993, 'prayer': 1.0949672958800296, 'posthumous': 1.0949672958800296, 'akogun': 1.0949672958800296, 'adventure': 1.1494650101061499, 'lego': 1.1494650101061499, 'steam': 1.1494650101061499, 'concepts': 1.1494650101061499, 'century': 1.1494650101061499, 'skills': 1.1494650101061499, 'pedagogy': 1.1494650101061499, 'classroom': 1.1494650101061499, 'hlw': 1.1166388196664243, 'dhonyo': 1.7332776393328486, 'buddeis': 1.1166388196664243, 'profile': 1.1166388196664243, 'gain': 1.1166388196664243, 'yes': 2.343357743237723, 'medea': 1.1166388196664243, 'wednesdaynightwar': 1.1494242375809607, 'wwe': 1.1494242375809607, 'chrisjericho': 1.1494242375809607, 'tripleh': 1.1494242375809607, 'nxt': 1.1494242375809607, 'suck': 1.1494242375809607, 'chris': 1.1494242375809607, 'jericho': 1.1494242375809607, 'respond': 1.1494242375809607, 'triple': 1.1494242375809607, 'h': 1.1494242375809607, 'comments': 1.1494242375809607, 'inside': 1.1494242375809607, 'ropes': 1.1494242375809607, 'agency': 1.1126967760749455, 'helpful': 1.1126967760749455, 'tool': 1.1126967760749455, 'visibility': 1.1126967760749455, 'growth': 1.1126967760749455, 'digitalmarketingagencyuk': 1.1126967760749455, 'seoexpert': 1.1126967760749455, 'cafe': 1.115799894615981, 'worry': 1.115799894615981, 'chain': 1.115799894615981, 'fence': 1.115799894615981, 'brompton': 1.115799894615981, 'braze': 1.115799894615981, 'skilled': 1.115799894615981, 'craftsman': 1.115799894615981, 'factory': 1.115799894615981, 'skyline': 1.6886811121005243, 'save': 1.7103917935553938, 'subbuteo': 1.7329653354270593, 'fair': 1.1164826677135298, 'defribillator': 1.1164826677135298, 'pizzica': 1.1164826677135298, 'fulham': 1.1164826677135298, 'rd': 1.1164826677135298, 'register': 1.1164826677135298, 'interest': 1.1164826677135298, 'struggle': 1.115591617963651, 'reflect': 1.115591617963651, 'personality': 1.115591617963651, 'forward': 1.115591617963651, 'lady': 1.115591617963651, 'petal': 1.115591617963651, 'dress': 1.7311832359273018, 'beautifully': 1.115591617963651, 'depict': 1.115591617963651, 'delicate': 1.115591617963651, 'hometown': 1.0952681309983179, 'mari': 1.0952681309983179, 'vanna': 1.0952681309983179, 'ep': 1.0951484439082464, 'dope': 1.0951484439082464, 'tiding': 1.7986630569863118, 'millennium': 1.1321758499841172, 'miss': 1.7099408055422882, 'ps': 1.1156943797193128, 'fatty': 1.1156943797193128, 'belly': 1.1156943797193128, 'positiv': 1.1382779107623275, 'positive': 1.1382779107623275, 'vibe': 1.1382779107623275, 'hard': 1.1382779107623275, 'pasta': 1.7171100921486486, 'offering': 2.325612616284559, 'michelin': 1.7171100921486486, 'star': 2.3444119161205217, 'exceptional': 1.7171100921486486, 'ingredient': 1.7171100921486486, 'postcode': 1.7171100921486486, 'min': 1.1503323529147216, 'jaal': 1.8006647058294432, 'buothic': 1.8006647058294432, 'chol': 1.8006647058294432, 'poo': 1.0914959928762245, 'genius': 1.093909125841864, 'meghan': 1.1437160840544633, 'markle': 1.1437160840544633, 'harry': 1.1437160840544633, 'meg': 1.1437160840544633, 'slam': 1.1437160840544633, 'bomb': 1.1437160840544633, 'anniversary': 1.1437160840544633, 'lad': 1.1437160840544633, 'reader': 1.1312482750360615, 'complete': 1.7246189255137, 'westminster': 1.1291602925618953, 'cancun': 1.095416542990007, 'mexico': 1.095416542990007, 'dream': 1.7584908121470386, 'junniwalker': 1.1273622242010488, 'update': 1.1273622242010488, 'coys': 1.1719714440106248, 'eat': 1.1514220913152347, 'latina': 1.1311285879459898, 'goddess': 1.1311285879459898, 'size': 1.1311285879459898, 'custom': 1.1311285879459898, 'dewdle': 1.132675313417686, 'ramble': 1.132675313417686, 'freelance': 1.0837211015071069, 'ballroom': 1.0837211015071069, 'latin': 1.0837211015071069, 'instructor': 1.0837211015071069, 'party': 1.0837211015071069, 'yas': 1.1085025241359105, 'kid': 1.1085025241359105, 'holiday': 1.1085025241359105, 'class': 1.1085025241359105, 'boost': 1.1085025241359105, 'creativity': 1.1085025241359105, 'skill': 1.7029449648486594, 'ldn': 1.1176783417433462, 'zeiss': 1.1176783417433462, 'ambassador': 1.1176783417433462, 'creative': 1.1176783417433462, 'continent': 1.1176783417433462, 'earn': 1.726718923571299, 'income': 1.726718923571299, 'simply': 1.726718923571299, 'consume': 1.726718923571299, 'healthy': 1.726718923571299, 'supplements': 1.726718923571299, 'type': 1.726718923571299, 'holistic': 1.1085550460743243, 'wellness': 1.1085550460743243, 'coaching': 1.1085550460743243, 'consultancy': 1.1085550460743243, 'speaker': 1.1085550460743243, 'women': 1.7168189902922453, 'childhood': 1.1085550460743243, 'traumas': 1.1085550460743243, 'depression': 1.1085550460743243, 'reset': 1.1085550460743243, 'system': 1.701925696551963, 'astrologer': 1.1311285879459898, 'hanish': 1.1311285879459898, 'solve': 1.1311285879459898, 'problem': 2.393385763837969, 'husband': 1.7805935980521397, 'wife': 1.1311285879459898, 'marriage': 1.1311285879459898, 'career': 1.1311285879459898, 'chilren': 1.1311285879459898, 'childless': 1.1311285879459898, 'mobile': 1.1307182322086011, 'personal': 1.1307182322086011, 'training': 1.1307182322086011, 'busy': 1.1307182322086011, 'fit': 1.1307182322086011, 'bmw': 2.350887130343005, 'competition': 1.1169998869241968, 'carsofinstagram': 1.1169998869241968, 'automotivephotography': 1.1169998869241968, 'luxurylifestyle': 1.1169998869241968, 'luxurycar': 1.1169998869241968, 'sloanestreet': 1.7339997738483937, 'carphotography': 1.1169998869241968, 'luke': 1.1169998869241968, 'enthusiast': 1.1169998869241968, 'kit': 1.117158899772435, 'tar': 1.117158899772435, 'tonight': 1.0950498780693638, 'fushan': 1.0950498780693638, 'japanese': 1.0950498780693638, 'cuisine': 1.0950498780693638, 'entertainer': 1.1646409731660705, 'net': 1.1161585390389814, 'national': 1.1161585390389814, 'awareness': 1.1161585390389814, 'campaign': 1.1161585390389814, 'july': 1.1161585390389814, 'outline': 1.1161585390389814, 'simple': 1.1161585390389814, 'individual': 1.1161585390389814, 'reduce': 1.1161585390389814, 'carbon': 1.1161585390389814, 'footprint': 1.1161585390389814, 'netzero': 1.1161585390389814, 'river': 1.093269418981136, 'cruise': 1.093269418981136, 'famalam': 1.093269418981136, 'londonsight': 1.093269418981136, 'sightsee': 1.093269418981136, 'halftermfun': 1.093269418981136, 'myheart': 1.093269418981136, 'idriselba': 1.1494650101061499, 'vernonkay': 1.1494650101061499, 'itv': 1.1494650101061499, 'thismorning': 1.1494650101061499, 'rochellehumes': 1.1494650101061499, 'idris': 1.1494650101061499, 'elba': 1.1494650101061499, 'apologise': 1.1494650101061499, 'rochelle': 1.1494650101061499, 'humes': 1.1494650101061499, 'marvin': 1.1494650101061499, 'salud': 1.1387271578723048, 'mental': 1.1387271578723048, 'emocional': 1.1387271578723048, 'mucho': 1.1387271578723048, 'más': 1.1387271578723048, 'psicodiariove': 1.1387271578723048, 'weightloss': 1.108263944217921, 'click': 1.108263944217921, 'approved': 1.108263944217921, 'effective': 1.108263944217921, 'smoothie': 1.108263944217921, 'diet': 1.108263944217921, 'see': 1.0940026160312362, 'downing': 1.0940026160312362, 'westminister': 1.0940026160312362, 'labrador': 1.0934251736950524, 'interesting': 1.0934251736950524, 'whiteline': 1.0934251736950524, 'partytime': 1.0934251736950524, 'hb': 1.1495111007867986, 'majesty': 1.1275150012513167, 'memorie': 1.1275150012513167, 'queen': 1.1275150012513167, 'londra': 1.1275150012513167, 'queenelizabeth': 1.1275150012513167, 'oderc': 1.1275150012513167, 'ministry': 1.7552271341803989, 'ya': 1.1276135670901994, 'halloween': 1.1276135670901994, 'oct': 1.1276135670901994, 'bvnquet': 1.1276135670901994, 'stay': 1.1503323529147216, 'gate': 1.1503323529147216, 'portobello': 1.1503323529147216, 'uom': 1.1503323529147216, 'starboy': 1.127301823971873, 'ego': 1.1273622242010488, 'definitely': 1.0942464258229754, 'gdif': 1.0942464258229754, 'grid': 1.0933706504776386, 'ulica': 1.0933706504776386, 'solar': 2.280111951432916, 'panel': 1.6867413009552772, 'hybrid': 1.6867413009552772, 'inverter': 1.0933706504776386, 'battery': 1.6867413009552772, 'survey': 1.0933706504776386, 'quotation': 1.6872797763195027, 'sustainable': 1.0933706504776386, 'living': 1.0933706504776386, 'consultation': 1.0933706504776386, 'pv': 1.6867413009552772, 'inverters': 1.0933706504776386, 'storage': 1.0933706504776386, 'pleased': 1.0932033732568016, 'announce': 1.0932033732568016, 'attend': 1.0932033732568016, 'program': 1.0932033732568016, 'asian': 1.0932033732568016, 'laws': 1.0932033732568016, 'naturally': 1.1719714440106248, 'savage': 1.1719714440106248, 'portrait': 1.7760974061063108, 'piece': 1.1380487030531554, 'lockdown': 1.1380487030531554, 'digitalart': 1.1380487030531554, 'digitalpainte': 1.1380487030531554, 'digitalmarkete': 1.1380487030531554, 'artwork': 1.1380487030531554, 'artandcraft': 1.1380487030531554, 'fineart': 1.1380487030531554, 'job': 1.1380487030531554, 'enemy': 1.1492751440187015, 'religion': 1.1492751440187015, 'islam': 1.1492751440187015, 'swipe': 1.093909125841864, 'seaters': 1.093909125841864, 'seater': 1.093909125841864, 'minibuses': 1.093909125841864, 'airport': 1.093909125841864, 'transfers': 1.093909125841864, 'weddings': 1.093909125841864, 'treat': 1.6888848814254978, 'garagenumber': 1.0944424407127489, 'fancy': 1.0944424407127489, 'cave': 1.1029979222321162, 'lensa': 1.7059958444642327, 'gsa': 1.1168873564946113}\n"
          ]
        }
      ]
    },
    {
      "cell_type": "markdown",
      "source": [
        "## Compute Relative Importances & Define Scoring Method"
      ],
      "metadata": {
        "id": "A2_zQlzMWwZh"
      }
    },
    {
      "cell_type": "markdown",
      "source": [
        "First, let's compute the relative importances for the High Quality model. "
      ],
      "metadata": {
        "id": "kthI8rNRWy2O"
      }
    },
    {
      "cell_type": "code",
      "source": [
        "# store the relative importances in a dictionary\n",
        "hq_relimpo = {}\n",
        "# iterate through the term frequency dictionary\n",
        "for key, item in hq_json_tf.items():\n",
        "  try:\n",
        "    # this will try calculating the relative importance by looking for the key\n",
        "    # in the background model\n",
        "    rel_impo = (item / hq_total_terms) / (bg_json_tf[key] / bg_total_terms)\n",
        "  except:\n",
        "    # if a term does not exist in the background model, use add 0.5 smoothing to get rel impo\n",
        "    rel_impo = (item / hq_total_terms) / (0.5 / bg_total_terms)\n",
        "  \n",
        "  # only save terms with importances over 2\n",
        "  if rel_impo > 2:\n",
        "    hq_relimpo[key] = rel_impo"
      ],
      "metadata": {
        "id": "wRLZ3-bOWyUI"
      },
      "execution_count": null,
      "outputs": []
    },
    {
      "cell_type": "markdown",
      "source": [
        "Now, let's compute the relative importances for the Low Quality model."
      ],
      "metadata": {
        "id": "rWBx5G8Fd7Hj"
      }
    },
    {
      "cell_type": "code",
      "source": [
        "lq_relimpo = {}\n",
        "for key, item in lq_json_tf.items():\n",
        "  try:\n",
        "    # this will try calculating the relative importance by looking for the key\n",
        "    # in the background model\n",
        "    rel_impo = (item / lq_total_terms) / (bg_json_tf[key] / bg_total_terms)\n",
        "  except:\n",
        "    # if a term does not exist in the background model, use add 0.5 smoothing to get rel impo\n",
        "    rel_impo = (item / lq_total_terms) / (0.5 / bg_total_terms)\n",
        "  \n",
        "  # only save terms with relative importance over 2\n",
        "  if rel_impo > 2:\n",
        "    lq_relimpo[key] = rel_impo"
      ],
      "metadata": {
        "id": "2ECaF1bfd-Gf"
      },
      "execution_count": null,
      "outputs": []
    },
    {
      "cell_type": "markdown",
      "source": [
        "And here I create the function to calculate the newsworthiness score."
      ],
      "metadata": {
        "id": "-H9y3UqolQxn"
      }
    },
    {
      "cell_type": "code",
      "source": [
        "import math\n",
        "# define newsworthy scoring method\n",
        "def newsworthy_score(hq, lq, tokens):\n",
        "  # sum of hq term relative importances\n",
        "  shq = 0\n",
        "  # sum of lq term relative importances\n",
        "  slq = 0\n",
        "  # iterate through given tokens\n",
        "  for token in tokens:\n",
        "    # add the token's relative importance in HQ model if exists\n",
        "    try:\n",
        "      shq += hq[token]\n",
        "    except:\n",
        "      pass\n",
        "\n",
        "    # add the token's relative importance in LQ model if exists\n",
        "    try:\n",
        "      slq += lq[token]\n",
        "    except:\n",
        "      pass\n",
        "  \n",
        "  # compute newsworthiness score and return\n",
        "  news_score = math.log2((1+shq)/(1+slq))\n",
        "  return news_score"
      ],
      "metadata": {
        "id": "-G_7j4rAjC4Q"
      },
      "execution_count": null,
      "outputs": []
    },
    {
      "cell_type": "markdown",
      "source": [
        "## Data Analysis"
      ],
      "metadata": {
        "id": "aXRZYD4bC-3n"
      }
    },
    {
      "cell_type": "markdown",
      "source": [
        "We created two validation sets (for HQ and LQ) to test on. Let's first tokenize them."
      ],
      "metadata": {
        "id": "HAQbXEsgoRwj"
      }
    },
    {
      "cell_type": "code",
      "source": [
        "for tweet in tqdm(hq_json_valid):\n",
        "    # tokenize the tweet text\n",
        "    tweet['tokens'] = spacy_tokenization(tweet['text'])\n",
        "    # tokenize the description as well\n",
        "    tweet['tokens'].extend(spacy_tokenization(tweet['description'])) \n",
        "\n",
        "    # the following code gets rid of links and non-alphabet terms\n",
        "    token = 0\n",
        "    while token < len(tweet['tokens']):\n",
        "      if tweet['tokens'][token].isalpha() == False:\n",
        "          del tweet['tokens'][token]\n",
        "      else:\n",
        "        token += 1\n",
        "\n",
        "for tweet in tqdm(lq_json_valid):\n",
        "    # tokenize the tweet text\n",
        "    tweet['tokens'] = spacy_tokenization(tweet['text'])\n",
        "    # tokenize the description as well\n",
        "    tweet['tokens'].extend(spacy_tokenization(tweet['description'])) \n",
        "\n",
        "    # the following code gets rid of links and non-alphabet terms\n",
        "    token = 0\n",
        "    while token < len(tweet['tokens']):\n",
        "      if tweet['tokens'][token].isalpha() == False:\n",
        "          del tweet['tokens'][token]\n",
        "      else:\n",
        "        token += 1"
      ],
      "metadata": {
        "colab": {
          "base_uri": "https://localhost:8080/"
        },
        "id": "CAsryKV9DK7n",
        "outputId": "5fdd78e6-67f5-47e8-afc1-4d6e541c152f"
      },
      "execution_count": null,
      "outputs": [
        {
          "output_type": "stream",
          "name": "stderr",
          "text": [
            "100%|██████████| 500/500 [00:11<00:00, 44.05it/s]\n",
            "100%|██████████| 305/305 [00:06<00:00, 44.61it/s]\n"
          ]
        }
      ]
    },
    {
      "cell_type": "markdown",
      "source": [
        "Now let's test on them."
      ],
      "metadata": {
        "id": "J2mXfJSmDwTF"
      }
    },
    {
      "cell_type": "code",
      "source": [
        "import statistics as stat\n",
        "\n",
        "# will hold count of newsworthy tweets\n",
        "count = 0\n",
        "# will hold sum of newsworthy scores\n",
        "sum = 0\n",
        "# will hold list of newsworthy scores\n",
        "scores_list = []\n",
        "# iterate through the validation set, calculating newsworthiness scores\n",
        "for i in range(len(hq_json_valid)):\n",
        "  # calculate score\n",
        "  score = newsworthy_score(hq_relimpo, lq_relimpo, hq_json_valid[i]['tokens'])\n",
        "  # append to list\n",
        "  scores_list.append(score) \n",
        "  # increment score sum\n",
        "  sum += score\n",
        "  # note scores that are newsworthy\n",
        "  if score > 0:\n",
        "    count += 1\n",
        "\n",
        "# calculate metrics (see below)\n",
        "prop = round((count / len(hq_json_valid)), 3)\n",
        "avg = round((sum / len(hq_json_valid)), 3)\n",
        "sd = round(stat.stdev(scores_list), 3)\n",
        "\n",
        "print(\"Proportion of HQ texts classified as Newsworthy: \" + str(prop))\n",
        "print(\"Average score of HQ text: \" + str(avg))\n",
        "print(\"Standard Dev. of HQ text scores: \" + str(sd))\n",
        "\n",
        "# do the same for the low quality validation set\n",
        "count = 0\n",
        "sum = 0\n",
        "scores_list = []\n",
        "for i in range(len(lq_json_valid)):\n",
        "  score = newsworthy_score(hq_relimpo, lq_relimpo, lq_json_valid[i]['tokens'])\n",
        "  scores_list.append(score)\n",
        "  sum += score\n",
        "  if score < 0:\n",
        "    count += 1\n",
        "\n",
        "prop = round((count / len(lq_json_valid)), 3)\n",
        "avg = round((sum / len(lq_json_valid)), 3)\n",
        "sd = round(stat.stdev(scores_list), 3)\n",
        "\n",
        "print()\n",
        "print(\"Proportion of LQ texts classified as Non-Newsworthy: \" + str(prop))\n",
        "print(\"Average score of LQ text: \" + str(avg))\n",
        "print(\"Standard Dev. of LQ text scores: \" + str(sd))"
      ],
      "metadata": {
        "id": "rOzZK1yclhaR",
        "colab": {
          "base_uri": "https://localhost:8080/"
        },
        "outputId": "9e3585b9-4a20-4310-faef-18cffa16f659"
      },
      "execution_count": null,
      "outputs": [
        {
          "output_type": "stream",
          "name": "stdout",
          "text": [
            "Proportion of HQ texts classified as Newsworthy: 0.78\n",
            "Average score of HQ text: 1.613\n",
            "Standard Dev. of HQ text scores: 1.906\n",
            "\n",
            "Proportion of LQ texts classified as Non-Newsworthy: 0.941\n",
            "Average score of LQ text: -4.62\n",
            "Standard Dev. of LQ text scores: 4.067\n"
          ]
        }
      ]
    },
    {
      "cell_type": "markdown",
      "source": [
        "As we can see here, the newsworthiness scoring method is very good at predicting when tweets are not newsworthy but only alright when it comes to HQ tweets."
      ],
      "metadata": {
        "id": "83sgY1Moir6W"
      }
    },
    {
      "cell_type": "markdown",
      "source": [
        "### Trying without Quality Score"
      ],
      "metadata": {
        "id": "lSPvMqJER2oL"
      }
    },
    {
      "cell_type": "markdown",
      "source": [
        "Let's recalculate the TFs without a quality score weight."
      ],
      "metadata": {
        "id": "GciiS5CKp74g"
      }
    },
    {
      "cell_type": "code",
      "source": [
        "# will hold dictionary of term frequencies in background collection\n",
        "bg_json_tf = {}\n",
        "# will hold total term frequency\n",
        "bg_total_terms = 0\n",
        "# iterate through background tweets\n",
        "for tweet in bg_json:\n",
        "  # count term frequencies in tweet\n",
        "  counts = Counter(tweet['text'])\n",
        "  # iterate thru term frequencies\n",
        "  for key, item in counts.items():\n",
        "    # if key is already in term freq dictionary, increment\n",
        "    if key in bg_json_tf:\n",
        "      # increment terms for current key\n",
        "      bg_json_tf[key] += item\n",
        "      # increment total terms\n",
        "      bg_total_terms += item \n",
        "    # else, make new key\n",
        "    else:\n",
        "      # +0.5 is added for smoothing purposes\n",
        "      bg_json_tf[key] = item + 0.5\n",
        "      bg_total_terms += item + 0.5\n",
        "\n",
        "# will hold dictionary of term frequencies in high quality collection\n",
        "hq_json_tf = {}\n",
        "# will hold total term frequency\n",
        "hq_total_terms = 0\n",
        "# iterate through high quality tweets\n",
        "for tweet in hq_json:\n",
        "  # count term frequencies in tweet\n",
        "  counts = Counter(tweet['tokens'])\n",
        "  # iterate thru term frequencies\n",
        "  for key, item in counts.items():\n",
        "    # due to punctuation that spacy doesn't understand\n",
        "    # some stopwords remain, this causes them not to be added to the dict\n",
        "    if key in stops:\n",
        "      pass\n",
        "    # if key is already in term freq dictionary, increment\n",
        "    elif key in hq_json_tf:\n",
        "      # increment terms for current key\n",
        "      hq_json_tf[key] += item\n",
        "      # increment total terms\n",
        "      hq_total_terms += item\n",
        "    # else, make new key\n",
        "    else:\n",
        "      # +0.5 is for smoothing\n",
        "      hq_json_tf[key] = item + 0.5\n",
        "      hq_total_terms += item + 0.5\n",
        "\n",
        "# will hold dictionary of term frequencies in low quality collection\n",
        "lq_json_tf = {}\n",
        "# will hold total term frequency\n",
        "lq_total_terms = 0\n",
        "# iterate through low quality tweets\n",
        "for tweet in lq_json:\n",
        "  # count term frequencies in tweet\n",
        "  counts = Counter(tweet['tokens'])\n",
        "  # iterate thru term frequencies\n",
        "  for key, item in counts.items():\n",
        "    # due to punctuation that spacy doesn't understand\n",
        "    # some stopwords remain, this causes them not to be added to the dict\n",
        "    if key in stops:\n",
        "      pass\n",
        "    # if key is already in term freq dictionary, increment\n",
        "    elif key in lq_json_tf:\n",
        "      # increment terms for current key\n",
        "      lq_json_tf[key] += item\n",
        "      # increment total terms\n",
        "      lq_total_terms += item\n",
        "    # else, make new key\n",
        "    else:\n",
        "      # +0.5 is for smoothing\n",
        "      lq_json_tf[key] = item + 0.5\n",
        "      lq_total_terms += item + 0.5"
      ],
      "metadata": {
        "id": "XYOIG6ArqDy-"
      },
      "execution_count": null,
      "outputs": []
    },
    {
      "cell_type": "markdown",
      "source": [
        "And now let's compute relative importances again."
      ],
      "metadata": {
        "id": "0a1zQ3MlqZ6I"
      }
    },
    {
      "cell_type": "code",
      "source": [
        "# store the relative importances in a dictionary\n",
        "hq_relimpo = {}\n",
        "# iterate through the term frequency dictionary\n",
        "for key, item in hq_json_tf.items():\n",
        "  try:\n",
        "    # this will try calculating the relative importance by looking for the key\n",
        "    # in the background model\n",
        "    rel_impo = (item / hq_total_terms) / (bg_json_tf[key] / bg_total_terms)\n",
        "  except:\n",
        "    # if a term does not exist in the background model, use add 0.5 smoothing to get rel impo\n",
        "    rel_impo = (item / hq_total_terms) / (0.5 / bg_total_terms)\n",
        "  \n",
        "  # only save terms with importances over 2\n",
        "  if rel_impo > 2:\n",
        "    hq_relimpo[key] = rel_impo\n",
        "\n",
        "lq_relimpo = {}\n",
        "for key, item in lq_json_tf.items():\n",
        "  try:\n",
        "    # this will try calculating the relative importance by looking for the key\n",
        "    # in the background model\n",
        "    rel_impo = (item / lq_total_terms) / (bg_json_tf[key] / bg_total_terms)\n",
        "  except:\n",
        "    # if a term does not exist in the background model, use add 0.5 smoothing to get rel impo\n",
        "    rel_impo = (item / lq_total_terms) / (0.5 / bg_total_terms)\n",
        "  \n",
        "  # only save terms with relative importance over 2\n",
        "  if rel_impo > 2:\n",
        "    lq_relimpo[key] = rel_impo"
      ],
      "metadata": {
        "id": "Y3wQVG1Yqdsh"
      },
      "execution_count": null,
      "outputs": []
    },
    {
      "cell_type": "markdown",
      "source": [
        "And finally, let's analyze once again. This is to be compared to the baseline."
      ],
      "metadata": {
        "id": "fU-RCTgWqh5o"
      }
    },
    {
      "cell_type": "code",
      "source": [
        "# the following code calculates statistics the same way they were\n",
        "# calculated earlier with the quality score, see earlier comments for explanation\n",
        "count = 0\n",
        "sum = 0\n",
        "scores_list = []\n",
        "for i in range(len(hq_json_valid)):\n",
        "  score = newsworthy_score(hq_relimpo, lq_relimpo, hq_json_valid[i]['tokens'])\n",
        "  scores_list.append(score)\n",
        "  sum += score\n",
        "  if score > 0:\n",
        "    count += 1\n",
        "\n",
        "prop = round((count / len(hq_json_valid)), 3)\n",
        "avg = round((sum / len(hq_json_valid)), 3)\n",
        "sd = round(stat.stdev(scores_list), 3)\n",
        "\n",
        "print(\"Proportion of HQ texts classified as Newsworthy: \" + str(prop))\n",
        "print(\"Average score of HQ text: \" + str(avg))\n",
        "print(\"Standard Dev. of HQ text scores: \" + str(sd))\n",
        "\n",
        "count = 0\n",
        "sum = 0\n",
        "scores_list = []\n",
        "for i in range(len(lq_json_valid)):\n",
        "  score = newsworthy_score(hq_relimpo, lq_relimpo, lq_json_valid[i]['tokens'])\n",
        "  scores_list.append(score)\n",
        "  sum += score\n",
        "  if score < 0:\n",
        "    count += 1\n",
        "\n",
        "prop = round((count / len(lq_json_valid)), 3)\n",
        "avg = round((sum / len(lq_json_valid)), 3)\n",
        "sd = round(stat.stdev(scores_list), 3)\n",
        "\n",
        "print()\n",
        "print(\"Proportion of LQ texts classified as Non-Newsworthy: \" + str(prop))\n",
        "print(\"Average score of LQ text: \" + str(avg))\n",
        "print(\"Standard Dev. of LQ text scores: \" + str(sd))"
      ],
      "metadata": {
        "colab": {
          "base_uri": "https://localhost:8080/"
        },
        "id": "-kfeNYhOqqA5",
        "outputId": "8df3730a-6fdd-42ca-f4d5-78aa1244eb20"
      },
      "execution_count": null,
      "outputs": [
        {
          "output_type": "stream",
          "name": "stdout",
          "text": [
            "Proportion of HQ texts classified as Newsworthy: 0.832\n",
            "Average score of HQ text: 1.856\n",
            "Standard Dev. of HQ text scores: 1.997\n",
            "\n",
            "Proportion of LQ texts classified as Non-Newsworthy: 0.925\n",
            "Average score of LQ text: -4.646\n",
            "Standard Dev. of LQ text scores: 4.113\n"
          ]
        }
      ]
    },
    {
      "cell_type": "markdown",
      "source": [
        "As you can see, taking out the quality score actually improves the model in terms of HQ. One reason for this is that the qualityScore metric may just not measure Hiqh Quality-ness very well.\n",
        "\n",
        "If we look forward to the next section, we learn the top tokens for the HQ set vs. the LQ set. The tokens for the HQ set are pretty common terms in discussion about London while the LQ terms could be considered more specific. LQ tweets likely do better with quality score included because they are simply more distinguishable."
      ],
      "metadata": {
        "id": "QvR9FTVRZHOH"
      }
    },
    {
      "cell_type": "markdown",
      "source": [
        "Since the method does better without quality score included, we will leave quality score out of our final model."
      ],
      "metadata": {
        "id": "I0uFiVa1eYJT"
      }
    },
    {
      "cell_type": "markdown",
      "source": [
        "#### Multiple Thresholds with No Quality Score"
      ],
      "metadata": {
        "id": "qFYcaEMQFBvQ"
      }
    },
    {
      "cell_type": "markdown",
      "source": [
        "Let's try some varying thresholds."
      ],
      "metadata": {
        "id": "Yz2Sg62RQvxT"
      }
    },
    {
      "cell_type": "markdown",
      "source": [
        "First, let's define a list of thresholds. We are going to try values 1.5, 2.5, 3.5, and 4.5."
      ],
      "metadata": {
        "id": "W2f80QpJQ0TY"
      }
    },
    {
      "cell_type": "code",
      "source": [
        "import numpy as np\n",
        "ths = np.arange(1.5, 4.6, 1.0).tolist()"
      ],
      "metadata": {
        "id": "3B5_5coKQ6TF"
      },
      "execution_count": null,
      "outputs": []
    },
    {
      "cell_type": "markdown",
      "source": [
        "Now let's see how effective the model is using these values for thresholds."
      ],
      "metadata": {
        "id": "oQtsPv9XQ8an"
      }
    },
    {
      "cell_type": "code",
      "source": [
        "for val in ths:\n",
        "  # store the relative importances in a dictionary\n",
        "  hq_relimpo = {}\n",
        "  # iterate through the term frequency dictionary\n",
        "  for key, item in hq_json_tf.items():\n",
        "    try:\n",
        "      # this will try calculating the relative importance by looking for the key\n",
        "      # in the background model\n",
        "      rel_impo = (item / hq_total_terms) / (bg_json_tf[key] / bg_total_terms)\n",
        "    except:\n",
        "      # if a term does not exist in the background model, use add 0.5 smoothing to get rel impo\n",
        "      rel_impo = (item / hq_total_terms) / (0.5 / bg_total_terms)\n",
        "    \n",
        "    # only save terms with importances over threshold\n",
        "    if rel_impo > val:\n",
        "      hq_relimpo[key] = rel_impo\n",
        "\n",
        "  lq_relimpo = {}\n",
        "  for key, item in lq_json_tf.items():\n",
        "    try:\n",
        "      # this will try calculating the relative importance by looking for the key\n",
        "      # in the background model\n",
        "      rel_impo = (item / lq_total_terms) / (bg_json_tf[key] / bg_total_terms)\n",
        "    except:\n",
        "      # if a term does not exist in the background model, use add 0.5 smoothing to get rel impo\n",
        "      rel_impo = (item / lq_total_terms) / (0.5 / bg_total_terms)\n",
        "    \n",
        "    # only save terms with relative importance over threshold\n",
        "    if rel_impo > val:\n",
        "      lq_relimpo[key] = rel_impo\n",
        "\n",
        "\n",
        "  # the following code calculates statistics the same way they were\n",
        "  # calculated earlier with the quality score, see earlier comments for explanation\n",
        "  sum_hq = 0\n",
        "  scores_hq = []\n",
        "  for i in range(len(hq_json_valid)):\n",
        "    score = newsworthy_score(hq_relimpo, lq_relimpo, hq_json_valid[i]['tokens'])\n",
        "    scores_hq.append(score)\n",
        "    sum_hq += score\n",
        "    if score > 0:\n",
        "      count_hq += 1\n",
        "\n",
        "  prop_hq = round((count_hq / len(hq_json_valid)), 3)\n",
        "  avg_hq = round((sum_hq / len(hq_json_valid)), 3)\n",
        "  sd_hq = round(stat.stdev(scores_hq), 3)\n",
        "\n",
        "  print(\"Threshold: \" + str(val))\n",
        "  print(\"Number of HQ terms above threshold: \" + str(len(hq_relimpo)))\n",
        "  print(\"Proportion of HQ texts classified as Newsworthy: \" + str(prop_hq))\n",
        "  print(\"Average score of HQ text: \" + str(avg_hq))\n",
        "  print(\"Standard Dev. of HQ text scores: \" + str(sd_hq))\n",
        "\n",
        "  count_lq = 0\n",
        "  sum_lq = 0\n",
        "  scores_lq = []\n",
        "  for i in range(len(lq_json_valid)):\n",
        "    score = newsworthy_score(hq_relimpo, lq_relimpo, lq_json_valid[i]['tokens'])\n",
        "    scores_lq.append(score)\n",
        "    sum_lq += score\n",
        "    if score < 0:\n",
        "      count_lq += 1\n",
        "\n",
        "  prop_lq = round((count_lq / len(lq_json_valid)), 3)\n",
        "  avg_lq = round((sum_lq / len(lq_json_valid)), 3)\n",
        "  sd_lq = round(stat.stdev(scores_lq), 3)\n",
        "\n",
        "  print(\"Number of LQ terms above threshold: \" + str(len(lq_relimpo)))\n",
        "  print(\"Proportion of LQ texts classified as Non-Newsworthy: \" + str(prop_lq))\n",
        "  print(\"Average score of LQ text: \" + str(avg_lq))\n",
        "  print(\"Standard Dev. of LQ text scores: \" + str(sd_lq))\n",
        "  print()"
      ],
      "metadata": {
        "colab": {
          "base_uri": "https://localhost:8080/"
        },
        "id": "rZuxknPBFEGO",
        "outputId": "f9bdc969-471b-4a87-9212-6a7a7d298c37"
      },
      "execution_count": null,
      "outputs": [
        {
          "output_type": "stream",
          "name": "stdout",
          "text": [
            "Threshold: 1.5\n",
            "Number of HQ terms above threshold: 6403\n",
            "Proportion of HQ texts classified as Newsworthy: 0.83\n",
            "Average score of HQ text: 1.807\n",
            "Standard Dev. of HQ text scores: 1.942\n",
            "Number of LQ terms above threshold: 1932\n",
            "Proportion of LQ texts classified as Non-Newsworthy: 0.925\n",
            "Average score of LQ text: -4.623\n",
            "Standard Dev. of LQ text scores: 4.096\n",
            "\n",
            "Threshold: 2.5\n",
            "Number of HQ terms above threshold: 2306\n",
            "Proportion of HQ texts classified as Newsworthy: 0.818\n",
            "Average score of HQ text: 1.836\n",
            "Standard Dev. of HQ text scores: 2.057\n",
            "Number of LQ terms above threshold: 1630\n",
            "Proportion of LQ texts classified as Non-Newsworthy: 0.928\n",
            "Average score of LQ text: -4.715\n",
            "Standard Dev. of LQ text scores: 4.154\n",
            "\n",
            "Threshold: 3.5\n",
            "Number of HQ terms above threshold: 2207\n",
            "Proportion of HQ texts classified as Newsworthy: 0.816\n",
            "Average score of HQ text: 1.899\n",
            "Standard Dev. of HQ text scores: 2.14\n",
            "Number of LQ terms above threshold: 1516\n",
            "Proportion of LQ texts classified as Non-Newsworthy: 0.915\n",
            "Average score of LQ text: -4.696\n",
            "Standard Dev. of LQ text scores: 4.231\n",
            "\n",
            "Threshold: 4.5\n",
            "Number of HQ terms above threshold: 1251\n",
            "Proportion of HQ texts classified as Newsworthy: 0.802\n",
            "Average score of HQ text: 1.938\n",
            "Standard Dev. of HQ text scores: 2.246\n",
            "Number of LQ terms above threshold: 1467\n",
            "Proportion of LQ texts classified as Non-Newsworthy: 0.921\n",
            "Average score of LQ text: -4.744\n",
            "Standard Dev. of LQ text scores: 4.207\n",
            "\n"
          ]
        }
      ]
    },
    {
      "cell_type": "markdown",
      "source": [
        "It seems that the lower the threshold, the better the method performs. But why is that? Let's compare the top terms in the training and validation sets."
      ],
      "metadata": {
        "id": "Iq2cQ8sxoYtZ"
      }
    },
    {
      "cell_type": "markdown",
      "source": [
        "#### What are the top tokens in the training vs. validation sets?"
      ],
      "metadata": {
        "id": "8YJ6F8nHR_Qg"
      }
    },
    {
      "cell_type": "markdown",
      "source": [
        "First we need to calculate TFs for the validation sets."
      ],
      "metadata": {
        "id": "cbsORz1BiELh"
      }
    },
    {
      "cell_type": "code",
      "source": [
        "# will hold dictionary of term frequencies in high quality collection\n",
        "hq_json_tf_valid = {}\n",
        "# iterate through high quality tweets\n",
        "for tweet in hq_json_valid:\n",
        "  # count term frequencies in tweet\n",
        "  counts = Counter(tweet['tokens'])\n",
        "  # iterate thru term frequencies\n",
        "  for key, item in counts.items():\n",
        "    # due to punctuation that spacy doesn't understand\n",
        "    # some stopwords remain, this causes them not to be added to the dict\n",
        "    if key in stops:\n",
        "      pass\n",
        "    # if key is already in term freq dictionary, increment\n",
        "    elif key in hq_json_tf_valid:\n",
        "      # increment terms for current key\n",
        "      hq_json_tf_valid[key] += item \n",
        "    # else, make new key\n",
        "    else:\n",
        "      # +0.5 is for smoothing\n",
        "      hq_json_tf_valid[key] = item + 0.5\n",
        "\n",
        "# will hold dictionary of term frequencies in high quality collection\n",
        "lq_json_tf_valid = {}\n",
        "# iterate through high quality tweets\n",
        "for tweet in lq_json_valid:\n",
        "  # count term frequencies in tweet\n",
        "  counts = Counter(tweet['tokens'])\n",
        "  # iterate thru term frequencies\n",
        "  for key, item in counts.items():\n",
        "    # due to punctuation that spacy doesn't understand\n",
        "    # some stopwords remain, this causes them not to be added to the dict\n",
        "    if key in stops:\n",
        "      pass\n",
        "    # if key is already in term freq dictionary, increment\n",
        "    elif key in lq_json_tf_valid:\n",
        "      # increment terms for current key\n",
        "      lq_json_tf_valid[key] += item\n",
        "    # else, make new key\n",
        "    else:\n",
        "      # +0.5 is for smoothing\n",
        "      lq_json_tf_valid[key] = item + 0.5"
      ],
      "metadata": {
        "id": "aPTy4qIPiG6y"
      },
      "execution_count": null,
      "outputs": []
    },
    {
      "cell_type": "markdown",
      "source": [
        "Now let's find the top 10 tokens in each of the sets."
      ],
      "metadata": {
        "id": "jrNLKJmplzKF"
      }
    },
    {
      "cell_type": "code",
      "source": [
        "# define a function which returns the second element of a list\n",
        "def second_elem(e):\n",
        "    return e[1]\n",
        "\n",
        "maxes_train = []\n",
        "# iterate through the training HQ json term frequency dictionary\n",
        "for key, item in hq_json_tf.items():\n",
        "  # keep track of the top 10 max frequencies\n",
        "  if len(maxes_train) < 10:\n",
        "    maxes_train.append([key, item])\n",
        "    maxes_train.sort(key=second_elem, reverse=True)\n",
        "  elif item > maxes_train[len(maxes_train)-1][1]:\n",
        "    maxes_train[len(maxes_train)-1] = [key, item]\n",
        "    maxes_train.sort(key=second_elem, reverse=True)\n",
        "\n",
        "maxes_valid = []\n",
        "# do the same for HQ validation term frequencies\n",
        "for key, item in hq_json_tf_valid.items():\n",
        "  if len(maxes_valid) < 10:\n",
        "    maxes_valid.append([key, item])\n",
        "    maxes_valid.sort(key=second_elem, reverse=True)\n",
        "  elif item > maxes_valid[len(maxes_valid)-1][1]:\n",
        "    maxes_valid[len(maxes_valid)-1] = [key, item]\n",
        "    maxes_valid.sort(key=second_elem, reverse=True)\n",
        "\n",
        "print(\"High Quality Top Tokens\")\n",
        "print(\"In Training Set:\")\n",
        "print(maxes_train)\n",
        "print(\"In Validation Set:\")\n",
        "print(maxes_valid)\n",
        "print()\n",
        "\n",
        "maxes_train = []\n",
        "# do the same for the training LQ term frequencies\n",
        "for key, item in lq_json_tf.items():\n",
        "  if len(maxes_train) < 10:\n",
        "    maxes_train.append([key, item])\n",
        "    maxes_train.sort(key=second_elem, reverse=True)\n",
        "  elif item > maxes_train[len(maxes_train)-1][1]:\n",
        "    maxes_train[len(maxes_train)-1] = [key, item]\n",
        "    maxes_train.sort(key=second_elem, reverse=True)\n",
        "\n",
        "maxes_valid = []\n",
        "# do the same for the validation LQ term frequencies\n",
        "for key, item in lq_json_tf_valid.items():\n",
        "  if len(maxes_valid) < 10:\n",
        "    maxes_valid.append([key, item])\n",
        "    maxes_valid.sort(key=second_elem, reverse=True)\n",
        "  elif item > maxes_valid[len(maxes_valid)-1][1]:\n",
        "    maxes_valid[len(maxes_valid)-1] = [key, item]\n",
        "    maxes_valid.sort(key=second_elem, reverse=True)\n",
        "  \n",
        "print(\"Low Quality Top Tokens\")\n",
        "print(\"In Training Set:\")\n",
        "print(maxes_train)\n",
        "print(\"In Validation Set:\")\n",
        "print(maxes_valid)\n",
        "print()\n"
      ],
      "metadata": {
        "colab": {
          "base_uri": "https://localhost:8080/"
        },
        "id": "UdhX_viKzk8A",
        "outputId": "2904d291-82fd-47c1-922c-256221db796e"
      },
      "execution_count": null,
      "outputs": [
        {
          "output_type": "stream",
          "name": "stdout",
          "text": [
            "High Quality Top Tokens\n",
            "In Training Set:\n",
            "[['london', 1573.5], ['kingdom', 587.5], ['united', 545.5], ['world', 315.5], ['official', 225.5], ['photo', 224.5], ['meet', 220.5], ['britain', 217.5], ['post', 216.5], ['handle', 210.5]]\n",
            "In Validation Set:\n",
            "[['london', 370.5], ['kingdom', 142.5], ['united', 129.5], ['world', 90.5], ['photo', 67.5], ['post', 61.5], ['britain', 58.5], ['meet', 55.5], ['official', 54.5], ['like', 52.5]]\n",
            "\n",
            "Low Quality Top Tokens\n",
            "In Training Set:\n",
            "[['mohammed', 698.5], ['al', 657.5], ['nasser', 642.5], ['yamani', 614.5], ['imam', 590.5], ['almahdicaliphofallah', 571.5], ['london', 559.5], ['kingdom', 450.5], ['united', 414.5], ['post', 390.5]]\n",
            "In Validation Set:\n",
            "[['mohammed', 158.5], ['nasser', 149.5], ['al', 149.5], ['yamani', 142.5], ['almahdicaliphofallah', 135.5], ['imam', 134.5], ['london', 133.5], ['kingdom', 108.5], ['united', 102.5], ['post', 96.5]]\n",
            "\n"
          ]
        }
      ]
    },
    {
      "cell_type": "markdown",
      "source": [
        "As we can see here, the top tokens in the High Quality and Low Quality training sets are very similar to the top tokens in their respective validation sets. We conclude from this that the training and validation sets are pretty similar. This might explain why lowering the threshold improves the model when evaluating on the validation sets. The validation sets look very similar to the training sets so the more features you add the better scoring does on the validation set. If you were to compute newsworthiness scores on tweets that looked quite different from the training sets, a lower threshold would not be as effective. "
      ],
      "metadata": {
        "id": "AvMxS0m7SDyN"
      }
    },
    {
      "cell_type": "markdown",
      "source": [
        "### Trying Baseline with Stopwords"
      ],
      "metadata": {
        "id": "3LARAuZd9CpX"
      }
    },
    {
      "cell_type": "markdown",
      "source": [
        "Let's redefine the spacy pipeline."
      ],
      "metadata": {
        "id": "wV07sYrF9L3v"
      }
    },
    {
      "cell_type": "code",
      "source": [
        "def spacy_tokenization(tweet):\n",
        "    tokens = []\n",
        "    twt = nlp(tweet)\n",
        "    # applies spacy to get rid of spaces, punctuation\n",
        "    # no longer removing stopwords\n",
        "    for c in twt:\n",
        "        if (not c.is_punct) and (not c.is_space):\n",
        "            tokens.append(c.lemma_.lower())\n",
        "\n",
        "    # spacy does not recognize the '•' character which appears in some tweets\n",
        "    # this removes that character\n",
        "    for token in range(len(tokens)):\n",
        "      if '•' in tokens[token]:\n",
        "        new_token = ''\n",
        "        for c in tokens[token]:\n",
        "          if c != '•':\n",
        "            new_token += c\n",
        "   \n",
        "    return tokens"
      ],
      "metadata": {
        "id": "fsq2oiR-9FYU"
      },
      "execution_count": null,
      "outputs": []
    },
    {
      "cell_type": "markdown",
      "source": [
        "And let's tokenize again."
      ],
      "metadata": {
        "id": "paTvCQ5E9Ymu"
      }
    },
    {
      "cell_type": "code",
      "source": [
        "# this will give us a progress bar\n",
        "from tqdm import tqdm \n",
        "\n",
        "for tweet in tqdm(hq_json):\n",
        "    # tokenize the tweet text\n",
        "    tweet['tokens'] = spacy_tokenization(tweet['text'])\n",
        "    # tokenize the description as well\n",
        "    tweet['tokens'].extend(spacy_tokenization(tweet['description'])) \n",
        "\n",
        "    # the following code gets rid of links and non-alphabet terms\n",
        "    token = 0\n",
        "    while token < len(tweet['tokens']):\n",
        "      if tweet['tokens'][token].isalpha() == False:\n",
        "          del tweet['tokens'][token]\n",
        "      else:\n",
        "        token += 1\n",
        "\n",
        "for tweet in tqdm(lq_json):\n",
        "    # tokenize the tweet text\n",
        "    tweet['tokens'] = spacy_tokenization(tweet['text'])\n",
        "    # tokenize the description as well\n",
        "    tweet['tokens'].extend(spacy_tokenization(tweet['description'])) \n",
        "\n",
        "    # the following code gets rid of links and non-alphabet terms\n",
        "    token = 0\n",
        "    while token < len(tweet['tokens']):\n",
        "      if tweet['tokens'][token].isalpha() == False:\n",
        "          del tweet['tokens'][token]\n",
        "      else:\n",
        "        token += 1"
      ],
      "metadata": {
        "colab": {
          "base_uri": "https://localhost:8080/"
        },
        "id": "2Vpo4unJ9Z7K",
        "outputId": "5f5abc63-9a46-4b62-af9d-05bcea6802c8"
      },
      "execution_count": null,
      "outputs": [
        {
          "output_type": "stream",
          "name": "stderr",
          "text": [
            "100%|██████████| 2001/2001 [00:43<00:00, 46.00it/s]\n",
            "100%|██████████| 1222/1222 [00:24<00:00, 49.30it/s]\n"
          ]
        }
      ]
    },
    {
      "cell_type": "markdown",
      "source": [
        "Now, let's count the frequencies."
      ],
      "metadata": {
        "id": "69y_fc7j9jl7"
      }
    },
    {
      "cell_type": "code",
      "source": [
        "# will hold dictionary of term frequencies in background collection\n",
        "bg_json_tf = {}\n",
        "# will hold total term frequency\n",
        "bg_total_terms = 0\n",
        "# iterate through background tweets\n",
        "for tweet in bg_json:\n",
        "  # count term frequencies in tweet\n",
        "  counts = Counter(tweet['text'])\n",
        "  # iterate thru term frequencies\n",
        "  for key, item in counts.items():\n",
        "    # if key is already in term freq dictionary, increment\n",
        "    if key in bg_json_tf:\n",
        "      # weight BG items by their quality score\n",
        "      # NOTE: HQ/LQ terms are weighted by the qualityScore of the tweet they appear in (see HQ/LQ TF counting)\n",
        "      bg_json_tf[key] += (item * tweet['score'])\n",
        "      # increment total terms\n",
        "      bg_total_terms += (item * tweet['score'])\n",
        "    # else, make new key\n",
        "    else:\n",
        "      # +0.5 is added for smoothing purposes\n",
        "      bg_json_tf[key] = (item * tweet['score']) + 0.5\n",
        "      bg_total_terms += (item * tweet['score']) + 0.5\n",
        "\n",
        "# will hold dictionary of term frequencies in high quality collection\n",
        "hq_json_tf = {}\n",
        "# will hold total term frequency\n",
        "hq_total_terms = 0\n",
        "# iterate through high quality tweets\n",
        "for tweet in hq_json:\n",
        "  # count term frequencies in tweet\n",
        "  counts = Counter(tweet['tokens'])\n",
        "  # iterate thru term frequencies\n",
        "  for key, item in counts.items():\n",
        "    # if key is already in term freq dictionary, increment\n",
        "    if key in hq_json_tf:\n",
        "      # terms are weighted by the tweet's quality score\n",
        "      hq_json_tf[key] += (item * tweet['qualityS'])\n",
        "      # increment total terms\n",
        "      hq_total_terms += (item * tweet['qualityS'])\n",
        "    # else, make new key\n",
        "    else:\n",
        "      # +0.5 is for smoothing\n",
        "      hq_json_tf[key] = (item * tweet['qualityS']) + 0.5\n",
        "      hq_total_terms += (item * tweet['qualityS']) + 0.5\n",
        "\n",
        "# will hold dictionary of term frequencies in low quality collection\n",
        "lq_json_tf = {}\n",
        "# will hold total term frequency\n",
        "lq_total_terms = 0\n",
        "# iterate through low quality tweets\n",
        "for tweet in lq_json:\n",
        "  # count term frequencies in tweet\n",
        "  counts = Counter(tweet['tokens'])\n",
        "  # iterate thru term frequencies\n",
        "  for key, item in counts.items():\n",
        "    # if key is already in term freq dictionary, increment\n",
        "    if key in lq_json_tf:\n",
        "      # terms are weighted by the one minus tweet quality score (see HQ TF for explanation)\n",
        "      lq_json_tf[key] += (item * (1-tweet['qualityS']))\n",
        "      # increment total terms\n",
        "      lq_total_terms += (item * (1-tweet['qualityS']))\n",
        "    # else, make new key\n",
        "    else:\n",
        "      # +0.5 is for smoothing\n",
        "      lq_json_tf[key] = (item * (1-tweet['qualityS'])) + 0.5\n",
        "      lq_total_terms += (item * (1-tweet['qualityS'])) + 0.5"
      ],
      "metadata": {
        "id": "wPC5kITM9lTY"
      },
      "execution_count": null,
      "outputs": []
    },
    {
      "cell_type": "markdown",
      "source": [
        "And finally, compute the relative importances."
      ],
      "metadata": {
        "id": "vPTzBa7Z9pUB"
      }
    },
    {
      "cell_type": "code",
      "source": [
        "# store the relative importances in a dictionary\n",
        "hq_relimpo = {}\n",
        "# iterate through the term frequency dictionary\n",
        "for key, item in hq_json_tf.items():\n",
        "  try:\n",
        "    # this will try calculating the relative importance by looking for the key\n",
        "    # in the background model\n",
        "    rel_impo = (item / hq_total_terms) / (bg_json_tf[key] / bg_total_terms)\n",
        "  except:\n",
        "    # if a term does not exist in the background model, use add 0.5 smoothing to get rel impo\n",
        "    rel_impo = (item / hq_total_terms) / (0.5 / bg_total_terms)\n",
        "  \n",
        "  # only save terms with importances over 2\n",
        "  if rel_impo > 2:\n",
        "    hq_relimpo[key] = rel_impo\n",
        "\n",
        "lq_relimpo = {}\n",
        "for key, item in lq_json_tf.items():\n",
        "  try:\n",
        "    # this will try calculating the relative importance by looking for the key\n",
        "    # in the background model\n",
        "    rel_impo = (item / lq_total_terms) / (bg_json_tf[key] / bg_total_terms)\n",
        "  except:\n",
        "    # if a term does not exist in the background model, use add 0.5 smoothing to get rel impo\n",
        "    rel_impo = (item / lq_total_terms) / (0.5 / bg_total_terms)\n",
        "  \n",
        "  # only save terms with relative importance over 2\n",
        "  if rel_impo > 2:\n",
        "    lq_relimpo[key] = rel_impo"
      ],
      "metadata": {
        "id": "nMinqMzR9zLV"
      },
      "execution_count": null,
      "outputs": []
    },
    {
      "cell_type": "markdown",
      "source": [
        "We need to retokenize the validation sets."
      ],
      "metadata": {
        "id": "lznZg5cksAj_"
      }
    },
    {
      "cell_type": "code",
      "source": [
        "for tweet in tqdm(hq_json_valid):\n",
        "    # tokenize the tweet text\n",
        "    tweet['tokens'] = spacy_tokenization(tweet['text'])\n",
        "    # tokenize the description as well\n",
        "    tweet['tokens'].extend(spacy_tokenization(tweet['description'])) \n",
        "\n",
        "    # the following code gets rid of links and non-alphabet terms\n",
        "    token = 0\n",
        "    while token < len(tweet['tokens']):\n",
        "      if tweet['tokens'][token].isalpha() == False:\n",
        "          del tweet['tokens'][token]\n",
        "      else:\n",
        "        token += 1\n",
        "\n",
        "for tweet in tqdm(lq_json_valid):\n",
        "    # tokenize the tweet text\n",
        "    tweet['tokens'] = spacy_tokenization(tweet['text'])\n",
        "    # tokenize the description as well\n",
        "    tweet['tokens'].extend(spacy_tokenization(tweet['description'])) \n",
        "\n",
        "    # the following code gets rid of links and non-alphabet terms\n",
        "    token = 0\n",
        "    while token < len(tweet['tokens']):\n",
        "      if tweet['tokens'][token].isalpha() == False:\n",
        "          del tweet['tokens'][token]\n",
        "      else:\n",
        "        token += 1"
      ],
      "metadata": {
        "colab": {
          "base_uri": "https://localhost:8080/"
        },
        "id": "WhkOOM0IsCRP",
        "outputId": "21c8f2d2-92ab-4be8-95f2-3655dcbdcfd4"
      },
      "execution_count": null,
      "outputs": [
        {
          "output_type": "stream",
          "name": "stderr",
          "text": [
            "100%|██████████| 500/500 [00:12<00:00, 40.81it/s]\n",
            "100%|██████████| 305/305 [00:06<00:00, 47.38it/s]\n"
          ]
        }
      ]
    },
    {
      "cell_type": "markdown",
      "source": [
        "And now let's look at the statistics."
      ],
      "metadata": {
        "id": "GLrqvTzR_F9_"
      }
    },
    {
      "cell_type": "code",
      "source": [
        "# the following code calculates statistics the same way they were\n",
        "# calculated earlier with the quality score, see earlier comments for explanation\n",
        "count = 0\n",
        "sum = 0\n",
        "scores_list = []\n",
        "for i in range(len(hq_json_valid)):\n",
        "  score = newsworthy_score(hq_relimpo, lq_relimpo, hq_json_valid[i]['tokens'])\n",
        "  scores_list.append(score)\n",
        "  sum += score\n",
        "  if score > 0:\n",
        "    count += 1\n",
        "\n",
        "prop = round((count / len(hq_json_valid)), 3)\n",
        "avg = round((sum / len(hq_json_valid)), 3)\n",
        "sd = round(stat.stdev(scores_list), 3)\n",
        "\n",
        "print(\"Proportion of HQ texts classified as Newsworthy: \" + str(prop))\n",
        "print(\"Average score of HQ text: \" + str(avg))\n",
        "print(\"Standard Dev. of HQ text scores: \" + str(sd))\n",
        "\n",
        "count = 0\n",
        "sum = 0\n",
        "scores_list = []\n",
        "for i in range(len(lq_json_valid)):\n",
        "  score = newsworthy_score(hq_relimpo, lq_relimpo, lq_json_valid[i]['tokens'])\n",
        "  scores_list.append(score)\n",
        "  sum += score\n",
        "  if score < 0:\n",
        "    count += 1\n",
        "\n",
        "prop = round((count / len(lq_json_valid)), 3)\n",
        "avg = round((sum / len(lq_json_valid)), 3)\n",
        "sd = round(stat.stdev(scores_list), 3)\n",
        "\n",
        "print()\n",
        "print(\"Proportion of LQ texts classified as Non-Newsworthy: \" + str(prop))\n",
        "print(\"Average score of LQ text: \" + str(avg))\n",
        "print(\"Standard Dev. of LQ text scores: \" + str(sd))"
      ],
      "metadata": {
        "colab": {
          "base_uri": "https://localhost:8080/"
        },
        "id": "NvrzMqSh_FrL",
        "outputId": "af927c52-8857-4e48-d18b-4e9be37053cc"
      },
      "execution_count": null,
      "outputs": [
        {
          "output_type": "stream",
          "name": "stdout",
          "text": [
            "Proportion of HQ texts classified as Newsworthy: 0.504\n",
            "Average score of HQ text: 0.021\n",
            "Standard Dev. of HQ text scores: 0.35\n",
            "\n",
            "Proportion of LQ texts classified as Non-Newsworthy: 0.928\n",
            "Average score of LQ text: -0.867\n",
            "Standard Dev. of LQ text scores: 0.781\n"
          ]
        }
      ]
    },
    {
      "cell_type": "markdown",
      "source": [
        "As you may notice, the average scores of the texts lower when you include stopwords. Let's look at why this might be."
      ],
      "metadata": {
        "id": "sANtsszd3OGz"
      }
    },
    {
      "cell_type": "markdown",
      "source": [
        "#### Top Tokens with Stopwords Included"
      ],
      "metadata": {
        "id": "85UbRoHU49Ua"
      }
    },
    {
      "cell_type": "code",
      "source": [
        "maxes_train = []\n",
        "# iterate through the HQ json dictionary\n",
        "for key, item in hq_json_tf.items():\n",
        "  # keep track of the top 10 maximum frequencies\n",
        "  if len(maxes_train) < 10:\n",
        "    maxes_train.append([key, item])\n",
        "    maxes_train.sort(key=second_elem, reverse=True)\n",
        "  elif item > maxes_train[len(maxes_train)-1][1]:\n",
        "    maxes_train[len(maxes_train)-1] = [key, item]\n",
        "    maxes_train.sort(key=second_elem, reverse=True)\n",
        "\n",
        "print(\"High Quality Training Set Top Tokens\")\n",
        "print(maxes_train)\n",
        "\n",
        "maxes_train = []\n",
        "# do the same as for the HQ set\n",
        "for key, item in lq_json_tf.items():\n",
        "  if len(maxes_train) < 10:\n",
        "    maxes_train.append([key, item])\n",
        "    maxes_train.sort(key=second_elem, reverse=True)\n",
        "  elif item > maxes_train[len(maxes_train)-1][1]:\n",
        "    maxes_train[len(maxes_train)-1] = [key, item]\n",
        "    maxes_train.sort(key=second_elem, reverse=True)\n",
        "  \n",
        "print(\"Low Quality Training Set Top Tokens\")\n",
        "print(maxes_train)"
      ],
      "metadata": {
        "colab": {
          "base_uri": "https://localhost:8080/"
        },
        "id": "QecwoDnN3UHy",
        "outputId": "cd826429-580d-4771-dc91-a33e3c6959eb"
      },
      "execution_count": null,
      "outputs": [
        {
          "output_type": "stream",
          "name": "stdout",
          "text": [
            "High Quality Training Set Top Tokens\n",
            "[['the', 1032.3494188927427], ['london', 969.7472453431797], ['and', 686.6962694125531], ['in', 631.1753321020847], ['of', 611.6567866285135], ['a', 584.2403906027608], ['be', 576.084262754156], ['to', 537.7969204980749], ['at', 398.1939589292483], ['i', 372.4294174223238]]\n",
            "Low Quality Training Set Top Tokens\n",
            "[['the', 486.9893442661689], ['a', 443.71530281577606], ['mohammed', 439.49327210104786], ['al', 413.7552564356], ['nasser', 404.35816882549904], ['yamani', 386.77773549660094], ['imam', 371.72571088705365], ['be', 362.8568581934021], ['almahdicaliphofallah', 359.82600600615143], ['and', 349.6394208668373]]\n"
          ]
        }
      ]
    },
    {
      "cell_type": "markdown",
      "source": [
        "By looking at the top terms in each model, we can see why the High Quality set performs much worse with stopwords included and why the Low Quality set remains strong. The top terms in the HQ model are dominated by stopwords. Since stopwords occur in most tweets, there is no way to distinguish which tweets are newsworthy and which are not when looking at high quality tweets. With stopwords included, and with stopwords having so much weight, tweets are defined by their stopwords and are thus indistinguishable. Hence, the HQ classification turns into a coinflip (.504). \n",
        "\n",
        "On the other hand, the LQ model still does well even with stopwords included. Six out of the original top 10 words for the LQ model remained even with the presence of stopwords. Thus there are still heavily weighted terms in the LQ model that can help to distinguish a tweet's lack of newsworthiness.\n",
        "\n",
        "One should note that the reason stopwords have such high weights is because they are absent in the BG model."
      ],
      "metadata": {
        "id": "76sISjaS6BfN"
      }
    }
  ]
}